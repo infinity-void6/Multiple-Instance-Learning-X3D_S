{
 "cells": [
  {
   "cell_type": "code",
   "execution_count": 24,
   "metadata": {},
   "outputs": [
    {
     "name": "stdout",
     "output_type": "stream",
     "text": [
      "2.5.1+cu121\n"
     ]
    }
   ],
   "source": [
    "import torch\n",
    "print(torch.__version__)"
   ]
  },
  {
   "cell_type": "code",
   "execution_count": 45,
   "metadata": {},
   "outputs": [
    {
     "name": "stdout",
     "output_type": "stream",
     "text": [
      "Final feature shape: torch.Size([4, 2048, 1, 1, 1])\n"
     ]
    }
   ],
   "source": [
    "# Feature Extractor\n",
    "from pytorchvideo.models.hub import x3d_s\n",
    "import torch\n",
    "from torch import nn\n",
    "\n",
    "# Set device\n",
    "device = torch.device(\"cuda\" if torch.cuda.is_available() else \"cpu\")\n",
    "\n",
    "# Load pretrained x3d_s model\n",
    "model = x3d_s(pretrained=True).to(device)\n",
    "\n",
    "# Modify block 5 to include explicit global average pooling\n",
    "class FeatureExtractor(torch.nn.Module):\n",
    "    def __init__(self, model):\n",
    "        super(FeatureExtractor, self).__init__()\n",
    "        self.backbone = torch.nn.Sequential(*model.blocks[:-1])  # Blocks 0-4\n",
    "        self.final_block = model.blocks[5].pool  # Block 5 (unchanged)\n",
    "        self.pool = nn.AdaptiveAvgPool3d((1, 1, 1))  # Define global average pooling layer\n",
    "\n",
    "    def forward(self, x):\n",
    "        # print(f\"Input shape: {x.shape}\")  # Debug input shape\n",
    "        x = self.backbone(x)  # Pass through blocks 0-4\n",
    "        # print(f\"After backbone shape: {x.shape}\")  # Debug backbone output shape\n",
    "        x=self.final_block(x)\n",
    "        # print(f\"After final_block shape: {x.shape}\")  # Debug backbone output shape\n",
    "        x = self.pool(x)  # Pass through block 5 pooling\n",
    "        # print(f\"After pooling shape: {x.shape}\")  # Debug pooling output shape\n",
    "\n",
    "        x = torch.mean(x, dim=[-3, -2, -1], keepdim=True)  # Apply global average pooling\n",
    "        # print(f\"After global average pooling shape: {x.shape}\")  # Debug GAP output shape\n",
    "\n",
    "        return x\n",
    "\n",
    "# Initialize the feature extractor\n",
    "feature_extractor = FeatureExtractor(model)\n",
    "\n",
    "# Define feature extraction function\n",
    "def extract_features(segments, device, model=feature_extractor):\n",
    "    \"\"\"\n",
    "    Extract features from video segments using the modified model.\n",
    "\n",
    "    Args:\n",
    "        model (torch.nn.Module): Pretrained and modified model.\n",
    "        segments (list): List of video segments (tensors).\n",
    "        device (torch.device): Device for computation.\n",
    "\n",
    "    Returns:\n",
    "        list: List of feature tensors.\n",
    "    \"\"\"\n",
    "    features = []\n",
    "    model.eval()\n",
    "    with torch.no_grad():\n",
    "        for segment in segments:\n",
    "            segment = segment.unsqueeze(0).to(device)  # Add batch dimension and move to device\n",
    "            feature = model(segment)  # Extract features\n",
    "            features.append(feature.squeeze(0).cpu())  # Remove batch dimension and move to CPU\n",
    "    return features\n",
    "\n",
    "if __name__=='__main__':\n",
    "    # Test with a dummy input\n",
    "    dummy_input = torch.randn(4, 3, 16, 240, 320).to(device)  # Example input: (batch_size, channels, frames, height, width)\n",
    "    output = feature_extractor(dummy_input)\n",
    "    print(f\"Final feature shape: {output.shape}\")  # Expected output: [1, 2048, 1, 1, 1]\n"
   ]
  },
  {
   "cell_type": "code",
   "execution_count": 46,
   "metadata": {},
   "outputs": [],
   "source": [
    "# extract segments\n",
    "import cv2\n",
    "def extract_segments_from_video(video_path, segment_size=16, target_shape=(240, 320), frame_skip=10):\n",
    "    \"\"\"\n",
    "    Extracts video segments with frame skipping and efficient memory usage.\n",
    "\n",
    "    Args:\n",
    "        video_path (str): Path to the video file.\n",
    "        segment_size (int): Number of frames per segment.\n",
    "        target_shape (tuple): Target resolution (height, width) for frames.\n",
    "        frame_skip (int): Number of frames to skip during extraction.\n",
    "\n",
    "    Returns:\n",
    "        list: List of segments, where each segment is a tensor of shape [C, T, H, W].\n",
    "    \"\"\"\n",
    "    try:\n",
    "        cap = cv2.VideoCapture(video_path)\n",
    "        if not cap.isOpened():\n",
    "            raise ValueError(f\"Unable to open video file: {video_path}\")\n",
    "        \n",
    "        segments = []\n",
    "        frames = []\n",
    "        frame_count = 0\n",
    "\n",
    "        while True:\n",
    "            success, frame = cap.read()\n",
    "            if not success:\n",
    "                break\n",
    "\n",
    "            # Skip frames based on frame_skip value\n",
    "            if frame_count % frame_skip != 0:\n",
    "                frame_count += 1\n",
    "                continue\n",
    "\n",
    "            # Resize frame and convert to tensor\n",
    "            frame = cv2.resize(frame, target_shape)\n",
    "            frame_tensor = torch.tensor(frame).permute(2, 0, 1).float() / 255.0  # Normalize to [0, 1]\n",
    "            frames.append(frame_tensor)\n",
    "\n",
    "            # Create a segment if enough frames are collected\n",
    "            if len(frames) == segment_size:\n",
    "                segments.append(torch.stack(frames, dim=1))  # Stack frames [C, T, H, W]\n",
    "                frames = []\n",
    "\n",
    "            frame_count += 1\n",
    "\n",
    "        # Handle leftover frames (pad to segment size)\n",
    "        if frames:\n",
    "            while len(frames) < segment_size:\n",
    "                frames.append(torch.zeros_like(frames[0]))  # Pad with black frames\n",
    "            segments.append(torch.stack(frames, dim=1))\n",
    "\n",
    "        cap.release()\n",
    "        return segments\n",
    "\n",
    "    except Exception as e:\n",
    "        cap.release()\n",
    "        print(f\"Error processing video {video_path}: {e}\")\n",
    "        raise e\n",
    "\n"
   ]
  },
  {
   "cell_type": "code",
   "execution_count": 93,
   "metadata": {},
   "outputs": [],
   "source": [
    "# segments divided into batches\n",
    "from torch.amp import autocast\n",
    "import tqdm\n",
    "video_path=r\"E:\\MIL\\Dataset\\Anomaly-Videos\\Anomaly-Videos-Part-2\\Explosion\\Explosion002_x264.mp4\"\n",
    "segment=extract_segments_from_video(video_path,frame_skip=3)\n",
    "batch_size=4\n",
    "batches = [segment[i:i + batch_size] for i in range(0, len(segment), batch_size)]\n",
    "\n"
   ]
  },
  {
   "cell_type": "code",
   "execution_count": 94,
   "metadata": {},
   "outputs": [
    {
     "name": "stderr",
     "output_type": "stream",
     "text": [
      "Extracting Features:   0%|          | 0/21 [00:00<?, ?it/s]"
     ]
    },
    {
     "name": "stdout",
     "output_type": "stream",
     "text": [
      "Batch shape: torch.Size([4, 3, 16, 320, 240])\n"
     ]
    },
    {
     "name": "stderr",
     "output_type": "stream",
     "text": [
      "Extracting Features:  10%|▉         | 2/21 [00:00<00:05,  3.59it/s]"
     ]
    },
    {
     "name": "stdout",
     "output_type": "stream",
     "text": [
      "batch_feature[0]:torch.Size([2048, 1, 1, 1])\n",
      "Batch shape: torch.Size([4, 3, 16, 320, 240])\n",
      "batch_feature[0]:torch.Size([2048, 1, 1, 1])\n"
     ]
    },
    {
     "name": "stderr",
     "output_type": "stream",
     "text": [
      "Extracting Features:  14%|█▍        | 3/21 [00:00<00:04,  4.16it/s]"
     ]
    },
    {
     "name": "stdout",
     "output_type": "stream",
     "text": [
      "Batch shape: torch.Size([4, 3, 16, 320, 240])\n",
      "batch_feature[0]:torch.Size([2048, 1, 1, 1])\n",
      "Batch shape: torch.Size([4, 3, 16, 320, 240])\n",
      "batch_feature[0]:torch.Size([2048, 1, 1, 1])\n"
     ]
    },
    {
     "name": "stderr",
     "output_type": "stream",
     "text": [
      "Extracting Features:  24%|██▍       | 5/21 [00:01<00:02,  5.78it/s]"
     ]
    },
    {
     "name": "stdout",
     "output_type": "stream",
     "text": [
      "Batch shape: torch.Size([4, 3, 16, 320, 240])\n",
      "batch_feature[0]:torch.Size([2048, 1, 1, 1])\n",
      "Batch shape: torch.Size([4, 3, 16, 320, 240])\n"
     ]
    },
    {
     "name": "stderr",
     "output_type": "stream",
     "text": [
      "Extracting Features:  29%|██▊       | 6/21 [00:01<00:02,  6.24it/s]"
     ]
    },
    {
     "name": "stdout",
     "output_type": "stream",
     "text": [
      "batch_feature[0]:torch.Size([2048, 1, 1, 1])\n",
      "Batch shape: torch.Size([4, 3, 16, 320, 240])\n",
      "batch_feature[0]:torch.Size([2048, 1, 1, 1])\n",
      "Batch shape: torch.Size([4, 3, 16, 320, 240])\n"
     ]
    },
    {
     "name": "stderr",
     "output_type": "stream",
     "text": [
      "Extracting Features:  38%|███▊      | 8/21 [00:01<00:01,  7.17it/s]"
     ]
    },
    {
     "name": "stdout",
     "output_type": "stream",
     "text": [
      "batch_feature[0]:torch.Size([2048, 1, 1, 1])\n",
      "Batch shape: torch.Size([4, 3, 16, 320, 240])\n",
      "batch_feature[0]:torch.Size([2048, 1, 1, 1])\n",
      "Batch shape: torch.Size([4, 3, 16, 320, 240])\n"
     ]
    },
    {
     "name": "stderr",
     "output_type": "stream",
     "text": [
      "Extracting Features:  48%|████▊     | 10/21 [00:01<00:01,  7.67it/s]"
     ]
    },
    {
     "name": "stdout",
     "output_type": "stream",
     "text": [
      "batch_feature[0]:torch.Size([2048, 1, 1, 1])\n",
      "Batch shape: torch.Size([4, 3, 16, 320, 240])\n",
      "batch_feature[0]:torch.Size([2048, 1, 1, 1])\n",
      "Batch shape: torch.Size([4, 3, 16, 320, 240])\n",
      "batch_feature[0]:torch.Size([2048, 1, 1, 1])\n"
     ]
    },
    {
     "name": "stderr",
     "output_type": "stream",
     "text": [
      "Extracting Features:  67%|██████▋   | 14/21 [00:02<00:00,  9.09it/s]"
     ]
    },
    {
     "name": "stdout",
     "output_type": "stream",
     "text": [
      "Batch shape: torch.Size([4, 3, 16, 320, 240])\n",
      "batch_feature[0]:torch.Size([2048, 1, 1, 1])\n",
      "Batch shape: torch.Size([4, 3, 16, 320, 240])\n",
      "batch_feature[0]:torch.Size([2048, 1, 1, 1])\n",
      "Batch shape: torch.Size([4, 3, 16, 320, 240])\n"
     ]
    },
    {
     "name": "stderr",
     "output_type": "stream",
     "text": [
      "Extracting Features:  76%|███████▌  | 16/21 [00:02<00:00,  9.47it/s]"
     ]
    },
    {
     "name": "stdout",
     "output_type": "stream",
     "text": [
      "batch_feature[0]:torch.Size([2048, 1, 1, 1])\n",
      "Batch shape: torch.Size([4, 3, 16, 320, 240])\n",
      "batch_feature[0]:torch.Size([2048, 1, 1, 1])\n",
      "Batch shape: torch.Size([4, 3, 16, 320, 240])\n"
     ]
    },
    {
     "name": "stderr",
     "output_type": "stream",
     "text": [
      "Extracting Features:  86%|████████▌ | 18/21 [00:02<00:00,  8.76it/s]"
     ]
    },
    {
     "name": "stdout",
     "output_type": "stream",
     "text": [
      "batch_feature[0]:torch.Size([2048, 1, 1, 1])\n",
      "Batch shape: torch.Size([4, 3, 16, 320, 240])\n",
      "batch_feature[0]:torch.Size([2048, 1, 1, 1])\n",
      "Batch shape: torch.Size([4, 3, 16, 320, 240])\n"
     ]
    },
    {
     "name": "stderr",
     "output_type": "stream",
     "text": [
      "Extracting Features:  95%|█████████▌| 20/21 [00:02<00:00,  8.29it/s]"
     ]
    },
    {
     "name": "stdout",
     "output_type": "stream",
     "text": [
      "batch_feature[0]:torch.Size([2048, 1, 1, 1])\n",
      "Batch shape: torch.Size([4, 3, 16, 320, 240])\n",
      "batch_feature[0]:torch.Size([2048, 1, 1, 1])\n",
      "Batch shape: torch.Size([4, 3, 16, 320, 240])\n"
     ]
    },
    {
     "name": "stderr",
     "output_type": "stream",
     "text": [
      "Extracting Features: 100%|██████████| 21/21 [00:02<00:00,  7.29it/s]"
     ]
    },
    {
     "name": "stdout",
     "output_type": "stream",
     "text": [
      "batch_feature[0]:torch.Size([2048, 1, 1, 1])\n"
     ]
    },
    {
     "name": "stderr",
     "output_type": "stream",
     "text": [
      "\n"
     ]
    }
   ],
   "source": [
    "# extract features \n",
    "from tqdm import tqdm\n",
    "device=torch.device('cuda' if torch.cuda.is_available() else 'cpu')\n",
    "debug =True\n",
    "features = []\n",
    "for batch in tqdm(batches, desc=\"Extracting Features\"):\n",
    "    batch = torch.stack(batch).to(device)  # Convert batch to tensor\n",
    "    print(f\"Batch shape: {batch.shape}\") if debug else None\n",
    "\n",
    "    with autocast(\"cuda\"):\n",
    "        batch_features = extract_features(batch, device)  # Extract features\n",
    "        print(f'batch_feature[0]:{batch_features[0].shape}')\n",
    "\n",
    "    if isinstance(batch_features, list):\n",
    "        batch_features = torch.stack(batch_features)  # Ensure tensor type\n",
    "    features.append(batch_features.cpu())"
   ]
  },
  {
   "cell_type": "code",
   "execution_count": 95,
   "metadata": {},
   "outputs": [],
   "source": [
    "features_list=features"
   ]
  },
  {
   "cell_type": "code",
   "execution_count": 115,
   "metadata": {},
   "outputs": [
    {
     "name": "stderr",
     "output_type": "stream",
     "text": [
      "C:\\Users\\vikra\\AppData\\Local\\Temp\\ipykernel_1520\\1178720715.py:2: FutureWarning: You are using `torch.load` with `weights_only=False` (the current default value), which uses the default pickle module implicitly. It is possible to construct malicious pickle data which will execute arbitrary code during unpickling (See https://github.com/pytorch/pytorch/blob/main/SECURITY.md#untrusted-models for more details). In a future release, the default value for `weights_only` will be flipped to `True`. This limits the functions that could be executed during unpickling. Arbitrary objects will no longer be allowed to be loaded via this mode unless they are explicitly allowlisted by the user via `torch.serialization.add_safe_globals`. We recommend you start setting `weights_only=True` for any use case where you don't have full control of the loaded file. Please open an issue on GitHub for any issues related to this experimental feature.\n",
      "  data=torch.load(video_1)\n"
     ]
    }
   ],
   "source": [
    "video_1=r\"E:\\MIL\\Code\\debug_processed_features\\Explosion002_x264_features.pt\"\n",
    "data=torch.load(video_1)\n",
    "features=data.get(\"features\")"
   ]
  },
  {
   "cell_type": "code",
   "execution_count": 96,
   "metadata": {},
   "outputs": [
    {
     "name": "stdout",
     "output_type": "stream",
     "text": [
      "Combined Features Shape: torch.Size([84, 2048, 1, 1, 1])\n",
      "Processed video: Explosion002_x264, Label: 1\n"
     ]
    }
   ],
   "source": [
    "# Combine features from all batches\n",
    "import os\n",
    "features = torch.cat(features_list, dim=0)\n",
    "label=1\n",
    "output_dir=r\"E:\\MIL\\Code\\debug_processed_features\"\n",
    "print(f\"Combined Features Shape: {features.shape}\") if debug else None\n",
    "\n",
    "# Step 5: Save features and labels\n",
    "video_name = os.path.splitext(os.path.basename(video_path))[0]\n",
    "torch.save({\n",
    "    \"features\": features,  # Tensor containing extracted features\n",
    "    \"label\": label  # Label associated with the video\n",
    "}, os.path.join(output_dir, f\"{video_name}_features.pt\"))\n",
    "\n",
    "# Clear GPU memory\n",
    "torch.cuda.empty_cache()\n",
    "print(f\"Processed video: {video_name}, Label: {label}\")"
   ]
  },
  {
   "cell_type": "code",
   "execution_count": 97,
   "metadata": {},
   "outputs": [],
   "source": [
    "# define loss function\n",
    "def combined_loss(scores, labels, lamda_sparsity=8e-5, lamda_smooth=8e-5):\n",
    "    \"\"\"\n",
    "    Calculates the combined loss function for weakly-supervised MIL anomaly detection.\n",
    "\n",
    "    The combined loss consists of:\n",
    "    1. Binary Cross-Entropy Loss with Logits:\n",
    "       - This is the classification loss that measures how well the model predicts the \n",
    "         anomaly scores for each segment. It internally applies the sigmoid function \n",
    "         to convert logits into probabilities before calculating the loss.\n",
    "    \n",
    "    2. Sparsity Loss:\n",
    "       - This encourages sparsity in anomaly predictions by penalizing the sum of \n",
    "         predicted probabilities across all segments. It helps the model focus on \n",
    "         a small number of segments likely to contain anomalies.\n",
    "\n",
    "    3. Smoothness Loss:\n",
    "       - This penalizes abrupt changes in predictions across adjacent segments \n",
    "         to ensure temporal smoothness in the predicted anomaly scores.\n",
    "\n",
    "    Parameters:\n",
    "    - scores (torch.Tensor): Predicted logits from the model. Shape: [num_segments].\n",
    "    - labels (torch.Tensor): Ground truth labels. Shape: [num_segments].\n",
    "    - lamda_sparsity (float): Weight for sparsity loss. Default: 8e-5.\n",
    "    - lamda_smooth (float): Weight for smoothness loss. Default: 8e-5.\n",
    "\n",
    "    Returns:\n",
    "    - torch.Tensor: The combined loss value.\n",
    "    \"\"\"\n",
    "    # Binary Cross-Entropy Loss with Logits (handles sigmoid internally)\n",
    "    ce_loss = nn.BCEWithLogitsLoss()(scores, labels)\n",
    "\n",
    "    # Sparsity Loss: Penalizes the sum of predicted probabilities (encourages sparse anomaly detection)\n",
    "    sparsity_loss = lamda_sparsity * torch.sum(torch.sigmoid(scores))\n",
    "\n",
    "    # Smoothness Loss: Penalizes abrupt changes in adjacent segment predictions\n",
    "    smoothness_loss = lamda_smooth * torch.sum((torch.sigmoid(scores[1:]) - torch.sigmoid(scores[:-1])) ** 2)\n",
    "\n",
    "    # Combined loss\n",
    "    return ce_loss + sparsity_loss + smoothness_loss"
   ]
  },
  {
   "cell_type": "code",
   "execution_count": 98,
   "metadata": {},
   "outputs": [
    {
     "name": "stdout",
     "output_type": "stream",
     "text": [
      "SequentialMILModel Initialized\n"
     ]
    }
   ],
   "source": [
    "# define model\n",
    "import torch\n",
    "import torch.nn as nn\n",
    "from torch.amp import GradScaler\n",
    "\n",
    "\n",
    "class SequentialMILModel(nn.Module):\n",
    "    def __init__(self, input_dim=2048, hidden_dim=512):\n",
    "        \"\"\"\n",
    "        Initializes a Sequential MIL Model for anomaly detection.\n",
    "\n",
    "        Parameters:\n",
    "        - input_dim (int): Input feature dimension (default: 2048).\n",
    "        - hidden_dim (int): Hidden layer dimension (default: 512).\n",
    "        \"\"\"\n",
    "        super(SequentialMILModel, self).__init__()\n",
    "        print(\"SequentialMILModel Initialized\")  # Debug print\n",
    "        self.fc1 = nn.Linear(input_dim, hidden_dim)  # First fully connected layer\n",
    "        self.fc2 = nn.Linear(hidden_dim, 32)         # Second fully connected layer\n",
    "        self.fc3 = nn.Linear(32, 1)                 # Final output layer\n",
    "        self.dropout = nn.Dropout(0.6)              # Dropout with probability 0.6\n",
    "        self.relu = nn.ReLU()                       # ReLU activation\n",
    "        self.sigmoid = nn.Sigmoid()                 # Sigmoid activation for output\n",
    "\n",
    "    def forward(self, x):\n",
    "        \"\"\"\n",
    "        Forward pass for the model.\n",
    "\n",
    "        Parameters:\n",
    "        - x (torch.Tensor): Input features of shape [num_segments, input_dim].\n",
    "\n",
    "        Returns:\n",
    "        - torch.Tensor: Raw logits for each segment. Shape: [num_segments, 1].\n",
    "        \"\"\"\n",
    "        print(f\"Input shape: {x.shape}\")  # Debugging statement\n",
    "        # Pass input through layers with activation and dropout\n",
    "        x = self.relu(self.fc1(x))\n",
    "        x = self.dropout(x)\n",
    "        hidden = x  # Optional: retain hidden layer output for debugging or analysis\n",
    "        x = self.relu(self.fc2(x))\n",
    "        x = self.dropout(x)\n",
    "        x = self.sigmoid(self.fc3(x))\n",
    "        x = self.dropout(x)\n",
    "        return x.squeeze(-1)  # Squeeze the last dimension to return [num_segments]\n",
    "    \n",
    "model= SequentialMILModel(input_dim=2048).to(device)\n",
    "optimizer = torch.optim.Adam(model.parameters(), lr=0.001)\n",
    "scaler = GradScaler()  # Gradient scaler for mixed precision"
   ]
  },
  {
   "cell_type": "code",
   "execution_count": 99,
   "metadata": {},
   "outputs": [
    {
     "name": "stdout",
     "output_type": "stream",
     "text": [
      "Features shape after reshaping: torch.Size([84, 2048])\n",
      "Input shape: torch.Size([84, 2048])\n"
     ]
    }
   ],
   "source": [
    "# Ensure the model is on the correct device\n",
    "model = model.to(device)\n",
    "\n",
    "# Ensure features are on the same device\n",
    "features = features.to(dtype=torch.float32)\n",
    "\n",
    "features = features.to(device)\n",
    "\n",
    "# it is processing 675 *2048 to avoid this I am just taking 2048,1,1,1\n",
    "if features.dim() > 2:\n",
    "    features = features.view(features.size(0), -1)\n",
    "    print(f\"Features shape after reshaping: {features.shape}\")\n",
    "\n",
    "# Now perform the forward pass\n",
    "scores = model(features)\n"
   ]
  },
  {
   "cell_type": "code",
   "execution_count": 110,
   "metadata": {},
   "outputs": [
    {
     "data": {
      "text/plain": [
       "torch.Size([84])"
      ]
     },
     "execution_count": 110,
     "metadata": {},
     "output_type": "execute_result"
    }
   ],
   "source": [
    "scores.shape"
   ]
  },
  {
   "cell_type": "code",
   "execution_count": 106,
   "metadata": {},
   "outputs": [
    {
     "data": {
      "text/plain": [
       "tensor(1.3111, device='cuda:0', grad_fn=<MaxBackward1>)"
      ]
     },
     "execution_count": 106,
     "metadata": {},
     "output_type": "execute_result"
    }
   ],
   "source": [
    "scores.max()"
   ]
  },
  {
   "cell_type": "code",
   "execution_count": 101,
   "metadata": {},
   "outputs": [],
   "source": [
    "label = torch.tensor([0], dtype=torch.float32, device=scores.device)"
   ]
  },
  {
   "cell_type": "code",
   "execution_count": 102,
   "metadata": {},
   "outputs": [],
   "source": [
    "video_score = torch.max(scores)  # Replace with torch.mean(segment_scores) if needed\n",
    "video_score=video_score.unsqueeze(0)\n",
    "\n",
    "# Calculate loss using video-level score and label\n",
    "loss = combined_loss(video_score, label)"
   ]
  },
  {
   "cell_type": "code",
   "execution_count": 108,
   "metadata": {},
   "outputs": [],
   "source": [
    "# Aggregate segment scores into a video-level score\n",
    "video_score = torch.max(scores)  # Replace with torch.mean(scores) if needed\n",
    "\n",
    "# Convert the label to a tensor and ensure the shapes match\n",
    "label = torch.tensor([0], dtype=torch.float32, device=video_score.device)\n",
    "\n",
    "# Expand video_score to match label shape\n",
    "video_score = video_score.unsqueeze(0)  # Convert shape from [] to [1]\n",
    "\n",
    "# Calculate loss using video-level score and label\n",
    "loss = combined_loss(video_score, label)"
   ]
  },
  {
   "cell_type": "code",
   "execution_count": 109,
   "metadata": {},
   "outputs": [
    {
     "data": {
      "text/plain": [
       "tensor(1.5498, device='cuda:0', grad_fn=<AddBackward0>)"
      ]
     },
     "execution_count": 109,
     "metadata": {},
     "output_type": "execute_result"
    }
   ],
   "source": [
    "loss"
   ]
  },
  {
   "cell_type": "code",
   "execution_count": 92,
   "metadata": {},
   "outputs": [
    {
     "data": {
      "text/plain": [
       "tensor([1.5349], device='cuda:0', grad_fn=<UnsqueezeBackward0>)"
      ]
     },
     "execution_count": 92,
     "metadata": {},
     "output_type": "execute_result"
    }
   ],
   "source": [
    "torch.max(scores).unsqueeze(0)\n"
   ]
  },
  {
   "cell_type": "code",
   "execution_count": 85,
   "metadata": {},
   "outputs": [
    {
     "data": {
      "text/plain": [
       "tensor([1.], device='cuda:0')"
      ]
     },
     "execution_count": 85,
     "metadata": {},
     "output_type": "execute_result"
    }
   ],
   "source": [
    "label"
   ]
  },
  {
   "cell_type": "code",
   "execution_count": 84,
   "metadata": {},
   "outputs": [
    {
     "data": {
      "text/plain": [
       "tensor(0.1952, device='cuda:0', grad_fn=<AddBackward0>)"
      ]
     },
     "execution_count": 84,
     "metadata": {},
     "output_type": "execute_result"
    }
   ],
   "source": [
    "loss"
   ]
  },
  {
   "cell_type": "code",
   "execution_count": null,
   "metadata": {},
   "outputs": [
    {
     "name": "stdout",
     "output_type": "stream",
     "text": [
      "Extracted 675 segments from video E:\\MIL\\Dataset\\Normal-Videos-Part-1\\Normal_Videos_924_x264.mp4\n"
     ]
    },
    {
     "name": "stderr",
     "output_type": "stream",
     "text": [
      "Processing Segments: 100%|██████████| 675/675 [00:00<00:00, 94804.78it/s]\n"
     ]
    },
    {
     "name": "stdout",
     "output_type": "stream",
     "text": [
      "Segment shape before processing: torch.Size([3, 16, 320, 240])\n",
      "Segment shape after processing: torch.Size([3, 16, 320, 240])\n",
      "Segment shape before processing: torch.Size([3, 16, 320, 240])\n",
      "Segment shape after processing: torch.Size([3, 16, 320, 240])\n",
      "Segment shape before processing: torch.Size([3, 16, 320, 240])\n",
      "Segment shape after processing: torch.Size([3, 16, 320, 240])\n",
      "Segment shape before processing: torch.Size([3, 16, 320, 240])\n",
      "Segment shape after processing: torch.Size([3, 16, 320, 240])\n",
      "Segment shape before processing: torch.Size([3, 16, 320, 240])\n",
      "Segment shape after processing: torch.Size([3, 16, 320, 240])\n",
      "Segment shape before processing: torch.Size([3, 16, 320, 240])\n",
      "Segment shape after processing: torch.Size([3, 16, 320, 240])\n",
      "Segment shape before processing: torch.Size([3, 16, 320, 240])\n",
      "Segment shape after processing: torch.Size([3, 16, 320, 240])\n",
      "Segment shape before processing: torch.Size([3, 16, 320, 240])\n",
      "Segment shape after processing: torch.Size([3, 16, 320, 240])\n",
      "Segment shape before processing: torch.Size([3, 16, 320, 240])\n",
      "Segment shape after processing: torch.Size([3, 16, 320, 240])\n",
      "Segment shape before processing: torch.Size([3, 16, 320, 240])\n",
      "Segment shape after processing: torch.Size([3, 16, 320, 240])\n",
      "Segment shape before processing: torch.Size([3, 16, 320, 240])\n",
      "Segment shape after processing: torch.Size([3, 16, 320, 240])\n",
      "Segment shape before processing: torch.Size([3, 16, 320, 240])\n",
      "Segment shape after processing: torch.Size([3, 16, 320, 240])\n",
      "Segment shape before processing: torch.Size([3, 16, 320, 240])\n",
      "Segment shape after processing: torch.Size([3, 16, 320, 240])\n",
      "Segment shape before processing: torch.Size([3, 16, 320, 240])\n",
      "Segment shape after processing: torch.Size([3, 16, 320, 240])\n",
      "Segment shape before processing: torch.Size([3, 16, 320, 240])\n",
      "Segment shape after processing: torch.Size([3, 16, 320, 240])\n",
      "Segment shape before processing: torch.Size([3, 16, 320, 240])\n",
      "Segment shape after processing: torch.Size([3, 16, 320, 240])\n",
      "Segment shape before processing: torch.Size([3, 16, 320, 240])\n",
      "Segment shape after processing: torch.Size([3, 16, 320, 240])\n",
      "Segment shape before processing: torch.Size([3, 16, 320, 240])\n",
      "Segment shape after processing: torch.Size([3, 16, 320, 240])\n",
      "Segment shape before processing: torch.Size([3, 16, 320, 240])\n",
      "Segment shape after processing: torch.Size([3, 16, 320, 240])\n",
      "Segment shape before processing: torch.Size([3, 16, 320, 240])\n",
      "Segment shape after processing: torch.Size([3, 16, 320, 240])\n",
      "Segment shape before processing: torch.Size([3, 16, 320, 240])\n",
      "Segment shape after processing: torch.Size([3, 16, 320, 240])\n",
      "Segment shape before processing: torch.Size([3, 16, 320, 240])\n",
      "Segment shape after processing: torch.Size([3, 16, 320, 240])\n",
      "Segment shape before processing: torch.Size([3, 16, 320, 240])\n",
      "Segment shape after processing: torch.Size([3, 16, 320, 240])\n",
      "Segment shape before processing: torch.Size([3, 16, 320, 240])\n",
      "Segment shape after processing: torch.Size([3, 16, 320, 240])\n",
      "Segment shape before processing: torch.Size([3, 16, 320, 240])\n",
      "Segment shape after processing: torch.Size([3, 16, 320, 240])\n",
      "Segment shape before processing: torch.Size([3, 16, 320, 240])\n",
      "Segment shape after processing: torch.Size([3, 16, 320, 240])\n",
      "Segment shape before processing: torch.Size([3, 16, 320, 240])\n",
      "Segment shape after processing: torch.Size([3, 16, 320, 240])\n",
      "Segment shape before processing: torch.Size([3, 16, 320, 240])\n",
      "Segment shape after processing: torch.Size([3, 16, 320, 240])\n",
      "Segment shape before processing: torch.Size([3, 16, 320, 240])\n",
      "Segment shape after processing: torch.Size([3, 16, 320, 240])\n",
      "Segment shape before processing: torch.Size([3, 16, 320, 240])\n",
      "Segment shape after processing: torch.Size([3, 16, 320, 240])\n",
      "Segment shape before processing: torch.Size([3, 16, 320, 240])\n",
      "Segment shape after processing: torch.Size([3, 16, 320, 240])\n",
      "Segment shape before processing: torch.Size([3, 16, 320, 240])\n",
      "Segment shape after processing: torch.Size([3, 16, 320, 240])\n",
      "Segment shape before processing: torch.Size([3, 16, 320, 240])\n",
      "Segment shape after processing: torch.Size([3, 16, 320, 240])\n",
      "Segment shape before processing: torch.Size([3, 16, 320, 240])\n",
      "Segment shape after processing: torch.Size([3, 16, 320, 240])\n",
      "Segment shape before processing: torch.Size([3, 16, 320, 240])\n",
      "Segment shape after processing: torch.Size([3, 16, 320, 240])\n",
      "Segment shape before processing: torch.Size([3, 16, 320, 240])\n",
      "Segment shape after processing: torch.Size([3, 16, 320, 240])\n",
      "Segment shape before processing: torch.Size([3, 16, 320, 240])\n",
      "Segment shape after processing: torch.Size([3, 16, 320, 240])\n",
      "Segment shape before processing: torch.Size([3, 16, 320, 240])\n",
      "Segment shape after processing: torch.Size([3, 16, 320, 240])\n",
      "Segment shape before processing: torch.Size([3, 16, 320, 240])\n",
      "Segment shape after processing: torch.Size([3, 16, 320, 240])\n",
      "Segment shape before processing: torch.Size([3, 16, 320, 240])\n",
      "Segment shape after processing: torch.Size([3, 16, 320, 240])\n",
      "Segment shape before processing: torch.Size([3, 16, 320, 240])\n",
      "Segment shape after processing: torch.Size([3, 16, 320, 240])\n",
      "Segment shape before processing: torch.Size([3, 16, 320, 240])\n",
      "Segment shape after processing: torch.Size([3, 16, 320, 240])\n",
      "Segment shape before processing: torch.Size([3, 16, 320, 240])\n",
      "Segment shape after processing: torch.Size([3, 16, 320, 240])\n",
      "Segment shape before processing: torch.Size([3, 16, 320, 240])\n",
      "Segment shape after processing: torch.Size([3, 16, 320, 240])\n",
      "Segment shape before processing: torch.Size([3, 16, 320, 240])\n",
      "Segment shape after processing: torch.Size([3, 16, 320, 240])\n",
      "Segment shape before processing: torch.Size([3, 16, 320, 240])\n",
      "Segment shape after processing: torch.Size([3, 16, 320, 240])\n",
      "Segment shape before processing: torch.Size([3, 16, 320, 240])\n",
      "Segment shape after processing: torch.Size([3, 16, 320, 240])\n",
      "Segment shape before processing: torch.Size([3, 16, 320, 240])\n",
      "Segment shape after processing: torch.Size([3, 16, 320, 240])\n",
      "Segment shape before processing: torch.Size([3, 16, 320, 240])\n",
      "Segment shape after processing: torch.Size([3, 16, 320, 240])\n",
      "Segment shape before processing: torch.Size([3, 16, 320, 240])\n",
      "Segment shape after processing: torch.Size([3, 16, 320, 240])\n",
      "Segment shape before processing: torch.Size([3, 16, 320, 240])\n",
      "Segment shape after processing: torch.Size([3, 16, 320, 240])\n",
      "Segment shape before processing: torch.Size([3, 16, 320, 240])\n",
      "Segment shape after processing: torch.Size([3, 16, 320, 240])\n",
      "Segment shape before processing: torch.Size([3, 16, 320, 240])\n",
      "Segment shape after processing: torch.Size([3, 16, 320, 240])\n",
      "Segment shape before processing: torch.Size([3, 16, 320, 240])\n",
      "Segment shape after processing: torch.Size([3, 16, 320, 240])\n",
      "Segment shape before processing: torch.Size([3, 16, 320, 240])\n",
      "Segment shape after processing: torch.Size([3, 16, 320, 240])\n",
      "Segment shape before processing: torch.Size([3, 16, 320, 240])\n",
      "Segment shape after processing: torch.Size([3, 16, 320, 240])\n",
      "Segment shape before processing: torch.Size([3, 16, 320, 240])\n",
      "Segment shape after processing: torch.Size([3, 16, 320, 240])\n",
      "Segment shape before processing: torch.Size([3, 16, 320, 240])\n",
      "Segment shape after processing: torch.Size([3, 16, 320, 240])\n",
      "Segment shape before processing: torch.Size([3, 16, 320, 240])\n",
      "Segment shape after processing: torch.Size([3, 16, 320, 240])\n",
      "Segment shape before processing: torch.Size([3, 16, 320, 240])\n",
      "Segment shape after processing: torch.Size([3, 16, 320, 240])\n",
      "Segment shape before processing: torch.Size([3, 16, 320, 240])\n",
      "Segment shape after processing: torch.Size([3, 16, 320, 240])\n",
      "Segment shape before processing: torch.Size([3, 16, 320, 240])\n",
      "Segment shape after processing: torch.Size([3, 16, 320, 240])\n",
      "Segment shape before processing: torch.Size([3, 16, 320, 240])\n",
      "Segment shape after processing: torch.Size([3, 16, 320, 240])\n",
      "Segment shape before processing: torch.Size([3, 16, 320, 240])\n",
      "Segment shape after processing: torch.Size([3, 16, 320, 240])\n",
      "Segment shape before processing: torch.Size([3, 16, 320, 240])\n",
      "Segment shape after processing: torch.Size([3, 16, 320, 240])\n",
      "Segment shape before processing: torch.Size([3, 16, 320, 240])\n",
      "Segment shape after processing: torch.Size([3, 16, 320, 240])\n",
      "Segment shape before processing: torch.Size([3, 16, 320, 240])\n",
      "Segment shape after processing: torch.Size([3, 16, 320, 240])\n",
      "Segment shape before processing: torch.Size([3, 16, 320, 240])\n",
      "Segment shape after processing: torch.Size([3, 16, 320, 240])\n",
      "Segment shape before processing: torch.Size([3, 16, 320, 240])\n",
      "Segment shape after processing: torch.Size([3, 16, 320, 240])\n",
      "Segment shape before processing: torch.Size([3, 16, 320, 240])\n",
      "Segment shape after processing: torch.Size([3, 16, 320, 240])\n",
      "Segment shape before processing: torch.Size([3, 16, 320, 240])\n",
      "Segment shape after processing: torch.Size([3, 16, 320, 240])\n",
      "Segment shape before processing: torch.Size([3, 16, 320, 240])\n",
      "Segment shape after processing: torch.Size([3, 16, 320, 240])\n",
      "Segment shape before processing: torch.Size([3, 16, 320, 240])\n",
      "Segment shape after processing: torch.Size([3, 16, 320, 240])\n",
      "Segment shape before processing: torch.Size([3, 16, 320, 240])\n",
      "Segment shape after processing: torch.Size([3, 16, 320, 240])\n",
      "Segment shape before processing: torch.Size([3, 16, 320, 240])\n",
      "Segment shape after processing: torch.Size([3, 16, 320, 240])\n",
      "Segment shape before processing: torch.Size([3, 16, 320, 240])\n",
      "Segment shape after processing: torch.Size([3, 16, 320, 240])\n",
      "Segment shape before processing: torch.Size([3, 16, 320, 240])\n",
      "Segment shape after processing: torch.Size([3, 16, 320, 240])\n",
      "Segment shape before processing: torch.Size([3, 16, 320, 240])\n",
      "Segment shape after processing: torch.Size([3, 16, 320, 240])\n",
      "Segment shape before processing: torch.Size([3, 16, 320, 240])\n",
      "Segment shape after processing: torch.Size([3, 16, 320, 240])\n",
      "Segment shape before processing: torch.Size([3, 16, 320, 240])\n",
      "Segment shape after processing: torch.Size([3, 16, 320, 240])\n",
      "Segment shape before processing: torch.Size([3, 16, 320, 240])\n",
      "Segment shape after processing: torch.Size([3, 16, 320, 240])\n",
      "Segment shape before processing: torch.Size([3, 16, 320, 240])\n",
      "Segment shape after processing: torch.Size([3, 16, 320, 240])\n",
      "Segment shape before processing: torch.Size([3, 16, 320, 240])\n",
      "Segment shape after processing: torch.Size([3, 16, 320, 240])\n",
      "Segment shape before processing: torch.Size([3, 16, 320, 240])\n",
      "Segment shape after processing: torch.Size([3, 16, 320, 240])\n",
      "Segment shape before processing: torch.Size([3, 16, 320, 240])\n",
      "Segment shape after processing: torch.Size([3, 16, 320, 240])\n",
      "Segment shape before processing: torch.Size([3, 16, 320, 240])\n",
      "Segment shape after processing: torch.Size([3, 16, 320, 240])\n",
      "Segment shape before processing: torch.Size([3, 16, 320, 240])\n",
      "Segment shape after processing: torch.Size([3, 16, 320, 240])\n",
      "Segment shape before processing: torch.Size([3, 16, 320, 240])\n",
      "Segment shape after processing: torch.Size([3, 16, 320, 240])\n",
      "Segment shape before processing: torch.Size([3, 16, 320, 240])\n",
      "Segment shape after processing: torch.Size([3, 16, 320, 240])\n",
      "Segment shape before processing: torch.Size([3, 16, 320, 240])\n",
      "Segment shape after processing: torch.Size([3, 16, 320, 240])\n",
      "Segment shape before processing: torch.Size([3, 16, 320, 240])\n",
      "Segment shape after processing: torch.Size([3, 16, 320, 240])\n",
      "Segment shape before processing: torch.Size([3, 16, 320, 240])\n",
      "Segment shape after processing: torch.Size([3, 16, 320, 240])\n",
      "Segment shape before processing: torch.Size([3, 16, 320, 240])\n",
      "Segment shape after processing: torch.Size([3, 16, 320, 240])\n",
      "Segment shape before processing: torch.Size([3, 16, 320, 240])\n",
      "Segment shape after processing: torch.Size([3, 16, 320, 240])\n",
      "Segment shape before processing: torch.Size([3, 16, 320, 240])\n",
      "Segment shape after processing: torch.Size([3, 16, 320, 240])\n",
      "Segment shape before processing: torch.Size([3, 16, 320, 240])\n",
      "Segment shape after processing: torch.Size([3, 16, 320, 240])\n",
      "Segment shape before processing: torch.Size([3, 16, 320, 240])\n",
      "Segment shape after processing: torch.Size([3, 16, 320, 240])\n",
      "Segment shape before processing: torch.Size([3, 16, 320, 240])\n",
      "Segment shape after processing: torch.Size([3, 16, 320, 240])\n",
      "Segment shape before processing: torch.Size([3, 16, 320, 240])\n",
      "Segment shape after processing: torch.Size([3, 16, 320, 240])\n",
      "Segment shape before processing: torch.Size([3, 16, 320, 240])\n",
      "Segment shape after processing: torch.Size([3, 16, 320, 240])\n",
      "Segment shape before processing: torch.Size([3, 16, 320, 240])\n",
      "Segment shape after processing: torch.Size([3, 16, 320, 240])\n",
      "Segment shape before processing: torch.Size([3, 16, 320, 240])\n",
      "Segment shape after processing: torch.Size([3, 16, 320, 240])\n",
      "Segment shape before processing: torch.Size([3, 16, 320, 240])\n",
      "Segment shape after processing: torch.Size([3, 16, 320, 240])\n",
      "Segment shape before processing: torch.Size([3, 16, 320, 240])\n",
      "Segment shape after processing: torch.Size([3, 16, 320, 240])\n",
      "Segment shape before processing: torch.Size([3, 16, 320, 240])\n",
      "Segment shape after processing: torch.Size([3, 16, 320, 240])\n",
      "Segment shape before processing: torch.Size([3, 16, 320, 240])\n",
      "Segment shape after processing: torch.Size([3, 16, 320, 240])\n",
      "Segment shape before processing: torch.Size([3, 16, 320, 240])\n",
      "Segment shape after processing: torch.Size([3, 16, 320, 240])\n",
      "Segment shape before processing: torch.Size([3, 16, 320, 240])\n",
      "Segment shape after processing: torch.Size([3, 16, 320, 240])\n",
      "Segment shape before processing: torch.Size([3, 16, 320, 240])\n",
      "Segment shape after processing: torch.Size([3, 16, 320, 240])\n",
      "Segment shape before processing: torch.Size([3, 16, 320, 240])\n",
      "Segment shape after processing: torch.Size([3, 16, 320, 240])\n",
      "Segment shape before processing: torch.Size([3, 16, 320, 240])\n",
      "Segment shape after processing: torch.Size([3, 16, 320, 240])\n",
      "Segment shape before processing: torch.Size([3, 16, 320, 240])\n",
      "Segment shape after processing: torch.Size([3, 16, 320, 240])\n",
      "Segment shape before processing: torch.Size([3, 16, 320, 240])\n",
      "Segment shape after processing: torch.Size([3, 16, 320, 240])\n",
      "Segment shape before processing: torch.Size([3, 16, 320, 240])\n",
      "Segment shape after processing: torch.Size([3, 16, 320, 240])\n",
      "Segment shape before processing: torch.Size([3, 16, 320, 240])\n",
      "Segment shape after processing: torch.Size([3, 16, 320, 240])\n",
      "Segment shape before processing: torch.Size([3, 16, 320, 240])\n",
      "Segment shape after processing: torch.Size([3, 16, 320, 240])\n",
      "Segment shape before processing: torch.Size([3, 16, 320, 240])\n",
      "Segment shape after processing: torch.Size([3, 16, 320, 240])\n",
      "Segment shape before processing: torch.Size([3, 16, 320, 240])\n",
      "Segment shape after processing: torch.Size([3, 16, 320, 240])\n",
      "Segment shape before processing: torch.Size([3, 16, 320, 240])\n",
      "Segment shape after processing: torch.Size([3, 16, 320, 240])\n",
      "Segment shape before processing: torch.Size([3, 16, 320, 240])\n",
      "Segment shape after processing: torch.Size([3, 16, 320, 240])\n",
      "Segment shape before processing: torch.Size([3, 16, 320, 240])\n",
      "Segment shape after processing: torch.Size([3, 16, 320, 240])\n",
      "Segment shape before processing: torch.Size([3, 16, 320, 240])\n",
      "Segment shape after processing: torch.Size([3, 16, 320, 240])\n",
      "Segment shape before processing: torch.Size([3, 16, 320, 240])\n",
      "Segment shape after processing: torch.Size([3, 16, 320, 240])\n",
      "Segment shape before processing: torch.Size([3, 16, 320, 240])\n",
      "Segment shape after processing: torch.Size([3, 16, 320, 240])\n",
      "Segment shape before processing: torch.Size([3, 16, 320, 240])\n",
      "Segment shape after processing: torch.Size([3, 16, 320, 240])\n",
      "Segment shape before processing: torch.Size([3, 16, 320, 240])\n",
      "Segment shape after processing: torch.Size([3, 16, 320, 240])\n",
      "Segment shape before processing: torch.Size([3, 16, 320, 240])\n",
      "Segment shape after processing: torch.Size([3, 16, 320, 240])\n",
      "Segment shape before processing: torch.Size([3, 16, 320, 240])\n",
      "Segment shape after processing: torch.Size([3, 16, 320, 240])\n",
      "Segment shape before processing: torch.Size([3, 16, 320, 240])\n",
      "Segment shape after processing: torch.Size([3, 16, 320, 240])\n",
      "Segment shape before processing: torch.Size([3, 16, 320, 240])\n",
      "Segment shape after processing: torch.Size([3, 16, 320, 240])\n",
      "Segment shape before processing: torch.Size([3, 16, 320, 240])\n",
      "Segment shape after processing: torch.Size([3, 16, 320, 240])\n",
      "Segment shape before processing: torch.Size([3, 16, 320, 240])\n",
      "Segment shape after processing: torch.Size([3, 16, 320, 240])\n",
      "Segment shape before processing: torch.Size([3, 16, 320, 240])\n",
      "Segment shape after processing: torch.Size([3, 16, 320, 240])\n",
      "Segment shape before processing: torch.Size([3, 16, 320, 240])\n",
      "Segment shape after processing: torch.Size([3, 16, 320, 240])\n",
      "Segment shape before processing: torch.Size([3, 16, 320, 240])\n",
      "Segment shape after processing: torch.Size([3, 16, 320, 240])\n",
      "Segment shape before processing: torch.Size([3, 16, 320, 240])\n",
      "Segment shape after processing: torch.Size([3, 16, 320, 240])\n",
      "Segment shape before processing: torch.Size([3, 16, 320, 240])\n",
      "Segment shape after processing: torch.Size([3, 16, 320, 240])\n",
      "Segment shape before processing: torch.Size([3, 16, 320, 240])\n",
      "Segment shape after processing: torch.Size([3, 16, 320, 240])\n",
      "Segment shape before processing: torch.Size([3, 16, 320, 240])\n",
      "Segment shape after processing: torch.Size([3, 16, 320, 240])\n",
      "Segment shape before processing: torch.Size([3, 16, 320, 240])\n",
      "Segment shape after processing: torch.Size([3, 16, 320, 240])\n",
      "Segment shape before processing: torch.Size([3, 16, 320, 240])\n",
      "Segment shape after processing: torch.Size([3, 16, 320, 240])\n",
      "Segment shape before processing: torch.Size([3, 16, 320, 240])\n",
      "Segment shape after processing: torch.Size([3, 16, 320, 240])\n",
      "Segment shape before processing: torch.Size([3, 16, 320, 240])\n",
      "Segment shape after processing: torch.Size([3, 16, 320, 240])\n",
      "Segment shape before processing: torch.Size([3, 16, 320, 240])\n",
      "Segment shape after processing: torch.Size([3, 16, 320, 240])\n",
      "Segment shape before processing: torch.Size([3, 16, 320, 240])\n",
      "Segment shape after processing: torch.Size([3, 16, 320, 240])\n",
      "Segment shape before processing: torch.Size([3, 16, 320, 240])\n",
      "Segment shape after processing: torch.Size([3, 16, 320, 240])\n",
      "Segment shape before processing: torch.Size([3, 16, 320, 240])\n",
      "Segment shape after processing: torch.Size([3, 16, 320, 240])\n",
      "Segment shape before processing: torch.Size([3, 16, 320, 240])\n",
      "Segment shape after processing: torch.Size([3, 16, 320, 240])\n",
      "Segment shape before processing: torch.Size([3, 16, 320, 240])\n",
      "Segment shape after processing: torch.Size([3, 16, 320, 240])\n",
      "Segment shape before processing: torch.Size([3, 16, 320, 240])\n",
      "Segment shape after processing: torch.Size([3, 16, 320, 240])\n",
      "Segment shape before processing: torch.Size([3, 16, 320, 240])\n",
      "Segment shape after processing: torch.Size([3, 16, 320, 240])\n",
      "Segment shape before processing: torch.Size([3, 16, 320, 240])\n",
      "Segment shape after processing: torch.Size([3, 16, 320, 240])\n",
      "Segment shape before processing: torch.Size([3, 16, 320, 240])\n",
      "Segment shape after processing: torch.Size([3, 16, 320, 240])\n",
      "Segment shape before processing: torch.Size([3, 16, 320, 240])\n",
      "Segment shape after processing: torch.Size([3, 16, 320, 240])\n",
      "Segment shape before processing: torch.Size([3, 16, 320, 240])\n",
      "Segment shape after processing: torch.Size([3, 16, 320, 240])\n",
      "Segment shape before processing: torch.Size([3, 16, 320, 240])\n",
      "Segment shape after processing: torch.Size([3, 16, 320, 240])\n",
      "Segment shape before processing: torch.Size([3, 16, 320, 240])\n",
      "Segment shape after processing: torch.Size([3, 16, 320, 240])\n",
      "Segment shape before processing: torch.Size([3, 16, 320, 240])\n",
      "Segment shape after processing: torch.Size([3, 16, 320, 240])\n",
      "Segment shape before processing: torch.Size([3, 16, 320, 240])\n",
      "Segment shape after processing: torch.Size([3, 16, 320, 240])\n",
      "Segment shape before processing: torch.Size([3, 16, 320, 240])\n",
      "Segment shape after processing: torch.Size([3, 16, 320, 240])\n",
      "Segment shape before processing: torch.Size([3, 16, 320, 240])\n",
      "Segment shape after processing: torch.Size([3, 16, 320, 240])\n",
      "Segment shape before processing: torch.Size([3, 16, 320, 240])\n",
      "Segment shape after processing: torch.Size([3, 16, 320, 240])\n",
      "Segment shape before processing: torch.Size([3, 16, 320, 240])\n",
      "Segment shape after processing: torch.Size([3, 16, 320, 240])\n",
      "Segment shape before processing: torch.Size([3, 16, 320, 240])\n",
      "Segment shape after processing: torch.Size([3, 16, 320, 240])\n",
      "Segment shape before processing: torch.Size([3, 16, 320, 240])\n",
      "Segment shape after processing: torch.Size([3, 16, 320, 240])\n",
      "Segment shape before processing: torch.Size([3, 16, 320, 240])\n",
      "Segment shape after processing: torch.Size([3, 16, 320, 240])\n",
      "Segment shape before processing: torch.Size([3, 16, 320, 240])\n",
      "Segment shape after processing: torch.Size([3, 16, 320, 240])\n",
      "Segment shape before processing: torch.Size([3, 16, 320, 240])\n",
      "Segment shape after processing: torch.Size([3, 16, 320, 240])\n",
      "Segment shape before processing: torch.Size([3, 16, 320, 240])\n",
      "Segment shape after processing: torch.Size([3, 16, 320, 240])\n",
      "Segment shape before processing: torch.Size([3, 16, 320, 240])\n",
      "Segment shape after processing: torch.Size([3, 16, 320, 240])\n",
      "Segment shape before processing: torch.Size([3, 16, 320, 240])\n",
      "Segment shape after processing: torch.Size([3, 16, 320, 240])\n",
      "Segment shape before processing: torch.Size([3, 16, 320, 240])\n",
      "Segment shape after processing: torch.Size([3, 16, 320, 240])\n",
      "Segment shape before processing: torch.Size([3, 16, 320, 240])\n",
      "Segment shape after processing: torch.Size([3, 16, 320, 240])\n",
      "Segment shape before processing: torch.Size([3, 16, 320, 240])\n",
      "Segment shape after processing: torch.Size([3, 16, 320, 240])\n",
      "Segment shape before processing: torch.Size([3, 16, 320, 240])\n",
      "Segment shape after processing: torch.Size([3, 16, 320, 240])\n",
      "Segment shape before processing: torch.Size([3, 16, 320, 240])\n",
      "Segment shape after processing: torch.Size([3, 16, 320, 240])\n",
      "Segment shape before processing: torch.Size([3, 16, 320, 240])\n",
      "Segment shape after processing: torch.Size([3, 16, 320, 240])\n",
      "Segment shape before processing: torch.Size([3, 16, 320, 240])\n",
      "Segment shape after processing: torch.Size([3, 16, 320, 240])\n",
      "Segment shape before processing: torch.Size([3, 16, 320, 240])\n",
      "Segment shape after processing: torch.Size([3, 16, 320, 240])\n",
      "Segment shape before processing: torch.Size([3, 16, 320, 240])\n",
      "Segment shape after processing: torch.Size([3, 16, 320, 240])\n",
      "Segment shape before processing: torch.Size([3, 16, 320, 240])\n",
      "Segment shape after processing: torch.Size([3, 16, 320, 240])\n",
      "Segment shape before processing: torch.Size([3, 16, 320, 240])\n",
      "Segment shape after processing: torch.Size([3, 16, 320, 240])\n",
      "Segment shape before processing: torch.Size([3, 16, 320, 240])\n",
      "Segment shape after processing: torch.Size([3, 16, 320, 240])\n",
      "Segment shape before processing: torch.Size([3, 16, 320, 240])\n",
      "Segment shape after processing: torch.Size([3, 16, 320, 240])\n",
      "Segment shape before processing: torch.Size([3, 16, 320, 240])\n",
      "Segment shape after processing: torch.Size([3, 16, 320, 240])\n",
      "Segment shape before processing: torch.Size([3, 16, 320, 240])\n",
      "Segment shape after processing: torch.Size([3, 16, 320, 240])\n",
      "Segment shape before processing: torch.Size([3, 16, 320, 240])\n",
      "Segment shape after processing: torch.Size([3, 16, 320, 240])\n",
      "Segment shape before processing: torch.Size([3, 16, 320, 240])\n",
      "Segment shape after processing: torch.Size([3, 16, 320, 240])\n",
      "Segment shape before processing: torch.Size([3, 16, 320, 240])\n",
      "Segment shape after processing: torch.Size([3, 16, 320, 240])\n",
      "Segment shape before processing: torch.Size([3, 16, 320, 240])\n",
      "Segment shape after processing: torch.Size([3, 16, 320, 240])\n",
      "Segment shape before processing: torch.Size([3, 16, 320, 240])\n",
      "Segment shape after processing: torch.Size([3, 16, 320, 240])\n",
      "Segment shape before processing: torch.Size([3, 16, 320, 240])\n",
      "Segment shape after processing: torch.Size([3, 16, 320, 240])\n",
      "Segment shape before processing: torch.Size([3, 16, 320, 240])\n",
      "Segment shape after processing: torch.Size([3, 16, 320, 240])\n",
      "Segment shape before processing: torch.Size([3, 16, 320, 240])\n",
      "Segment shape after processing: torch.Size([3, 16, 320, 240])\n",
      "Segment shape before processing: torch.Size([3, 16, 320, 240])\n",
      "Segment shape after processing: torch.Size([3, 16, 320, 240])\n",
      "Segment shape before processing: torch.Size([3, 16, 320, 240])\n",
      "Segment shape after processing: torch.Size([3, 16, 320, 240])\n",
      "Segment shape before processing: torch.Size([3, 16, 320, 240])\n",
      "Segment shape after processing: torch.Size([3, 16, 320, 240])\n",
      "Segment shape before processing: torch.Size([3, 16, 320, 240])\n",
      "Segment shape after processing: torch.Size([3, 16, 320, 240])\n",
      "Segment shape before processing: torch.Size([3, 16, 320, 240])\n",
      "Segment shape after processing: torch.Size([3, 16, 320, 240])\n",
      "Segment shape before processing: torch.Size([3, 16, 320, 240])\n",
      "Segment shape after processing: torch.Size([3, 16, 320, 240])\n",
      "Segment shape before processing: torch.Size([3, 16, 320, 240])\n",
      "Segment shape after processing: torch.Size([3, 16, 320, 240])\n",
      "Segment shape before processing: torch.Size([3, 16, 320, 240])\n",
      "Segment shape after processing: torch.Size([3, 16, 320, 240])\n",
      "Segment shape before processing: torch.Size([3, 16, 320, 240])\n",
      "Segment shape after processing: torch.Size([3, 16, 320, 240])\n",
      "Segment shape before processing: torch.Size([3, 16, 320, 240])\n",
      "Segment shape after processing: torch.Size([3, 16, 320, 240])\n",
      "Segment shape before processing: torch.Size([3, 16, 320, 240])\n",
      "Segment shape after processing: torch.Size([3, 16, 320, 240])\n",
      "Segment shape before processing: torch.Size([3, 16, 320, 240])\n",
      "Segment shape after processing: torch.Size([3, 16, 320, 240])\n",
      "Segment shape before processing: torch.Size([3, 16, 320, 240])\n",
      "Segment shape after processing: torch.Size([3, 16, 320, 240])\n",
      "Segment shape before processing: torch.Size([3, 16, 320, 240])\n",
      "Segment shape after processing: torch.Size([3, 16, 320, 240])\n",
      "Segment shape before processing: torch.Size([3, 16, 320, 240])\n",
      "Segment shape after processing: torch.Size([3, 16, 320, 240])\n",
      "Segment shape before processing: torch.Size([3, 16, 320, 240])\n",
      "Segment shape after processing: torch.Size([3, 16, 320, 240])\n",
      "Segment shape before processing: torch.Size([3, 16, 320, 240])\n",
      "Segment shape after processing: torch.Size([3, 16, 320, 240])\n",
      "Segment shape before processing: torch.Size([3, 16, 320, 240])\n",
      "Segment shape after processing: torch.Size([3, 16, 320, 240])\n",
      "Segment shape before processing: torch.Size([3, 16, 320, 240])\n",
      "Segment shape after processing: torch.Size([3, 16, 320, 240])\n",
      "Segment shape before processing: torch.Size([3, 16, 320, 240])\n",
      "Segment shape after processing: torch.Size([3, 16, 320, 240])\n",
      "Segment shape before processing: torch.Size([3, 16, 320, 240])\n",
      "Segment shape after processing: torch.Size([3, 16, 320, 240])\n",
      "Segment shape before processing: torch.Size([3, 16, 320, 240])\n",
      "Segment shape after processing: torch.Size([3, 16, 320, 240])\n",
      "Segment shape before processing: torch.Size([3, 16, 320, 240])\n",
      "Segment shape after processing: torch.Size([3, 16, 320, 240])\n",
      "Segment shape before processing: torch.Size([3, 16, 320, 240])\n",
      "Segment shape after processing: torch.Size([3, 16, 320, 240])\n",
      "Segment shape before processing: torch.Size([3, 16, 320, 240])\n",
      "Segment shape after processing: torch.Size([3, 16, 320, 240])\n",
      "Segment shape before processing: torch.Size([3, 16, 320, 240])\n",
      "Segment shape after processing: torch.Size([3, 16, 320, 240])\n",
      "Segment shape before processing: torch.Size([3, 16, 320, 240])\n",
      "Segment shape after processing: torch.Size([3, 16, 320, 240])\n",
      "Segment shape before processing: torch.Size([3, 16, 320, 240])\n",
      "Segment shape after processing: torch.Size([3, 16, 320, 240])\n",
      "Segment shape before processing: torch.Size([3, 16, 320, 240])\n",
      "Segment shape after processing: torch.Size([3, 16, 320, 240])\n",
      "Segment shape before processing: torch.Size([3, 16, 320, 240])\n",
      "Segment shape after processing: torch.Size([3, 16, 320, 240])\n",
      "Segment shape before processing: torch.Size([3, 16, 320, 240])\n",
      "Segment shape after processing: torch.Size([3, 16, 320, 240])\n",
      "Segment shape before processing: torch.Size([3, 16, 320, 240])\n",
      "Segment shape after processing: torch.Size([3, 16, 320, 240])\n",
      "Segment shape before processing: torch.Size([3, 16, 320, 240])\n",
      "Segment shape after processing: torch.Size([3, 16, 320, 240])\n",
      "Segment shape before processing: torch.Size([3, 16, 320, 240])\n",
      "Segment shape after processing: torch.Size([3, 16, 320, 240])\n",
      "Segment shape before processing: torch.Size([3, 16, 320, 240])\n",
      "Segment shape after processing: torch.Size([3, 16, 320, 240])\n",
      "Segment shape before processing: torch.Size([3, 16, 320, 240])\n",
      "Segment shape after processing: torch.Size([3, 16, 320, 240])\n",
      "Segment shape before processing: torch.Size([3, 16, 320, 240])\n",
      "Segment shape after processing: torch.Size([3, 16, 320, 240])\n",
      "Segment shape before processing: torch.Size([3, 16, 320, 240])\n",
      "Segment shape after processing: torch.Size([3, 16, 320, 240])\n",
      "Segment shape before processing: torch.Size([3, 16, 320, 240])\n",
      "Segment shape after processing: torch.Size([3, 16, 320, 240])\n",
      "Segment shape before processing: torch.Size([3, 16, 320, 240])\n",
      "Segment shape after processing: torch.Size([3, 16, 320, 240])\n",
      "Segment shape before processing: torch.Size([3, 16, 320, 240])\n",
      "Segment shape after processing: torch.Size([3, 16, 320, 240])\n",
      "Segment shape before processing: torch.Size([3, 16, 320, 240])\n",
      "Segment shape after processing: torch.Size([3, 16, 320, 240])\n",
      "Segment shape before processing: torch.Size([3, 16, 320, 240])\n",
      "Segment shape after processing: torch.Size([3, 16, 320, 240])\n",
      "Segment shape before processing: torch.Size([3, 16, 320, 240])\n",
      "Segment shape after processing: torch.Size([3, 16, 320, 240])\n",
      "Segment shape before processing: torch.Size([3, 16, 320, 240])\n",
      "Segment shape after processing: torch.Size([3, 16, 320, 240])\n",
      "Segment shape before processing: torch.Size([3, 16, 320, 240])\n",
      "Segment shape after processing: torch.Size([3, 16, 320, 240])\n",
      "Segment shape before processing: torch.Size([3, 16, 320, 240])\n",
      "Segment shape after processing: torch.Size([3, 16, 320, 240])\n",
      "Segment shape before processing: torch.Size([3, 16, 320, 240])\n",
      "Segment shape after processing: torch.Size([3, 16, 320, 240])\n",
      "Segment shape before processing: torch.Size([3, 16, 320, 240])\n",
      "Segment shape after processing: torch.Size([3, 16, 320, 240])\n",
      "Segment shape before processing: torch.Size([3, 16, 320, 240])\n",
      "Segment shape after processing: torch.Size([3, 16, 320, 240])\n",
      "Segment shape before processing: torch.Size([3, 16, 320, 240])\n",
      "Segment shape after processing: torch.Size([3, 16, 320, 240])\n",
      "Segment shape before processing: torch.Size([3, 16, 320, 240])\n",
      "Segment shape after processing: torch.Size([3, 16, 320, 240])\n",
      "Segment shape before processing: torch.Size([3, 16, 320, 240])\n",
      "Segment shape after processing: torch.Size([3, 16, 320, 240])\n",
      "Segment shape before processing: torch.Size([3, 16, 320, 240])\n",
      "Segment shape after processing: torch.Size([3, 16, 320, 240])\n",
      "Segment shape before processing: torch.Size([3, 16, 320, 240])\n",
      "Segment shape after processing: torch.Size([3, 16, 320, 240])\n",
      "Segment shape before processing: torch.Size([3, 16, 320, 240])\n",
      "Segment shape after processing: torch.Size([3, 16, 320, 240])\n",
      "Segment shape before processing: torch.Size([3, 16, 320, 240])\n",
      "Segment shape after processing: torch.Size([3, 16, 320, 240])\n",
      "Segment shape before processing: torch.Size([3, 16, 320, 240])\n",
      "Segment shape after processing: torch.Size([3, 16, 320, 240])\n",
      "Segment shape before processing: torch.Size([3, 16, 320, 240])\n",
      "Segment shape after processing: torch.Size([3, 16, 320, 240])\n",
      "Segment shape before processing: torch.Size([3, 16, 320, 240])\n",
      "Segment shape after processing: torch.Size([3, 16, 320, 240])\n",
      "Segment shape before processing: torch.Size([3, 16, 320, 240])\n",
      "Segment shape after processing: torch.Size([3, 16, 320, 240])\n",
      "Segment shape before processing: torch.Size([3, 16, 320, 240])\n",
      "Segment shape after processing: torch.Size([3, 16, 320, 240])\n",
      "Segment shape before processing: torch.Size([3, 16, 320, 240])\n",
      "Segment shape after processing: torch.Size([3, 16, 320, 240])\n",
      "Segment shape before processing: torch.Size([3, 16, 320, 240])\n",
      "Segment shape after processing: torch.Size([3, 16, 320, 240])\n",
      "Segment shape before processing: torch.Size([3, 16, 320, 240])\n",
      "Segment shape after processing: torch.Size([3, 16, 320, 240])\n",
      "Segment shape before processing: torch.Size([3, 16, 320, 240])\n",
      "Segment shape after processing: torch.Size([3, 16, 320, 240])\n",
      "Segment shape before processing: torch.Size([3, 16, 320, 240])\n",
      "Segment shape after processing: torch.Size([3, 16, 320, 240])\n",
      "Segment shape before processing: torch.Size([3, 16, 320, 240])\n",
      "Segment shape after processing: torch.Size([3, 16, 320, 240])\n",
      "Segment shape before processing: torch.Size([3, 16, 320, 240])\n",
      "Segment shape after processing: torch.Size([3, 16, 320, 240])\n",
      "Segment shape before processing: torch.Size([3, 16, 320, 240])\n",
      "Segment shape after processing: torch.Size([3, 16, 320, 240])\n",
      "Segment shape before processing: torch.Size([3, 16, 320, 240])\n",
      "Segment shape after processing: torch.Size([3, 16, 320, 240])\n",
      "Segment shape before processing: torch.Size([3, 16, 320, 240])\n",
      "Segment shape after processing: torch.Size([3, 16, 320, 240])\n",
      "Segment shape before processing: torch.Size([3, 16, 320, 240])\n",
      "Segment shape after processing: torch.Size([3, 16, 320, 240])\n",
      "Segment shape before processing: torch.Size([3, 16, 320, 240])\n",
      "Segment shape after processing: torch.Size([3, 16, 320, 240])\n",
      "Segment shape before processing: torch.Size([3, 16, 320, 240])\n",
      "Segment shape after processing: torch.Size([3, 16, 320, 240])\n",
      "Segment shape before processing: torch.Size([3, 16, 320, 240])\n",
      "Segment shape after processing: torch.Size([3, 16, 320, 240])\n",
      "Segment shape before processing: torch.Size([3, 16, 320, 240])\n",
      "Segment shape after processing: torch.Size([3, 16, 320, 240])\n",
      "Segment shape before processing: torch.Size([3, 16, 320, 240])\n",
      "Segment shape after processing: torch.Size([3, 16, 320, 240])\n",
      "Segment shape before processing: torch.Size([3, 16, 320, 240])\n",
      "Segment shape after processing: torch.Size([3, 16, 320, 240])\n",
      "Segment shape before processing: torch.Size([3, 16, 320, 240])\n",
      "Segment shape after processing: torch.Size([3, 16, 320, 240])\n",
      "Segment shape before processing: torch.Size([3, 16, 320, 240])\n",
      "Segment shape after processing: torch.Size([3, 16, 320, 240])\n",
      "Segment shape before processing: torch.Size([3, 16, 320, 240])\n",
      "Segment shape after processing: torch.Size([3, 16, 320, 240])\n",
      "Segment shape before processing: torch.Size([3, 16, 320, 240])\n",
      "Segment shape after processing: torch.Size([3, 16, 320, 240])\n",
      "Segment shape before processing: torch.Size([3, 16, 320, 240])\n",
      "Segment shape after processing: torch.Size([3, 16, 320, 240])\n",
      "Segment shape before processing: torch.Size([3, 16, 320, 240])\n",
      "Segment shape after processing: torch.Size([3, 16, 320, 240])\n",
      "Segment shape before processing: torch.Size([3, 16, 320, 240])\n",
      "Segment shape after processing: torch.Size([3, 16, 320, 240])\n",
      "Segment shape before processing: torch.Size([3, 16, 320, 240])\n",
      "Segment shape after processing: torch.Size([3, 16, 320, 240])\n",
      "Segment shape before processing: torch.Size([3, 16, 320, 240])\n",
      "Segment shape after processing: torch.Size([3, 16, 320, 240])\n",
      "Segment shape before processing: torch.Size([3, 16, 320, 240])\n",
      "Segment shape after processing: torch.Size([3, 16, 320, 240])\n",
      "Segment shape before processing: torch.Size([3, 16, 320, 240])\n",
      "Segment shape after processing: torch.Size([3, 16, 320, 240])\n",
      "Segment shape before processing: torch.Size([3, 16, 320, 240])\n",
      "Segment shape after processing: torch.Size([3, 16, 320, 240])\n",
      "Segment shape before processing: torch.Size([3, 16, 320, 240])\n",
      "Segment shape after processing: torch.Size([3, 16, 320, 240])\n",
      "Segment shape before processing: torch.Size([3, 16, 320, 240])\n",
      "Segment shape after processing: torch.Size([3, 16, 320, 240])\n",
      "Segment shape before processing: torch.Size([3, 16, 320, 240])\n",
      "Segment shape after processing: torch.Size([3, 16, 320, 240])\n",
      "Segment shape before processing: torch.Size([3, 16, 320, 240])\n",
      "Segment shape after processing: torch.Size([3, 16, 320, 240])\n",
      "Segment shape before processing: torch.Size([3, 16, 320, 240])\n",
      "Segment shape after processing: torch.Size([3, 16, 320, 240])\n",
      "Segment shape before processing: torch.Size([3, 16, 320, 240])\n",
      "Segment shape after processing: torch.Size([3, 16, 320, 240])\n",
      "Segment shape before processing: torch.Size([3, 16, 320, 240])\n",
      "Segment shape after processing: torch.Size([3, 16, 320, 240])\n",
      "Segment shape before processing: torch.Size([3, 16, 320, 240])\n",
      "Segment shape after processing: torch.Size([3, 16, 320, 240])\n",
      "Segment shape before processing: torch.Size([3, 16, 320, 240])\n",
      "Segment shape after processing: torch.Size([3, 16, 320, 240])\n",
      "Segment shape before processing: torch.Size([3, 16, 320, 240])\n",
      "Segment shape after processing: torch.Size([3, 16, 320, 240])\n",
      "Segment shape before processing: torch.Size([3, 16, 320, 240])\n",
      "Segment shape after processing: torch.Size([3, 16, 320, 240])\n",
      "Segment shape before processing: torch.Size([3, 16, 320, 240])\n",
      "Segment shape after processing: torch.Size([3, 16, 320, 240])\n",
      "Segment shape before processing: torch.Size([3, 16, 320, 240])\n",
      "Segment shape after processing: torch.Size([3, 16, 320, 240])\n",
      "Segment shape before processing: torch.Size([3, 16, 320, 240])\n",
      "Segment shape after processing: torch.Size([3, 16, 320, 240])\n",
      "Segment shape before processing: torch.Size([3, 16, 320, 240])\n",
      "Segment shape after processing: torch.Size([3, 16, 320, 240])\n",
      "Segment shape before processing: torch.Size([3, 16, 320, 240])\n",
      "Segment shape after processing: torch.Size([3, 16, 320, 240])\n",
      "Segment shape before processing: torch.Size([3, 16, 320, 240])\n",
      "Segment shape after processing: torch.Size([3, 16, 320, 240])\n",
      "Segment shape before processing: torch.Size([3, 16, 320, 240])\n",
      "Segment shape after processing: torch.Size([3, 16, 320, 240])\n",
      "Segment shape before processing: torch.Size([3, 16, 320, 240])\n",
      "Segment shape after processing: torch.Size([3, 16, 320, 240])\n",
      "Segment shape before processing: torch.Size([3, 16, 320, 240])\n",
      "Segment shape after processing: torch.Size([3, 16, 320, 240])\n",
      "Segment shape before processing: torch.Size([3, 16, 320, 240])\n",
      "Segment shape after processing: torch.Size([3, 16, 320, 240])\n",
      "Segment shape before processing: torch.Size([3, 16, 320, 240])\n",
      "Segment shape after processing: torch.Size([3, 16, 320, 240])\n",
      "Segment shape before processing: torch.Size([3, 16, 320, 240])\n",
      "Segment shape after processing: torch.Size([3, 16, 320, 240])\n",
      "Segment shape before processing: torch.Size([3, 16, 320, 240])\n",
      "Segment shape after processing: torch.Size([3, 16, 320, 240])\n",
      "Segment shape before processing: torch.Size([3, 16, 320, 240])\n",
      "Segment shape after processing: torch.Size([3, 16, 320, 240])\n",
      "Segment shape before processing: torch.Size([3, 16, 320, 240])\n",
      "Segment shape after processing: torch.Size([3, 16, 320, 240])\n",
      "Segment shape before processing: torch.Size([3, 16, 320, 240])\n",
      "Segment shape after processing: torch.Size([3, 16, 320, 240])\n",
      "Segment shape before processing: torch.Size([3, 16, 320, 240])\n",
      "Segment shape after processing: torch.Size([3, 16, 320, 240])\n",
      "Segment shape before processing: torch.Size([3, 16, 320, 240])\n",
      "Segment shape after processing: torch.Size([3, 16, 320, 240])\n",
      "Segment shape before processing: torch.Size([3, 16, 320, 240])\n",
      "Segment shape after processing: torch.Size([3, 16, 320, 240])\n",
      "Segment shape before processing: torch.Size([3, 16, 320, 240])\n",
      "Segment shape after processing: torch.Size([3, 16, 320, 240])\n",
      "Segment shape before processing: torch.Size([3, 16, 320, 240])\n",
      "Segment shape after processing: torch.Size([3, 16, 320, 240])\n",
      "Segment shape before processing: torch.Size([3, 16, 320, 240])\n",
      "Segment shape after processing: torch.Size([3, 16, 320, 240])\n",
      "Segment shape before processing: torch.Size([3, 16, 320, 240])\n",
      "Segment shape after processing: torch.Size([3, 16, 320, 240])\n",
      "Segment shape before processing: torch.Size([3, 16, 320, 240])\n",
      "Segment shape after processing: torch.Size([3, 16, 320, 240])\n",
      "Segment shape before processing: torch.Size([3, 16, 320, 240])\n",
      "Segment shape after processing: torch.Size([3, 16, 320, 240])\n",
      "Segment shape before processing: torch.Size([3, 16, 320, 240])\n",
      "Segment shape after processing: torch.Size([3, 16, 320, 240])\n",
      "Segment shape before processing: torch.Size([3, 16, 320, 240])\n",
      "Segment shape after processing: torch.Size([3, 16, 320, 240])\n",
      "Segment shape before processing: torch.Size([3, 16, 320, 240])\n",
      "Segment shape after processing: torch.Size([3, 16, 320, 240])\n",
      "Segment shape before processing: torch.Size([3, 16, 320, 240])\n",
      "Segment shape after processing: torch.Size([3, 16, 320, 240])\n",
      "Segment shape before processing: torch.Size([3, 16, 320, 240])\n",
      "Segment shape after processing: torch.Size([3, 16, 320, 240])\n",
      "Segment shape before processing: torch.Size([3, 16, 320, 240])\n",
      "Segment shape after processing: torch.Size([3, 16, 320, 240])\n",
      "Segment shape before processing: torch.Size([3, 16, 320, 240])\n",
      "Segment shape after processing: torch.Size([3, 16, 320, 240])\n",
      "Segment shape before processing: torch.Size([3, 16, 320, 240])\n",
      "Segment shape after processing: torch.Size([3, 16, 320, 240])\n",
      "Segment shape before processing: torch.Size([3, 16, 320, 240])\n",
      "Segment shape after processing: torch.Size([3, 16, 320, 240])\n",
      "Segment shape before processing: torch.Size([3, 16, 320, 240])\n",
      "Segment shape after processing: torch.Size([3, 16, 320, 240])\n",
      "Segment shape before processing: torch.Size([3, 16, 320, 240])\n",
      "Segment shape after processing: torch.Size([3, 16, 320, 240])\n",
      "Segment shape before processing: torch.Size([3, 16, 320, 240])\n",
      "Segment shape after processing: torch.Size([3, 16, 320, 240])\n",
      "Segment shape before processing: torch.Size([3, 16, 320, 240])\n",
      "Segment shape after processing: torch.Size([3, 16, 320, 240])\n",
      "Segment shape before processing: torch.Size([3, 16, 320, 240])\n",
      "Segment shape after processing: torch.Size([3, 16, 320, 240])\n",
      "Segment shape before processing: torch.Size([3, 16, 320, 240])\n",
      "Segment shape after processing: torch.Size([3, 16, 320, 240])\n",
      "Segment shape before processing: torch.Size([3, 16, 320, 240])\n",
      "Segment shape after processing: torch.Size([3, 16, 320, 240])\n",
      "Segment shape before processing: torch.Size([3, 16, 320, 240])\n",
      "Segment shape after processing: torch.Size([3, 16, 320, 240])\n",
      "Segment shape before processing: torch.Size([3, 16, 320, 240])\n",
      "Segment shape after processing: torch.Size([3, 16, 320, 240])\n",
      "Segment shape before processing: torch.Size([3, 16, 320, 240])\n",
      "Segment shape after processing: torch.Size([3, 16, 320, 240])\n",
      "Segment shape before processing: torch.Size([3, 16, 320, 240])\n",
      "Segment shape after processing: torch.Size([3, 16, 320, 240])\n",
      "Segment shape before processing: torch.Size([3, 16, 320, 240])\n",
      "Segment shape after processing: torch.Size([3, 16, 320, 240])\n",
      "Segment shape before processing: torch.Size([3, 16, 320, 240])\n",
      "Segment shape after processing: torch.Size([3, 16, 320, 240])\n",
      "Segment shape before processing: torch.Size([3, 16, 320, 240])\n",
      "Segment shape after processing: torch.Size([3, 16, 320, 240])\n",
      "Segment shape before processing: torch.Size([3, 16, 320, 240])\n",
      "Segment shape after processing: torch.Size([3, 16, 320, 240])\n",
      "Segment shape before processing: torch.Size([3, 16, 320, 240])\n",
      "Segment shape after processing: torch.Size([3, 16, 320, 240])\n",
      "Segment shape before processing: torch.Size([3, 16, 320, 240])\n",
      "Segment shape after processing: torch.Size([3, 16, 320, 240])\n",
      "Segment shape before processing: torch.Size([3, 16, 320, 240])\n",
      "Segment shape after processing: torch.Size([3, 16, 320, 240])\n",
      "Segment shape before processing: torch.Size([3, 16, 320, 240])\n",
      "Segment shape after processing: torch.Size([3, 16, 320, 240])\n",
      "Segment shape before processing: torch.Size([3, 16, 320, 240])\n",
      "Segment shape after processing: torch.Size([3, 16, 320, 240])\n",
      "Segment shape before processing: torch.Size([3, 16, 320, 240])\n",
      "Segment shape after processing: torch.Size([3, 16, 320, 240])\n",
      "Segment shape before processing: torch.Size([3, 16, 320, 240])\n",
      "Segment shape after processing: torch.Size([3, 16, 320, 240])\n",
      "Segment shape before processing: torch.Size([3, 16, 320, 240])\n",
      "Segment shape after processing: torch.Size([3, 16, 320, 240])\n",
      "Segment shape before processing: torch.Size([3, 16, 320, 240])\n",
      "Segment shape after processing: torch.Size([3, 16, 320, 240])\n",
      "Segment shape before processing: torch.Size([3, 16, 320, 240])\n",
      "Segment shape after processing: torch.Size([3, 16, 320, 240])\n",
      "Segment shape before processing: torch.Size([3, 16, 320, 240])\n",
      "Segment shape after processing: torch.Size([3, 16, 320, 240])\n",
      "Segment shape before processing: torch.Size([3, 16, 320, 240])\n",
      "Segment shape after processing: torch.Size([3, 16, 320, 240])\n",
      "Segment shape before processing: torch.Size([3, 16, 320, 240])\n",
      "Segment shape after processing: torch.Size([3, 16, 320, 240])\n",
      "Segment shape before processing: torch.Size([3, 16, 320, 240])\n",
      "Segment shape after processing: torch.Size([3, 16, 320, 240])\n",
      "Segment shape before processing: torch.Size([3, 16, 320, 240])\n",
      "Segment shape after processing: torch.Size([3, 16, 320, 240])\n",
      "Segment shape before processing: torch.Size([3, 16, 320, 240])\n",
      "Segment shape after processing: torch.Size([3, 16, 320, 240])\n",
      "Segment shape before processing: torch.Size([3, 16, 320, 240])\n",
      "Segment shape after processing: torch.Size([3, 16, 320, 240])\n",
      "Segment shape before processing: torch.Size([3, 16, 320, 240])\n",
      "Segment shape after processing: torch.Size([3, 16, 320, 240])\n",
      "Segment shape before processing: torch.Size([3, 16, 320, 240])\n",
      "Segment shape after processing: torch.Size([3, 16, 320, 240])\n",
      "Segment shape before processing: torch.Size([3, 16, 320, 240])\n",
      "Segment shape after processing: torch.Size([3, 16, 320, 240])\n",
      "Segment shape before processing: torch.Size([3, 16, 320, 240])\n",
      "Segment shape after processing: torch.Size([3, 16, 320, 240])\n",
      "Segment shape before processing: torch.Size([3, 16, 320, 240])\n",
      "Segment shape after processing: torch.Size([3, 16, 320, 240])\n",
      "Segment shape before processing: torch.Size([3, 16, 320, 240])\n",
      "Segment shape after processing: torch.Size([3, 16, 320, 240])\n",
      "Segment shape before processing: torch.Size([3, 16, 320, 240])\n",
      "Segment shape after processing: torch.Size([3, 16, 320, 240])\n",
      "Segment shape before processing: torch.Size([3, 16, 320, 240])\n",
      "Segment shape after processing: torch.Size([3, 16, 320, 240])\n",
      "Segment shape before processing: torch.Size([3, 16, 320, 240])\n",
      "Segment shape after processing: torch.Size([3, 16, 320, 240])\n",
      "Segment shape before processing: torch.Size([3, 16, 320, 240])\n",
      "Segment shape after processing: torch.Size([3, 16, 320, 240])\n",
      "Segment shape before processing: torch.Size([3, 16, 320, 240])\n",
      "Segment shape after processing: torch.Size([3, 16, 320, 240])\n",
      "Segment shape before processing: torch.Size([3, 16, 320, 240])\n",
      "Segment shape after processing: torch.Size([3, 16, 320, 240])\n",
      "Segment shape before processing: torch.Size([3, 16, 320, 240])\n",
      "Segment shape after processing: torch.Size([3, 16, 320, 240])\n",
      "Segment shape before processing: torch.Size([3, 16, 320, 240])\n",
      "Segment shape after processing: torch.Size([3, 16, 320, 240])\n",
      "Segment shape before processing: torch.Size([3, 16, 320, 240])\n",
      "Segment shape after processing: torch.Size([3, 16, 320, 240])\n",
      "Segment shape before processing: torch.Size([3, 16, 320, 240])\n",
      "Segment shape after processing: torch.Size([3, 16, 320, 240])\n",
      "Segment shape before processing: torch.Size([3, 16, 320, 240])\n",
      "Segment shape after processing: torch.Size([3, 16, 320, 240])\n",
      "Segment shape before processing: torch.Size([3, 16, 320, 240])\n",
      "Segment shape after processing: torch.Size([3, 16, 320, 240])\n",
      "Segment shape before processing: torch.Size([3, 16, 320, 240])\n",
      "Segment shape after processing: torch.Size([3, 16, 320, 240])\n",
      "Segment shape before processing: torch.Size([3, 16, 320, 240])\n",
      "Segment shape after processing: torch.Size([3, 16, 320, 240])\n",
      "Segment shape before processing: torch.Size([3, 16, 320, 240])\n",
      "Segment shape after processing: torch.Size([3, 16, 320, 240])\n",
      "Segment shape before processing: torch.Size([3, 16, 320, 240])\n",
      "Segment shape after processing: torch.Size([3, 16, 320, 240])\n",
      "Segment shape before processing: torch.Size([3, 16, 320, 240])\n",
      "Segment shape after processing: torch.Size([3, 16, 320, 240])\n",
      "Segment shape before processing: torch.Size([3, 16, 320, 240])\n",
      "Segment shape after processing: torch.Size([3, 16, 320, 240])\n",
      "Segment shape before processing: torch.Size([3, 16, 320, 240])\n",
      "Segment shape after processing: torch.Size([3, 16, 320, 240])\n",
      "Segment shape before processing: torch.Size([3, 16, 320, 240])\n",
      "Segment shape after processing: torch.Size([3, 16, 320, 240])\n",
      "Segment shape before processing: torch.Size([3, 16, 320, 240])\n",
      "Segment shape after processing: torch.Size([3, 16, 320, 240])\n",
      "Segment shape before processing: torch.Size([3, 16, 320, 240])\n",
      "Segment shape after processing: torch.Size([3, 16, 320, 240])\n",
      "Segment shape before processing: torch.Size([3, 16, 320, 240])\n",
      "Segment shape after processing: torch.Size([3, 16, 320, 240])\n",
      "Segment shape before processing: torch.Size([3, 16, 320, 240])\n",
      "Segment shape after processing: torch.Size([3, 16, 320, 240])\n",
      "Segment shape before processing: torch.Size([3, 16, 320, 240])\n",
      "Segment shape after processing: torch.Size([3, 16, 320, 240])\n",
      "Segment shape before processing: torch.Size([3, 16, 320, 240])\n",
      "Segment shape after processing: torch.Size([3, 16, 320, 240])\n",
      "Segment shape before processing: torch.Size([3, 16, 320, 240])\n",
      "Segment shape after processing: torch.Size([3, 16, 320, 240])\n",
      "Segment shape before processing: torch.Size([3, 16, 320, 240])\n",
      "Segment shape after processing: torch.Size([3, 16, 320, 240])\n",
      "Segment shape before processing: torch.Size([3, 16, 320, 240])\n",
      "Segment shape after processing: torch.Size([3, 16, 320, 240])\n",
      "Segment shape before processing: torch.Size([3, 16, 320, 240])\n",
      "Segment shape after processing: torch.Size([3, 16, 320, 240])\n",
      "Segment shape before processing: torch.Size([3, 16, 320, 240])\n",
      "Segment shape after processing: torch.Size([3, 16, 320, 240])\n",
      "Segment shape before processing: torch.Size([3, 16, 320, 240])\n",
      "Segment shape after processing: torch.Size([3, 16, 320, 240])\n",
      "Segment shape before processing: torch.Size([3, 16, 320, 240])\n",
      "Segment shape after processing: torch.Size([3, 16, 320, 240])\n",
      "Segment shape before processing: torch.Size([3, 16, 320, 240])\n",
      "Segment shape after processing: torch.Size([3, 16, 320, 240])\n",
      "Segment shape before processing: torch.Size([3, 16, 320, 240])\n",
      "Segment shape after processing: torch.Size([3, 16, 320, 240])\n",
      "Segment shape before processing: torch.Size([3, 16, 320, 240])\n",
      "Segment shape after processing: torch.Size([3, 16, 320, 240])\n",
      "Segment shape before processing: torch.Size([3, 16, 320, 240])\n",
      "Segment shape after processing: torch.Size([3, 16, 320, 240])\n",
      "Segment shape before processing: torch.Size([3, 16, 320, 240])\n",
      "Segment shape after processing: torch.Size([3, 16, 320, 240])\n",
      "Segment shape before processing: torch.Size([3, 16, 320, 240])\n",
      "Segment shape after processing: torch.Size([3, 16, 320, 240])\n",
      "Segment shape before processing: torch.Size([3, 16, 320, 240])\n",
      "Segment shape after processing: torch.Size([3, 16, 320, 240])\n",
      "Segment shape before processing: torch.Size([3, 16, 320, 240])\n",
      "Segment shape after processing: torch.Size([3, 16, 320, 240])\n",
      "Segment shape before processing: torch.Size([3, 16, 320, 240])\n",
      "Segment shape after processing: torch.Size([3, 16, 320, 240])\n",
      "Segment shape before processing: torch.Size([3, 16, 320, 240])\n",
      "Segment shape after processing: torch.Size([3, 16, 320, 240])\n",
      "Segment shape before processing: torch.Size([3, 16, 320, 240])\n",
      "Segment shape after processing: torch.Size([3, 16, 320, 240])\n",
      "Segment shape before processing: torch.Size([3, 16, 320, 240])\n",
      "Segment shape after processing: torch.Size([3, 16, 320, 240])\n",
      "Segment shape before processing: torch.Size([3, 16, 320, 240])\n",
      "Segment shape after processing: torch.Size([3, 16, 320, 240])\n",
      "Segment shape before processing: torch.Size([3, 16, 320, 240])\n",
      "Segment shape after processing: torch.Size([3, 16, 320, 240])\n",
      "Segment shape before processing: torch.Size([3, 16, 320, 240])\n",
      "Segment shape after processing: torch.Size([3, 16, 320, 240])\n",
      "Segment shape before processing: torch.Size([3, 16, 320, 240])\n",
      "Segment shape after processing: torch.Size([3, 16, 320, 240])\n",
      "Segment shape before processing: torch.Size([3, 16, 320, 240])\n",
      "Segment shape after processing: torch.Size([3, 16, 320, 240])\n",
      "Segment shape before processing: torch.Size([3, 16, 320, 240])\n",
      "Segment shape after processing: torch.Size([3, 16, 320, 240])\n",
      "Segment shape before processing: torch.Size([3, 16, 320, 240])\n",
      "Segment shape after processing: torch.Size([3, 16, 320, 240])\n",
      "Segment shape before processing: torch.Size([3, 16, 320, 240])\n",
      "Segment shape after processing: torch.Size([3, 16, 320, 240])\n",
      "Segment shape before processing: torch.Size([3, 16, 320, 240])\n",
      "Segment shape after processing: torch.Size([3, 16, 320, 240])\n",
      "Segment shape before processing: torch.Size([3, 16, 320, 240])\n",
      "Segment shape after processing: torch.Size([3, 16, 320, 240])\n",
      "Segment shape before processing: torch.Size([3, 16, 320, 240])\n",
      "Segment shape after processing: torch.Size([3, 16, 320, 240])\n",
      "Segment shape before processing: torch.Size([3, 16, 320, 240])\n",
      "Segment shape after processing: torch.Size([3, 16, 320, 240])\n",
      "Segment shape before processing: torch.Size([3, 16, 320, 240])\n",
      "Segment shape after processing: torch.Size([3, 16, 320, 240])\n",
      "Segment shape before processing: torch.Size([3, 16, 320, 240])\n",
      "Segment shape after processing: torch.Size([3, 16, 320, 240])\n",
      "Segment shape before processing: torch.Size([3, 16, 320, 240])\n",
      "Segment shape after processing: torch.Size([3, 16, 320, 240])\n",
      "Segment shape before processing: torch.Size([3, 16, 320, 240])\n",
      "Segment shape after processing: torch.Size([3, 16, 320, 240])\n",
      "Segment shape before processing: torch.Size([3, 16, 320, 240])\n",
      "Segment shape after processing: torch.Size([3, 16, 320, 240])\n",
      "Segment shape before processing: torch.Size([3, 16, 320, 240])\n",
      "Segment shape after processing: torch.Size([3, 16, 320, 240])\n",
      "Segment shape before processing: torch.Size([3, 16, 320, 240])\n",
      "Segment shape after processing: torch.Size([3, 16, 320, 240])\n",
      "Segment shape before processing: torch.Size([3, 16, 320, 240])\n",
      "Segment shape after processing: torch.Size([3, 16, 320, 240])\n",
      "Segment shape before processing: torch.Size([3, 16, 320, 240])\n",
      "Segment shape after processing: torch.Size([3, 16, 320, 240])\n",
      "Segment shape before processing: torch.Size([3, 16, 320, 240])\n",
      "Segment shape after processing: torch.Size([3, 16, 320, 240])\n",
      "Segment shape before processing: torch.Size([3, 16, 320, 240])\n",
      "Segment shape after processing: torch.Size([3, 16, 320, 240])\n",
      "Segment shape before processing: torch.Size([3, 16, 320, 240])\n",
      "Segment shape after processing: torch.Size([3, 16, 320, 240])\n",
      "Segment shape before processing: torch.Size([3, 16, 320, 240])\n",
      "Segment shape after processing: torch.Size([3, 16, 320, 240])\n",
      "Segment shape before processing: torch.Size([3, 16, 320, 240])\n",
      "Segment shape after processing: torch.Size([3, 16, 320, 240])\n",
      "Segment shape before processing: torch.Size([3, 16, 320, 240])\n",
      "Segment shape after processing: torch.Size([3, 16, 320, 240])\n",
      "Segment shape before processing: torch.Size([3, 16, 320, 240])\n",
      "Segment shape after processing: torch.Size([3, 16, 320, 240])\n",
      "Segment shape before processing: torch.Size([3, 16, 320, 240])\n",
      "Segment shape after processing: torch.Size([3, 16, 320, 240])\n",
      "Segment shape before processing: torch.Size([3, 16, 320, 240])\n",
      "Segment shape after processing: torch.Size([3, 16, 320, 240])\n",
      "Segment shape before processing: torch.Size([3, 16, 320, 240])\n",
      "Segment shape after processing: torch.Size([3, 16, 320, 240])\n",
      "Segment shape before processing: torch.Size([3, 16, 320, 240])\n",
      "Segment shape after processing: torch.Size([3, 16, 320, 240])\n",
      "Segment shape before processing: torch.Size([3, 16, 320, 240])\n",
      "Segment shape after processing: torch.Size([3, 16, 320, 240])\n",
      "Segment shape before processing: torch.Size([3, 16, 320, 240])\n",
      "Segment shape after processing: torch.Size([3, 16, 320, 240])\n",
      "Segment shape before processing: torch.Size([3, 16, 320, 240])\n",
      "Segment shape after processing: torch.Size([3, 16, 320, 240])\n",
      "Segment shape before processing: torch.Size([3, 16, 320, 240])\n",
      "Segment shape after processing: torch.Size([3, 16, 320, 240])\n",
      "Segment shape before processing: torch.Size([3, 16, 320, 240])\n",
      "Segment shape after processing: torch.Size([3, 16, 320, 240])\n",
      "Segment shape before processing: torch.Size([3, 16, 320, 240])\n",
      "Segment shape after processing: torch.Size([3, 16, 320, 240])\n",
      "Segment shape before processing: torch.Size([3, 16, 320, 240])\n",
      "Segment shape after processing: torch.Size([3, 16, 320, 240])\n",
      "Segment shape before processing: torch.Size([3, 16, 320, 240])\n",
      "Segment shape after processing: torch.Size([3, 16, 320, 240])\n",
      "Segment shape before processing: torch.Size([3, 16, 320, 240])\n",
      "Segment shape after processing: torch.Size([3, 16, 320, 240])\n",
      "Segment shape before processing: torch.Size([3, 16, 320, 240])\n",
      "Segment shape after processing: torch.Size([3, 16, 320, 240])\n",
      "Segment shape before processing: torch.Size([3, 16, 320, 240])\n",
      "Segment shape after processing: torch.Size([3, 16, 320, 240])\n",
      "Segment shape before processing: torch.Size([3, 16, 320, 240])\n",
      "Segment shape after processing: torch.Size([3, 16, 320, 240])\n",
      "Segment shape before processing: torch.Size([3, 16, 320, 240])\n",
      "Segment shape after processing: torch.Size([3, 16, 320, 240])\n",
      "Segment shape before processing: torch.Size([3, 16, 320, 240])\n",
      "Segment shape after processing: torch.Size([3, 16, 320, 240])\n",
      "Segment shape before processing: torch.Size([3, 16, 320, 240])\n",
      "Segment shape after processing: torch.Size([3, 16, 320, 240])\n",
      "Segment shape before processing: torch.Size([3, 16, 320, 240])\n",
      "Segment shape after processing: torch.Size([3, 16, 320, 240])\n",
      "Segment shape before processing: torch.Size([3, 16, 320, 240])\n",
      "Segment shape after processing: torch.Size([3, 16, 320, 240])\n",
      "Segment shape before processing: torch.Size([3, 16, 320, 240])\n",
      "Segment shape after processing: torch.Size([3, 16, 320, 240])\n",
      "Segment shape before processing: torch.Size([3, 16, 320, 240])\n",
      "Segment shape after processing: torch.Size([3, 16, 320, 240])\n",
      "Segment shape before processing: torch.Size([3, 16, 320, 240])\n",
      "Segment shape after processing: torch.Size([3, 16, 320, 240])\n",
      "Segment shape before processing: torch.Size([3, 16, 320, 240])\n",
      "Segment shape after processing: torch.Size([3, 16, 320, 240])\n",
      "Segment shape before processing: torch.Size([3, 16, 320, 240])\n",
      "Segment shape after processing: torch.Size([3, 16, 320, 240])\n",
      "Segment shape before processing: torch.Size([3, 16, 320, 240])\n",
      "Segment shape after processing: torch.Size([3, 16, 320, 240])\n",
      "Segment shape before processing: torch.Size([3, 16, 320, 240])\n",
      "Segment shape after processing: torch.Size([3, 16, 320, 240])\n",
      "Segment shape before processing: torch.Size([3, 16, 320, 240])\n",
      "Segment shape after processing: torch.Size([3, 16, 320, 240])\n",
      "Segment shape before processing: torch.Size([3, 16, 320, 240])\n",
      "Segment shape after processing: torch.Size([3, 16, 320, 240])\n",
      "Segment shape before processing: torch.Size([3, 16, 320, 240])\n",
      "Segment shape after processing: torch.Size([3, 16, 320, 240])\n",
      "Segment shape before processing: torch.Size([3, 16, 320, 240])\n",
      "Segment shape after processing: torch.Size([3, 16, 320, 240])\n",
      "Segment shape before processing: torch.Size([3, 16, 320, 240])\n",
      "Segment shape after processing: torch.Size([3, 16, 320, 240])\n",
      "Segment shape before processing: torch.Size([3, 16, 320, 240])\n",
      "Segment shape after processing: torch.Size([3, 16, 320, 240])\n",
      "Segment shape before processing: torch.Size([3, 16, 320, 240])\n",
      "Segment shape after processing: torch.Size([3, 16, 320, 240])\n",
      "Segment shape before processing: torch.Size([3, 16, 320, 240])\n",
      "Segment shape after processing: torch.Size([3, 16, 320, 240])\n",
      "Segment shape before processing: torch.Size([3, 16, 320, 240])\n",
      "Segment shape after processing: torch.Size([3, 16, 320, 240])\n",
      "Segment shape before processing: torch.Size([3, 16, 320, 240])\n",
      "Segment shape after processing: torch.Size([3, 16, 320, 240])\n",
      "Segment shape before processing: torch.Size([3, 16, 320, 240])\n",
      "Segment shape after processing: torch.Size([3, 16, 320, 240])\n",
      "Segment shape before processing: torch.Size([3, 16, 320, 240])\n",
      "Segment shape after processing: torch.Size([3, 16, 320, 240])\n",
      "Segment shape before processing: torch.Size([3, 16, 320, 240])\n",
      "Segment shape after processing: torch.Size([3, 16, 320, 240])\n",
      "Segment shape before processing: torch.Size([3, 16, 320, 240])\n",
      "Segment shape after processing: torch.Size([3, 16, 320, 240])\n",
      "Segment shape before processing: torch.Size([3, 16, 320, 240])\n",
      "Segment shape after processing: torch.Size([3, 16, 320, 240])\n",
      "Segment shape before processing: torch.Size([3, 16, 320, 240])\n",
      "Segment shape after processing: torch.Size([3, 16, 320, 240])\n",
      "Segment shape before processing: torch.Size([3, 16, 320, 240])\n",
      "Segment shape after processing: torch.Size([3, 16, 320, 240])\n",
      "Segment shape before processing: torch.Size([3, 16, 320, 240])\n",
      "Segment shape after processing: torch.Size([3, 16, 320, 240])\n",
      "Segment shape before processing: torch.Size([3, 16, 320, 240])\n",
      "Segment shape after processing: torch.Size([3, 16, 320, 240])\n",
      "Segment shape before processing: torch.Size([3, 16, 320, 240])\n",
      "Segment shape after processing: torch.Size([3, 16, 320, 240])\n",
      "Segment shape before processing: torch.Size([3, 16, 320, 240])\n",
      "Segment shape after processing: torch.Size([3, 16, 320, 240])\n",
      "Segment shape before processing: torch.Size([3, 16, 320, 240])\n",
      "Segment shape after processing: torch.Size([3, 16, 320, 240])\n",
      "Segment shape before processing: torch.Size([3, 16, 320, 240])\n",
      "Segment shape after processing: torch.Size([3, 16, 320, 240])\n",
      "Segment shape before processing: torch.Size([3, 16, 320, 240])\n",
      "Segment shape after processing: torch.Size([3, 16, 320, 240])\n",
      "Segment shape before processing: torch.Size([3, 16, 320, 240])\n",
      "Segment shape after processing: torch.Size([3, 16, 320, 240])\n",
      "Segment shape before processing: torch.Size([3, 16, 320, 240])\n",
      "Segment shape after processing: torch.Size([3, 16, 320, 240])\n",
      "Segment shape before processing: torch.Size([3, 16, 320, 240])\n",
      "Segment shape after processing: torch.Size([3, 16, 320, 240])\n",
      "Segment shape before processing: torch.Size([3, 16, 320, 240])\n",
      "Segment shape after processing: torch.Size([3, 16, 320, 240])\n",
      "Segment shape before processing: torch.Size([3, 16, 320, 240])\n",
      "Segment shape after processing: torch.Size([3, 16, 320, 240])\n",
      "Segment shape before processing: torch.Size([3, 16, 320, 240])\n",
      "Segment shape after processing: torch.Size([3, 16, 320, 240])\n",
      "Segment shape before processing: torch.Size([3, 16, 320, 240])\n",
      "Segment shape after processing: torch.Size([3, 16, 320, 240])\n",
      "Segment shape before processing: torch.Size([3, 16, 320, 240])\n",
      "Segment shape after processing: torch.Size([3, 16, 320, 240])\n",
      "Segment shape before processing: torch.Size([3, 16, 320, 240])\n",
      "Segment shape after processing: torch.Size([3, 16, 320, 240])\n",
      "Segment shape before processing: torch.Size([3, 16, 320, 240])\n",
      "Segment shape after processing: torch.Size([3, 16, 320, 240])\n",
      "Segment shape before processing: torch.Size([3, 16, 320, 240])\n",
      "Segment shape after processing: torch.Size([3, 16, 320, 240])\n",
      "Segment shape before processing: torch.Size([3, 16, 320, 240])\n",
      "Segment shape after processing: torch.Size([3, 16, 320, 240])\n",
      "Segment shape before processing: torch.Size([3, 16, 320, 240])\n",
      "Segment shape after processing: torch.Size([3, 16, 320, 240])\n",
      "Segment shape before processing: torch.Size([3, 16, 320, 240])\n",
      "Segment shape after processing: torch.Size([3, 16, 320, 240])\n",
      "Segment shape before processing: torch.Size([3, 16, 320, 240])\n",
      "Segment shape after processing: torch.Size([3, 16, 320, 240])\n",
      "Segment shape before processing: torch.Size([3, 16, 320, 240])\n",
      "Segment shape after processing: torch.Size([3, 16, 320, 240])\n",
      "Segment shape before processing: torch.Size([3, 16, 320, 240])\n",
      "Segment shape after processing: torch.Size([3, 16, 320, 240])\n",
      "Segment shape before processing: torch.Size([3, 16, 320, 240])\n",
      "Segment shape after processing: torch.Size([3, 16, 320, 240])\n",
      "Segment shape before processing: torch.Size([3, 16, 320, 240])\n",
      "Segment shape after processing: torch.Size([3, 16, 320, 240])\n",
      "Segment shape before processing: torch.Size([3, 16, 320, 240])\n",
      "Segment shape after processing: torch.Size([3, 16, 320, 240])\n",
      "Segment shape before processing: torch.Size([3, 16, 320, 240])\n",
      "Segment shape after processing: torch.Size([3, 16, 320, 240])\n",
      "Segment shape before processing: torch.Size([3, 16, 320, 240])\n",
      "Segment shape after processing: torch.Size([3, 16, 320, 240])\n",
      "Segment shape before processing: torch.Size([3, 16, 320, 240])\n",
      "Segment shape after processing: torch.Size([3, 16, 320, 240])\n",
      "Segment shape before processing: torch.Size([3, 16, 320, 240])\n",
      "Segment shape after processing: torch.Size([3, 16, 320, 240])\n",
      "Segment shape before processing: torch.Size([3, 16, 320, 240])\n",
      "Segment shape after processing: torch.Size([3, 16, 320, 240])\n",
      "Segment shape before processing: torch.Size([3, 16, 320, 240])\n",
      "Segment shape after processing: torch.Size([3, 16, 320, 240])\n",
      "Segment shape before processing: torch.Size([3, 16, 320, 240])\n",
      "Segment shape after processing: torch.Size([3, 16, 320, 240])\n",
      "Segment shape before processing: torch.Size([3, 16, 320, 240])\n",
      "Segment shape after processing: torch.Size([3, 16, 320, 240])\n",
      "Segment shape before processing: torch.Size([3, 16, 320, 240])\n",
      "Segment shape after processing: torch.Size([3, 16, 320, 240])\n",
      "Segment shape before processing: torch.Size([3, 16, 320, 240])\n",
      "Segment shape after processing: torch.Size([3, 16, 320, 240])\n",
      "Segment shape before processing: torch.Size([3, 16, 320, 240])\n",
      "Segment shape after processing: torch.Size([3, 16, 320, 240])\n",
      "Segment shape before processing: torch.Size([3, 16, 320, 240])\n",
      "Segment shape after processing: torch.Size([3, 16, 320, 240])\n",
      "Segment shape before processing: torch.Size([3, 16, 320, 240])\n",
      "Segment shape after processing: torch.Size([3, 16, 320, 240])\n",
      "Segment shape before processing: torch.Size([3, 16, 320, 240])\n",
      "Segment shape after processing: torch.Size([3, 16, 320, 240])\n",
      "Segment shape before processing: torch.Size([3, 16, 320, 240])\n",
      "Segment shape after processing: torch.Size([3, 16, 320, 240])\n",
      "Segment shape before processing: torch.Size([3, 16, 320, 240])\n",
      "Segment shape after processing: torch.Size([3, 16, 320, 240])\n",
      "Segment shape before processing: torch.Size([3, 16, 320, 240])\n",
      "Segment shape after processing: torch.Size([3, 16, 320, 240])\n",
      "Segment shape before processing: torch.Size([3, 16, 320, 240])\n",
      "Segment shape after processing: torch.Size([3, 16, 320, 240])\n",
      "Segment shape before processing: torch.Size([3, 16, 320, 240])\n",
      "Segment shape after processing: torch.Size([3, 16, 320, 240])\n",
      "Segment shape before processing: torch.Size([3, 16, 320, 240])\n",
      "Segment shape after processing: torch.Size([3, 16, 320, 240])\n",
      "Segment shape before processing: torch.Size([3, 16, 320, 240])\n",
      "Segment shape after processing: torch.Size([3, 16, 320, 240])\n",
      "Segment shape before processing: torch.Size([3, 16, 320, 240])\n",
      "Segment shape after processing: torch.Size([3, 16, 320, 240])\n",
      "Segment shape before processing: torch.Size([3, 16, 320, 240])\n",
      "Segment shape after processing: torch.Size([3, 16, 320, 240])\n",
      "Segment shape before processing: torch.Size([3, 16, 320, 240])\n",
      "Segment shape after processing: torch.Size([3, 16, 320, 240])\n",
      "Segment shape before processing: torch.Size([3, 16, 320, 240])\n",
      "Segment shape after processing: torch.Size([3, 16, 320, 240])\n",
      "Segment shape before processing: torch.Size([3, 16, 320, 240])\n",
      "Segment shape after processing: torch.Size([3, 16, 320, 240])\n",
      "Segment shape before processing: torch.Size([3, 16, 320, 240])\n",
      "Segment shape after processing: torch.Size([3, 16, 320, 240])\n",
      "Segment shape before processing: torch.Size([3, 16, 320, 240])\n",
      "Segment shape after processing: torch.Size([3, 16, 320, 240])\n",
      "Segment shape before processing: torch.Size([3, 16, 320, 240])\n",
      "Segment shape after processing: torch.Size([3, 16, 320, 240])\n",
      "Segment shape before processing: torch.Size([3, 16, 320, 240])\n",
      "Segment shape after processing: torch.Size([3, 16, 320, 240])\n",
      "Segment shape before processing: torch.Size([3, 16, 320, 240])\n",
      "Segment shape after processing: torch.Size([3, 16, 320, 240])\n",
      "Segment shape before processing: torch.Size([3, 16, 320, 240])\n",
      "Segment shape after processing: torch.Size([3, 16, 320, 240])\n",
      "Segment shape before processing: torch.Size([3, 16, 320, 240])\n",
      "Segment shape after processing: torch.Size([3, 16, 320, 240])\n",
      "Segment shape before processing: torch.Size([3, 16, 320, 240])\n",
      "Segment shape after processing: torch.Size([3, 16, 320, 240])\n",
      "Segment shape before processing: torch.Size([3, 16, 320, 240])\n",
      "Segment shape after processing: torch.Size([3, 16, 320, 240])\n",
      "Segment shape before processing: torch.Size([3, 16, 320, 240])\n",
      "Segment shape after processing: torch.Size([3, 16, 320, 240])\n",
      "Segment shape before processing: torch.Size([3, 16, 320, 240])\n",
      "Segment shape after processing: torch.Size([3, 16, 320, 240])\n",
      "Segment shape before processing: torch.Size([3, 16, 320, 240])\n",
      "Segment shape after processing: torch.Size([3, 16, 320, 240])\n",
      "Segment shape before processing: torch.Size([3, 16, 320, 240])\n",
      "Segment shape after processing: torch.Size([3, 16, 320, 240])\n",
      "Segment shape before processing: torch.Size([3, 16, 320, 240])\n",
      "Segment shape after processing: torch.Size([3, 16, 320, 240])\n",
      "Segment shape before processing: torch.Size([3, 16, 320, 240])\n",
      "Segment shape after processing: torch.Size([3, 16, 320, 240])\n",
      "Segment shape before processing: torch.Size([3, 16, 320, 240])\n",
      "Segment shape after processing: torch.Size([3, 16, 320, 240])\n",
      "Segment shape before processing: torch.Size([3, 16, 320, 240])\n",
      "Segment shape after processing: torch.Size([3, 16, 320, 240])\n",
      "Segment shape before processing: torch.Size([3, 16, 320, 240])\n",
      "Segment shape after processing: torch.Size([3, 16, 320, 240])\n",
      "Segment shape before processing: torch.Size([3, 16, 320, 240])\n",
      "Segment shape after processing: torch.Size([3, 16, 320, 240])\n",
      "Segment shape before processing: torch.Size([3, 16, 320, 240])\n",
      "Segment shape after processing: torch.Size([3, 16, 320, 240])\n",
      "Segment shape before processing: torch.Size([3, 16, 320, 240])\n",
      "Segment shape after processing: torch.Size([3, 16, 320, 240])\n",
      "Segment shape before processing: torch.Size([3, 16, 320, 240])\n",
      "Segment shape after processing: torch.Size([3, 16, 320, 240])\n",
      "Segment shape before processing: torch.Size([3, 16, 320, 240])\n",
      "Segment shape after processing: torch.Size([3, 16, 320, 240])\n",
      "Segment shape before processing: torch.Size([3, 16, 320, 240])\n",
      "Segment shape after processing: torch.Size([3, 16, 320, 240])\n",
      "Segment shape before processing: torch.Size([3, 16, 320, 240])\n",
      "Segment shape after processing: torch.Size([3, 16, 320, 240])\n",
      "Segment shape before processing: torch.Size([3, 16, 320, 240])\n",
      "Segment shape after processing: torch.Size([3, 16, 320, 240])\n",
      "Segment shape before processing: torch.Size([3, 16, 320, 240])\n",
      "Segment shape after processing: torch.Size([3, 16, 320, 240])\n",
      "Segment shape before processing: torch.Size([3, 16, 320, 240])\n",
      "Segment shape after processing: torch.Size([3, 16, 320, 240])\n",
      "Segment shape before processing: torch.Size([3, 16, 320, 240])\n",
      "Segment shape after processing: torch.Size([3, 16, 320, 240])\n",
      "Segment shape before processing: torch.Size([3, 16, 320, 240])\n",
      "Segment shape after processing: torch.Size([3, 16, 320, 240])\n",
      "Segment shape before processing: torch.Size([3, 16, 320, 240])\n",
      "Segment shape after processing: torch.Size([3, 16, 320, 240])\n",
      "Segment shape before processing: torch.Size([3, 16, 320, 240])\n",
      "Segment shape after processing: torch.Size([3, 16, 320, 240])\n",
      "Segment shape before processing: torch.Size([3, 16, 320, 240])\n",
      "Segment shape after processing: torch.Size([3, 16, 320, 240])\n",
      "Segment shape before processing: torch.Size([3, 16, 320, 240])\n",
      "Segment shape after processing: torch.Size([3, 16, 320, 240])\n",
      "Segment shape before processing: torch.Size([3, 16, 320, 240])\n",
      "Segment shape after processing: torch.Size([3, 16, 320, 240])\n",
      "Segment shape before processing: torch.Size([3, 16, 320, 240])\n",
      "Segment shape after processing: torch.Size([3, 16, 320, 240])\n",
      "Segment shape before processing: torch.Size([3, 16, 320, 240])\n",
      "Segment shape after processing: torch.Size([3, 16, 320, 240])\n",
      "Segment shape before processing: torch.Size([3, 16, 320, 240])\n",
      "Segment shape after processing: torch.Size([3, 16, 320, 240])\n",
      "Segment shape before processing: torch.Size([3, 16, 320, 240])\n",
      "Segment shape after processing: torch.Size([3, 16, 320, 240])\n",
      "Segment shape before processing: torch.Size([3, 16, 320, 240])\n",
      "Segment shape after processing: torch.Size([3, 16, 320, 240])\n",
      "Segment shape before processing: torch.Size([3, 16, 320, 240])\n",
      "Segment shape after processing: torch.Size([3, 16, 320, 240])\n",
      "Segment shape before processing: torch.Size([3, 16, 320, 240])\n",
      "Segment shape after processing: torch.Size([3, 16, 320, 240])\n",
      "Segment shape before processing: torch.Size([3, 16, 320, 240])\n",
      "Segment shape after processing: torch.Size([3, 16, 320, 240])\n",
      "Segment shape before processing: torch.Size([3, 16, 320, 240])\n",
      "Segment shape after processing: torch.Size([3, 16, 320, 240])\n",
      "Segment shape before processing: torch.Size([3, 16, 320, 240])\n",
      "Segment shape after processing: torch.Size([3, 16, 320, 240])\n",
      "Segment shape before processing: torch.Size([3, 16, 320, 240])\n",
      "Segment shape after processing: torch.Size([3, 16, 320, 240])\n",
      "Segment shape before processing: torch.Size([3, 16, 320, 240])\n",
      "Segment shape after processing: torch.Size([3, 16, 320, 240])\n",
      "Segment shape before processing: torch.Size([3, 16, 320, 240])\n",
      "Segment shape after processing: torch.Size([3, 16, 320, 240])\n",
      "Segment shape before processing: torch.Size([3, 16, 320, 240])\n",
      "Segment shape after processing: torch.Size([3, 16, 320, 240])\n",
      "Segment shape before processing: torch.Size([3, 16, 320, 240])\n",
      "Segment shape after processing: torch.Size([3, 16, 320, 240])\n",
      "Segment shape before processing: torch.Size([3, 16, 320, 240])\n",
      "Segment shape after processing: torch.Size([3, 16, 320, 240])\n",
      "Segment shape before processing: torch.Size([3, 16, 320, 240])\n",
      "Segment shape after processing: torch.Size([3, 16, 320, 240])\n",
      "Segment shape before processing: torch.Size([3, 16, 320, 240])\n",
      "Segment shape after processing: torch.Size([3, 16, 320, 240])\n",
      "Segment shape before processing: torch.Size([3, 16, 320, 240])\n",
      "Segment shape after processing: torch.Size([3, 16, 320, 240])\n",
      "Segment shape before processing: torch.Size([3, 16, 320, 240])\n",
      "Segment shape after processing: torch.Size([3, 16, 320, 240])\n",
      "Segment shape before processing: torch.Size([3, 16, 320, 240])\n",
      "Segment shape after processing: torch.Size([3, 16, 320, 240])\n",
      "Segment shape before processing: torch.Size([3, 16, 320, 240])\n",
      "Segment shape after processing: torch.Size([3, 16, 320, 240])\n",
      "Segment shape before processing: torch.Size([3, 16, 320, 240])\n",
      "Segment shape after processing: torch.Size([3, 16, 320, 240])\n",
      "Segment shape before processing: torch.Size([3, 16, 320, 240])\n",
      "Segment shape after processing: torch.Size([3, 16, 320, 240])\n",
      "Segment shape before processing: torch.Size([3, 16, 320, 240])\n",
      "Segment shape after processing: torch.Size([3, 16, 320, 240])\n",
      "Segment shape before processing: torch.Size([3, 16, 320, 240])\n",
      "Segment shape after processing: torch.Size([3, 16, 320, 240])\n",
      "Segment shape before processing: torch.Size([3, 16, 320, 240])\n",
      "Segment shape after processing: torch.Size([3, 16, 320, 240])\n",
      "Segment shape before processing: torch.Size([3, 16, 320, 240])\n",
      "Segment shape after processing: torch.Size([3, 16, 320, 240])\n",
      "Segment shape before processing: torch.Size([3, 16, 320, 240])\n",
      "Segment shape after processing: torch.Size([3, 16, 320, 240])\n",
      "Segment shape before processing: torch.Size([3, 16, 320, 240])\n",
      "Segment shape after processing: torch.Size([3, 16, 320, 240])\n",
      "Segment shape before processing: torch.Size([3, 16, 320, 240])\n",
      "Segment shape after processing: torch.Size([3, 16, 320, 240])\n",
      "Segment shape before processing: torch.Size([3, 16, 320, 240])\n",
      "Segment shape after processing: torch.Size([3, 16, 320, 240])\n",
      "Segment shape before processing: torch.Size([3, 16, 320, 240])\n",
      "Segment shape after processing: torch.Size([3, 16, 320, 240])\n",
      "Segment shape before processing: torch.Size([3, 16, 320, 240])\n",
      "Segment shape after processing: torch.Size([3, 16, 320, 240])\n",
      "Segment shape before processing: torch.Size([3, 16, 320, 240])\n",
      "Segment shape after processing: torch.Size([3, 16, 320, 240])\n",
      "Segment shape before processing: torch.Size([3, 16, 320, 240])\n",
      "Segment shape after processing: torch.Size([3, 16, 320, 240])\n",
      "Segment shape before processing: torch.Size([3, 16, 320, 240])\n",
      "Segment shape after processing: torch.Size([3, 16, 320, 240])\n",
      "Segment shape before processing: torch.Size([3, 16, 320, 240])\n",
      "Segment shape after processing: torch.Size([3, 16, 320, 240])\n",
      "Segment shape before processing: torch.Size([3, 16, 320, 240])\n",
      "Segment shape after processing: torch.Size([3, 16, 320, 240])\n",
      "Segment shape before processing: torch.Size([3, 16, 320, 240])\n",
      "Segment shape after processing: torch.Size([3, 16, 320, 240])\n",
      "Segment shape before processing: torch.Size([3, 16, 320, 240])\n",
      "Segment shape after processing: torch.Size([3, 16, 320, 240])\n",
      "Segment shape before processing: torch.Size([3, 16, 320, 240])\n",
      "Segment shape after processing: torch.Size([3, 16, 320, 240])\n",
      "Segment shape before processing: torch.Size([3, 16, 320, 240])\n",
      "Segment shape after processing: torch.Size([3, 16, 320, 240])\n",
      "Segment shape before processing: torch.Size([3, 16, 320, 240])\n",
      "Segment shape after processing: torch.Size([3, 16, 320, 240])\n",
      "Segment shape before processing: torch.Size([3, 16, 320, 240])\n",
      "Segment shape after processing: torch.Size([3, 16, 320, 240])\n",
      "Segment shape before processing: torch.Size([3, 16, 320, 240])\n",
      "Segment shape after processing: torch.Size([3, 16, 320, 240])\n",
      "Segment shape before processing: torch.Size([3, 16, 320, 240])\n",
      "Segment shape after processing: torch.Size([3, 16, 320, 240])\n",
      "Segment shape before processing: torch.Size([3, 16, 320, 240])\n",
      "Segment shape after processing: torch.Size([3, 16, 320, 240])\n",
      "Segment shape before processing: torch.Size([3, 16, 320, 240])\n",
      "Segment shape after processing: torch.Size([3, 16, 320, 240])\n",
      "Segment shape before processing: torch.Size([3, 16, 320, 240])\n",
      "Segment shape after processing: torch.Size([3, 16, 320, 240])\n",
      "Segment shape before processing: torch.Size([3, 16, 320, 240])\n",
      "Segment shape after processing: torch.Size([3, 16, 320, 240])\n",
      "Segment shape before processing: torch.Size([3, 16, 320, 240])\n",
      "Segment shape after processing: torch.Size([3, 16, 320, 240])\n",
      "Segment shape before processing: torch.Size([3, 16, 320, 240])\n",
      "Segment shape after processing: torch.Size([3, 16, 320, 240])\n",
      "Segment shape before processing: torch.Size([3, 16, 320, 240])\n",
      "Segment shape after processing: torch.Size([3, 16, 320, 240])\n",
      "Segment shape before processing: torch.Size([3, 16, 320, 240])\n",
      "Segment shape after processing: torch.Size([3, 16, 320, 240])\n",
      "Segment shape before processing: torch.Size([3, 16, 320, 240])\n",
      "Segment shape after processing: torch.Size([3, 16, 320, 240])\n",
      "Segment shape before processing: torch.Size([3, 16, 320, 240])\n",
      "Segment shape after processing: torch.Size([3, 16, 320, 240])\n",
      "Segment shape before processing: torch.Size([3, 16, 320, 240])\n",
      "Segment shape after processing: torch.Size([3, 16, 320, 240])\n",
      "Segment shape before processing: torch.Size([3, 16, 320, 240])\n",
      "Segment shape after processing: torch.Size([3, 16, 320, 240])\n",
      "Segment shape before processing: torch.Size([3, 16, 320, 240])\n",
      "Segment shape after processing: torch.Size([3, 16, 320, 240])\n",
      "Segment shape before processing: torch.Size([3, 16, 320, 240])\n",
      "Segment shape after processing: torch.Size([3, 16, 320, 240])\n",
      "Segment shape before processing: torch.Size([3, 16, 320, 240])\n",
      "Segment shape after processing: torch.Size([3, 16, 320, 240])\n",
      "Segment shape before processing: torch.Size([3, 16, 320, 240])\n",
      "Segment shape after processing: torch.Size([3, 16, 320, 240])\n",
      "Segment shape before processing: torch.Size([3, 16, 320, 240])\n",
      "Segment shape after processing: torch.Size([3, 16, 320, 240])\n",
      "Segment shape before processing: torch.Size([3, 16, 320, 240])\n",
      "Segment shape after processing: torch.Size([3, 16, 320, 240])\n",
      "Segment shape before processing: torch.Size([3, 16, 320, 240])\n",
      "Segment shape after processing: torch.Size([3, 16, 320, 240])\n",
      "Segment shape before processing: torch.Size([3, 16, 320, 240])\n",
      "Segment shape after processing: torch.Size([3, 16, 320, 240])\n",
      "Segment shape before processing: torch.Size([3, 16, 320, 240])\n",
      "Segment shape after processing: torch.Size([3, 16, 320, 240])\n",
      "Segment shape before processing: torch.Size([3, 16, 320, 240])\n",
      "Segment shape after processing: torch.Size([3, 16, 320, 240])\n",
      "Segment shape before processing: torch.Size([3, 16, 320, 240])\n",
      "Segment shape after processing: torch.Size([3, 16, 320, 240])\n",
      "Segment shape before processing: torch.Size([3, 16, 320, 240])\n",
      "Segment shape after processing: torch.Size([3, 16, 320, 240])\n",
      "Segment shape before processing: torch.Size([3, 16, 320, 240])\n",
      "Segment shape after processing: torch.Size([3, 16, 320, 240])\n",
      "Segment shape before processing: torch.Size([3, 16, 320, 240])\n",
      "Segment shape after processing: torch.Size([3, 16, 320, 240])\n",
      "Segment shape before processing: torch.Size([3, 16, 320, 240])\n",
      "Segment shape after processing: torch.Size([3, 16, 320, 240])\n",
      "Segment shape before processing: torch.Size([3, 16, 320, 240])\n",
      "Segment shape after processing: torch.Size([3, 16, 320, 240])\n",
      "Segment shape before processing: torch.Size([3, 16, 320, 240])\n",
      "Segment shape after processing: torch.Size([3, 16, 320, 240])\n",
      "Segment shape before processing: torch.Size([3, 16, 320, 240])\n",
      "Segment shape after processing: torch.Size([3, 16, 320, 240])\n",
      "Segment shape before processing: torch.Size([3, 16, 320, 240])\n",
      "Segment shape after processing: torch.Size([3, 16, 320, 240])\n",
      "Segment shape before processing: torch.Size([3, 16, 320, 240])\n",
      "Segment shape after processing: torch.Size([3, 16, 320, 240])\n",
      "Segment shape before processing: torch.Size([3, 16, 320, 240])\n",
      "Segment shape after processing: torch.Size([3, 16, 320, 240])\n",
      "Segment shape before processing: torch.Size([3, 16, 320, 240])\n",
      "Segment shape after processing: torch.Size([3, 16, 320, 240])\n",
      "Segment shape before processing: torch.Size([3, 16, 320, 240])\n",
      "Segment shape after processing: torch.Size([3, 16, 320, 240])\n",
      "Segment shape before processing: torch.Size([3, 16, 320, 240])\n",
      "Segment shape after processing: torch.Size([3, 16, 320, 240])\n",
      "Segment shape before processing: torch.Size([3, 16, 320, 240])\n",
      "Segment shape after processing: torch.Size([3, 16, 320, 240])\n",
      "Segment shape before processing: torch.Size([3, 16, 320, 240])\n",
      "Segment shape after processing: torch.Size([3, 16, 320, 240])\n",
      "Segment shape before processing: torch.Size([3, 16, 320, 240])\n",
      "Segment shape after processing: torch.Size([3, 16, 320, 240])\n",
      "Segment shape before processing: torch.Size([3, 16, 320, 240])\n",
      "Segment shape after processing: torch.Size([3, 16, 320, 240])\n",
      "Segment shape before processing: torch.Size([3, 16, 320, 240])\n",
      "Segment shape after processing: torch.Size([3, 16, 320, 240])\n",
      "Segment shape before processing: torch.Size([3, 16, 320, 240])\n",
      "Segment shape after processing: torch.Size([3, 16, 320, 240])\n",
      "Segment shape before processing: torch.Size([3, 16, 320, 240])\n",
      "Segment shape after processing: torch.Size([3, 16, 320, 240])\n",
      "Segment shape before processing: torch.Size([3, 16, 320, 240])\n",
      "Segment shape after processing: torch.Size([3, 16, 320, 240])\n",
      "Segment shape before processing: torch.Size([3, 16, 320, 240])\n",
      "Segment shape after processing: torch.Size([3, 16, 320, 240])\n",
      "Segment shape before processing: torch.Size([3, 16, 320, 240])\n",
      "Segment shape after processing: torch.Size([3, 16, 320, 240])\n",
      "Segment shape before processing: torch.Size([3, 16, 320, 240])\n",
      "Segment shape after processing: torch.Size([3, 16, 320, 240])\n",
      "Segment shape before processing: torch.Size([3, 16, 320, 240])\n",
      "Segment shape after processing: torch.Size([3, 16, 320, 240])\n",
      "Segment shape before processing: torch.Size([3, 16, 320, 240])\n",
      "Segment shape after processing: torch.Size([3, 16, 320, 240])\n",
      "Segment shape before processing: torch.Size([3, 16, 320, 240])\n",
      "Segment shape after processing: torch.Size([3, 16, 320, 240])\n",
      "Segment shape before processing: torch.Size([3, 16, 320, 240])\n",
      "Segment shape after processing: torch.Size([3, 16, 320, 240])\n",
      "Segment shape before processing: torch.Size([3, 16, 320, 240])\n",
      "Segment shape after processing: torch.Size([3, 16, 320, 240])\n",
      "Segment shape before processing: torch.Size([3, 16, 320, 240])\n",
      "Segment shape after processing: torch.Size([3, 16, 320, 240])\n",
      "Segment shape before processing: torch.Size([3, 16, 320, 240])\n",
      "Segment shape after processing: torch.Size([3, 16, 320, 240])\n"
     ]
    },
    {
     "name": "stderr",
     "output_type": "stream",
     "text": [
      "Extracting Features:   0%|          | 0/169 [00:00<?, ?it/s]"
     ]
    },
    {
     "name": "stdout",
     "output_type": "stream",
     "text": [
      "Batch shape: torch.Size([4, 3, 16, 320, 240])\n",
      "Input shape: torch.Size([1, 3, 16, 320, 240])\n",
      "After backbone shape: torch.Size([1, 192, 16, 10, 8])\n",
      "After final_block shape: torch.Size([1, 2048, 4, 6, 4])\n",
      "After pooling shape: torch.Size([1, 2048, 1, 1, 1])\n",
      "After global average pooling shape: torch.Size([1, 2048, 1, 1, 1])\n"
     ]
    },
    {
     "name": "stderr",
     "output_type": "stream",
     "text": [
      "Extracting Features:   1%|          | 1/169 [00:00<01:41,  1.65it/s]"
     ]
    },
    {
     "name": "stdout",
     "output_type": "stream",
     "text": [
      "Input shape: torch.Size([1, 3, 16, 320, 240])\n",
      "After backbone shape: torch.Size([1, 192, 16, 10, 8])\n",
      "After final_block shape: torch.Size([1, 2048, 4, 6, 4])\n",
      "After pooling shape: torch.Size([1, 2048, 1, 1, 1])\n",
      "After global average pooling shape: torch.Size([1, 2048, 1, 1, 1])\n",
      "Input shape: torch.Size([1, 3, 16, 320, 240])\n",
      "After backbone shape: torch.Size([1, 192, 16, 10, 8])\n",
      "After final_block shape: torch.Size([1, 2048, 4, 6, 4])\n",
      "After pooling shape: torch.Size([1, 2048, 1, 1, 1])\n",
      "After global average pooling shape: torch.Size([1, 2048, 1, 1, 1])\n",
      "Input shape: torch.Size([1, 3, 16, 320, 240])\n",
      "After backbone shape: torch.Size([1, 192, 16, 10, 8])\n",
      "After final_block shape: torch.Size([1, 2048, 4, 6, 4])\n",
      "After pooling shape: torch.Size([1, 2048, 1, 1, 1])\n",
      "After global average pooling shape: torch.Size([1, 2048, 1, 1, 1])\n",
      "batch_feature[0]:torch.Size([2048, 1, 1, 1])\n",
      "Batch shape: torch.Size([4, 3, 16, 320, 240])\n",
      "Input shape: torch.Size([1, 3, 16, 320, 240])\n",
      "After backbone shape: torch.Size([1, 192, 16, 10, 8])\n",
      "After final_block shape: torch.Size([1, 2048, 4, 6, 4])\n",
      "After pooling shape: torch.Size([1, 2048, 1, 1, 1])\n",
      "After global average pooling shape: torch.Size([1, 2048, 1, 1, 1])\n"
     ]
    },
    {
     "name": "stderr",
     "output_type": "stream",
     "text": [
      "Extracting Features:   1%|          | 2/169 [00:00<01:04,  2.60it/s]"
     ]
    },
    {
     "name": "stdout",
     "output_type": "stream",
     "text": [
      "Input shape: torch.Size([1, 3, 16, 320, 240])\n",
      "After backbone shape: torch.Size([1, 192, 16, 10, 8])\n",
      "After final_block shape: torch.Size([1, 2048, 4, 6, 4])\n",
      "After pooling shape: torch.Size([1, 2048, 1, 1, 1])\n",
      "After global average pooling shape: torch.Size([1, 2048, 1, 1, 1])\n",
      "Input shape: torch.Size([1, 3, 16, 320, 240])\n",
      "After backbone shape: torch.Size([1, 192, 16, 10, 8])\n",
      "After final_block shape: torch.Size([1, 2048, 4, 6, 4])\n",
      "After pooling shape: torch.Size([1, 2048, 1, 1, 1])\n",
      "After global average pooling shape: torch.Size([1, 2048, 1, 1, 1])\n",
      "Input shape: torch.Size([1, 3, 16, 320, 240])\n",
      "After backbone shape: torch.Size([1, 192, 16, 10, 8])\n",
      "After final_block shape: torch.Size([1, 2048, 4, 6, 4])\n",
      "After pooling shape: torch.Size([1, 2048, 1, 1, 1])\n",
      "After global average pooling shape: torch.Size([1, 2048, 1, 1, 1])\n",
      "batch_feature[0]:torch.Size([2048, 1, 1, 1])\n",
      "Batch shape: torch.Size([4, 3, 16, 320, 240])\n",
      "Input shape: torch.Size([1, 3, 16, 320, 240])\n",
      "After backbone shape: torch.Size([1, 192, 16, 10, 8])\n",
      "After final_block shape: torch.Size([1, 2048, 4, 6, 4])\n",
      "After pooling shape: torch.Size([1, 2048, 1, 1, 1])\n",
      "After global average pooling shape: torch.Size([1, 2048, 1, 1, 1])\n",
      "Input shape: torch.Size([1, 3, 16, 320, 240])\n",
      "After backbone shape: torch.Size([1, 192, 16, 10, 8])\n",
      "After final_block shape: torch.Size([1, 2048, 4, 6, 4])\n",
      "After pooling shape: torch.Size([1, 2048, 1, 1, 1])\n",
      "After global average pooling shape: torch.Size([1, 2048, 1, 1, 1])\n",
      "Input shape: torch.Size([1, 3, 16, 320, 240])\n",
      "After backbone shape: torch.Size([1, 192, 16, 10, 8])\n",
      "After final_block shape: torch.Size([1, 2048, 4, 6, 4])\n",
      "After pooling shape: torch.Size([1, 2048, 1, 1, 1])\n",
      "After global average pooling shape: torch.Size([1, 2048, 1, 1, 1])\n",
      "Input shape: torch.Size([1, 3, 16, 320, 240])\n",
      "After backbone shape: torch.Size([1, 192, 16, 10, 8])\n",
      "After final_block shape: torch.Size([1, 2048, 4, 6, 4])\n",
      "After pooling shape: torch.Size([1, 2048, 1, 1, 1])\n",
      "After global average pooling shape: torch.Size([1, 2048, 1, 1, 1])\n"
     ]
    },
    {
     "name": "stderr",
     "output_type": "stream",
     "text": [
      "Extracting Features:   2%|▏         | 3/169 [00:01<00:56,  2.95it/s]"
     ]
    },
    {
     "name": "stdout",
     "output_type": "stream",
     "text": [
      "batch_feature[0]:torch.Size([2048, 1, 1, 1])\n",
      "Batch shape: torch.Size([4, 3, 16, 320, 240])\n",
      "Input shape: torch.Size([1, 3, 16, 320, 240])\n",
      "After backbone shape: torch.Size([1, 192, 16, 10, 8])\n",
      "After final_block shape: torch.Size([1, 2048, 4, 6, 4])\n",
      "After pooling shape: torch.Size([1, 2048, 1, 1, 1])\n",
      "After global average pooling shape: torch.Size([1, 2048, 1, 1, 1])\n",
      "Input shape: torch.Size([1, 3, 16, 320, 240])\n",
      "After backbone shape: torch.Size([1, 192, 16, 10, 8])\n",
      "After final_block shape: torch.Size([1, 2048, 4, 6, 4])\n",
      "After pooling shape: torch.Size([1, 2048, 1, 1, 1])\n",
      "After global average pooling shape: torch.Size([1, 2048, 1, 1, 1])\n",
      "Input shape: torch.Size([1, 3, 16, 320, 240])\n",
      "After backbone shape: torch.Size([1, 192, 16, 10, 8])\n",
      "After final_block shape: torch.Size([1, 2048, 4, 6, 4])\n",
      "After pooling shape: torch.Size([1, 2048, 1, 1, 1])\n",
      "After global average pooling shape: torch.Size([1, 2048, 1, 1, 1])\n"
     ]
    },
    {
     "name": "stderr",
     "output_type": "stream",
     "text": [
      "Extracting Features:   2%|▏         | 4/169 [00:01<00:51,  3.22it/s]"
     ]
    },
    {
     "name": "stdout",
     "output_type": "stream",
     "text": [
      "Input shape: torch.Size([1, 3, 16, 320, 240])\n",
      "After backbone shape: torch.Size([1, 192, 16, 10, 8])\n",
      "After final_block shape: torch.Size([1, 2048, 4, 6, 4])\n",
      "After pooling shape: torch.Size([1, 2048, 1, 1, 1])\n",
      "After global average pooling shape: torch.Size([1, 2048, 1, 1, 1])\n",
      "batch_feature[0]:torch.Size([2048, 1, 1, 1])\n",
      "Batch shape: torch.Size([4, 3, 16, 320, 240])\n",
      "Input shape: torch.Size([1, 3, 16, 320, 240])\n",
      "After backbone shape: torch.Size([1, 192, 16, 10, 8])\n",
      "After final_block shape: torch.Size([1, 2048, 4, 6, 4])\n",
      "After pooling shape: torch.Size([1, 2048, 1, 1, 1])\n",
      "After global average pooling shape: torch.Size([1, 2048, 1, 1, 1])\n"
     ]
    },
    {
     "name": "stderr",
     "output_type": "stream",
     "text": [
      "Extracting Features:   3%|▎         | 5/169 [00:01<00:51,  3.16it/s]"
     ]
    },
    {
     "name": "stdout",
     "output_type": "stream",
     "text": [
      "Input shape: torch.Size([1, 3, 16, 320, 240])\n",
      "After backbone shape: torch.Size([1, 192, 16, 10, 8])\n",
      "After final_block shape: torch.Size([1, 2048, 4, 6, 4])\n",
      "After pooling shape: torch.Size([1, 2048, 1, 1, 1])\n",
      "After global average pooling shape: torch.Size([1, 2048, 1, 1, 1])\n",
      "Input shape: torch.Size([1, 3, 16, 320, 240])\n",
      "After backbone shape: torch.Size([1, 192, 16, 10, 8])\n",
      "After final_block shape: torch.Size([1, 2048, 4, 6, 4])\n",
      "After pooling shape: torch.Size([1, 2048, 1, 1, 1])\n",
      "After global average pooling shape: torch.Size([1, 2048, 1, 1, 1])\n",
      "Input shape: torch.Size([1, 3, 16, 320, 240])\n",
      "After backbone shape: torch.Size([1, 192, 16, 10, 8])\n",
      "After final_block shape: torch.Size([1, 2048, 4, 6, 4])\n",
      "After pooling shape: torch.Size([1, 2048, 1, 1, 1])\n",
      "After global average pooling shape: torch.Size([1, 2048, 1, 1, 1])\n",
      "batch_feature[0]:torch.Size([2048, 1, 1, 1])\n",
      "Batch shape: torch.Size([4, 3, 16, 320, 240])\n",
      "Input shape: torch.Size([1, 3, 16, 320, 240])\n",
      "After backbone shape: torch.Size([1, 192, 16, 10, 8])\n",
      "After final_block shape: torch.Size([1, 2048, 4, 6, 4])\n",
      "After pooling shape: torch.Size([1, 2048, 1, 1, 1])\n",
      "After global average pooling shape: torch.Size([1, 2048, 1, 1, 1])\n"
     ]
    },
    {
     "name": "stderr",
     "output_type": "stream",
     "text": [
      "Extracting Features:   4%|▎         | 6/169 [00:01<00:47,  3.46it/s]"
     ]
    },
    {
     "name": "stdout",
     "output_type": "stream",
     "text": [
      "Input shape: torch.Size([1, 3, 16, 320, 240])\n",
      "After backbone shape: torch.Size([1, 192, 16, 10, 8])\n",
      "After final_block shape: torch.Size([1, 2048, 4, 6, 4])\n",
      "After pooling shape: torch.Size([1, 2048, 1, 1, 1])\n",
      "After global average pooling shape: torch.Size([1, 2048, 1, 1, 1])\n",
      "Input shape: torch.Size([1, 3, 16, 320, 240])\n",
      "After backbone shape: torch.Size([1, 192, 16, 10, 8])\n",
      "After final_block shape: torch.Size([1, 2048, 4, 6, 4])\n",
      "After pooling shape: torch.Size([1, 2048, 1, 1, 1])\n",
      "After global average pooling shape: torch.Size([1, 2048, 1, 1, 1])\n",
      "Input shape: torch.Size([1, 3, 16, 320, 240])\n",
      "After backbone shape: torch.Size([1, 192, 16, 10, 8])\n",
      "After final_block shape: torch.Size([1, 2048, 4, 6, 4])\n",
      "After pooling shape: torch.Size([1, 2048, 1, 1, 1])\n",
      "After global average pooling shape: torch.Size([1, 2048, 1, 1, 1])\n",
      "batch_feature[0]:torch.Size([2048, 1, 1, 1])\n",
      "Batch shape: torch.Size([4, 3, 16, 320, 240])\n",
      "Input shape: torch.Size([1, 3, 16, 320, 240])\n",
      "After backbone shape: torch.Size([1, 192, 16, 10, 8])\n",
      "After final_block shape: torch.Size([1, 2048, 4, 6, 4])\n",
      "After pooling shape: torch.Size([1, 2048, 1, 1, 1])\n",
      "After global average pooling shape: torch.Size([1, 2048, 1, 1, 1])\n",
      "Input shape: torch.Size([1, 3, 16, 320, 240])\n",
      "After backbone shape: torch.Size([1, 192, 16, 10, 8])\n",
      "After final_block shape: torch.Size([1, 2048, 4, 6, 4])\n",
      "After pooling shape: torch.Size([1, 2048, 1, 1, 1])\n",
      "After global average pooling shape: torch.Size([1, 2048, 1, 1, 1])\n",
      "Input shape: torch.Size([1, 3, 16, 320, 240])\n",
      "After backbone shape: torch.Size([1, 192, 16, 10, 8])\n",
      "After final_block shape: torch.Size([1, 2048, 4, 6, 4])\n",
      "After pooling shape: torch.Size([1, 2048, 1, 1, 1])\n",
      "After global average pooling shape: torch.Size([1, 2048, 1, 1, 1])\n",
      "Input shape: torch.Size([1, 3, 16, 320, 240])\n",
      "After backbone shape: torch.Size([1, 192, 16, 10, 8])\n",
      "After final_block shape: torch.Size([1, 2048, 4, 6, 4])\n",
      "After pooling shape: torch.Size([1, 2048, 1, 1, 1])\n",
      "After global average pooling shape: torch.Size([1, 2048, 1, 1, 1])\n"
     ]
    },
    {
     "name": "stderr",
     "output_type": "stream",
     "text": [
      "Extracting Features:   4%|▍         | 7/169 [00:02<00:46,  3.45it/s]"
     ]
    },
    {
     "name": "stdout",
     "output_type": "stream",
     "text": [
      "batch_feature[0]:torch.Size([2048, 1, 1, 1])\n",
      "Batch shape: torch.Size([4, 3, 16, 320, 240])\n",
      "Input shape: torch.Size([1, 3, 16, 320, 240])\n",
      "After backbone shape: torch.Size([1, 192, 16, 10, 8])\n",
      "After final_block shape: torch.Size([1, 2048, 4, 6, 4])\n",
      "After pooling shape: torch.Size([1, 2048, 1, 1, 1])\n",
      "After global average pooling shape: torch.Size([1, 2048, 1, 1, 1])\n",
      "Input shape: torch.Size([1, 3, 16, 320, 240])\n",
      "After backbone shape: torch.Size([1, 192, 16, 10, 8])\n",
      "After final_block shape: torch.Size([1, 2048, 4, 6, 4])\n",
      "After pooling shape: torch.Size([1, 2048, 1, 1, 1])\n",
      "After global average pooling shape: torch.Size([1, 2048, 1, 1, 1])\n",
      "Input shape: torch.Size([1, 3, 16, 320, 240])\n",
      "After backbone shape: torch.Size([1, 192, 16, 10, 8])\n",
      "After final_block shape: torch.Size([1, 2048, 4, 6, 4])\n",
      "After pooling shape: torch.Size([1, 2048, 1, 1, 1])\n",
      "After global average pooling shape: torch.Size([1, 2048, 1, 1, 1])\n",
      "Input shape: torch.Size([1, 3, 16, 320, 240])\n",
      "After backbone shape: torch.Size([1, 192, 16, 10, 8])\n",
      "After final_block shape: torch.Size([1, 2048, 4, 6, 4])\n",
      "After pooling shape: torch.Size([1, 2048, 1, 1, 1])\n",
      "After global average pooling shape: torch.Size([1, 2048, 1, 1, 1])\n"
     ]
    },
    {
     "name": "stderr",
     "output_type": "stream",
     "text": [
      "Extracting Features:   5%|▍         | 8/169 [00:02<00:43,  3.67it/s]"
     ]
    },
    {
     "name": "stdout",
     "output_type": "stream",
     "text": [
      "batch_feature[0]:torch.Size([2048, 1, 1, 1])\n",
      "Batch shape: torch.Size([4, 3, 16, 320, 240])\n",
      "Input shape: torch.Size([1, 3, 16, 320, 240])\n",
      "After backbone shape: torch.Size([1, 192, 16, 10, 8])\n",
      "After final_block shape: torch.Size([1, 2048, 4, 6, 4])\n",
      "After pooling shape: torch.Size([1, 2048, 1, 1, 1])\n",
      "After global average pooling shape: torch.Size([1, 2048, 1, 1, 1])\n",
      "Input shape: torch.Size([1, 3, 16, 320, 240])\n",
      "After backbone shape: torch.Size([1, 192, 16, 10, 8])\n",
      "After final_block shape: torch.Size([1, 2048, 4, 6, 4])\n",
      "After pooling shape: torch.Size([1, 2048, 1, 1, 1])\n",
      "After global average pooling shape: torch.Size([1, 2048, 1, 1, 1])\n",
      "Input shape: torch.Size([1, 3, 16, 320, 240])\n",
      "After backbone shape: torch.Size([1, 192, 16, 10, 8])\n",
      "After final_block shape: torch.Size([1, 2048, 4, 6, 4])\n",
      "After pooling shape: torch.Size([1, 2048, 1, 1, 1])\n",
      "After global average pooling shape: torch.Size([1, 2048, 1, 1, 1])\n"
     ]
    },
    {
     "name": "stderr",
     "output_type": "stream",
     "text": [
      "Extracting Features:   5%|▌         | 9/169 [00:02<00:46,  3.43it/s]"
     ]
    },
    {
     "name": "stdout",
     "output_type": "stream",
     "text": [
      "Input shape: torch.Size([1, 3, 16, 320, 240])\n",
      "After backbone shape: torch.Size([1, 192, 16, 10, 8])\n",
      "After final_block shape: torch.Size([1, 2048, 4, 6, 4])\n",
      "After pooling shape: torch.Size([1, 2048, 1, 1, 1])\n",
      "After global average pooling shape: torch.Size([1, 2048, 1, 1, 1])\n",
      "batch_feature[0]:torch.Size([2048, 1, 1, 1])\n",
      "Batch shape: torch.Size([4, 3, 16, 320, 240])\n",
      "Input shape: torch.Size([1, 3, 16, 320, 240])\n",
      "After backbone shape: torch.Size([1, 192, 16, 10, 8])\n",
      "After final_block shape: torch.Size([1, 2048, 4, 6, 4])\n",
      "After pooling shape: torch.Size([1, 2048, 1, 1, 1])\n",
      "After global average pooling shape: torch.Size([1, 2048, 1, 1, 1])\n",
      "Input shape: torch.Size([1, 3, 16, 320, 240])\n",
      "After backbone shape: torch.Size([1, 192, 16, 10, 8])\n",
      "After final_block shape: torch.Size([1, 2048, 4, 6, 4])\n",
      "After pooling shape: torch.Size([1, 2048, 1, 1, 1])\n",
      "After global average pooling shape: torch.Size([1, 2048, 1, 1, 1])\n"
     ]
    },
    {
     "name": "stderr",
     "output_type": "stream",
     "text": [
      "Extracting Features:   6%|▌         | 10/169 [00:03<00:44,  3.61it/s]"
     ]
    },
    {
     "name": "stdout",
     "output_type": "stream",
     "text": [
      "Input shape: torch.Size([1, 3, 16, 320, 240])\n",
      "After backbone shape: torch.Size([1, 192, 16, 10, 8])\n",
      "After final_block shape: torch.Size([1, 2048, 4, 6, 4])\n",
      "After pooling shape: torch.Size([1, 2048, 1, 1, 1])\n",
      "After global average pooling shape: torch.Size([1, 2048, 1, 1, 1])\n",
      "Input shape: torch.Size([1, 3, 16, 320, 240])\n",
      "After backbone shape: torch.Size([1, 192, 16, 10, 8])\n",
      "After final_block shape: torch.Size([1, 2048, 4, 6, 4])\n",
      "After pooling shape: torch.Size([1, 2048, 1, 1, 1])\n",
      "After global average pooling shape: torch.Size([1, 2048, 1, 1, 1])\n",
      "batch_feature[0]:torch.Size([2048, 1, 1, 1])\n",
      "Batch shape: torch.Size([4, 3, 16, 320, 240])\n",
      "Input shape: torch.Size([1, 3, 16, 320, 240])\n",
      "After backbone shape: torch.Size([1, 192, 16, 10, 8])\n",
      "After final_block shape: torch.Size([1, 2048, 4, 6, 4])\n",
      "After pooling shape: torch.Size([1, 2048, 1, 1, 1])\n",
      "After global average pooling shape: torch.Size([1, 2048, 1, 1, 1])\n",
      "Input shape: torch.Size([1, 3, 16, 320, 240])\n",
      "After backbone shape: torch.Size([1, 192, 16, 10, 8])\n",
      "After final_block shape: torch.Size([1, 2048, 4, 6, 4])\n",
      "After pooling shape: torch.Size([1, 2048, 1, 1, 1])\n",
      "After global average pooling shape: torch.Size([1, 2048, 1, 1, 1])\n"
     ]
    },
    {
     "name": "stderr",
     "output_type": "stream",
     "text": [
      "Extracting Features:   7%|▋         | 11/169 [00:03<00:41,  3.79it/s]"
     ]
    },
    {
     "name": "stdout",
     "output_type": "stream",
     "text": [
      "Input shape: torch.Size([1, 3, 16, 320, 240])\n",
      "After backbone shape: torch.Size([1, 192, 16, 10, 8])\n",
      "After final_block shape: torch.Size([1, 2048, 4, 6, 4])\n",
      "After pooling shape: torch.Size([1, 2048, 1, 1, 1])\n",
      "After global average pooling shape: torch.Size([1, 2048, 1, 1, 1])\n",
      "Input shape: torch.Size([1, 3, 16, 320, 240])\n",
      "After backbone shape: torch.Size([1, 192, 16, 10, 8])\n",
      "After final_block shape: torch.Size([1, 2048, 4, 6, 4])\n",
      "After pooling shape: torch.Size([1, 2048, 1, 1, 1])\n",
      "After global average pooling shape: torch.Size([1, 2048, 1, 1, 1])\n",
      "batch_feature[0]:torch.Size([2048, 1, 1, 1])\n",
      "Batch shape: torch.Size([4, 3, 16, 320, 240])\n",
      "Input shape: torch.Size([1, 3, 16, 320, 240])\n",
      "After backbone shape: torch.Size([1, 192, 16, 10, 8])\n",
      "After final_block shape: torch.Size([1, 2048, 4, 6, 4])\n",
      "After pooling shape: torch.Size([1, 2048, 1, 1, 1])\n",
      "After global average pooling shape: torch.Size([1, 2048, 1, 1, 1])\n",
      "Input shape: torch.Size([1, 3, 16, 320, 240])\n",
      "After backbone shape: torch.Size([1, 192, 16, 10, 8])\n",
      "After final_block shape: torch.Size([1, 2048, 4, 6, 4])\n",
      "After pooling shape: torch.Size([1, 2048, 1, 1, 1])\n",
      "After global average pooling shape: torch.Size([1, 2048, 1, 1, 1])\n",
      "Input shape: torch.Size([1, 3, 16, 320, 240])\n",
      "After backbone shape: torch.Size([1, 192, 16, 10, 8])\n",
      "After final_block shape: torch.Size([1, 2048, 4, 6, 4])\n",
      "After pooling shape: torch.Size([1, 2048, 1, 1, 1])\n",
      "After global average pooling shape: torch.Size([1, 2048, 1, 1, 1])\n",
      "Input shape: torch.Size([1, 3, 16, 320, 240])\n",
      "After backbone shape: torch.Size([1, 192, 16, 10, 8])\n",
      "After final_block shape: torch.Size([1, 2048, 4, 6, 4])\n",
      "After pooling shape: torch.Size([1, 2048, 1, 1, 1])\n",
      "After global average pooling shape: torch.Size([1, 2048, 1, 1, 1])\n",
      "batch_feature[0]:torch.Size([2048, 1, 1, 1])\n"
     ]
    },
    {
     "name": "stderr",
     "output_type": "stream",
     "text": [
      "Extracting Features:   7%|▋         | 12/169 [00:03<00:42,  3.67it/s]"
     ]
    },
    {
     "name": "stdout",
     "output_type": "stream",
     "text": [
      "Batch shape: torch.Size([4, 3, 16, 320, 240])\n",
      "Input shape: torch.Size([1, 3, 16, 320, 240])\n",
      "After backbone shape: torch.Size([1, 192, 16, 10, 8])\n",
      "After final_block shape: torch.Size([1, 2048, 4, 6, 4])\n",
      "After pooling shape: torch.Size([1, 2048, 1, 1, 1])\n",
      "After global average pooling shape: torch.Size([1, 2048, 1, 1, 1])\n",
      "Input shape: torch.Size([1, 3, 16, 320, 240])\n",
      "After backbone shape: torch.Size([1, 192, 16, 10, 8])\n",
      "After final_block shape: torch.Size([1, 2048, 4, 6, 4])\n",
      "After pooling shape: torch.Size([1, 2048, 1, 1, 1])\n",
      "After global average pooling shape: torch.Size([1, 2048, 1, 1, 1])\n",
      "Input shape: torch.Size([1, 3, 16, 320, 240])\n",
      "After backbone shape: torch.Size([1, 192, 16, 10, 8])\n",
      "After final_block shape: torch.Size([1, 2048, 4, 6, 4])\n",
      "After pooling shape: torch.Size([1, 2048, 1, 1, 1])\n",
      "After global average pooling shape: torch.Size([1, 2048, 1, 1, 1])\n",
      "Input shape: torch.Size([1, 3, 16, 320, 240])\n",
      "After backbone shape: torch.Size([1, 192, 16, 10, 8])\n",
      "After final_block shape: torch.Size([1, 2048, 4, 6, 4])\n",
      "After pooling shape: torch.Size([1, 2048, 1, 1, 1])\n",
      "After global average pooling shape: torch.Size([1, 2048, 1, 1, 1])\n"
     ]
    },
    {
     "name": "stderr",
     "output_type": "stream",
     "text": [
      "Extracting Features:   8%|▊         | 13/169 [00:03<00:40,  3.82it/s]"
     ]
    },
    {
     "name": "stdout",
     "output_type": "stream",
     "text": [
      "batch_feature[0]:torch.Size([2048, 1, 1, 1])\n",
      "Batch shape: torch.Size([4, 3, 16, 320, 240])\n",
      "Input shape: torch.Size([1, 3, 16, 320, 240])\n",
      "After backbone shape: torch.Size([1, 192, 16, 10, 8])\n",
      "After final_block shape: torch.Size([1, 2048, 4, 6, 4])\n",
      "After pooling shape: torch.Size([1, 2048, 1, 1, 1])\n",
      "After global average pooling shape: torch.Size([1, 2048, 1, 1, 1])\n",
      "Input shape: torch.Size([1, 3, 16, 320, 240])\n",
      "After backbone shape: torch.Size([1, 192, 16, 10, 8])\n",
      "After final_block shape: torch.Size([1, 2048, 4, 6, 4])\n",
      "After pooling shape: torch.Size([1, 2048, 1, 1, 1])\n",
      "After global average pooling shape: torch.Size([1, 2048, 1, 1, 1])\n",
      "Input shape: torch.Size([1, 3, 16, 320, 240])\n",
      "After backbone shape: torch.Size([1, 192, 16, 10, 8])\n",
      "After final_block shape: torch.Size([1, 2048, 4, 6, 4])\n",
      "After pooling shape: torch.Size([1, 2048, 1, 1, 1])\n",
      "After global average pooling shape: torch.Size([1, 2048, 1, 1, 1])\n"
     ]
    },
    {
     "name": "stderr",
     "output_type": "stream",
     "text": [
      "Extracting Features:   8%|▊         | 14/169 [00:04<00:40,  3.84it/s]"
     ]
    },
    {
     "name": "stdout",
     "output_type": "stream",
     "text": [
      "Input shape: torch.Size([1, 3, 16, 320, 240])\n",
      "After backbone shape: torch.Size([1, 192, 16, 10, 8])\n",
      "After final_block shape: torch.Size([1, 2048, 4, 6, 4])\n",
      "After pooling shape: torch.Size([1, 2048, 1, 1, 1])\n",
      "After global average pooling shape: torch.Size([1, 2048, 1, 1, 1])\n",
      "batch_feature[0]:torch.Size([2048, 1, 1, 1])\n",
      "Batch shape: torch.Size([4, 3, 16, 320, 240])\n",
      "Input shape: torch.Size([1, 3, 16, 320, 240])\n",
      "After backbone shape: torch.Size([1, 192, 16, 10, 8])\n",
      "After final_block shape: torch.Size([1, 2048, 4, 6, 4])\n",
      "After pooling shape: torch.Size([1, 2048, 1, 1, 1])\n",
      "After global average pooling shape: torch.Size([1, 2048, 1, 1, 1])\n",
      "Input shape: torch.Size([1, 3, 16, 320, 240])\n",
      "After backbone shape: torch.Size([1, 192, 16, 10, 8])\n",
      "After final_block shape: torch.Size([1, 2048, 4, 6, 4])\n",
      "After pooling shape: torch.Size([1, 2048, 1, 1, 1])\n",
      "After global average pooling shape: torch.Size([1, 2048, 1, 1, 1])\n"
     ]
    },
    {
     "name": "stderr",
     "output_type": "stream",
     "text": [
      "Extracting Features:   9%|▉         | 15/169 [00:04<00:40,  3.83it/s]"
     ]
    },
    {
     "name": "stdout",
     "output_type": "stream",
     "text": [
      "Input shape: torch.Size([1, 3, 16, 320, 240])\n",
      "After backbone shape: torch.Size([1, 192, 16, 10, 8])\n",
      "After final_block shape: torch.Size([1, 2048, 4, 6, 4])\n",
      "After pooling shape: torch.Size([1, 2048, 1, 1, 1])\n",
      "After global average pooling shape: torch.Size([1, 2048, 1, 1, 1])\n",
      "Input shape: torch.Size([1, 3, 16, 320, 240])\n",
      "After backbone shape: torch.Size([1, 192, 16, 10, 8])\n",
      "After final_block shape: torch.Size([1, 2048, 4, 6, 4])\n",
      "After pooling shape: torch.Size([1, 2048, 1, 1, 1])\n",
      "After global average pooling shape: torch.Size([1, 2048, 1, 1, 1])\n",
      "batch_feature[0]:torch.Size([2048, 1, 1, 1])\n",
      "Batch shape: torch.Size([4, 3, 16, 320, 240])\n",
      "Input shape: torch.Size([1, 3, 16, 320, 240])\n",
      "After backbone shape: torch.Size([1, 192, 16, 10, 8])\n",
      "After final_block shape: torch.Size([1, 2048, 4, 6, 4])\n",
      "After pooling shape: torch.Size([1, 2048, 1, 1, 1])\n",
      "After global average pooling shape: torch.Size([1, 2048, 1, 1, 1])\n",
      "Input shape: torch.Size([1, 3, 16, 320, 240])\n",
      "After backbone shape: torch.Size([1, 192, 16, 10, 8])\n",
      "After final_block shape: torch.Size([1, 2048, 4, 6, 4])\n",
      "After pooling shape: torch.Size([1, 2048, 1, 1, 1])\n",
      "After global average pooling shape: torch.Size([1, 2048, 1, 1, 1])\n",
      "Input shape: torch.Size([1, 3, 16, 320, 240])\n",
      "After backbone shape: torch.Size([1, 192, 16, 10, 8])\n",
      "After final_block shape: torch.Size([1, 2048, 4, 6, 4])\n",
      "After pooling shape: torch.Size([1, 2048, 1, 1, 1])\n",
      "After global average pooling shape: torch.Size([1, 2048, 1, 1, 1])\n",
      "Input shape: torch.Size([1, 3, 16, 320, 240])\n",
      "After backbone shape: torch.Size([1, 192, 16, 10, 8])\n",
      "After final_block shape: torch.Size([1, 2048, 4, 6, 4])\n",
      "After pooling shape: torch.Size([1, 2048, 1, 1, 1])\n",
      "After global average pooling shape: torch.Size([1, 2048, 1, 1, 1])\n"
     ]
    },
    {
     "name": "stderr",
     "output_type": "stream",
     "text": [
      "Extracting Features:   9%|▉         | 16/169 [00:04<00:42,  3.59it/s]"
     ]
    },
    {
     "name": "stdout",
     "output_type": "stream",
     "text": [
      "batch_feature[0]:torch.Size([2048, 1, 1, 1])\n",
      "Batch shape: torch.Size([4, 3, 16, 320, 240])\n",
      "Input shape: torch.Size([1, 3, 16, 320, 240])\n",
      "After backbone shape: torch.Size([1, 192, 16, 10, 8])\n",
      "After final_block shape: torch.Size([1, 2048, 4, 6, 4])\n",
      "After pooling shape: torch.Size([1, 2048, 1, 1, 1])\n",
      "After global average pooling shape: torch.Size([1, 2048, 1, 1, 1])\n",
      "Input shape: torch.Size([1, 3, 16, 320, 240])\n",
      "After backbone shape: torch.Size([1, 192, 16, 10, 8])\n",
      "After final_block shape: torch.Size([1, 2048, 4, 6, 4])\n",
      "After pooling shape: torch.Size([1, 2048, 1, 1, 1])\n",
      "After global average pooling shape: torch.Size([1, 2048, 1, 1, 1])\n",
      "Input shape: torch.Size([1, 3, 16, 320, 240])\n",
      "After backbone shape: torch.Size([1, 192, 16, 10, 8])\n",
      "After final_block shape: torch.Size([1, 2048, 4, 6, 4])\n",
      "After pooling shape: torch.Size([1, 2048, 1, 1, 1])\n",
      "After global average pooling shape: torch.Size([1, 2048, 1, 1, 1])\n"
     ]
    },
    {
     "name": "stderr",
     "output_type": "stream",
     "text": [
      "Extracting Features:  10%|█         | 17/169 [00:04<00:41,  3.67it/s]"
     ]
    },
    {
     "name": "stdout",
     "output_type": "stream",
     "text": [
      "Input shape: torch.Size([1, 3, 16, 320, 240])\n",
      "After backbone shape: torch.Size([1, 192, 16, 10, 8])\n",
      "After final_block shape: torch.Size([1, 2048, 4, 6, 4])\n",
      "After pooling shape: torch.Size([1, 2048, 1, 1, 1])\n",
      "After global average pooling shape: torch.Size([1, 2048, 1, 1, 1])\n",
      "batch_feature[0]:torch.Size([2048, 1, 1, 1])\n",
      "Batch shape: torch.Size([4, 3, 16, 320, 240])\n",
      "Input shape: torch.Size([1, 3, 16, 320, 240])\n",
      "After backbone shape: torch.Size([1, 192, 16, 10, 8])\n",
      "After final_block shape: torch.Size([1, 2048, 4, 6, 4])\n",
      "After pooling shape: torch.Size([1, 2048, 1, 1, 1])\n",
      "After global average pooling shape: torch.Size([1, 2048, 1, 1, 1])\n",
      "Input shape: torch.Size([1, 3, 16, 320, 240])\n",
      "After backbone shape: torch.Size([1, 192, 16, 10, 8])\n",
      "After final_block shape: torch.Size([1, 2048, 4, 6, 4])\n",
      "After pooling shape: torch.Size([1, 2048, 1, 1, 1])\n",
      "After global average pooling shape: torch.Size([1, 2048, 1, 1, 1])\n",
      "Input shape: torch.Size([1, 3, 16, 320, 240])\n"
     ]
    },
    {
     "name": "stderr",
     "output_type": "stream",
     "text": [
      "Extracting Features:  11%|█         | 18/169 [00:05<00:40,  3.72it/s]"
     ]
    },
    {
     "name": "stdout",
     "output_type": "stream",
     "text": [
      "After backbone shape: torch.Size([1, 192, 16, 10, 8])\n",
      "After final_block shape: torch.Size([1, 2048, 4, 6, 4])\n",
      "After pooling shape: torch.Size([1, 2048, 1, 1, 1])\n",
      "After global average pooling shape: torch.Size([1, 2048, 1, 1, 1])\n",
      "Input shape: torch.Size([1, 3, 16, 320, 240])\n",
      "After backbone shape: torch.Size([1, 192, 16, 10, 8])\n",
      "After final_block shape: torch.Size([1, 2048, 4, 6, 4])\n",
      "After pooling shape: torch.Size([1, 2048, 1, 1, 1])\n",
      "After global average pooling shape: torch.Size([1, 2048, 1, 1, 1])\n",
      "batch_feature[0]:torch.Size([2048, 1, 1, 1])\n",
      "Batch shape: torch.Size([4, 3, 16, 320, 240])\n",
      "Input shape: torch.Size([1, 3, 16, 320, 240])\n",
      "After backbone shape: torch.Size([1, 192, 16, 10, 8])\n",
      "After final_block shape: torch.Size([1, 2048, 4, 6, 4])\n",
      "After pooling shape: torch.Size([1, 2048, 1, 1, 1])\n",
      "After global average pooling shape: torch.Size([1, 2048, 1, 1, 1])\n",
      "Input shape: torch.Size([1, 3, 16, 320, 240])\n",
      "After backbone shape: torch.Size([1, 192, 16, 10, 8])\n",
      "After final_block shape: torch.Size([1, 2048, 4, 6, 4])\n",
      "After pooling shape: torch.Size([1, 2048, 1, 1, 1])\n",
      "After global average pooling shape: torch.Size([1, 2048, 1, 1, 1])\n"
     ]
    },
    {
     "name": "stderr",
     "output_type": "stream",
     "text": [
      "Extracting Features:  11%|█         | 19/169 [00:05<00:39,  3.84it/s]"
     ]
    },
    {
     "name": "stdout",
     "output_type": "stream",
     "text": [
      "Input shape: torch.Size([1, 3, 16, 320, 240])\n",
      "After backbone shape: torch.Size([1, 192, 16, 10, 8])\n",
      "After final_block shape: torch.Size([1, 2048, 4, 6, 4])\n",
      "After pooling shape: torch.Size([1, 2048, 1, 1, 1])\n",
      "After global average pooling shape: torch.Size([1, 2048, 1, 1, 1])\n",
      "Input shape: torch.Size([1, 3, 16, 320, 240])\n",
      "After backbone shape: torch.Size([1, 192, 16, 10, 8])\n",
      "After final_block shape: torch.Size([1, 2048, 4, 6, 4])\n",
      "After pooling shape: torch.Size([1, 2048, 1, 1, 1])\n",
      "After global average pooling shape: torch.Size([1, 2048, 1, 1, 1])\n",
      "batch_feature[0]:torch.Size([2048, 1, 1, 1])\n",
      "Batch shape: torch.Size([4, 3, 16, 320, 240])\n",
      "Input shape: torch.Size([1, 3, 16, 320, 240])\n",
      "After backbone shape: torch.Size([1, 192, 16, 10, 8])\n",
      "After final_block shape: torch.Size([1, 2048, 4, 6, 4])\n",
      "After pooling shape: torch.Size([1, 2048, 1, 1, 1])\n",
      "After global average pooling shape: torch.Size([1, 2048, 1, 1, 1])\n",
      "Input shape: torch.Size([1, 3, 16, 320, 240])\n",
      "After backbone shape: torch.Size([1, 192, 16, 10, 8])\n",
      "After final_block shape: torch.Size([1, 2048, 4, 6, 4])\n",
      "After pooling shape: torch.Size([1, 2048, 1, 1, 1])\n",
      "After global average pooling shape: torch.Size([1, 2048, 1, 1, 1])\n"
     ]
    },
    {
     "name": "stderr",
     "output_type": "stream",
     "text": [
      "Extracting Features:  12%|█▏        | 20/169 [00:05<00:38,  3.91it/s]"
     ]
    },
    {
     "name": "stdout",
     "output_type": "stream",
     "text": [
      "Input shape: torch.Size([1, 3, 16, 320, 240])\n",
      "After backbone shape: torch.Size([1, 192, 16, 10, 8])\n",
      "After final_block shape: torch.Size([1, 2048, 4, 6, 4])\n",
      "After pooling shape: torch.Size([1, 2048, 1, 1, 1])\n",
      "After global average pooling shape: torch.Size([1, 2048, 1, 1, 1])\n",
      "Input shape: torch.Size([1, 3, 16, 320, 240])\n",
      "After backbone shape: torch.Size([1, 192, 16, 10, 8])\n",
      "After final_block shape: torch.Size([1, 2048, 4, 6, 4])\n",
      "After pooling shape: torch.Size([1, 2048, 1, 1, 1])\n",
      "After global average pooling shape: torch.Size([1, 2048, 1, 1, 1])\n",
      "batch_feature[0]:torch.Size([2048, 1, 1, 1])\n",
      "Batch shape: torch.Size([4, 3, 16, 320, 240])\n",
      "Input shape: torch.Size([1, 3, 16, 320, 240])\n",
      "After backbone shape: torch.Size([1, 192, 16, 10, 8])\n",
      "After final_block shape: torch.Size([1, 2048, 4, 6, 4])\n",
      "After pooling shape: torch.Size([1, 2048, 1, 1, 1])\n",
      "After global average pooling shape: torch.Size([1, 2048, 1, 1, 1])\n",
      "Input shape: torch.Size([1, 3, 16, 320, 240])\n",
      "After backbone shape: torch.Size([1, 192, 16, 10, 8])\n",
      "After final_block shape: torch.Size([1, 2048, 4, 6, 4])\n",
      "After pooling shape: torch.Size([1, 2048, 1, 1, 1])\n",
      "After global average pooling shape: torch.Size([1, 2048, 1, 1, 1])\n"
     ]
    },
    {
     "name": "stderr",
     "output_type": "stream",
     "text": [
      "Extracting Features:  12%|█▏        | 21/169 [00:05<00:36,  4.01it/s]"
     ]
    },
    {
     "name": "stdout",
     "output_type": "stream",
     "text": [
      "Input shape: torch.Size([1, 3, 16, 320, 240])\n",
      "After backbone shape: torch.Size([1, 192, 16, 10, 8])\n",
      "After final_block shape: torch.Size([1, 2048, 4, 6, 4])\n",
      "After pooling shape: torch.Size([1, 2048, 1, 1, 1])\n",
      "After global average pooling shape: torch.Size([1, 2048, 1, 1, 1])\n",
      "Input shape: torch.Size([1, 3, 16, 320, 240])\n",
      "After backbone shape: torch.Size([1, 192, 16, 10, 8])\n",
      "After final_block shape: torch.Size([1, 2048, 4, 6, 4])\n",
      "After pooling shape: torch.Size([1, 2048, 1, 1, 1])\n",
      "After global average pooling shape: torch.Size([1, 2048, 1, 1, 1])\n",
      "batch_feature[0]:torch.Size([2048, 1, 1, 1])\n",
      "Batch shape: torch.Size([4, 3, 16, 320, 240])\n",
      "Input shape: torch.Size([1, 3, 16, 320, 240])\n",
      "After backbone shape: torch.Size([1, 192, 16, 10, 8])\n",
      "After final_block shape: torch.Size([1, 2048, 4, 6, 4])\n",
      "After pooling shape: torch.Size([1, 2048, 1, 1, 1])\n",
      "After global average pooling shape: torch.Size([1, 2048, 1, 1, 1])\n",
      "Input shape: torch.Size([1, 3, 16, 320, 240])\n"
     ]
    },
    {
     "name": "stderr",
     "output_type": "stream",
     "text": [
      "Extracting Features:  13%|█▎        | 22/169 [00:06<00:36,  4.03it/s]"
     ]
    },
    {
     "name": "stdout",
     "output_type": "stream",
     "text": [
      "After backbone shape: torch.Size([1, 192, 16, 10, 8])\n",
      "After final_block shape: torch.Size([1, 2048, 4, 6, 4])\n",
      "After pooling shape: torch.Size([1, 2048, 1, 1, 1])\n",
      "After global average pooling shape: torch.Size([1, 2048, 1, 1, 1])\n",
      "Input shape: torch.Size([1, 3, 16, 320, 240])\n",
      "After backbone shape: torch.Size([1, 192, 16, 10, 8])\n",
      "After final_block shape: torch.Size([1, 2048, 4, 6, 4])\n",
      "After pooling shape: torch.Size([1, 2048, 1, 1, 1])\n",
      "After global average pooling shape: torch.Size([1, 2048, 1, 1, 1])\n",
      "Input shape: torch.Size([1, 3, 16, 320, 240])\n",
      "After backbone shape: torch.Size([1, 192, 16, 10, 8])\n",
      "After final_block shape: torch.Size([1, 2048, 4, 6, 4])\n",
      "After pooling shape: torch.Size([1, 2048, 1, 1, 1])\n",
      "After global average pooling shape: torch.Size([1, 2048, 1, 1, 1])\n",
      "batch_feature[0]:torch.Size([2048, 1, 1, 1])\n",
      "Batch shape: torch.Size([4, 3, 16, 320, 240])\n",
      "Input shape: torch.Size([1, 3, 16, 320, 240])\n",
      "After backbone shape: torch.Size([1, 192, 16, 10, 8])\n",
      "After final_block shape: torch.Size([1, 2048, 4, 6, 4])\n",
      "After pooling shape: torch.Size([1, 2048, 1, 1, 1])\n",
      "After global average pooling shape: torch.Size([1, 2048, 1, 1, 1])\n"
     ]
    },
    {
     "name": "stderr",
     "output_type": "stream",
     "text": [
      "Extracting Features:  14%|█▎        | 23/169 [00:06<00:35,  4.09it/s]"
     ]
    },
    {
     "name": "stdout",
     "output_type": "stream",
     "text": [
      "Input shape: torch.Size([1, 3, 16, 320, 240])\n",
      "After backbone shape: torch.Size([1, 192, 16, 10, 8])\n",
      "After final_block shape: torch.Size([1, 2048, 4, 6, 4])\n",
      "After pooling shape: torch.Size([1, 2048, 1, 1, 1])\n",
      "After global average pooling shape: torch.Size([1, 2048, 1, 1, 1])\n",
      "Input shape: torch.Size([1, 3, 16, 320, 240])\n",
      "After backbone shape: torch.Size([1, 192, 16, 10, 8])\n",
      "After final_block shape: torch.Size([1, 2048, 4, 6, 4])\n",
      "After pooling shape: torch.Size([1, 2048, 1, 1, 1])\n",
      "After global average pooling shape: torch.Size([1, 2048, 1, 1, 1])\n",
      "Input shape: torch.Size([1, 3, 16, 320, 240])\n",
      "After backbone shape: torch.Size([1, 192, 16, 10, 8])\n",
      "After final_block shape: torch.Size([1, 2048, 4, 6, 4])\n",
      "After pooling shape: torch.Size([1, 2048, 1, 1, 1])\n",
      "After global average pooling shape: torch.Size([1, 2048, 1, 1, 1])\n",
      "batch_feature[0]:torch.Size([2048, 1, 1, 1])\n",
      "Batch shape: torch.Size([4, 3, 16, 320, 240])\n",
      "Input shape: torch.Size([1, 3, 16, 320, 240])\n",
      "After backbone shape: torch.Size([1, 192, 16, 10, 8])\n",
      "After final_block shape: torch.Size([1, 2048, 4, 6, 4])\n",
      "After pooling shape: torch.Size([1, 2048, 1, 1, 1])\n",
      "After global average pooling shape: torch.Size([1, 2048, 1, 1, 1])\n",
      "Input shape: torch.Size([1, 3, 16, 320, 240])\n",
      "After backbone shape: torch.Size([1, 192, 16, 10, 8])\n",
      "After final_block shape: torch.Size([1, 2048, 4, 6, 4])\n",
      "After pooling shape: torch.Size([1, 2048, 1, 1, 1])\n",
      "After global average pooling shape: torch.Size([1, 2048, 1, 1, 1])\n",
      "Input shape: torch.Size([1, 3, 16, 320, 240])\n",
      "After backbone shape: torch.Size([1, 192, 16, 10, 8])\n",
      "After final_block shape: torch.Size([1, 2048, 4, 6, 4])\n",
      "After pooling shape: torch.Size([1, 2048, 1, 1, 1])\n",
      "After global average pooling shape: torch.Size([1, 2048, 1, 1, 1])\n",
      "Input shape: torch.Size([1, 3, 16, 320, 240])\n",
      "After backbone shape: torch.Size([1, 192, 16, 10, 8])\n",
      "After final_block shape: torch.Size([1, 2048, 4, 6, 4])\n",
      "After pooling shape: torch.Size([1, 2048, 1, 1, 1])\n",
      "After global average pooling shape: torch.Size([1, 2048, 1, 1, 1])\n"
     ]
    },
    {
     "name": "stderr",
     "output_type": "stream",
     "text": [
      "Extracting Features:  14%|█▍        | 24/169 [00:06<00:36,  3.98it/s]"
     ]
    },
    {
     "name": "stdout",
     "output_type": "stream",
     "text": [
      "batch_feature[0]:torch.Size([2048, 1, 1, 1])\n",
      "Batch shape: torch.Size([4, 3, 16, 320, 240])\n",
      "Input shape: torch.Size([1, 3, 16, 320, 240])\n",
      "After backbone shape: torch.Size([1, 192, 16, 10, 8])\n",
      "After final_block shape: torch.Size([1, 2048, 4, 6, 4])\n",
      "After pooling shape: torch.Size([1, 2048, 1, 1, 1])\n",
      "After global average pooling shape: torch.Size([1, 2048, 1, 1, 1])\n",
      "Input shape: torch.Size([1, 3, 16, 320, 240])\n",
      "After backbone shape: torch.Size([1, 192, 16, 10, 8])\n",
      "After final_block shape: torch.Size([1, 2048, 4, 6, 4])\n",
      "After pooling shape: torch.Size([1, 2048, 1, 1, 1])\n",
      "After global average pooling shape: torch.Size([1, 2048, 1, 1, 1])\n",
      "Input shape: torch.Size([1, 3, 16, 320, 240])\n",
      "After backbone shape: torch.Size([1, 192, 16, 10, 8])\n",
      "After final_block shape: torch.Size([1, 2048, 4, 6, 4])\n",
      "After pooling shape: torch.Size([1, 2048, 1, 1, 1])\n",
      "After global average pooling shape: torch.Size([1, 2048, 1, 1, 1])\n",
      "Input shape: torch.Size([1, 3, 16, 320, 240])\n"
     ]
    },
    {
     "name": "stderr",
     "output_type": "stream",
     "text": [
      "Extracting Features:  15%|█▍        | 25/169 [00:06<00:36,  3.97it/s]"
     ]
    },
    {
     "name": "stdout",
     "output_type": "stream",
     "text": [
      "After backbone shape: torch.Size([1, 192, 16, 10, 8])\n",
      "After final_block shape: torch.Size([1, 2048, 4, 6, 4])\n",
      "After pooling shape: torch.Size([1, 2048, 1, 1, 1])\n",
      "After global average pooling shape: torch.Size([1, 2048, 1, 1, 1])\n",
      "batch_feature[0]:torch.Size([2048, 1, 1, 1])\n",
      "Batch shape: torch.Size([4, 3, 16, 320, 240])\n",
      "Input shape: torch.Size([1, 3, 16, 320, 240])\n",
      "After backbone shape: torch.Size([1, 192, 16, 10, 8])\n",
      "After final_block shape: torch.Size([1, 2048, 4, 6, 4])\n",
      "After pooling shape: torch.Size([1, 2048, 1, 1, 1])\n",
      "After global average pooling shape: torch.Size([1, 2048, 1, 1, 1])\n",
      "Input shape: torch.Size([1, 3, 16, 320, 240])\n",
      "After backbone shape: torch.Size([1, 192, 16, 10, 8])\n",
      "After final_block shape: torch.Size([1, 2048, 4, 6, 4])\n",
      "After pooling shape: torch.Size([1, 2048, 1, 1, 1])\n",
      "After global average pooling shape: torch.Size([1, 2048, 1, 1, 1])\n",
      "Input shape: torch.Size([1, 3, 16, 320, 240])\n",
      "After backbone shape: torch.Size([1, 192, 16, 10, 8])\n",
      "After final_block shape: torch.Size([1, 2048, 4, 6, 4])\n",
      "After pooling shape: torch.Size([1, 2048, 1, 1, 1])\n",
      "After global average pooling shape: torch.Size([1, 2048, 1, 1, 1])\n"
     ]
    },
    {
     "name": "stderr",
     "output_type": "stream",
     "text": [
      "Extracting Features:  15%|█▌        | 26/169 [00:07<00:36,  3.94it/s]"
     ]
    },
    {
     "name": "stdout",
     "output_type": "stream",
     "text": [
      "Input shape: torch.Size([1, 3, 16, 320, 240])\n",
      "After backbone shape: torch.Size([1, 192, 16, 10, 8])\n",
      "After final_block shape: torch.Size([1, 2048, 4, 6, 4])\n",
      "After pooling shape: torch.Size([1, 2048, 1, 1, 1])\n",
      "After global average pooling shape: torch.Size([1, 2048, 1, 1, 1])\n",
      "batch_feature[0]:torch.Size([2048, 1, 1, 1])\n",
      "Batch shape: torch.Size([4, 3, 16, 320, 240])\n",
      "Input shape: torch.Size([1, 3, 16, 320, 240])\n",
      "After backbone shape: torch.Size([1, 192, 16, 10, 8])\n",
      "After final_block shape: torch.Size([1, 2048, 4, 6, 4])\n",
      "After pooling shape: torch.Size([1, 2048, 1, 1, 1])\n",
      "After global average pooling shape: torch.Size([1, 2048, 1, 1, 1])\n",
      "Input shape: torch.Size([1, 3, 16, 320, 240])\n",
      "After backbone shape: torch.Size([1, 192, 16, 10, 8])\n",
      "After final_block shape: torch.Size([1, 2048, 4, 6, 4])\n",
      "After pooling shape: torch.Size([1, 2048, 1, 1, 1])\n",
      "After global average pooling shape: torch.Size([1, 2048, 1, 1, 1])\n",
      "Input shape: torch.Size([1, 3, 16, 320, 240])\n"
     ]
    },
    {
     "name": "stderr",
     "output_type": "stream",
     "text": [
      "Extracting Features:  16%|█▌        | 27/169 [00:07<00:35,  3.99it/s]"
     ]
    },
    {
     "name": "stdout",
     "output_type": "stream",
     "text": [
      "After backbone shape: torch.Size([1, 192, 16, 10, 8])\n",
      "After final_block shape: torch.Size([1, 2048, 4, 6, 4])\n",
      "After pooling shape: torch.Size([1, 2048, 1, 1, 1])\n",
      "After global average pooling shape: torch.Size([1, 2048, 1, 1, 1])\n",
      "Input shape: torch.Size([1, 3, 16, 320, 240])\n",
      "After backbone shape: torch.Size([1, 192, 16, 10, 8])\n",
      "After final_block shape: torch.Size([1, 2048, 4, 6, 4])\n",
      "After pooling shape: torch.Size([1, 2048, 1, 1, 1])\n",
      "After global average pooling shape: torch.Size([1, 2048, 1, 1, 1])\n",
      "batch_feature[0]:torch.Size([2048, 1, 1, 1])\n",
      "Batch shape: torch.Size([4, 3, 16, 320, 240])\n",
      "Input shape: torch.Size([1, 3, 16, 320, 240])\n",
      "After backbone shape: torch.Size([1, 192, 16, 10, 8])\n",
      "After final_block shape: torch.Size([1, 2048, 4, 6, 4])\n",
      "After pooling shape: torch.Size([1, 2048, 1, 1, 1])\n",
      "After global average pooling shape: torch.Size([1, 2048, 1, 1, 1])\n",
      "Input shape: torch.Size([1, 3, 16, 320, 240])\n",
      "After backbone shape: torch.Size([1, 192, 16, 10, 8])\n",
      "After final_block shape: torch.Size([1, 2048, 4, 6, 4])\n",
      "After pooling shape: torch.Size([1, 2048, 1, 1, 1])\n",
      "After global average pooling shape: torch.Size([1, 2048, 1, 1, 1])\n"
     ]
    },
    {
     "name": "stderr",
     "output_type": "stream",
     "text": [
      "Extracting Features:  17%|█▋        | 28/169 [00:07<00:35,  3.96it/s]"
     ]
    },
    {
     "name": "stdout",
     "output_type": "stream",
     "text": [
      "Input shape: torch.Size([1, 3, 16, 320, 240])\n",
      "After backbone shape: torch.Size([1, 192, 16, 10, 8])\n",
      "After final_block shape: torch.Size([1, 2048, 4, 6, 4])\n",
      "After pooling shape: torch.Size([1, 2048, 1, 1, 1])\n",
      "After global average pooling shape: torch.Size([1, 2048, 1, 1, 1])\n",
      "Input shape: torch.Size([1, 3, 16, 320, 240])\n",
      "After backbone shape: torch.Size([1, 192, 16, 10, 8])\n",
      "After final_block shape: torch.Size([1, 2048, 4, 6, 4])\n",
      "After pooling shape: torch.Size([1, 2048, 1, 1, 1])\n",
      "After global average pooling shape: torch.Size([1, 2048, 1, 1, 1])\n",
      "batch_feature[0]:torch.Size([2048, 1, 1, 1])\n",
      "Batch shape: torch.Size([4, 3, 16, 320, 240])\n",
      "Input shape: torch.Size([1, 3, 16, 320, 240])\n",
      "After backbone shape: torch.Size([1, 192, 16, 10, 8])\n",
      "After final_block shape: torch.Size([1, 2048, 4, 6, 4])\n",
      "After pooling shape: torch.Size([1, 2048, 1, 1, 1])\n",
      "After global average pooling shape: torch.Size([1, 2048, 1, 1, 1])\n",
      "Input shape: torch.Size([1, 3, 16, 320, 240])\n"
     ]
    },
    {
     "name": "stderr",
     "output_type": "stream",
     "text": [
      "Extracting Features:  17%|█▋        | 29/169 [00:07<00:35,  3.96it/s]"
     ]
    },
    {
     "name": "stdout",
     "output_type": "stream",
     "text": [
      "After backbone shape: torch.Size([1, 192, 16, 10, 8])\n",
      "After final_block shape: torch.Size([1, 2048, 4, 6, 4])\n",
      "After pooling shape: torch.Size([1, 2048, 1, 1, 1])\n",
      "After global average pooling shape: torch.Size([1, 2048, 1, 1, 1])\n",
      "Input shape: torch.Size([1, 3, 16, 320, 240])\n",
      "After backbone shape: torch.Size([1, 192, 16, 10, 8])\n",
      "After final_block shape: torch.Size([1, 2048, 4, 6, 4])\n",
      "After pooling shape: torch.Size([1, 2048, 1, 1, 1])\n",
      "After global average pooling shape: torch.Size([1, 2048, 1, 1, 1])\n",
      "Input shape: torch.Size([1, 3, 16, 320, 240])\n",
      "After backbone shape: torch.Size([1, 192, 16, 10, 8])\n",
      "After final_block shape: torch.Size([1, 2048, 4, 6, 4])\n",
      "After pooling shape: torch.Size([1, 2048, 1, 1, 1])\n",
      "After global average pooling shape: torch.Size([1, 2048, 1, 1, 1])\n",
      "batch_feature[0]:torch.Size([2048, 1, 1, 1])\n",
      "Batch shape: torch.Size([4, 3, 16, 320, 240])\n",
      "Input shape: torch.Size([1, 3, 16, 320, 240])\n"
     ]
    },
    {
     "name": "stderr",
     "output_type": "stream",
     "text": [
      "Extracting Features:  18%|█▊        | 30/169 [00:08<00:35,  3.96it/s]"
     ]
    },
    {
     "name": "stdout",
     "output_type": "stream",
     "text": [
      "After backbone shape: torch.Size([1, 192, 16, 10, 8])\n",
      "After final_block shape: torch.Size([1, 2048, 4, 6, 4])\n",
      "After pooling shape: torch.Size([1, 2048, 1, 1, 1])\n",
      "After global average pooling shape: torch.Size([1, 2048, 1, 1, 1])\n",
      "Input shape: torch.Size([1, 3, 16, 320, 240])\n",
      "After backbone shape: torch.Size([1, 192, 16, 10, 8])\n",
      "After final_block shape: torch.Size([1, 2048, 4, 6, 4])\n",
      "After pooling shape: torch.Size([1, 2048, 1, 1, 1])\n",
      "After global average pooling shape: torch.Size([1, 2048, 1, 1, 1])\n",
      "Input shape: torch.Size([1, 3, 16, 320, 240])\n",
      "After backbone shape: torch.Size([1, 192, 16, 10, 8])\n",
      "After final_block shape: torch.Size([1, 2048, 4, 6, 4])\n",
      "After pooling shape: torch.Size([1, 2048, 1, 1, 1])\n",
      "After global average pooling shape: torch.Size([1, 2048, 1, 1, 1])\n",
      "Input shape: torch.Size([1, 3, 16, 320, 240])\n",
      "After backbone shape: torch.Size([1, 192, 16, 10, 8])\n",
      "After final_block shape: torch.Size([1, 2048, 4, 6, 4])\n",
      "After pooling shape: torch.Size([1, 2048, 1, 1, 1])\n",
      "After global average pooling shape: torch.Size([1, 2048, 1, 1, 1])\n",
      "batch_feature[0]:torch.Size([2048, 1, 1, 1])\n",
      "Batch shape: torch.Size([4, 3, 16, 320, 240])\n",
      "Input shape: torch.Size([1, 3, 16, 320, 240])\n",
      "After backbone shape: torch.Size([1, 192, 16, 10, 8])\n",
      "After final_block shape: torch.Size([1, 2048, 4, 6, 4])\n",
      "After pooling shape: torch.Size([1, 2048, 1, 1, 1])\n",
      "After global average pooling shape: torch.Size([1, 2048, 1, 1, 1])\n",
      "Input shape: torch.Size([1, 3, 16, 320, 240])\n",
      "After backbone shape: torch.Size([1, 192, 16, 10, 8])\n",
      "After final_block shape: torch.Size([1, 2048, 4, 6, 4])\n",
      "After pooling shape: torch.Size([1, 2048, 1, 1, 1])\n",
      "After global average pooling shape: torch.Size([1, 2048, 1, 1, 1])\n",
      "Input shape: torch.Size([1, 3, 16, 320, 240])\n",
      "After backbone shape: torch.Size([1, 192, 16, 10, 8])\n",
      "After final_block shape: torch.Size([1, 2048, 4, 6, 4])\n",
      "After pooling shape: torch.Size([1, 2048, 1, 1, 1])\n",
      "After global average pooling shape: torch.Size([1, 2048, 1, 1, 1])\n",
      "Input shape: torch.Size([1, 3, 16, 320, 240])\n",
      "After backbone shape: torch.Size([1, 192, 16, 10, 8])\n",
      "After final_block shape: torch.Size([1, 2048, 4, 6, 4])\n",
      "After pooling shape: torch.Size([1, 2048, 1, 1, 1])\n",
      "After global average pooling shape: torch.Size([1, 2048, 1, 1, 1])\n"
     ]
    },
    {
     "name": "stderr",
     "output_type": "stream",
     "text": [
      "Extracting Features:  18%|█▊        | 31/169 [00:08<00:35,  3.93it/s]"
     ]
    },
    {
     "name": "stdout",
     "output_type": "stream",
     "text": [
      "batch_feature[0]:torch.Size([2048, 1, 1, 1])\n",
      "Batch shape: torch.Size([4, 3, 16, 320, 240])\n",
      "Input shape: torch.Size([1, 3, 16, 320, 240])\n",
      "After backbone shape: torch.Size([1, 192, 16, 10, 8])\n",
      "After final_block shape: torch.Size([1, 2048, 4, 6, 4])\n",
      "After pooling shape: torch.Size([1, 2048, 1, 1, 1])\n",
      "After global average pooling shape: torch.Size([1, 2048, 1, 1, 1])\n",
      "Input shape: torch.Size([1, 3, 16, 320, 240])\n",
      "After backbone shape: torch.Size([1, 192, 16, 10, 8])\n",
      "After final_block shape: torch.Size([1, 2048, 4, 6, 4])\n",
      "After pooling shape: torch.Size([1, 2048, 1, 1, 1])\n",
      "After global average pooling shape: torch.Size([1, 2048, 1, 1, 1])\n",
      "Input shape: torch.Size([1, 3, 16, 320, 240])\n",
      "After backbone shape: torch.Size([1, 192, 16, 10, 8])\n",
      "After final_block shape: torch.Size([1, 2048, 4, 6, 4])\n",
      "After pooling shape: torch.Size([1, 2048, 1, 1, 1])\n",
      "After global average pooling shape: torch.Size([1, 2048, 1, 1, 1])\n"
     ]
    },
    {
     "name": "stderr",
     "output_type": "stream",
     "text": [
      "Extracting Features:  19%|█▉        | 32/169 [00:08<00:35,  3.87it/s]"
     ]
    },
    {
     "name": "stdout",
     "output_type": "stream",
     "text": [
      "Input shape: torch.Size([1, 3, 16, 320, 240])\n",
      "After backbone shape: torch.Size([1, 192, 16, 10, 8])\n",
      "After final_block shape: torch.Size([1, 2048, 4, 6, 4])\n",
      "After pooling shape: torch.Size([1, 2048, 1, 1, 1])\n",
      "After global average pooling shape: torch.Size([1, 2048, 1, 1, 1])\n",
      "batch_feature[0]:torch.Size([2048, 1, 1, 1])\n",
      "Batch shape: torch.Size([4, 3, 16, 320, 240])\n",
      "Input shape: torch.Size([1, 3, 16, 320, 240])\n",
      "After backbone shape: torch.Size([1, 192, 16, 10, 8])\n",
      "After final_block shape: torch.Size([1, 2048, 4, 6, 4])\n",
      "After pooling shape: torch.Size([1, 2048, 1, 1, 1])\n",
      "After global average pooling shape: torch.Size([1, 2048, 1, 1, 1])\n",
      "Input shape: torch.Size([1, 3, 16, 320, 240])\n",
      "After backbone shape: torch.Size([1, 192, 16, 10, 8])\n",
      "After final_block shape: torch.Size([1, 2048, 4, 6, 4])\n",
      "After pooling shape: torch.Size([1, 2048, 1, 1, 1])\n",
      "After global average pooling shape: torch.Size([1, 2048, 1, 1, 1])\n",
      "Input shape: torch.Size([1, 3, 16, 320, 240])\n"
     ]
    },
    {
     "name": "stderr",
     "output_type": "stream",
     "text": [
      "Extracting Features:  20%|█▉        | 33/169 [00:08<00:35,  3.87it/s]"
     ]
    },
    {
     "name": "stdout",
     "output_type": "stream",
     "text": [
      "After backbone shape: torch.Size([1, 192, 16, 10, 8])\n",
      "After final_block shape: torch.Size([1, 2048, 4, 6, 4])\n",
      "After pooling shape: torch.Size([1, 2048, 1, 1, 1])\n",
      "After global average pooling shape: torch.Size([1, 2048, 1, 1, 1])\n",
      "Input shape: torch.Size([1, 3, 16, 320, 240])\n",
      "After backbone shape: torch.Size([1, 192, 16, 10, 8])\n",
      "After final_block shape: torch.Size([1, 2048, 4, 6, 4])\n",
      "After pooling shape: torch.Size([1, 2048, 1, 1, 1])\n",
      "After global average pooling shape: torch.Size([1, 2048, 1, 1, 1])\n",
      "batch_feature[0]:torch.Size([2048, 1, 1, 1])\n",
      "Batch shape: torch.Size([4, 3, 16, 320, 240])\n",
      "Input shape: torch.Size([1, 3, 16, 320, 240])\n",
      "After backbone shape: torch.Size([1, 192, 16, 10, 8])\n",
      "After final_block shape: torch.Size([1, 2048, 4, 6, 4])\n",
      "After pooling shape: torch.Size([1, 2048, 1, 1, 1])\n",
      "After global average pooling shape: torch.Size([1, 2048, 1, 1, 1])\n",
      "Input shape: torch.Size([1, 3, 16, 320, 240])\n",
      "After backbone shape: torch.Size([1, 192, 16, 10, 8])\n",
      "After final_block shape: torch.Size([1, 2048, 4, 6, 4])\n",
      "After pooling shape: torch.Size([1, 2048, 1, 1, 1])\n",
      "After global average pooling shape: torch.Size([1, 2048, 1, 1, 1])\n"
     ]
    },
    {
     "name": "stderr",
     "output_type": "stream",
     "text": [
      "Extracting Features:  20%|██        | 34/169 [00:09<00:34,  3.91it/s]"
     ]
    },
    {
     "name": "stdout",
     "output_type": "stream",
     "text": [
      "Input shape: torch.Size([1, 3, 16, 320, 240])\n",
      "After backbone shape: torch.Size([1, 192, 16, 10, 8])\n",
      "After final_block shape: torch.Size([1, 2048, 4, 6, 4])\n",
      "After pooling shape: torch.Size([1, 2048, 1, 1, 1])\n",
      "After global average pooling shape: torch.Size([1, 2048, 1, 1, 1])\n",
      "Input shape: torch.Size([1, 3, 16, 320, 240])\n",
      "After backbone shape: torch.Size([1, 192, 16, 10, 8])\n",
      "After final_block shape: torch.Size([1, 2048, 4, 6, 4])\n",
      "After pooling shape: torch.Size([1, 2048, 1, 1, 1])\n",
      "After global average pooling shape: torch.Size([1, 2048, 1, 1, 1])\n",
      "batch_feature[0]:torch.Size([2048, 1, 1, 1])\n",
      "Batch shape: torch.Size([4, 3, 16, 320, 240])\n",
      "Input shape: torch.Size([1, 3, 16, 320, 240])\n",
      "After backbone shape: torch.Size([1, 192, 16, 10, 8])\n",
      "After final_block shape: torch.Size([1, 2048, 4, 6, 4])\n",
      "After pooling shape: torch.Size([1, 2048, 1, 1, 1])\n",
      "After global average pooling shape: torch.Size([1, 2048, 1, 1, 1])\n"
     ]
    },
    {
     "name": "stderr",
     "output_type": "stream",
     "text": [
      "Extracting Features:  21%|██        | 35/169 [00:09<00:34,  3.89it/s]"
     ]
    },
    {
     "name": "stdout",
     "output_type": "stream",
     "text": [
      "Input shape: torch.Size([1, 3, 16, 320, 240])\n",
      "After backbone shape: torch.Size([1, 192, 16, 10, 8])\n",
      "After final_block shape: torch.Size([1, 2048, 4, 6, 4])\n",
      "After pooling shape: torch.Size([1, 2048, 1, 1, 1])\n",
      "After global average pooling shape: torch.Size([1, 2048, 1, 1, 1])\n",
      "Input shape: torch.Size([1, 3, 16, 320, 240])\n",
      "After backbone shape: torch.Size([1, 192, 16, 10, 8])\n",
      "After final_block shape: torch.Size([1, 2048, 4, 6, 4])\n",
      "After pooling shape: torch.Size([1, 2048, 1, 1, 1])\n",
      "After global average pooling shape: torch.Size([1, 2048, 1, 1, 1])\n",
      "Input shape: torch.Size([1, 3, 16, 320, 240])\n",
      "After backbone shape: torch.Size([1, 192, 16, 10, 8])\n",
      "After final_block shape: torch.Size([1, 2048, 4, 6, 4])\n",
      "After pooling shape: torch.Size([1, 2048, 1, 1, 1])\n",
      "After global average pooling shape: torch.Size([1, 2048, 1, 1, 1])\n",
      "batch_feature[0]:torch.Size([2048, 1, 1, 1])\n",
      "Batch shape: torch.Size([4, 3, 16, 320, 240])\n",
      "Input shape: torch.Size([1, 3, 16, 320, 240])\n",
      "After backbone shape: torch.Size([1, 192, 16, 10, 8])\n",
      "After final_block shape: torch.Size([1, 2048, 4, 6, 4])\n",
      "After pooling shape: torch.Size([1, 2048, 1, 1, 1])\n",
      "After global average pooling shape: torch.Size([1, 2048, 1, 1, 1])\n",
      "Input shape: torch.Size([1, 3, 16, 320, 240])\n",
      "After backbone shape: torch.Size([1, 192, 16, 10, 8])\n",
      "After final_block shape: torch.Size([1, 2048, 4, 6, 4])\n",
      "After pooling shape: torch.Size([1, 2048, 1, 1, 1])\n",
      "After global average pooling shape: torch.Size([1, 2048, 1, 1, 1])\n",
      "Input shape: torch.Size([1, 3, 16, 320, 240])\n",
      "After backbone shape: torch.Size([1, 192, 16, 10, 8])\n",
      "After final_block shape: torch.Size([1, 2048, 4, 6, 4])\n",
      "After pooling shape: torch.Size([1, 2048, 1, 1, 1])\n",
      "After global average pooling shape: torch.Size([1, 2048, 1, 1, 1])\n",
      "Input shape: torch.Size([1, 3, 16, 320, 240])\n",
      "After backbone shape: torch.Size([1, 192, 16, 10, 8])\n",
      "After final_block shape: torch.Size([1, 2048, 4, 6, 4])\n",
      "After pooling shape: torch.Size([1, 2048, 1, 1, 1])\n",
      "After global average pooling shape: torch.Size([1, 2048, 1, 1, 1])\n"
     ]
    },
    {
     "name": "stderr",
     "output_type": "stream",
     "text": [
      "Extracting Features:  21%|██▏       | 36/169 [00:09<00:34,  3.88it/s]"
     ]
    },
    {
     "name": "stdout",
     "output_type": "stream",
     "text": [
      "batch_feature[0]:torch.Size([2048, 1, 1, 1])\n",
      "Batch shape: torch.Size([4, 3, 16, 320, 240])\n",
      "Input shape: torch.Size([1, 3, 16, 320, 240])\n",
      "After backbone shape: torch.Size([1, 192, 16, 10, 8])\n",
      "After final_block shape: torch.Size([1, 2048, 4, 6, 4])\n",
      "After pooling shape: torch.Size([1, 2048, 1, 1, 1])\n",
      "After global average pooling shape: torch.Size([1, 2048, 1, 1, 1])\n",
      "Input shape: torch.Size([1, 3, 16, 320, 240])\n",
      "After backbone shape: torch.Size([1, 192, 16, 10, 8])\n",
      "After final_block shape: torch.Size([1, 2048, 4, 6, 4])\n",
      "After pooling shape: torch.Size([1, 2048, 1, 1, 1])\n",
      "After global average pooling shape: torch.Size([1, 2048, 1, 1, 1])\n",
      "Input shape: torch.Size([1, 3, 16, 320, 240])\n",
      "After backbone shape: torch.Size([1, 192, 16, 10, 8])\n",
      "After final_block shape: torch.Size([1, 2048, 4, 6, 4])\n",
      "After pooling shape: torch.Size([1, 2048, 1, 1, 1])\n",
      "After global average pooling shape: torch.Size([1, 2048, 1, 1, 1])\n",
      "Input shape: torch.Size([1, 3, 16, 320, 240])\n"
     ]
    },
    {
     "name": "stderr",
     "output_type": "stream",
     "text": [
      "Extracting Features:  22%|██▏       | 37/169 [00:09<00:33,  3.91it/s]"
     ]
    },
    {
     "name": "stdout",
     "output_type": "stream",
     "text": [
      "After backbone shape: torch.Size([1, 192, 16, 10, 8])\n",
      "After final_block shape: torch.Size([1, 2048, 4, 6, 4])\n",
      "After pooling shape: torch.Size([1, 2048, 1, 1, 1])\n",
      "After global average pooling shape: torch.Size([1, 2048, 1, 1, 1])\n",
      "batch_feature[0]:torch.Size([2048, 1, 1, 1])\n",
      "Batch shape: torch.Size([4, 3, 16, 320, 240])\n",
      "Input shape: torch.Size([1, 3, 16, 320, 240])\n",
      "After backbone shape: torch.Size([1, 192, 16, 10, 8])\n",
      "After final_block shape: torch.Size([1, 2048, 4, 6, 4])\n",
      "After pooling shape: torch.Size([1, 2048, 1, 1, 1])\n",
      "After global average pooling shape: torch.Size([1, 2048, 1, 1, 1])\n",
      "Input shape: torch.Size([1, 3, 16, 320, 240])\n",
      "After backbone shape: torch.Size([1, 192, 16, 10, 8])\n",
      "After final_block shape: torch.Size([1, 2048, 4, 6, 4])\n",
      "After pooling shape: torch.Size([1, 2048, 1, 1, 1])\n",
      "After global average pooling shape: torch.Size([1, 2048, 1, 1, 1])\n",
      "Input shape: torch.Size([1, 3, 16, 320, 240])\n",
      "After backbone shape: torch.Size([1, 192, 16, 10, 8])\n",
      "After final_block shape: torch.Size([1, 2048, 4, 6, 4])\n",
      "After pooling shape: torch.Size([1, 2048, 1, 1, 1])\n",
      "After global average pooling shape: torch.Size([1, 2048, 1, 1, 1])\n"
     ]
    },
    {
     "name": "stderr",
     "output_type": "stream",
     "text": [
      "Extracting Features:  22%|██▏       | 38/169 [00:10<00:33,  3.94it/s]"
     ]
    },
    {
     "name": "stdout",
     "output_type": "stream",
     "text": [
      "Input shape: torch.Size([1, 3, 16, 320, 240])\n",
      "After backbone shape: torch.Size([1, 192, 16, 10, 8])\n",
      "After final_block shape: torch.Size([1, 2048, 4, 6, 4])\n",
      "After pooling shape: torch.Size([1, 2048, 1, 1, 1])\n",
      "After global average pooling shape: torch.Size([1, 2048, 1, 1, 1])\n",
      "batch_feature[0]:torch.Size([2048, 1, 1, 1])\n",
      "Batch shape: torch.Size([4, 3, 16, 320, 240])\n",
      "Input shape: torch.Size([1, 3, 16, 320, 240])\n",
      "After backbone shape: torch.Size([1, 192, 16, 10, 8])\n",
      "After final_block shape: torch.Size([1, 2048, 4, 6, 4])\n",
      "After pooling shape: torch.Size([1, 2048, 1, 1, 1])\n",
      "After global average pooling shape: torch.Size([1, 2048, 1, 1, 1])\n",
      "Input shape: torch.Size([1, 3, 16, 320, 240])\n",
      "After backbone shape: torch.Size([1, 192, 16, 10, 8])\n",
      "After final_block shape: torch.Size([1, 2048, 4, 6, 4])\n",
      "After pooling shape: torch.Size([1, 2048, 1, 1, 1])\n",
      "After global average pooling shape: torch.Size([1, 2048, 1, 1, 1])\n"
     ]
    },
    {
     "name": "stderr",
     "output_type": "stream",
     "text": [
      "Extracting Features:  23%|██▎       | 39/169 [00:10<00:33,  3.92it/s]"
     ]
    },
    {
     "name": "stdout",
     "output_type": "stream",
     "text": [
      "Input shape: torch.Size([1, 3, 16, 320, 240])\n",
      "After backbone shape: torch.Size([1, 192, 16, 10, 8])\n",
      "After final_block shape: torch.Size([1, 2048, 4, 6, 4])\n",
      "After pooling shape: torch.Size([1, 2048, 1, 1, 1])\n",
      "After global average pooling shape: torch.Size([1, 2048, 1, 1, 1])\n",
      "Input shape: torch.Size([1, 3, 16, 320, 240])\n",
      "After backbone shape: torch.Size([1, 192, 16, 10, 8])\n",
      "After final_block shape: torch.Size([1, 2048, 4, 6, 4])\n",
      "After pooling shape: torch.Size([1, 2048, 1, 1, 1])\n",
      "After global average pooling shape: torch.Size([1, 2048, 1, 1, 1])\n",
      "batch_feature[0]:torch.Size([2048, 1, 1, 1])\n",
      "Batch shape: torch.Size([4, 3, 16, 320, 240])\n",
      "Input shape: torch.Size([1, 3, 16, 320, 240])\n",
      "After backbone shape: torch.Size([1, 192, 16, 10, 8])\n",
      "After final_block shape: torch.Size([1, 2048, 4, 6, 4])\n",
      "After pooling shape: torch.Size([1, 2048, 1, 1, 1])\n",
      "After global average pooling shape: torch.Size([1, 2048, 1, 1, 1])\n",
      "Input shape: torch.Size([1, 3, 16, 320, 240])\n"
     ]
    },
    {
     "name": "stderr",
     "output_type": "stream",
     "text": [
      "Extracting Features:  24%|██▎       | 40/169 [00:10<00:32,  3.91it/s]"
     ]
    },
    {
     "name": "stdout",
     "output_type": "stream",
     "text": [
      "After backbone shape: torch.Size([1, 192, 16, 10, 8])\n",
      "After final_block shape: torch.Size([1, 2048, 4, 6, 4])\n",
      "After pooling shape: torch.Size([1, 2048, 1, 1, 1])\n",
      "After global average pooling shape: torch.Size([1, 2048, 1, 1, 1])\n",
      "Input shape: torch.Size([1, 3, 16, 320, 240])\n",
      "After backbone shape: torch.Size([1, 192, 16, 10, 8])\n",
      "After final_block shape: torch.Size([1, 2048, 4, 6, 4])\n",
      "After pooling shape: torch.Size([1, 2048, 1, 1, 1])\n",
      "After global average pooling shape: torch.Size([1, 2048, 1, 1, 1])\n",
      "Input shape: torch.Size([1, 3, 16, 320, 240])\n",
      "After backbone shape: torch.Size([1, 192, 16, 10, 8])\n",
      "After final_block shape: torch.Size([1, 2048, 4, 6, 4])\n",
      "After pooling shape: torch.Size([1, 2048, 1, 1, 1])\n",
      "After global average pooling shape: torch.Size([1, 2048, 1, 1, 1])\n",
      "batch_feature[0]:torch.Size([2048, 1, 1, 1])\n",
      "Batch shape: torch.Size([4, 3, 16, 320, 240])\n",
      "Input shape: torch.Size([1, 3, 16, 320, 240])\n",
      "After backbone shape: torch.Size([1, 192, 16, 10, 8])\n",
      "After final_block shape: torch.Size([1, 2048, 4, 6, 4])\n",
      "After pooling shape: torch.Size([1, 2048, 1, 1, 1])\n",
      "After global average pooling shape: torch.Size([1, 2048, 1, 1, 1])\n"
     ]
    },
    {
     "name": "stderr",
     "output_type": "stream",
     "text": [
      "Extracting Features:  24%|██▍       | 41/169 [00:10<00:32,  3.94it/s]"
     ]
    },
    {
     "name": "stdout",
     "output_type": "stream",
     "text": [
      "Input shape: torch.Size([1, 3, 16, 320, 240])\n",
      "After backbone shape: torch.Size([1, 192, 16, 10, 8])\n",
      "After final_block shape: torch.Size([1, 2048, 4, 6, 4])\n",
      "After pooling shape: torch.Size([1, 2048, 1, 1, 1])\n",
      "After global average pooling shape: torch.Size([1, 2048, 1, 1, 1])\n",
      "Input shape: torch.Size([1, 3, 16, 320, 240])\n",
      "After backbone shape: torch.Size([1, 192, 16, 10, 8])\n",
      "After final_block shape: torch.Size([1, 2048, 4, 6, 4])\n",
      "After pooling shape: torch.Size([1, 2048, 1, 1, 1])\n",
      "After global average pooling shape: torch.Size([1, 2048, 1, 1, 1])\n",
      "Input shape: torch.Size([1, 3, 16, 320, 240])\n",
      "After backbone shape: torch.Size([1, 192, 16, 10, 8])\n",
      "After final_block shape: torch.Size([1, 2048, 4, 6, 4])\n",
      "After pooling shape: torch.Size([1, 2048, 1, 1, 1])\n",
      "After global average pooling shape: torch.Size([1, 2048, 1, 1, 1])\n",
      "batch_feature[0]:torch.Size([2048, 1, 1, 1])\n",
      "Batch shape: torch.Size([4, 3, 16, 320, 240])\n",
      "Input shape: torch.Size([1, 3, 16, 320, 240])\n",
      "After backbone shape: torch.Size([1, 192, 16, 10, 8])\n",
      "After final_block shape: torch.Size([1, 2048, 4, 6, 4])\n",
      "After pooling shape: torch.Size([1, 2048, 1, 1, 1])\n",
      "After global average pooling shape: torch.Size([1, 2048, 1, 1, 1])\n",
      "Input shape: torch.Size([1, 3, 16, 320, 240])\n",
      "After backbone shape: torch.Size([1, 192, 16, 10, 8])\n",
      "After final_block shape: torch.Size([1, 2048, 4, 6, 4])\n",
      "After pooling shape: torch.Size([1, 2048, 1, 1, 1])\n",
      "After global average pooling shape: torch.Size([1, 2048, 1, 1, 1])\n",
      "Input shape: torch.Size([1, 3, 16, 320, 240])\n",
      "After backbone shape: torch.Size([1, 192, 16, 10, 8])\n",
      "After final_block shape: torch.Size([1, 2048, 4, 6, 4])\n",
      "After pooling shape: torch.Size([1, 2048, 1, 1, 1])\n",
      "After global average pooling shape: torch.Size([1, 2048, 1, 1, 1])\n",
      "Input shape: torch.Size([1, 3, 16, 320, 240])\n",
      "After backbone shape: torch.Size([1, 192, 16, 10, 8])\n",
      "After final_block shape: torch.Size([1, 2048, 4, 6, 4])\n",
      "After pooling shape: torch.Size([1, 2048, 1, 1, 1])\n",
      "After global average pooling shape: torch.Size([1, 2048, 1, 1, 1])\n"
     ]
    },
    {
     "name": "stderr",
     "output_type": "stream",
     "text": [
      "Extracting Features:  25%|██▍       | 42/169 [00:11<00:34,  3.70it/s]"
     ]
    },
    {
     "name": "stdout",
     "output_type": "stream",
     "text": [
      "batch_feature[0]:torch.Size([2048, 1, 1, 1])\n",
      "Batch shape: torch.Size([4, 3, 16, 320, 240])\n",
      "Input shape: torch.Size([1, 3, 16, 320, 240])\n",
      "After backbone shape: torch.Size([1, 192, 16, 10, 8])\n",
      "After final_block shape: torch.Size([1, 2048, 4, 6, 4])\n",
      "After pooling shape: torch.Size([1, 2048, 1, 1, 1])\n",
      "After global average pooling shape: torch.Size([1, 2048, 1, 1, 1])\n",
      "Input shape: torch.Size([1, 3, 16, 320, 240])\n",
      "After backbone shape: torch.Size([1, 192, 16, 10, 8])\n",
      "After final_block shape: torch.Size([1, 2048, 4, 6, 4])\n",
      "After pooling shape: torch.Size([1, 2048, 1, 1, 1])\n",
      "After global average pooling shape: torch.Size([1, 2048, 1, 1, 1])\n",
      "Input shape: torch.Size([1, 3, 16, 320, 240])\n",
      "After backbone shape: torch.Size([1, 192, 16, 10, 8])\n",
      "After final_block shape: torch.Size([1, 2048, 4, 6, 4])\n",
      "After pooling shape: torch.Size([1, 2048, 1, 1, 1])\n",
      "After global average pooling shape: torch.Size([1, 2048, 1, 1, 1])\n",
      "Input shape: torch.Size([1, 3, 16, 320, 240])\n"
     ]
    },
    {
     "name": "stderr",
     "output_type": "stream",
     "text": [
      "Extracting Features:  25%|██▌       | 43/169 [00:11<00:33,  3.79it/s]"
     ]
    },
    {
     "name": "stdout",
     "output_type": "stream",
     "text": [
      "After backbone shape: torch.Size([1, 192, 16, 10, 8])\n",
      "After final_block shape: torch.Size([1, 2048, 4, 6, 4])\n",
      "After pooling shape: torch.Size([1, 2048, 1, 1, 1])\n",
      "After global average pooling shape: torch.Size([1, 2048, 1, 1, 1])\n",
      "batch_feature[0]:torch.Size([2048, 1, 1, 1])\n",
      "Batch shape: torch.Size([4, 3, 16, 320, 240])\n",
      "Input shape: torch.Size([1, 3, 16, 320, 240])\n",
      "After backbone shape: torch.Size([1, 192, 16, 10, 8])\n",
      "After final_block shape: torch.Size([1, 2048, 4, 6, 4])\n",
      "After pooling shape: torch.Size([1, 2048, 1, 1, 1])\n",
      "After global average pooling shape: torch.Size([1, 2048, 1, 1, 1])\n",
      "Input shape: torch.Size([1, 3, 16, 320, 240])\n",
      "After backbone shape: torch.Size([1, 192, 16, 10, 8])\n",
      "After final_block shape: torch.Size([1, 2048, 4, 6, 4])\n",
      "After pooling shape: torch.Size([1, 2048, 1, 1, 1])\n",
      "After global average pooling shape: torch.Size([1, 2048, 1, 1, 1])\n",
      "Input shape: torch.Size([1, 3, 16, 320, 240])\n",
      "After backbone shape: torch.Size([1, 192, 16, 10, 8])\n",
      "After final_block shape: torch.Size([1, 2048, 4, 6, 4])\n",
      "After pooling shape: torch.Size([1, 2048, 1, 1, 1])\n",
      "After global average pooling shape: torch.Size([1, 2048, 1, 1, 1])\n"
     ]
    },
    {
     "name": "stderr",
     "output_type": "stream",
     "text": [
      "Extracting Features:  26%|██▌       | 44/169 [00:11<00:32,  3.89it/s]"
     ]
    },
    {
     "name": "stdout",
     "output_type": "stream",
     "text": [
      "Input shape: torch.Size([1, 3, 16, 320, 240])\n",
      "After backbone shape: torch.Size([1, 192, 16, 10, 8])\n",
      "After final_block shape: torch.Size([1, 2048, 4, 6, 4])\n",
      "After pooling shape: torch.Size([1, 2048, 1, 1, 1])\n",
      "After global average pooling shape: torch.Size([1, 2048, 1, 1, 1])\n",
      "batch_feature[0]:torch.Size([2048, 1, 1, 1])\n",
      "Batch shape: torch.Size([4, 3, 16, 320, 240])\n",
      "Input shape: torch.Size([1, 3, 16, 320, 240])\n",
      "After backbone shape: torch.Size([1, 192, 16, 10, 8])\n",
      "After final_block shape: torch.Size([1, 2048, 4, 6, 4])\n",
      "After pooling shape: torch.Size([1, 2048, 1, 1, 1])\n",
      "After global average pooling shape: torch.Size([1, 2048, 1, 1, 1])\n",
      "Input shape: torch.Size([1, 3, 16, 320, 240])\n",
      "After backbone shape: torch.Size([1, 192, 16, 10, 8])\n",
      "After final_block shape: torch.Size([1, 2048, 4, 6, 4])\n",
      "After pooling shape: torch.Size([1, 2048, 1, 1, 1])\n",
      "After global average pooling shape: torch.Size([1, 2048, 1, 1, 1])\n",
      "Input shape: torch.Size([1, 3, 16, 320, 240])\n",
      "After backbone shape: torch.Size([1, 192, 16, 10, 8])\n",
      "After final_block shape: torch.Size([1, 2048, 4, 6, 4])\n",
      "After pooling shape: torch.Size([1, 2048, 1, 1, 1])\n",
      "After global average pooling shape: torch.Size([1, 2048, 1, 1, 1])\n"
     ]
    },
    {
     "name": "stderr",
     "output_type": "stream",
     "text": [
      "Extracting Features:  27%|██▋       | 45/169 [00:12<00:30,  4.01it/s]"
     ]
    },
    {
     "name": "stdout",
     "output_type": "stream",
     "text": [
      "Input shape: torch.Size([1, 3, 16, 320, 240])\n",
      "After backbone shape: torch.Size([1, 192, 16, 10, 8])\n",
      "After final_block shape: torch.Size([1, 2048, 4, 6, 4])\n",
      "After pooling shape: torch.Size([1, 2048, 1, 1, 1])\n",
      "After global average pooling shape: torch.Size([1, 2048, 1, 1, 1])\n",
      "batch_feature[0]:torch.Size([2048, 1, 1, 1])\n",
      "Batch shape: torch.Size([4, 3, 16, 320, 240])\n",
      "Input shape: torch.Size([1, 3, 16, 320, 240])\n",
      "After backbone shape: torch.Size([1, 192, 16, 10, 8])\n",
      "After final_block shape: torch.Size([1, 2048, 4, 6, 4])\n",
      "After pooling shape: torch.Size([1, 2048, 1, 1, 1])\n",
      "After global average pooling shape: torch.Size([1, 2048, 1, 1, 1])\n",
      "Input shape: torch.Size([1, 3, 16, 320, 240])\n",
      "After backbone shape: torch.Size([1, 192, 16, 10, 8])\n",
      "After final_block shape: torch.Size([1, 2048, 4, 6, 4])\n",
      "After pooling shape: torch.Size([1, 2048, 1, 1, 1])\n",
      "After global average pooling shape: torch.Size([1, 2048, 1, 1, 1])\n",
      "Input shape: torch.Size([1, 3, 16, 320, 240])\n",
      "After backbone shape: torch.Size([1, 192, 16, 10, 8])\n",
      "After final_block shape: torch.Size([1, 2048, 4, 6, 4])\n",
      "After pooling shape: torch.Size([1, 2048, 1, 1, 1])\n",
      "After global average pooling shape: torch.Size([1, 2048, 1, 1, 1])\n"
     ]
    },
    {
     "name": "stderr",
     "output_type": "stream",
     "text": [
      "Extracting Features:  27%|██▋       | 46/169 [00:12<00:30,  4.08it/s]"
     ]
    },
    {
     "name": "stdout",
     "output_type": "stream",
     "text": [
      "Input shape: torch.Size([1, 3, 16, 320, 240])\n",
      "After backbone shape: torch.Size([1, 192, 16, 10, 8])\n",
      "After final_block shape: torch.Size([1, 2048, 4, 6, 4])\n",
      "After pooling shape: torch.Size([1, 2048, 1, 1, 1])\n",
      "After global average pooling shape: torch.Size([1, 2048, 1, 1, 1])\n",
      "batch_feature[0]:torch.Size([2048, 1, 1, 1])\n",
      "Batch shape: torch.Size([4, 3, 16, 320, 240])\n",
      "Input shape: torch.Size([1, 3, 16, 320, 240])\n",
      "After backbone shape: torch.Size([1, 192, 16, 10, 8])\n",
      "After final_block shape: torch.Size([1, 2048, 4, 6, 4])\n",
      "After pooling shape: torch.Size([1, 2048, 1, 1, 1])\n",
      "After global average pooling shape: torch.Size([1, 2048, 1, 1, 1])\n",
      "Input shape: torch.Size([1, 3, 16, 320, 240])\n",
      "After backbone shape: torch.Size([1, 192, 16, 10, 8])\n",
      "After final_block shape: torch.Size([1, 2048, 4, 6, 4])\n",
      "After pooling shape: torch.Size([1, 2048, 1, 1, 1])\n",
      "After global average pooling shape: torch.Size([1, 2048, 1, 1, 1])\n",
      "Input shape: torch.Size([1, 3, 16, 320, 240])\n"
     ]
    },
    {
     "name": "stderr",
     "output_type": "stream",
     "text": [
      "Extracting Features:  28%|██▊       | 47/169 [00:12<00:29,  4.10it/s]"
     ]
    },
    {
     "name": "stdout",
     "output_type": "stream",
     "text": [
      "After backbone shape: torch.Size([1, 192, 16, 10, 8])\n",
      "After final_block shape: torch.Size([1, 2048, 4, 6, 4])\n",
      "After pooling shape: torch.Size([1, 2048, 1, 1, 1])\n",
      "After global average pooling shape: torch.Size([1, 2048, 1, 1, 1])\n",
      "Input shape: torch.Size([1, 3, 16, 320, 240])\n",
      "After backbone shape: torch.Size([1, 192, 16, 10, 8])\n",
      "After final_block shape: torch.Size([1, 2048, 4, 6, 4])\n",
      "After pooling shape: torch.Size([1, 2048, 1, 1, 1])\n",
      "After global average pooling shape: torch.Size([1, 2048, 1, 1, 1])\n",
      "batch_feature[0]:torch.Size([2048, 1, 1, 1])\n",
      "Batch shape: torch.Size([4, 3, 16, 320, 240])\n",
      "Input shape: torch.Size([1, 3, 16, 320, 240])\n",
      "After backbone shape: torch.Size([1, 192, 16, 10, 8])\n",
      "After final_block shape: torch.Size([1, 2048, 4, 6, 4])\n",
      "After pooling shape: torch.Size([1, 2048, 1, 1, 1])\n",
      "After global average pooling shape: torch.Size([1, 2048, 1, 1, 1])\n",
      "Input shape: torch.Size([1, 3, 16, 320, 240])\n"
     ]
    },
    {
     "name": "stderr",
     "output_type": "stream",
     "text": [
      "Extracting Features:  28%|██▊       | 48/169 [00:12<00:30,  4.03it/s]"
     ]
    },
    {
     "name": "stdout",
     "output_type": "stream",
     "text": [
      "After backbone shape: torch.Size([1, 192, 16, 10, 8])\n",
      "After final_block shape: torch.Size([1, 2048, 4, 6, 4])\n",
      "After pooling shape: torch.Size([1, 2048, 1, 1, 1])\n",
      "After global average pooling shape: torch.Size([1, 2048, 1, 1, 1])\n",
      "Input shape: torch.Size([1, 3, 16, 320, 240])\n",
      "After backbone shape: torch.Size([1, 192, 16, 10, 8])\n",
      "After final_block shape: torch.Size([1, 2048, 4, 6, 4])\n",
      "After pooling shape: torch.Size([1, 2048, 1, 1, 1])\n",
      "After global average pooling shape: torch.Size([1, 2048, 1, 1, 1])\n",
      "Input shape: torch.Size([1, 3, 16, 320, 240])\n",
      "After backbone shape: torch.Size([1, 192, 16, 10, 8])\n",
      "After final_block shape: torch.Size([1, 2048, 4, 6, 4])\n",
      "After pooling shape: torch.Size([1, 2048, 1, 1, 1])\n",
      "After global average pooling shape: torch.Size([1, 2048, 1, 1, 1])\n",
      "batch_feature[0]:torch.Size([2048, 1, 1, 1])\n",
      "Batch shape: torch.Size([4, 3, 16, 320, 240])\n",
      "Input shape: torch.Size([1, 3, 16, 320, 240])\n"
     ]
    },
    {
     "name": "stderr",
     "output_type": "stream",
     "text": [
      "Extracting Features:  29%|██▉       | 49/169 [00:13<00:30,  3.99it/s]"
     ]
    },
    {
     "name": "stdout",
     "output_type": "stream",
     "text": [
      "After backbone shape: torch.Size([1, 192, 16, 10, 8])\n",
      "After final_block shape: torch.Size([1, 2048, 4, 6, 4])\n",
      "After pooling shape: torch.Size([1, 2048, 1, 1, 1])\n",
      "After global average pooling shape: torch.Size([1, 2048, 1, 1, 1])\n",
      "Input shape: torch.Size([1, 3, 16, 320, 240])\n",
      "After backbone shape: torch.Size([1, 192, 16, 10, 8])\n",
      "After final_block shape: torch.Size([1, 2048, 4, 6, 4])\n",
      "After pooling shape: torch.Size([1, 2048, 1, 1, 1])\n",
      "After global average pooling shape: torch.Size([1, 2048, 1, 1, 1])\n",
      "Input shape: torch.Size([1, 3, 16, 320, 240])\n",
      "After backbone shape: torch.Size([1, 192, 16, 10, 8])\n",
      "After final_block shape: torch.Size([1, 2048, 4, 6, 4])\n",
      "After pooling shape: torch.Size([1, 2048, 1, 1, 1])\n",
      "After global average pooling shape: torch.Size([1, 2048, 1, 1, 1])\n",
      "Input shape: torch.Size([1, 3, 16, 320, 240])\n",
      "After backbone shape: torch.Size([1, 192, 16, 10, 8])\n",
      "After final_block shape: torch.Size([1, 2048, 4, 6, 4])\n",
      "After pooling shape: torch.Size([1, 2048, 1, 1, 1])\n",
      "After global average pooling shape: torch.Size([1, 2048, 1, 1, 1])\n",
      "batch_feature[0]:torch.Size([2048, 1, 1, 1])\n",
      "Batch shape: torch.Size([4, 3, 16, 320, 240])\n",
      "Input shape: torch.Size([1, 3, 16, 320, 240])\n",
      "After backbone shape: torch.Size([1, 192, 16, 10, 8])\n",
      "After final_block shape: torch.Size([1, 2048, 4, 6, 4])\n",
      "After pooling shape: torch.Size([1, 2048, 1, 1, 1])\n",
      "After global average pooling shape: torch.Size([1, 2048, 1, 1, 1])\n",
      "Input shape: torch.Size([1, 3, 16, 320, 240])\n",
      "After backbone shape: torch.Size([1, 192, 16, 10, 8])\n",
      "After final_block shape: torch.Size([1, 2048, 4, 6, 4])\n",
      "After pooling shape: torch.Size([1, 2048, 1, 1, 1])\n",
      "After global average pooling shape: torch.Size([1, 2048, 1, 1, 1])\n",
      "Input shape: torch.Size([1, 3, 16, 320, 240])\n",
      "After backbone shape: torch.Size([1, 192, 16, 10, 8])\n",
      "After final_block shape: torch.Size([1, 2048, 4, 6, 4])\n",
      "After pooling shape: torch.Size([1, 2048, 1, 1, 1])\n",
      "After global average pooling shape: torch.Size([1, 2048, 1, 1, 1])\n",
      "Input shape: torch.Size([1, 3, 16, 320, 240])\n",
      "After backbone shape: torch.Size([1, 192, 16, 10, 8])\n",
      "After final_block shape: torch.Size([1, 2048, 4, 6, 4])\n",
      "After pooling shape: torch.Size([1, 2048, 1, 1, 1])\n",
      "After global average pooling shape: torch.Size([1, 2048, 1, 1, 1])\n"
     ]
    },
    {
     "name": "stderr",
     "output_type": "stream",
     "text": [
      "Extracting Features:  30%|██▉       | 50/169 [00:13<00:30,  3.87it/s]"
     ]
    },
    {
     "name": "stdout",
     "output_type": "stream",
     "text": [
      "batch_feature[0]:torch.Size([2048, 1, 1, 1])\n",
      "Batch shape: torch.Size([4, 3, 16, 320, 240])\n",
      "Input shape: torch.Size([1, 3, 16, 320, 240])\n",
      "After backbone shape: torch.Size([1, 192, 16, 10, 8])\n",
      "After final_block shape: torch.Size([1, 2048, 4, 6, 4])\n",
      "After pooling shape: torch.Size([1, 2048, 1, 1, 1])\n",
      "After global average pooling shape: torch.Size([1, 2048, 1, 1, 1])\n",
      "Input shape: torch.Size([1, 3, 16, 320, 240])\n",
      "After backbone shape: torch.Size([1, 192, 16, 10, 8])\n",
      "After final_block shape: torch.Size([1, 2048, 4, 6, 4])\n",
      "After pooling shape: torch.Size([1, 2048, 1, 1, 1])\n",
      "After global average pooling shape: torch.Size([1, 2048, 1, 1, 1])\n",
      "Input shape: torch.Size([1, 3, 16, 320, 240])\n",
      "After backbone shape: torch.Size([1, 192, 16, 10, 8])\n",
      "After final_block shape: torch.Size([1, 2048, 4, 6, 4])\n",
      "After pooling shape: torch.Size([1, 2048, 1, 1, 1])\n",
      "After global average pooling shape: torch.Size([1, 2048, 1, 1, 1])\n"
     ]
    },
    {
     "name": "stderr",
     "output_type": "stream",
     "text": [
      "Extracting Features:  30%|███       | 51/169 [00:13<00:30,  3.88it/s]"
     ]
    },
    {
     "name": "stdout",
     "output_type": "stream",
     "text": [
      "Input shape: torch.Size([1, 3, 16, 320, 240])\n",
      "After backbone shape: torch.Size([1, 192, 16, 10, 8])\n",
      "After final_block shape: torch.Size([1, 2048, 4, 6, 4])\n",
      "After pooling shape: torch.Size([1, 2048, 1, 1, 1])\n",
      "After global average pooling shape: torch.Size([1, 2048, 1, 1, 1])\n",
      "batch_feature[0]:torch.Size([2048, 1, 1, 1])\n",
      "Batch shape: torch.Size([4, 3, 16, 320, 240])\n",
      "Input shape: torch.Size([1, 3, 16, 320, 240])\n",
      "After backbone shape: torch.Size([1, 192, 16, 10, 8])\n",
      "After final_block shape: torch.Size([1, 2048, 4, 6, 4])\n",
      "After pooling shape: torch.Size([1, 2048, 1, 1, 1])\n",
      "After global average pooling shape: torch.Size([1, 2048, 1, 1, 1])\n",
      "Input shape: torch.Size([1, 3, 16, 320, 240])\n",
      "After backbone shape: torch.Size([1, 192, 16, 10, 8])\n",
      "After final_block shape: torch.Size([1, 2048, 4, 6, 4])\n",
      "After pooling shape: torch.Size([1, 2048, 1, 1, 1])\n",
      "After global average pooling shape: torch.Size([1, 2048, 1, 1, 1])\n"
     ]
    },
    {
     "name": "stderr",
     "output_type": "stream",
     "text": [
      "Extracting Features:  31%|███       | 52/169 [00:13<00:30,  3.89it/s]"
     ]
    },
    {
     "name": "stdout",
     "output_type": "stream",
     "text": [
      "Input shape: torch.Size([1, 3, 16, 320, 240])\n",
      "After backbone shape: torch.Size([1, 192, 16, 10, 8])\n",
      "After final_block shape: torch.Size([1, 2048, 4, 6, 4])\n",
      "After pooling shape: torch.Size([1, 2048, 1, 1, 1])\n",
      "After global average pooling shape: torch.Size([1, 2048, 1, 1, 1])\n",
      "Input shape: torch.Size([1, 3, 16, 320, 240])\n",
      "After backbone shape: torch.Size([1, 192, 16, 10, 8])\n",
      "After final_block shape: torch.Size([1, 2048, 4, 6, 4])\n",
      "After pooling shape: torch.Size([1, 2048, 1, 1, 1])\n",
      "After global average pooling shape: torch.Size([1, 2048, 1, 1, 1])\n",
      "batch_feature[0]:torch.Size([2048, 1, 1, 1])\n",
      "Batch shape: torch.Size([4, 3, 16, 320, 240])\n",
      "Input shape: torch.Size([1, 3, 16, 320, 240])\n",
      "After backbone shape: torch.Size([1, 192, 16, 10, 8])\n",
      "After final_block shape: torch.Size([1, 2048, 4, 6, 4])\n",
      "After pooling shape: torch.Size([1, 2048, 1, 1, 1])\n",
      "After global average pooling shape: torch.Size([1, 2048, 1, 1, 1])\n",
      "Input shape: torch.Size([1, 3, 16, 320, 240])\n"
     ]
    },
    {
     "name": "stderr",
     "output_type": "stream",
     "text": [
      "Extracting Features:  31%|███▏      | 53/169 [00:14<00:29,  3.91it/s]"
     ]
    },
    {
     "name": "stdout",
     "output_type": "stream",
     "text": [
      "After backbone shape: torch.Size([1, 192, 16, 10, 8])\n",
      "After final_block shape: torch.Size([1, 2048, 4, 6, 4])\n",
      "After pooling shape: torch.Size([1, 2048, 1, 1, 1])\n",
      "After global average pooling shape: torch.Size([1, 2048, 1, 1, 1])\n",
      "Input shape: torch.Size([1, 3, 16, 320, 240])\n",
      "After backbone shape: torch.Size([1, 192, 16, 10, 8])\n",
      "After final_block shape: torch.Size([1, 2048, 4, 6, 4])\n",
      "After pooling shape: torch.Size([1, 2048, 1, 1, 1])\n",
      "After global average pooling shape: torch.Size([1, 2048, 1, 1, 1])\n",
      "Input shape: torch.Size([1, 3, 16, 320, 240])\n",
      "After backbone shape: torch.Size([1, 192, 16, 10, 8])\n",
      "After final_block shape: torch.Size([1, 2048, 4, 6, 4])\n",
      "After pooling shape: torch.Size([1, 2048, 1, 1, 1])\n",
      "After global average pooling shape: torch.Size([1, 2048, 1, 1, 1])\n",
      "batch_feature[0]:torch.Size([2048, 1, 1, 1])\n",
      "Batch shape: torch.Size([4, 3, 16, 320, 240])\n",
      "Input shape: torch.Size([1, 3, 16, 320, 240])\n",
      "After backbone shape: torch.Size([1, 192, 16, 10, 8])\n",
      "After final_block shape: torch.Size([1, 2048, 4, 6, 4])\n",
      "After pooling shape: torch.Size([1, 2048, 1, 1, 1])\n",
      "After global average pooling shape: torch.Size([1, 2048, 1, 1, 1])\n"
     ]
    },
    {
     "name": "stderr",
     "output_type": "stream",
     "text": [
      "Extracting Features:  32%|███▏      | 54/169 [00:14<00:29,  3.95it/s]"
     ]
    },
    {
     "name": "stdout",
     "output_type": "stream",
     "text": [
      "Input shape: torch.Size([1, 3, 16, 320, 240])\n",
      "After backbone shape: torch.Size([1, 192, 16, 10, 8])\n",
      "After final_block shape: torch.Size([1, 2048, 4, 6, 4])\n",
      "After pooling shape: torch.Size([1, 2048, 1, 1, 1])\n",
      "After global average pooling shape: torch.Size([1, 2048, 1, 1, 1])\n",
      "Input shape: torch.Size([1, 3, 16, 320, 240])\n",
      "After backbone shape: torch.Size([1, 192, 16, 10, 8])\n",
      "After final_block shape: torch.Size([1, 2048, 4, 6, 4])\n",
      "After pooling shape: torch.Size([1, 2048, 1, 1, 1])\n",
      "After global average pooling shape: torch.Size([1, 2048, 1, 1, 1])\n",
      "Input shape: torch.Size([1, 3, 16, 320, 240])\n",
      "After backbone shape: torch.Size([1, 192, 16, 10, 8])\n",
      "After final_block shape: torch.Size([1, 2048, 4, 6, 4])\n",
      "After pooling shape: torch.Size([1, 2048, 1, 1, 1])\n",
      "After global average pooling shape: torch.Size([1, 2048, 1, 1, 1])\n",
      "batch_feature[0]:torch.Size([2048, 1, 1, 1])\n",
      "Batch shape: torch.Size([4, 3, 16, 320, 240])\n",
      "Input shape: torch.Size([1, 3, 16, 320, 240])\n"
     ]
    },
    {
     "name": "stderr",
     "output_type": "stream",
     "text": [
      "Extracting Features:  33%|███▎      | 55/169 [00:14<00:28,  3.94it/s]"
     ]
    },
    {
     "name": "stdout",
     "output_type": "stream",
     "text": [
      "After backbone shape: torch.Size([1, 192, 16, 10, 8])\n",
      "After final_block shape: torch.Size([1, 2048, 4, 6, 4])\n",
      "After pooling shape: torch.Size([1, 2048, 1, 1, 1])\n",
      "After global average pooling shape: torch.Size([1, 2048, 1, 1, 1])\n",
      "Input shape: torch.Size([1, 3, 16, 320, 240])\n",
      "After backbone shape: torch.Size([1, 192, 16, 10, 8])\n",
      "After final_block shape: torch.Size([1, 2048, 4, 6, 4])\n",
      "After pooling shape: torch.Size([1, 2048, 1, 1, 1])\n",
      "After global average pooling shape: torch.Size([1, 2048, 1, 1, 1])\n",
      "Input shape: torch.Size([1, 3, 16, 320, 240])\n",
      "After backbone shape: torch.Size([1, 192, 16, 10, 8])\n",
      "After final_block shape: torch.Size([1, 2048, 4, 6, 4])\n",
      "After pooling shape: torch.Size([1, 2048, 1, 1, 1])\n",
      "After global average pooling shape: torch.Size([1, 2048, 1, 1, 1])\n",
      "Input shape: torch.Size([1, 3, 16, 320, 240])\n",
      "After backbone shape: torch.Size([1, 192, 16, 10, 8])\n",
      "After final_block shape: torch.Size([1, 2048, 4, 6, 4])\n",
      "After pooling shape: torch.Size([1, 2048, 1, 1, 1])\n",
      "After global average pooling shape: torch.Size([1, 2048, 1, 1, 1])\n",
      "batch_feature[0]:torch.Size([2048, 1, 1, 1])\n",
      "Batch shape: torch.Size([4, 3, 16, 320, 240])\n",
      "Input shape: torch.Size([1, 3, 16, 320, 240])\n",
      "After backbone shape: torch.Size([1, 192, 16, 10, 8])\n",
      "After final_block shape: torch.Size([1, 2048, 4, 6, 4])\n",
      "After pooling shape: torch.Size([1, 2048, 1, 1, 1])\n",
      "After global average pooling shape: torch.Size([1, 2048, 1, 1, 1])\n",
      "Input shape: torch.Size([1, 3, 16, 320, 240])\n",
      "After backbone shape: torch.Size([1, 192, 16, 10, 8])\n",
      "After final_block shape: torch.Size([1, 2048, 4, 6, 4])\n",
      "After pooling shape: torch.Size([1, 2048, 1, 1, 1])\n",
      "After global average pooling shape: torch.Size([1, 2048, 1, 1, 1])\n",
      "Input shape: torch.Size([1, 3, 16, 320, 240])\n",
      "After backbone shape: torch.Size([1, 192, 16, 10, 8])\n",
      "After final_block shape: torch.Size([1, 2048, 4, 6, 4])\n",
      "After pooling shape: torch.Size([1, 2048, 1, 1, 1])\n",
      "After global average pooling shape: torch.Size([1, 2048, 1, 1, 1])\n",
      "Input shape: torch.Size([1, 3, 16, 320, 240])\n",
      "After backbone shape: torch.Size([1, 192, 16, 10, 8])\n",
      "After final_block shape: torch.Size([1, 2048, 4, 6, 4])\n",
      "After pooling shape: torch.Size([1, 2048, 1, 1, 1])\n",
      "After global average pooling shape: torch.Size([1, 2048, 1, 1, 1])\n"
     ]
    },
    {
     "name": "stderr",
     "output_type": "stream",
     "text": [
      "Extracting Features:  33%|███▎      | 56/169 [00:14<00:29,  3.87it/s]"
     ]
    },
    {
     "name": "stdout",
     "output_type": "stream",
     "text": [
      "batch_feature[0]:torch.Size([2048, 1, 1, 1])\n",
      "Batch shape: torch.Size([4, 3, 16, 320, 240])\n",
      "Input shape: torch.Size([1, 3, 16, 320, 240])\n",
      "After backbone shape: torch.Size([1, 192, 16, 10, 8])\n",
      "After final_block shape: torch.Size([1, 2048, 4, 6, 4])\n",
      "After pooling shape: torch.Size([1, 2048, 1, 1, 1])\n",
      "After global average pooling shape: torch.Size([1, 2048, 1, 1, 1])\n",
      "Input shape: torch.Size([1, 3, 16, 320, 240])\n",
      "After backbone shape: torch.Size([1, 192, 16, 10, 8])\n",
      "After final_block shape: torch.Size([1, 2048, 4, 6, 4])\n",
      "After pooling shape: torch.Size([1, 2048, 1, 1, 1])\n",
      "After global average pooling shape: torch.Size([1, 2048, 1, 1, 1])\n",
      "Input shape: torch.Size([1, 3, 16, 320, 240])\n",
      "After backbone shape: torch.Size([1, 192, 16, 10, 8])\n",
      "After final_block shape: torch.Size([1, 2048, 4, 6, 4])\n",
      "After pooling shape: torch.Size([1, 2048, 1, 1, 1])\n",
      "After global average pooling shape: torch.Size([1, 2048, 1, 1, 1])\n",
      "Input shape: torch.Size([1, 3, 16, 320, 240])\n"
     ]
    },
    {
     "name": "stderr",
     "output_type": "stream",
     "text": [
      "Extracting Features:  34%|███▎      | 57/169 [00:15<00:28,  3.90it/s]"
     ]
    },
    {
     "name": "stdout",
     "output_type": "stream",
     "text": [
      "After backbone shape: torch.Size([1, 192, 16, 10, 8])\n",
      "After final_block shape: torch.Size([1, 2048, 4, 6, 4])\n",
      "After pooling shape: torch.Size([1, 2048, 1, 1, 1])\n",
      "After global average pooling shape: torch.Size([1, 2048, 1, 1, 1])\n",
      "batch_feature[0]:torch.Size([2048, 1, 1, 1])\n",
      "Batch shape: torch.Size([4, 3, 16, 320, 240])\n",
      "Input shape: torch.Size([1, 3, 16, 320, 240])\n",
      "After backbone shape: torch.Size([1, 192, 16, 10, 8])\n",
      "After final_block shape: torch.Size([1, 2048, 4, 6, 4])\n",
      "After pooling shape: torch.Size([1, 2048, 1, 1, 1])\n",
      "After global average pooling shape: torch.Size([1, 2048, 1, 1, 1])\n",
      "Input shape: torch.Size([1, 3, 16, 320, 240])\n",
      "After backbone shape: torch.Size([1, 192, 16, 10, 8])\n",
      "After final_block shape: torch.Size([1, 2048, 4, 6, 4])\n",
      "After pooling shape: torch.Size([1, 2048, 1, 1, 1])\n",
      "After global average pooling shape: torch.Size([1, 2048, 1, 1, 1])\n",
      "Input shape: torch.Size([1, 3, 16, 320, 240])\n",
      "After backbone shape: torch.Size([1, 192, 16, 10, 8])\n",
      "After final_block shape: torch.Size([1, 2048, 4, 6, 4])\n",
      "After pooling shape: torch.Size([1, 2048, 1, 1, 1])\n",
      "After global average pooling shape: torch.Size([1, 2048, 1, 1, 1])\n"
     ]
    },
    {
     "name": "stderr",
     "output_type": "stream",
     "text": [
      "Extracting Features:  34%|███▍      | 58/169 [00:15<00:28,  3.89it/s]"
     ]
    },
    {
     "name": "stdout",
     "output_type": "stream",
     "text": [
      "Input shape: torch.Size([1, 3, 16, 320, 240])\n",
      "After backbone shape: torch.Size([1, 192, 16, 10, 8])\n",
      "After final_block shape: torch.Size([1, 2048, 4, 6, 4])\n",
      "After pooling shape: torch.Size([1, 2048, 1, 1, 1])\n",
      "After global average pooling shape: torch.Size([1, 2048, 1, 1, 1])\n",
      "batch_feature[0]:torch.Size([2048, 1, 1, 1])\n",
      "Batch shape: torch.Size([4, 3, 16, 320, 240])\n",
      "Input shape: torch.Size([1, 3, 16, 320, 240])\n",
      "After backbone shape: torch.Size([1, 192, 16, 10, 8])\n",
      "After final_block shape: torch.Size([1, 2048, 4, 6, 4])\n",
      "After pooling shape: torch.Size([1, 2048, 1, 1, 1])\n",
      "After global average pooling shape: torch.Size([1, 2048, 1, 1, 1])\n",
      "Input shape: torch.Size([1, 3, 16, 320, 240])\n",
      "After backbone shape: torch.Size([1, 192, 16, 10, 8])\n",
      "After final_block shape: torch.Size([1, 2048, 4, 6, 4])\n",
      "After pooling shape: torch.Size([1, 2048, 1, 1, 1])\n",
      "After global average pooling shape: torch.Size([1, 2048, 1, 1, 1])\n"
     ]
    },
    {
     "name": "stderr",
     "output_type": "stream",
     "text": [
      "Extracting Features:  35%|███▍      | 59/169 [00:15<00:28,  3.90it/s]"
     ]
    },
    {
     "name": "stdout",
     "output_type": "stream",
     "text": [
      "Input shape: torch.Size([1, 3, 16, 320, 240])\n",
      "After backbone shape: torch.Size([1, 192, 16, 10, 8])\n",
      "After final_block shape: torch.Size([1, 2048, 4, 6, 4])\n",
      "After pooling shape: torch.Size([1, 2048, 1, 1, 1])\n",
      "After global average pooling shape: torch.Size([1, 2048, 1, 1, 1])\n",
      "Input shape: torch.Size([1, 3, 16, 320, 240])\n",
      "After backbone shape: torch.Size([1, 192, 16, 10, 8])\n",
      "After final_block shape: torch.Size([1, 2048, 4, 6, 4])\n",
      "After pooling shape: torch.Size([1, 2048, 1, 1, 1])\n",
      "After global average pooling shape: torch.Size([1, 2048, 1, 1, 1])\n",
      "batch_feature[0]:torch.Size([2048, 1, 1, 1])\n",
      "Batch shape: torch.Size([4, 3, 16, 320, 240])\n",
      "Input shape: torch.Size([1, 3, 16, 320, 240])\n",
      "After backbone shape: torch.Size([1, 192, 16, 10, 8])\n",
      "After final_block shape: torch.Size([1, 2048, 4, 6, 4])\n",
      "After pooling shape: torch.Size([1, 2048, 1, 1, 1])\n",
      "After global average pooling shape: torch.Size([1, 2048, 1, 1, 1])\n",
      "Input shape: torch.Size([1, 3, 16, 320, 240])\n"
     ]
    },
    {
     "name": "stderr",
     "output_type": "stream",
     "text": [
      "Extracting Features:  36%|███▌      | 60/169 [00:15<00:27,  3.90it/s]"
     ]
    },
    {
     "name": "stdout",
     "output_type": "stream",
     "text": [
      "After backbone shape: torch.Size([1, 192, 16, 10, 8])\n",
      "After final_block shape: torch.Size([1, 2048, 4, 6, 4])\n",
      "After pooling shape: torch.Size([1, 2048, 1, 1, 1])\n",
      "After global average pooling shape: torch.Size([1, 2048, 1, 1, 1])\n",
      "Input shape: torch.Size([1, 3, 16, 320, 240])\n",
      "After backbone shape: torch.Size([1, 192, 16, 10, 8])\n",
      "After final_block shape: torch.Size([1, 2048, 4, 6, 4])\n",
      "After pooling shape: torch.Size([1, 2048, 1, 1, 1])\n",
      "After global average pooling shape: torch.Size([1, 2048, 1, 1, 1])\n",
      "Input shape: torch.Size([1, 3, 16, 320, 240])\n",
      "After backbone shape: torch.Size([1, 192, 16, 10, 8])\n",
      "After final_block shape: torch.Size([1, 2048, 4, 6, 4])\n",
      "After pooling shape: torch.Size([1, 2048, 1, 1, 1])\n",
      "After global average pooling shape: torch.Size([1, 2048, 1, 1, 1])\n",
      "batch_feature[0]:torch.Size([2048, 1, 1, 1])\n",
      "Batch shape: torch.Size([4, 3, 16, 320, 240])\n",
      "Input shape: torch.Size([1, 3, 16, 320, 240])\n",
      "After backbone shape: torch.Size([1, 192, 16, 10, 8])\n",
      "After final_block shape: torch.Size([1, 2048, 4, 6, 4])\n",
      "After pooling shape: torch.Size([1, 2048, 1, 1, 1])\n",
      "After global average pooling shape: torch.Size([1, 2048, 1, 1, 1])\n",
      "Input shape: torch.Size([1, 3, 16, 320, 240])\n",
      "After backbone shape: torch.Size([1, 192, 16, 10, 8])\n",
      "After final_block shape: torch.Size([1, 2048, 4, 6, 4])\n",
      "After pooling shape: torch.Size([1, 2048, 1, 1, 1])\n",
      "After global average pooling shape: torch.Size([1, 2048, 1, 1, 1])\n",
      "Input shape: torch.Size([1, 3, 16, 320, 240])\n",
      "After backbone shape: torch.Size([1, 192, 16, 10, 8])\n",
      "After final_block shape: torch.Size([1, 2048, 4, 6, 4])\n",
      "After pooling shape: torch.Size([1, 2048, 1, 1, 1])\n",
      "After global average pooling shape: torch.Size([1, 2048, 1, 1, 1])\n",
      "Input shape: torch.Size([1, 3, 16, 320, 240])\n",
      "After backbone shape: torch.Size([1, 192, 16, 10, 8])\n",
      "After final_block shape: torch.Size([1, 2048, 4, 6, 4])\n",
      "After pooling shape: torch.Size([1, 2048, 1, 1, 1])\n",
      "After global average pooling shape: torch.Size([1, 2048, 1, 1, 1])\n",
      "batch_feature[0]:torch.Size([2048, 1, 1, 1])\n"
     ]
    },
    {
     "name": "stderr",
     "output_type": "stream",
     "text": [
      "Extracting Features:  36%|███▌      | 61/169 [00:16<00:27,  3.89it/s]"
     ]
    },
    {
     "name": "stdout",
     "output_type": "stream",
     "text": [
      "Batch shape: torch.Size([4, 3, 16, 320, 240])\n",
      "Input shape: torch.Size([1, 3, 16, 320, 240])\n",
      "After backbone shape: torch.Size([1, 192, 16, 10, 8])\n",
      "After final_block shape: torch.Size([1, 2048, 4, 6, 4])\n",
      "After pooling shape: torch.Size([1, 2048, 1, 1, 1])\n",
      "After global average pooling shape: torch.Size([1, 2048, 1, 1, 1])\n",
      "Input shape: torch.Size([1, 3, 16, 320, 240])\n",
      "After backbone shape: torch.Size([1, 192, 16, 10, 8])\n",
      "After final_block shape: torch.Size([1, 2048, 4, 6, 4])\n",
      "After pooling shape: torch.Size([1, 2048, 1, 1, 1])\n",
      "After global average pooling shape: torch.Size([1, 2048, 1, 1, 1])\n",
      "Input shape: torch.Size([1, 3, 16, 320, 240])\n",
      "After backbone shape: torch.Size([1, 192, 16, 10, 8])\n",
      "After final_block shape: torch.Size([1, 2048, 4, 6, 4])\n",
      "After pooling shape: torch.Size([1, 2048, 1, 1, 1])\n",
      "After global average pooling shape: torch.Size([1, 2048, 1, 1, 1])\n",
      "Input shape: torch.Size([1, 3, 16, 320, 240])\n",
      "After backbone shape: torch.Size([1, 192, 16, 10, 8])\n",
      "After final_block shape: torch.Size([1, 2048, 4, 6, 4])\n",
      "After pooling shape: torch.Size([1, 2048, 1, 1, 1])\n",
      "After global average pooling shape: torch.Size([1, 2048, 1, 1, 1])\n"
     ]
    },
    {
     "name": "stderr",
     "output_type": "stream",
     "text": [
      "Extracting Features:  37%|███▋      | 62/169 [00:16<00:27,  3.87it/s]"
     ]
    },
    {
     "name": "stdout",
     "output_type": "stream",
     "text": [
      "batch_feature[0]:torch.Size([2048, 1, 1, 1])\n",
      "Batch shape: torch.Size([4, 3, 16, 320, 240])\n",
      "Input shape: torch.Size([1, 3, 16, 320, 240])\n",
      "After backbone shape: torch.Size([1, 192, 16, 10, 8])\n",
      "After final_block shape: torch.Size([1, 2048, 4, 6, 4])\n",
      "After pooling shape: torch.Size([1, 2048, 1, 1, 1])\n",
      "After global average pooling shape: torch.Size([1, 2048, 1, 1, 1])\n",
      "Input shape: torch.Size([1, 3, 16, 320, 240])\n",
      "After backbone shape: torch.Size([1, 192, 16, 10, 8])\n",
      "After final_block shape: torch.Size([1, 2048, 4, 6, 4])\n",
      "After pooling shape: torch.Size([1, 2048, 1, 1, 1])\n",
      "After global average pooling shape: torch.Size([1, 2048, 1, 1, 1])\n",
      "Input shape: torch.Size([1, 3, 16, 320, 240])\n",
      "After backbone shape: torch.Size([1, 192, 16, 10, 8])\n",
      "After final_block shape: torch.Size([1, 2048, 4, 6, 4])\n",
      "After pooling shape: torch.Size([1, 2048, 1, 1, 1])\n",
      "After global average pooling shape: torch.Size([1, 2048, 1, 1, 1])\n"
     ]
    },
    {
     "name": "stderr",
     "output_type": "stream",
     "text": [
      "Extracting Features:  37%|███▋      | 63/169 [00:16<00:27,  3.89it/s]"
     ]
    },
    {
     "name": "stdout",
     "output_type": "stream",
     "text": [
      "Input shape: torch.Size([1, 3, 16, 320, 240])\n",
      "After backbone shape: torch.Size([1, 192, 16, 10, 8])\n",
      "After final_block shape: torch.Size([1, 2048, 4, 6, 4])\n",
      "After pooling shape: torch.Size([1, 2048, 1, 1, 1])\n",
      "After global average pooling shape: torch.Size([1, 2048, 1, 1, 1])\n",
      "batch_feature[0]:torch.Size([2048, 1, 1, 1])\n",
      "Batch shape: torch.Size([4, 3, 16, 320, 240])\n",
      "Input shape: torch.Size([1, 3, 16, 320, 240])\n",
      "After backbone shape: torch.Size([1, 192, 16, 10, 8])\n",
      "After final_block shape: torch.Size([1, 2048, 4, 6, 4])\n",
      "After pooling shape: torch.Size([1, 2048, 1, 1, 1])\n",
      "After global average pooling shape: torch.Size([1, 2048, 1, 1, 1])\n",
      "Input shape: torch.Size([1, 3, 16, 320, 240])\n",
      "After backbone shape: torch.Size([1, 192, 16, 10, 8])\n",
      "After final_block shape: torch.Size([1, 2048, 4, 6, 4])\n",
      "After pooling shape: torch.Size([1, 2048, 1, 1, 1])\n",
      "After global average pooling shape: torch.Size([1, 2048, 1, 1, 1])\n",
      "Input shape: torch.Size([1, 3, 16, 320, 240])\n"
     ]
    },
    {
     "name": "stderr",
     "output_type": "stream",
     "text": [
      "Extracting Features:  38%|███▊      | 64/169 [00:16<00:26,  3.96it/s]"
     ]
    },
    {
     "name": "stdout",
     "output_type": "stream",
     "text": [
      "After backbone shape: torch.Size([1, 192, 16, 10, 8])\n",
      "After final_block shape: torch.Size([1, 2048, 4, 6, 4])\n",
      "After pooling shape: torch.Size([1, 2048, 1, 1, 1])\n",
      "After global average pooling shape: torch.Size([1, 2048, 1, 1, 1])\n",
      "Input shape: torch.Size([1, 3, 16, 320, 240])\n",
      "After backbone shape: torch.Size([1, 192, 16, 10, 8])\n",
      "After final_block shape: torch.Size([1, 2048, 4, 6, 4])\n",
      "After pooling shape: torch.Size([1, 2048, 1, 1, 1])\n",
      "After global average pooling shape: torch.Size([1, 2048, 1, 1, 1])\n",
      "batch_feature[0]:torch.Size([2048, 1, 1, 1])\n",
      "Batch shape: torch.Size([4, 3, 16, 320, 240])\n",
      "Input shape: torch.Size([1, 3, 16, 320, 240])\n",
      "After backbone shape: torch.Size([1, 192, 16, 10, 8])\n",
      "After final_block shape: torch.Size([1, 2048, 4, 6, 4])\n",
      "After pooling shape: torch.Size([1, 2048, 1, 1, 1])\n",
      "After global average pooling shape: torch.Size([1, 2048, 1, 1, 1])\n",
      "Input shape: torch.Size([1, 3, 16, 320, 240])\n",
      "After backbone shape: torch.Size([1, 192, 16, 10, 8])\n",
      "After final_block shape: torch.Size([1, 2048, 4, 6, 4])\n",
      "After pooling shape: torch.Size([1, 2048, 1, 1, 1])\n",
      "After global average pooling shape: torch.Size([1, 2048, 1, 1, 1])\n"
     ]
    },
    {
     "name": "stderr",
     "output_type": "stream",
     "text": [
      "Extracting Features:  38%|███▊      | 65/169 [00:17<00:25,  4.04it/s]"
     ]
    },
    {
     "name": "stdout",
     "output_type": "stream",
     "text": [
      "Input shape: torch.Size([1, 3, 16, 320, 240])\n",
      "After backbone shape: torch.Size([1, 192, 16, 10, 8])\n",
      "After final_block shape: torch.Size([1, 2048, 4, 6, 4])\n",
      "After pooling shape: torch.Size([1, 2048, 1, 1, 1])\n",
      "After global average pooling shape: torch.Size([1, 2048, 1, 1, 1])\n",
      "Input shape: torch.Size([1, 3, 16, 320, 240])\n",
      "After backbone shape: torch.Size([1, 192, 16, 10, 8])\n",
      "After final_block shape: torch.Size([1, 2048, 4, 6, 4])\n",
      "After pooling shape: torch.Size([1, 2048, 1, 1, 1])\n",
      "After global average pooling shape: torch.Size([1, 2048, 1, 1, 1])\n",
      "batch_feature[0]:torch.Size([2048, 1, 1, 1])\n",
      "Batch shape: torch.Size([4, 3, 16, 320, 240])\n",
      "Input shape: torch.Size([1, 3, 16, 320, 240])\n",
      "After backbone shape: torch.Size([1, 192, 16, 10, 8])\n",
      "After final_block shape: torch.Size([1, 2048, 4, 6, 4])\n",
      "After pooling shape: torch.Size([1, 2048, 1, 1, 1])\n",
      "After global average pooling shape: torch.Size([1, 2048, 1, 1, 1])\n",
      "Input shape: torch.Size([1, 3, 16, 320, 240])\n"
     ]
    },
    {
     "name": "stderr",
     "output_type": "stream",
     "text": [
      "Extracting Features:  39%|███▉      | 66/169 [00:17<00:25,  4.00it/s]"
     ]
    },
    {
     "name": "stdout",
     "output_type": "stream",
     "text": [
      "After backbone shape: torch.Size([1, 192, 16, 10, 8])\n",
      "After final_block shape: torch.Size([1, 2048, 4, 6, 4])\n",
      "After pooling shape: torch.Size([1, 2048, 1, 1, 1])\n",
      "After global average pooling shape: torch.Size([1, 2048, 1, 1, 1])\n",
      "Input shape: torch.Size([1, 3, 16, 320, 240])\n",
      "After backbone shape: torch.Size([1, 192, 16, 10, 8])\n",
      "After final_block shape: torch.Size([1, 2048, 4, 6, 4])\n",
      "After pooling shape: torch.Size([1, 2048, 1, 1, 1])\n",
      "After global average pooling shape: torch.Size([1, 2048, 1, 1, 1])\n",
      "Input shape: torch.Size([1, 3, 16, 320, 240])\n",
      "After backbone shape: torch.Size([1, 192, 16, 10, 8])\n",
      "After final_block shape: torch.Size([1, 2048, 4, 6, 4])\n",
      "After pooling shape: torch.Size([1, 2048, 1, 1, 1])\n",
      "After global average pooling shape: torch.Size([1, 2048, 1, 1, 1])\n",
      "batch_feature[0]:torch.Size([2048, 1, 1, 1])\n",
      "Batch shape: torch.Size([4, 3, 16, 320, 240])\n",
      "Input shape: torch.Size([1, 3, 16, 320, 240])\n",
      "After backbone shape: torch.Size([1, 192, 16, 10, 8])\n",
      "After final_block shape: torch.Size([1, 2048, 4, 6, 4])\n",
      "After pooling shape: torch.Size([1, 2048, 1, 1, 1])\n",
      "After global average pooling shape: torch.Size([1, 2048, 1, 1, 1])\n",
      "Input shape: torch.Size([1, 3, 16, 320, 240])\n",
      "After backbone shape: torch.Size([1, 192, 16, 10, 8])\n",
      "After final_block shape: torch.Size([1, 2048, 4, 6, 4])\n",
      "After pooling shape: torch.Size([1, 2048, 1, 1, 1])\n",
      "After global average pooling shape: torch.Size([1, 2048, 1, 1, 1])\n",
      "Input shape: torch.Size([1, 3, 16, 320, 240])\n",
      "After backbone shape: torch.Size([1, 192, 16, 10, 8])\n",
      "After final_block shape: torch.Size([1, 2048, 4, 6, 4])\n",
      "After pooling shape: torch.Size([1, 2048, 1, 1, 1])\n",
      "After global average pooling shape: torch.Size([1, 2048, 1, 1, 1])\n",
      "Input shape: torch.Size([1, 3, 16, 320, 240])\n",
      "After backbone shape: torch.Size([1, 192, 16, 10, 8])\n",
      "After final_block shape: torch.Size([1, 2048, 4, 6, 4])\n",
      "After pooling shape: torch.Size([1, 2048, 1, 1, 1])\n",
      "After global average pooling shape: torch.Size([1, 2048, 1, 1, 1])\n",
      "batch_feature[0]:torch.Size([2048, 1, 1, 1])\n"
     ]
    },
    {
     "name": "stderr",
     "output_type": "stream",
     "text": [
      "Extracting Features:  40%|███▉      | 67/169 [00:17<00:25,  4.02it/s]"
     ]
    },
    {
     "name": "stdout",
     "output_type": "stream",
     "text": [
      "Batch shape: torch.Size([4, 3, 16, 320, 240])\n",
      "Input shape: torch.Size([1, 3, 16, 320, 240])\n",
      "After backbone shape: torch.Size([1, 192, 16, 10, 8])\n",
      "After final_block shape: torch.Size([1, 2048, 4, 6, 4])\n",
      "After pooling shape: torch.Size([1, 2048, 1, 1, 1])\n",
      "After global average pooling shape: torch.Size([1, 2048, 1, 1, 1])\n",
      "Input shape: torch.Size([1, 3, 16, 320, 240])\n",
      "After backbone shape: torch.Size([1, 192, 16, 10, 8])\n",
      "After final_block shape: torch.Size([1, 2048, 4, 6, 4])\n",
      "After pooling shape: torch.Size([1, 2048, 1, 1, 1])\n",
      "After global average pooling shape: torch.Size([1, 2048, 1, 1, 1])\n",
      "Input shape: torch.Size([1, 3, 16, 320, 240])\n",
      "After backbone shape: torch.Size([1, 192, 16, 10, 8])\n",
      "After final_block shape: torch.Size([1, 2048, 4, 6, 4])\n",
      "After pooling shape: torch.Size([1, 2048, 1, 1, 1])\n",
      "After global average pooling shape: torch.Size([1, 2048, 1, 1, 1])\n",
      "Input shape: torch.Size([1, 3, 16, 320, 240])\n",
      "After backbone shape: torch.Size([1, 192, 16, 10, 8])\n",
      "After final_block shape: torch.Size([1, 2048, 4, 6, 4])\n",
      "After pooling shape: torch.Size([1, 2048, 1, 1, 1])\n",
      "After global average pooling shape: torch.Size([1, 2048, 1, 1, 1])\n"
     ]
    },
    {
     "name": "stderr",
     "output_type": "stream",
     "text": [
      "Extracting Features:  40%|████      | 68/169 [00:17<00:25,  4.01it/s]"
     ]
    },
    {
     "name": "stdout",
     "output_type": "stream",
     "text": [
      "batch_feature[0]:torch.Size([2048, 1, 1, 1])\n",
      "Batch shape: torch.Size([4, 3, 16, 320, 240])\n",
      "Input shape: torch.Size([1, 3, 16, 320, 240])\n",
      "After backbone shape: torch.Size([1, 192, 16, 10, 8])\n",
      "After final_block shape: torch.Size([1, 2048, 4, 6, 4])\n",
      "After pooling shape: torch.Size([1, 2048, 1, 1, 1])\n",
      "After global average pooling shape: torch.Size([1, 2048, 1, 1, 1])\n",
      "Input shape: torch.Size([1, 3, 16, 320, 240])\n",
      "After backbone shape: torch.Size([1, 192, 16, 10, 8])\n",
      "After final_block shape: torch.Size([1, 2048, 4, 6, 4])\n",
      "After pooling shape: torch.Size([1, 2048, 1, 1, 1])\n",
      "After global average pooling shape: torch.Size([1, 2048, 1, 1, 1])\n",
      "Input shape: torch.Size([1, 3, 16, 320, 240])\n",
      "After backbone shape: torch.Size([1, 192, 16, 10, 8])\n",
      "After final_block shape: torch.Size([1, 2048, 4, 6, 4])\n",
      "After pooling shape: torch.Size([1, 2048, 1, 1, 1])\n",
      "After global average pooling shape: torch.Size([1, 2048, 1, 1, 1])\n",
      "Input shape: torch.Size([1, 3, 16, 320, 240])\n"
     ]
    },
    {
     "name": "stderr",
     "output_type": "stream",
     "text": [
      "Extracting Features:  41%|████      | 69/169 [00:18<00:25,  3.98it/s]"
     ]
    },
    {
     "name": "stdout",
     "output_type": "stream",
     "text": [
      "After backbone shape: torch.Size([1, 192, 16, 10, 8])\n",
      "After final_block shape: torch.Size([1, 2048, 4, 6, 4])\n",
      "After pooling shape: torch.Size([1, 2048, 1, 1, 1])\n",
      "After global average pooling shape: torch.Size([1, 2048, 1, 1, 1])\n",
      "batch_feature[0]:torch.Size([2048, 1, 1, 1])\n",
      "Batch shape: torch.Size([4, 3, 16, 320, 240])\n",
      "Input shape: torch.Size([1, 3, 16, 320, 240])\n",
      "After backbone shape: torch.Size([1, 192, 16, 10, 8])\n",
      "After final_block shape: torch.Size([1, 2048, 4, 6, 4])\n",
      "After pooling shape: torch.Size([1, 2048, 1, 1, 1])\n",
      "After global average pooling shape: torch.Size([1, 2048, 1, 1, 1])\n",
      "Input shape: torch.Size([1, 3, 16, 320, 240])\n",
      "After backbone shape: torch.Size([1, 192, 16, 10, 8])\n",
      "After final_block shape: torch.Size([1, 2048, 4, 6, 4])\n",
      "After pooling shape: torch.Size([1, 2048, 1, 1, 1])\n",
      "After global average pooling shape: torch.Size([1, 2048, 1, 1, 1])\n",
      "Input shape: torch.Size([1, 3, 16, 320, 240])\n",
      "After backbone shape: torch.Size([1, 192, 16, 10, 8])\n",
      "After final_block shape: torch.Size([1, 2048, 4, 6, 4])\n",
      "After pooling shape: torch.Size([1, 2048, 1, 1, 1])\n",
      "After global average pooling shape: torch.Size([1, 2048, 1, 1, 1])\n"
     ]
    },
    {
     "name": "stderr",
     "output_type": "stream",
     "text": [
      "Extracting Features:  41%|████▏     | 70/169 [00:18<00:24,  4.02it/s]"
     ]
    },
    {
     "name": "stdout",
     "output_type": "stream",
     "text": [
      "Input shape: torch.Size([1, 3, 16, 320, 240])\n",
      "After backbone shape: torch.Size([1, 192, 16, 10, 8])\n",
      "After final_block shape: torch.Size([1, 2048, 4, 6, 4])\n",
      "After pooling shape: torch.Size([1, 2048, 1, 1, 1])\n",
      "After global average pooling shape: torch.Size([1, 2048, 1, 1, 1])\n",
      "batch_feature[0]:torch.Size([2048, 1, 1, 1])\n",
      "Batch shape: torch.Size([4, 3, 16, 320, 240])\n",
      "Input shape: torch.Size([1, 3, 16, 320, 240])\n",
      "After backbone shape: torch.Size([1, 192, 16, 10, 8])\n",
      "After final_block shape: torch.Size([1, 2048, 4, 6, 4])\n",
      "After pooling shape: torch.Size([1, 2048, 1, 1, 1])\n",
      "After global average pooling shape: torch.Size([1, 2048, 1, 1, 1])\n",
      "Input shape: torch.Size([1, 3, 16, 320, 240])\n",
      "After backbone shape: torch.Size([1, 192, 16, 10, 8])\n",
      "After final_block shape: torch.Size([1, 2048, 4, 6, 4])\n",
      "After pooling shape: torch.Size([1, 2048, 1, 1, 1])\n",
      "After global average pooling shape: torch.Size([1, 2048, 1, 1, 1])\n",
      "Input shape: torch.Size([1, 3, 16, 320, 240])\n"
     ]
    },
    {
     "name": "stderr",
     "output_type": "stream",
     "text": [
      "Extracting Features:  42%|████▏     | 71/169 [00:18<00:24,  3.99it/s]"
     ]
    },
    {
     "name": "stdout",
     "output_type": "stream",
     "text": [
      "After backbone shape: torch.Size([1, 192, 16, 10, 8])\n",
      "After final_block shape: torch.Size([1, 2048, 4, 6, 4])\n",
      "After pooling shape: torch.Size([1, 2048, 1, 1, 1])\n",
      "After global average pooling shape: torch.Size([1, 2048, 1, 1, 1])\n",
      "Input shape: torch.Size([1, 3, 16, 320, 240])\n",
      "After backbone shape: torch.Size([1, 192, 16, 10, 8])\n",
      "After final_block shape: torch.Size([1, 2048, 4, 6, 4])\n",
      "After pooling shape: torch.Size([1, 2048, 1, 1, 1])\n",
      "After global average pooling shape: torch.Size([1, 2048, 1, 1, 1])\n",
      "batch_feature[0]:torch.Size([2048, 1, 1, 1])\n",
      "Batch shape: torch.Size([4, 3, 16, 320, 240])\n",
      "Input shape: torch.Size([1, 3, 16, 320, 240])\n",
      "After backbone shape: torch.Size([1, 192, 16, 10, 8])\n",
      "After final_block shape: torch.Size([1, 2048, 4, 6, 4])\n",
      "After pooling shape: torch.Size([1, 2048, 1, 1, 1])\n",
      "After global average pooling shape: torch.Size([1, 2048, 1, 1, 1])\n",
      "Input shape: torch.Size([1, 3, 16, 320, 240])\n",
      "After backbone shape: torch.Size([1, 192, 16, 10, 8])\n",
      "After final_block shape: torch.Size([1, 2048, 4, 6, 4])\n",
      "After pooling shape: torch.Size([1, 2048, 1, 1, 1])\n",
      "After global average pooling shape: torch.Size([1, 2048, 1, 1, 1])\n"
     ]
    },
    {
     "name": "stderr",
     "output_type": "stream",
     "text": [
      "Extracting Features:  43%|████▎     | 72/169 [00:18<00:24,  3.99it/s]"
     ]
    },
    {
     "name": "stdout",
     "output_type": "stream",
     "text": [
      "Input shape: torch.Size([1, 3, 16, 320, 240])\n",
      "After backbone shape: torch.Size([1, 192, 16, 10, 8])\n",
      "After final_block shape: torch.Size([1, 2048, 4, 6, 4])\n",
      "After pooling shape: torch.Size([1, 2048, 1, 1, 1])\n",
      "After global average pooling shape: torch.Size([1, 2048, 1, 1, 1])\n",
      "Input shape: torch.Size([1, 3, 16, 320, 240])\n",
      "After backbone shape: torch.Size([1, 192, 16, 10, 8])\n",
      "After final_block shape: torch.Size([1, 2048, 4, 6, 4])\n",
      "After pooling shape: torch.Size([1, 2048, 1, 1, 1])\n",
      "After global average pooling shape: torch.Size([1, 2048, 1, 1, 1])\n",
      "batch_feature[0]:torch.Size([2048, 1, 1, 1])\n",
      "Batch shape: torch.Size([4, 3, 16, 320, 240])\n",
      "Input shape: torch.Size([1, 3, 16, 320, 240])\n",
      "After backbone shape: torch.Size([1, 192, 16, 10, 8])\n",
      "After final_block shape: torch.Size([1, 2048, 4, 6, 4])\n",
      "After pooling shape: torch.Size([1, 2048, 1, 1, 1])\n",
      "After global average pooling shape: torch.Size([1, 2048, 1, 1, 1])\n",
      "Input shape: torch.Size([1, 3, 16, 320, 240])\n"
     ]
    },
    {
     "name": "stderr",
     "output_type": "stream",
     "text": [
      "Extracting Features:  43%|████▎     | 73/169 [00:19<00:23,  4.03it/s]"
     ]
    },
    {
     "name": "stdout",
     "output_type": "stream",
     "text": [
      "After backbone shape: torch.Size([1, 192, 16, 10, 8])\n",
      "After final_block shape: torch.Size([1, 2048, 4, 6, 4])\n",
      "After pooling shape: torch.Size([1, 2048, 1, 1, 1])\n",
      "After global average pooling shape: torch.Size([1, 2048, 1, 1, 1])\n",
      "Input shape: torch.Size([1, 3, 16, 320, 240])\n",
      "After backbone shape: torch.Size([1, 192, 16, 10, 8])\n",
      "After final_block shape: torch.Size([1, 2048, 4, 6, 4])\n",
      "After pooling shape: torch.Size([1, 2048, 1, 1, 1])\n",
      "After global average pooling shape: torch.Size([1, 2048, 1, 1, 1])\n",
      "Input shape: torch.Size([1, 3, 16, 320, 240])\n",
      "After backbone shape: torch.Size([1, 192, 16, 10, 8])\n",
      "After final_block shape: torch.Size([1, 2048, 4, 6, 4])\n",
      "After pooling shape: torch.Size([1, 2048, 1, 1, 1])\n",
      "After global average pooling shape: torch.Size([1, 2048, 1, 1, 1])\n",
      "batch_feature[0]:torch.Size([2048, 1, 1, 1])\n",
      "Batch shape: torch.Size([4, 3, 16, 320, 240])\n",
      "Input shape: torch.Size([1, 3, 16, 320, 240])\n",
      "After backbone shape: torch.Size([1, 192, 16, 10, 8])\n",
      "After final_block shape: torch.Size([1, 2048, 4, 6, 4])\n",
      "After pooling shape: torch.Size([1, 2048, 1, 1, 1])\n",
      "After global average pooling shape: torch.Size([1, 2048, 1, 1, 1])\n"
     ]
    },
    {
     "name": "stderr",
     "output_type": "stream",
     "text": [
      "Extracting Features:  44%|████▍     | 74/169 [00:19<00:24,  3.95it/s]"
     ]
    },
    {
     "name": "stdout",
     "output_type": "stream",
     "text": [
      "Input shape: torch.Size([1, 3, 16, 320, 240])\n",
      "After backbone shape: torch.Size([1, 192, 16, 10, 8])\n",
      "After final_block shape: torch.Size([1, 2048, 4, 6, 4])\n",
      "After pooling shape: torch.Size([1, 2048, 1, 1, 1])\n",
      "After global average pooling shape: torch.Size([1, 2048, 1, 1, 1])\n",
      "Input shape: torch.Size([1, 3, 16, 320, 240])\n",
      "After backbone shape: torch.Size([1, 192, 16, 10, 8])\n",
      "After final_block shape: torch.Size([1, 2048, 4, 6, 4])\n",
      "After pooling shape: torch.Size([1, 2048, 1, 1, 1])\n",
      "After global average pooling shape: torch.Size([1, 2048, 1, 1, 1])\n",
      "Input shape: torch.Size([1, 3, 16, 320, 240])\n",
      "After backbone shape: torch.Size([1, 192, 16, 10, 8])\n",
      "After final_block shape: torch.Size([1, 2048, 4, 6, 4])\n",
      "After pooling shape: torch.Size([1, 2048, 1, 1, 1])\n",
      "After global average pooling shape: torch.Size([1, 2048, 1, 1, 1])\n",
      "batch_feature[0]:torch.Size([2048, 1, 1, 1])\n",
      "Batch shape: torch.Size([4, 3, 16, 320, 240])\n",
      "Input shape: torch.Size([1, 3, 16, 320, 240])\n",
      "After backbone shape: torch.Size([1, 192, 16, 10, 8])\n",
      "After final_block shape: torch.Size([1, 2048, 4, 6, 4])\n",
      "After pooling shape: torch.Size([1, 2048, 1, 1, 1])\n",
      "After global average pooling shape: torch.Size([1, 2048, 1, 1, 1])\n",
      "Input shape: torch.Size([1, 3, 16, 320, 240])\n",
      "After backbone shape: torch.Size([1, 192, 16, 10, 8])\n",
      "After final_block shape: torch.Size([1, 2048, 4, 6, 4])\n",
      "After pooling shape: torch.Size([1, 2048, 1, 1, 1])\n",
      "After global average pooling shape: torch.Size([1, 2048, 1, 1, 1])\n",
      "Input shape: torch.Size([1, 3, 16, 320, 240])\n",
      "After backbone shape: torch.Size([1, 192, 16, 10, 8])\n",
      "After final_block shape: torch.Size([1, 2048, 4, 6, 4])\n",
      "After pooling shape: torch.Size([1, 2048, 1, 1, 1])\n",
      "After global average pooling shape: torch.Size([1, 2048, 1, 1, 1])\n",
      "Input shape: torch.Size([1, 3, 16, 320, 240])\n",
      "After backbone shape: torch.Size([1, 192, 16, 10, 8])\n",
      "After final_block shape: torch.Size([1, 2048, 4, 6, 4])\n",
      "After pooling shape: torch.Size([1, 2048, 1, 1, 1])\n",
      "After global average pooling shape: torch.Size([1, 2048, 1, 1, 1])\n",
      "batch_feature[0]:torch.Size([2048, 1, 1, 1])\n"
     ]
    },
    {
     "name": "stderr",
     "output_type": "stream",
     "text": [
      "Extracting Features:  44%|████▍     | 75/169 [00:19<00:23,  3.95it/s]"
     ]
    },
    {
     "name": "stdout",
     "output_type": "stream",
     "text": [
      "Batch shape: torch.Size([4, 3, 16, 320, 240])\n",
      "Input shape: torch.Size([1, 3, 16, 320, 240])\n",
      "After backbone shape: torch.Size([1, 192, 16, 10, 8])\n",
      "After final_block shape: torch.Size([1, 2048, 4, 6, 4])\n",
      "After pooling shape: torch.Size([1, 2048, 1, 1, 1])\n",
      "After global average pooling shape: torch.Size([1, 2048, 1, 1, 1])\n",
      "Input shape: torch.Size([1, 3, 16, 320, 240])\n",
      "After backbone shape: torch.Size([1, 192, 16, 10, 8])\n",
      "After final_block shape: torch.Size([1, 2048, 4, 6, 4])\n",
      "After pooling shape: torch.Size([1, 2048, 1, 1, 1])\n",
      "After global average pooling shape: torch.Size([1, 2048, 1, 1, 1])\n",
      "Input shape: torch.Size([1, 3, 16, 320, 240])\n",
      "After backbone shape: torch.Size([1, 192, 16, 10, 8])\n",
      "After final_block shape: torch.Size([1, 2048, 4, 6, 4])\n",
      "After pooling shape: torch.Size([1, 2048, 1, 1, 1])\n",
      "After global average pooling shape: torch.Size([1, 2048, 1, 1, 1])\n",
      "Input shape: torch.Size([1, 3, 16, 320, 240])\n",
      "After backbone shape: torch.Size([1, 192, 16, 10, 8])\n",
      "After final_block shape: torch.Size([1, 2048, 4, 6, 4])\n",
      "After pooling shape: torch.Size([1, 2048, 1, 1, 1])\n",
      "After global average pooling shape: torch.Size([1, 2048, 1, 1, 1])\n"
     ]
    },
    {
     "name": "stderr",
     "output_type": "stream",
     "text": [
      "Extracting Features:  45%|████▍     | 76/169 [00:19<00:23,  3.88it/s]"
     ]
    },
    {
     "name": "stdout",
     "output_type": "stream",
     "text": [
      "batch_feature[0]:torch.Size([2048, 1, 1, 1])\n",
      "Batch shape: torch.Size([4, 3, 16, 320, 240])\n",
      "Input shape: torch.Size([1, 3, 16, 320, 240])\n",
      "After backbone shape: torch.Size([1, 192, 16, 10, 8])\n",
      "After final_block shape: torch.Size([1, 2048, 4, 6, 4])\n",
      "After pooling shape: torch.Size([1, 2048, 1, 1, 1])\n",
      "After global average pooling shape: torch.Size([1, 2048, 1, 1, 1])\n",
      "Input shape: torch.Size([1, 3, 16, 320, 240])\n",
      "After backbone shape: torch.Size([1, 192, 16, 10, 8])\n",
      "After final_block shape: torch.Size([1, 2048, 4, 6, 4])\n",
      "After pooling shape: torch.Size([1, 2048, 1, 1, 1])\n",
      "After global average pooling shape: torch.Size([1, 2048, 1, 1, 1])\n",
      "Input shape: torch.Size([1, 3, 16, 320, 240])\n",
      "After backbone shape: torch.Size([1, 192, 16, 10, 8])\n",
      "After final_block shape: torch.Size([1, 2048, 4, 6, 4])\n",
      "After pooling shape: torch.Size([1, 2048, 1, 1, 1])\n",
      "After global average pooling shape: torch.Size([1, 2048, 1, 1, 1])\n"
     ]
    },
    {
     "name": "stderr",
     "output_type": "stream",
     "text": [
      "Extracting Features:  46%|████▌     | 77/169 [00:20<00:24,  3.76it/s]"
     ]
    },
    {
     "name": "stdout",
     "output_type": "stream",
     "text": [
      "Input shape: torch.Size([1, 3, 16, 320, 240])\n",
      "After backbone shape: torch.Size([1, 192, 16, 10, 8])\n",
      "After final_block shape: torch.Size([1, 2048, 4, 6, 4])\n",
      "After pooling shape: torch.Size([1, 2048, 1, 1, 1])\n",
      "After global average pooling shape: torch.Size([1, 2048, 1, 1, 1])\n",
      "batch_feature[0]:torch.Size([2048, 1, 1, 1])\n",
      "Batch shape: torch.Size([4, 3, 16, 320, 240])\n",
      "Input shape: torch.Size([1, 3, 16, 320, 240])\n",
      "After backbone shape: torch.Size([1, 192, 16, 10, 8])\n",
      "After final_block shape: torch.Size([1, 2048, 4, 6, 4])\n",
      "After pooling shape: torch.Size([1, 2048, 1, 1, 1])\n",
      "After global average pooling shape: torch.Size([1, 2048, 1, 1, 1])\n",
      "Input shape: torch.Size([1, 3, 16, 320, 240])\n",
      "After backbone shape: torch.Size([1, 192, 16, 10, 8])\n",
      "After final_block shape: torch.Size([1, 2048, 4, 6, 4])\n",
      "After pooling shape: torch.Size([1, 2048, 1, 1, 1])\n",
      "After global average pooling shape: torch.Size([1, 2048, 1, 1, 1])\n"
     ]
    },
    {
     "name": "stderr",
     "output_type": "stream",
     "text": [
      "Extracting Features:  46%|████▌     | 78/169 [00:20<00:23,  3.81it/s]"
     ]
    },
    {
     "name": "stdout",
     "output_type": "stream",
     "text": [
      "Input shape: torch.Size([1, 3, 16, 320, 240])\n",
      "After backbone shape: torch.Size([1, 192, 16, 10, 8])\n",
      "After final_block shape: torch.Size([1, 2048, 4, 6, 4])\n",
      "After pooling shape: torch.Size([1, 2048, 1, 1, 1])\n",
      "After global average pooling shape: torch.Size([1, 2048, 1, 1, 1])\n",
      "Input shape: torch.Size([1, 3, 16, 320, 240])\n",
      "After backbone shape: torch.Size([1, 192, 16, 10, 8])\n",
      "After final_block shape: torch.Size([1, 2048, 4, 6, 4])\n",
      "After pooling shape: torch.Size([1, 2048, 1, 1, 1])\n",
      "After global average pooling shape: torch.Size([1, 2048, 1, 1, 1])\n",
      "batch_feature[0]:torch.Size([2048, 1, 1, 1])\n",
      "Batch shape: torch.Size([4, 3, 16, 320, 240])\n",
      "Input shape: torch.Size([1, 3, 16, 320, 240])\n",
      "After backbone shape: torch.Size([1, 192, 16, 10, 8])\n",
      "After final_block shape: torch.Size([1, 2048, 4, 6, 4])\n",
      "After pooling shape: torch.Size([1, 2048, 1, 1, 1])\n",
      "After global average pooling shape: torch.Size([1, 2048, 1, 1, 1])\n",
      "Input shape: torch.Size([1, 3, 16, 320, 240])\n",
      "After backbone shape: torch.Size([1, 192, 16, 10, 8])\n"
     ]
    },
    {
     "name": "stderr",
     "output_type": "stream",
     "text": [
      "Extracting Features:  47%|████▋     | 79/169 [00:20<00:23,  3.85it/s]"
     ]
    },
    {
     "name": "stdout",
     "output_type": "stream",
     "text": [
      "After final_block shape: torch.Size([1, 2048, 4, 6, 4])\n",
      "After pooling shape: torch.Size([1, 2048, 1, 1, 1])\n",
      "After global average pooling shape: torch.Size([1, 2048, 1, 1, 1])\n",
      "Input shape: torch.Size([1, 3, 16, 320, 240])\n",
      "After backbone shape: torch.Size([1, 192, 16, 10, 8])\n",
      "After final_block shape: torch.Size([1, 2048, 4, 6, 4])\n",
      "After pooling shape: torch.Size([1, 2048, 1, 1, 1])\n",
      "After global average pooling shape: torch.Size([1, 2048, 1, 1, 1])\n",
      "Input shape: torch.Size([1, 3, 16, 320, 240])\n",
      "After backbone shape: torch.Size([1, 192, 16, 10, 8])\n",
      "After final_block shape: torch.Size([1, 2048, 4, 6, 4])\n",
      "After pooling shape: torch.Size([1, 2048, 1, 1, 1])\n",
      "After global average pooling shape: torch.Size([1, 2048, 1, 1, 1])\n",
      "batch_feature[0]:torch.Size([2048, 1, 1, 1])\n",
      "Batch shape: torch.Size([4, 3, 16, 320, 240])\n",
      "Input shape: torch.Size([1, 3, 16, 320, 240])\n"
     ]
    },
    {
     "name": "stderr",
     "output_type": "stream",
     "text": [
      "Extracting Features:  47%|████▋     | 80/169 [00:20<00:23,  3.87it/s]"
     ]
    },
    {
     "name": "stdout",
     "output_type": "stream",
     "text": [
      "After backbone shape: torch.Size([1, 192, 16, 10, 8])\n",
      "After final_block shape: torch.Size([1, 2048, 4, 6, 4])\n",
      "After pooling shape: torch.Size([1, 2048, 1, 1, 1])\n",
      "After global average pooling shape: torch.Size([1, 2048, 1, 1, 1])\n",
      "Input shape: torch.Size([1, 3, 16, 320, 240])\n",
      "After backbone shape: torch.Size([1, 192, 16, 10, 8])\n",
      "After final_block shape: torch.Size([1, 2048, 4, 6, 4])\n",
      "After pooling shape: torch.Size([1, 2048, 1, 1, 1])\n",
      "After global average pooling shape: torch.Size([1, 2048, 1, 1, 1])\n",
      "Input shape: torch.Size([1, 3, 16, 320, 240])\n",
      "After backbone shape: torch.Size([1, 192, 16, 10, 8])\n",
      "After final_block shape: torch.Size([1, 2048, 4, 6, 4])\n",
      "After pooling shape: torch.Size([1, 2048, 1, 1, 1])\n",
      "After global average pooling shape: torch.Size([1, 2048, 1, 1, 1])\n",
      "Input shape: torch.Size([1, 3, 16, 320, 240])\n",
      "After backbone shape: torch.Size([1, 192, 16, 10, 8])\n",
      "After final_block shape: torch.Size([1, 2048, 4, 6, 4])\n",
      "After pooling shape: torch.Size([1, 2048, 1, 1, 1])\n",
      "After global average pooling shape: torch.Size([1, 2048, 1, 1, 1])\n",
      "batch_feature[0]:torch.Size([2048, 1, 1, 1])\n",
      "Batch shape: torch.Size([4, 3, 16, 320, 240])\n",
      "Input shape: torch.Size([1, 3, 16, 320, 240])\n",
      "After backbone shape: torch.Size([1, 192, 16, 10, 8])\n",
      "After final_block shape: torch.Size([1, 2048, 4, 6, 4])\n",
      "After pooling shape: torch.Size([1, 2048, 1, 1, 1])\n",
      "After global average pooling shape: torch.Size([1, 2048, 1, 1, 1])\n",
      "Input shape: torch.Size([1, 3, 16, 320, 240])\n",
      "After backbone shape: torch.Size([1, 192, 16, 10, 8])\n",
      "After final_block shape: torch.Size([1, 2048, 4, 6, 4])\n",
      "After pooling shape: torch.Size([1, 2048, 1, 1, 1])\n",
      "After global average pooling shape: torch.Size([1, 2048, 1, 1, 1])\n",
      "Input shape: torch.Size([1, 3, 16, 320, 240])\n",
      "After backbone shape: torch.Size([1, 192, 16, 10, 8])\n",
      "After final_block shape: torch.Size([1, 2048, 4, 6, 4])\n",
      "After pooling shape: torch.Size([1, 2048, 1, 1, 1])\n",
      "After global average pooling shape: torch.Size([1, 2048, 1, 1, 1])\n",
      "Input shape: torch.Size([1, 3, 16, 320, 240])\n"
     ]
    },
    {
     "name": "stderr",
     "output_type": "stream",
     "text": [
      "Extracting Features:  48%|████▊     | 81/169 [00:21<00:23,  3.79it/s]"
     ]
    },
    {
     "name": "stdout",
     "output_type": "stream",
     "text": [
      "After backbone shape: torch.Size([1, 192, 16, 10, 8])\n",
      "After final_block shape: torch.Size([1, 2048, 4, 6, 4])\n",
      "After pooling shape: torch.Size([1, 2048, 1, 1, 1])\n",
      "After global average pooling shape: torch.Size([1, 2048, 1, 1, 1])\n",
      "batch_feature[0]:torch.Size([2048, 1, 1, 1])\n",
      "Batch shape: torch.Size([4, 3, 16, 320, 240])\n",
      "Input shape: torch.Size([1, 3, 16, 320, 240])\n",
      "After backbone shape: torch.Size([1, 192, 16, 10, 8])\n",
      "After final_block shape: torch.Size([1, 2048, 4, 6, 4])\n",
      "After pooling shape: torch.Size([1, 2048, 1, 1, 1])\n",
      "After global average pooling shape: torch.Size([1, 2048, 1, 1, 1])\n",
      "Input shape: torch.Size([1, 3, 16, 320, 240])\n",
      "After backbone shape: torch.Size([1, 192, 16, 10, 8])\n",
      "After final_block shape: torch.Size([1, 2048, 4, 6, 4])\n",
      "After pooling shape: torch.Size([1, 2048, 1, 1, 1])\n",
      "After global average pooling shape: torch.Size([1, 2048, 1, 1, 1])\n",
      "Input shape: torch.Size([1, 3, 16, 320, 240])\n",
      "After backbone shape: torch.Size([1, 192, 16, 10, 8])\n",
      "After final_block shape: torch.Size([1, 2048, 4, 6, 4])\n",
      "After pooling shape: torch.Size([1, 2048, 1, 1, 1])\n",
      "After global average pooling shape: torch.Size([1, 2048, 1, 1, 1])\n"
     ]
    },
    {
     "name": "stderr",
     "output_type": "stream",
     "text": [
      "Extracting Features:  49%|████▊     | 82/169 [00:21<00:22,  3.79it/s]"
     ]
    },
    {
     "name": "stdout",
     "output_type": "stream",
     "text": [
      "Input shape: torch.Size([1, 3, 16, 320, 240])\n",
      "After backbone shape: torch.Size([1, 192, 16, 10, 8])\n",
      "After final_block shape: torch.Size([1, 2048, 4, 6, 4])\n",
      "After pooling shape: torch.Size([1, 2048, 1, 1, 1])\n",
      "After global average pooling shape: torch.Size([1, 2048, 1, 1, 1])\n",
      "batch_feature[0]:torch.Size([2048, 1, 1, 1])\n",
      "Batch shape: torch.Size([4, 3, 16, 320, 240])\n",
      "Input shape: torch.Size([1, 3, 16, 320, 240])\n",
      "After backbone shape: torch.Size([1, 192, 16, 10, 8])\n",
      "After final_block shape: torch.Size([1, 2048, 4, 6, 4])\n",
      "After pooling shape: torch.Size([1, 2048, 1, 1, 1])\n",
      "After global average pooling shape: torch.Size([1, 2048, 1, 1, 1])\n",
      "Input shape: torch.Size([1, 3, 16, 320, 240])\n",
      "After backbone shape: torch.Size([1, 192, 16, 10, 8])\n",
      "After final_block shape: torch.Size([1, 2048, 4, 6, 4])\n",
      "After pooling shape: torch.Size([1, 2048, 1, 1, 1])\n",
      "After global average pooling shape: torch.Size([1, 2048, 1, 1, 1])\n",
      "Input shape: torch.Size([1, 3, 16, 320, 240])\n",
      "After backbone shape: torch.Size([1, 192, 16, 10, 8])\n",
      "After final_block shape: torch.Size([1, 2048, 4, 6, 4])\n",
      "After pooling shape: torch.Size([1, 2048, 1, 1, 1])\n",
      "After global average pooling shape: torch.Size([1, 2048, 1, 1, 1])\n"
     ]
    },
    {
     "name": "stderr",
     "output_type": "stream",
     "text": [
      "Extracting Features:  49%|████▉     | 83/169 [00:21<00:22,  3.79it/s]"
     ]
    },
    {
     "name": "stdout",
     "output_type": "stream",
     "text": [
      "Input shape: torch.Size([1, 3, 16, 320, 240])\n",
      "After backbone shape: torch.Size([1, 192, 16, 10, 8])\n",
      "After final_block shape: torch.Size([1, 2048, 4, 6, 4])\n",
      "After pooling shape: torch.Size([1, 2048, 1, 1, 1])\n",
      "After global average pooling shape: torch.Size([1, 2048, 1, 1, 1])\n",
      "batch_feature[0]:torch.Size([2048, 1, 1, 1])\n",
      "Batch shape: torch.Size([4, 3, 16, 320, 240])\n",
      "Input shape: torch.Size([1, 3, 16, 320, 240])\n",
      "After backbone shape: torch.Size([1, 192, 16, 10, 8])\n",
      "After final_block shape: torch.Size([1, 2048, 4, 6, 4])\n",
      "After pooling shape: torch.Size([1, 2048, 1, 1, 1])\n",
      "After global average pooling shape: torch.Size([1, 2048, 1, 1, 1])\n",
      "Input shape: torch.Size([1, 3, 16, 320, 240])\n",
      "After backbone shape: torch.Size([1, 192, 16, 10, 8])\n",
      "After final_block shape: torch.Size([1, 2048, 4, 6, 4])\n",
      "After pooling shape: torch.Size([1, 2048, 1, 1, 1])\n",
      "After global average pooling shape: torch.Size([1, 2048, 1, 1, 1])\n"
     ]
    },
    {
     "name": "stderr",
     "output_type": "stream",
     "text": [
      "Extracting Features:  50%|████▉     | 84/169 [00:21<00:22,  3.83it/s]"
     ]
    },
    {
     "name": "stdout",
     "output_type": "stream",
     "text": [
      "Input shape: torch.Size([1, 3, 16, 320, 240])\n",
      "After backbone shape: torch.Size([1, 192, 16, 10, 8])\n",
      "After final_block shape: torch.Size([1, 2048, 4, 6, 4])\n",
      "After pooling shape: torch.Size([1, 2048, 1, 1, 1])\n",
      "After global average pooling shape: torch.Size([1, 2048, 1, 1, 1])\n",
      "Input shape: torch.Size([1, 3, 16, 320, 240])\n",
      "After backbone shape: torch.Size([1, 192, 16, 10, 8])\n",
      "After final_block shape: torch.Size([1, 2048, 4, 6, 4])\n",
      "After pooling shape: torch.Size([1, 2048, 1, 1, 1])\n",
      "After global average pooling shape: torch.Size([1, 2048, 1, 1, 1])\n",
      "batch_feature[0]:torch.Size([2048, 1, 1, 1])\n",
      "Batch shape: torch.Size([4, 3, 16, 320, 240])\n",
      "Input shape: torch.Size([1, 3, 16, 320, 240])\n",
      "After backbone shape: torch.Size([1, 192, 16, 10, 8])\n",
      "After final_block shape: torch.Size([1, 2048, 4, 6, 4])\n",
      "After pooling shape: torch.Size([1, 2048, 1, 1, 1])\n",
      "After global average pooling shape: torch.Size([1, 2048, 1, 1, 1])\n",
      "Input shape: torch.Size([1, 3, 16, 320, 240])\n",
      "After backbone shape: torch.Size([1, 192, 16, 10, 8])\n",
      "After final_block shape: torch.Size([1, 2048, 4, 6, 4])\n",
      "After pooling shape: torch.Size([1, 2048, 1, 1, 1])\n",
      "After global average pooling shape: torch.Size([1, 2048, 1, 1, 1])\n"
     ]
    },
    {
     "name": "stderr",
     "output_type": "stream",
     "text": [
      "Extracting Features:  50%|█████     | 85/169 [00:22<00:21,  3.84it/s]"
     ]
    },
    {
     "name": "stdout",
     "output_type": "stream",
     "text": [
      "Input shape: torch.Size([1, 3, 16, 320, 240])\n",
      "After backbone shape: torch.Size([1, 192, 16, 10, 8])\n",
      "After final_block shape: torch.Size([1, 2048, 4, 6, 4])\n",
      "After pooling shape: torch.Size([1, 2048, 1, 1, 1])\n",
      "After global average pooling shape: torch.Size([1, 2048, 1, 1, 1])\n",
      "Input shape: torch.Size([1, 3, 16, 320, 240])\n",
      "After backbone shape: torch.Size([1, 192, 16, 10, 8])\n",
      "After final_block shape: torch.Size([1, 2048, 4, 6, 4])\n",
      "After pooling shape: torch.Size([1, 2048, 1, 1, 1])\n",
      "After global average pooling shape: torch.Size([1, 2048, 1, 1, 1])\n",
      "batch_feature[0]:torch.Size([2048, 1, 1, 1])\n",
      "Batch shape: torch.Size([4, 3, 16, 320, 240])\n",
      "Input shape: torch.Size([1, 3, 16, 320, 240])\n",
      "After backbone shape: torch.Size([1, 192, 16, 10, 8])\n",
      "After final_block shape: torch.Size([1, 2048, 4, 6, 4])\n",
      "After pooling shape: torch.Size([1, 2048, 1, 1, 1])\n",
      "After global average pooling shape: torch.Size([1, 2048, 1, 1, 1])\n"
     ]
    },
    {
     "name": "stderr",
     "output_type": "stream",
     "text": [
      "Extracting Features:  51%|█████     | 86/169 [00:22<00:21,  3.81it/s]"
     ]
    },
    {
     "name": "stdout",
     "output_type": "stream",
     "text": [
      "Input shape: torch.Size([1, 3, 16, 320, 240])\n",
      "After backbone shape: torch.Size([1, 192, 16, 10, 8])\n",
      "After final_block shape: torch.Size([1, 2048, 4, 6, 4])\n",
      "After pooling shape: torch.Size([1, 2048, 1, 1, 1])\n",
      "After global average pooling shape: torch.Size([1, 2048, 1, 1, 1])\n",
      "Input shape: torch.Size([1, 3, 16, 320, 240])\n",
      "After backbone shape: torch.Size([1, 192, 16, 10, 8])\n",
      "After final_block shape: torch.Size([1, 2048, 4, 6, 4])\n",
      "After pooling shape: torch.Size([1, 2048, 1, 1, 1])\n",
      "After global average pooling shape: torch.Size([1, 2048, 1, 1, 1])\n",
      "Input shape: torch.Size([1, 3, 16, 320, 240])\n",
      "After backbone shape: torch.Size([1, 192, 16, 10, 8])\n",
      "After final_block shape: torch.Size([1, 2048, 4, 6, 4])\n",
      "After pooling shape: torch.Size([1, 2048, 1, 1, 1])\n",
      "After global average pooling shape: torch.Size([1, 2048, 1, 1, 1])\n",
      "batch_feature[0]:torch.Size([2048, 1, 1, 1])\n",
      "Batch shape: torch.Size([4, 3, 16, 320, 240])\n",
      "Input shape: torch.Size([1, 3, 16, 320, 240])\n",
      "After backbone shape: torch.Size([1, 192, 16, 10, 8])\n",
      "After final_block shape: torch.Size([1, 2048, 4, 6, 4])\n",
      "After pooling shape: torch.Size([1, 2048, 1, 1, 1])\n",
      "After global average pooling shape: torch.Size([1, 2048, 1, 1, 1])\n",
      "Input shape: torch.Size([1, 3, 16, 320, 240])\n",
      "After backbone shape: torch.Size([1, 192, 16, 10, 8])\n",
      "After final_block shape: torch.Size([1, 2048, 4, 6, 4])\n",
      "After pooling shape: torch.Size([1, 2048, 1, 1, 1])\n",
      "After global average pooling shape: torch.Size([1, 2048, 1, 1, 1])\n",
      "Input shape: torch.Size([1, 3, 16, 320, 240])\n",
      "After backbone shape: torch.Size([1, 192, 16, 10, 8])\n",
      "After final_block shape: torch.Size([1, 2048, 4, 6, 4])\n",
      "After pooling shape: torch.Size([1, 2048, 1, 1, 1])\n",
      "After global average pooling shape: torch.Size([1, 2048, 1, 1, 1])\n",
      "Input shape: torch.Size([1, 3, 16, 320, 240])\n",
      "After backbone shape: torch.Size([1, 192, 16, 10, 8])\n",
      "After final_block shape: torch.Size([1, 2048, 4, 6, 4])\n",
      "After pooling shape: torch.Size([1, 2048, 1, 1, 1])\n",
      "After global average pooling shape: torch.Size([1, 2048, 1, 1, 1])\n"
     ]
    },
    {
     "name": "stderr",
     "output_type": "stream",
     "text": [
      "Extracting Features:  51%|█████▏    | 87/169 [00:22<00:21,  3.82it/s]"
     ]
    },
    {
     "name": "stdout",
     "output_type": "stream",
     "text": [
      "batch_feature[0]:torch.Size([2048, 1, 1, 1])\n",
      "Batch shape: torch.Size([4, 3, 16, 320, 240])\n",
      "Input shape: torch.Size([1, 3, 16, 320, 240])\n",
      "After backbone shape: torch.Size([1, 192, 16, 10, 8])\n",
      "After final_block shape: torch.Size([1, 2048, 4, 6, 4])\n",
      "After pooling shape: torch.Size([1, 2048, 1, 1, 1])\n",
      "After global average pooling shape: torch.Size([1, 2048, 1, 1, 1])\n",
      "Input shape: torch.Size([1, 3, 16, 320, 240])\n",
      "After backbone shape: torch.Size([1, 192, 16, 10, 8])\n",
      "After final_block shape: torch.Size([1, 2048, 4, 6, 4])\n",
      "After pooling shape: torch.Size([1, 2048, 1, 1, 1])\n",
      "After global average pooling shape: torch.Size([1, 2048, 1, 1, 1])\n",
      "Input shape: torch.Size([1, 3, 16, 320, 240])\n",
      "After backbone shape: torch.Size([1, 192, 16, 10, 8])\n",
      "After final_block shape: torch.Size([1, 2048, 4, 6, 4])\n",
      "After pooling shape: torch.Size([1, 2048, 1, 1, 1])\n",
      "After global average pooling shape: torch.Size([1, 2048, 1, 1, 1])\n",
      "Input shape: torch.Size([1, 3, 16, 320, 240])\n"
     ]
    },
    {
     "name": "stderr",
     "output_type": "stream",
     "text": [
      "Extracting Features:  52%|█████▏    | 88/169 [00:23<00:21,  3.77it/s]"
     ]
    },
    {
     "name": "stdout",
     "output_type": "stream",
     "text": [
      "After backbone shape: torch.Size([1, 192, 16, 10, 8])\n",
      "After final_block shape: torch.Size([1, 2048, 4, 6, 4])\n",
      "After pooling shape: torch.Size([1, 2048, 1, 1, 1])\n",
      "After global average pooling shape: torch.Size([1, 2048, 1, 1, 1])\n",
      "batch_feature[0]:torch.Size([2048, 1, 1, 1])\n",
      "Batch shape: torch.Size([4, 3, 16, 320, 240])\n",
      "Input shape: torch.Size([1, 3, 16, 320, 240])\n",
      "After backbone shape: torch.Size([1, 192, 16, 10, 8])\n",
      "After final_block shape: torch.Size([1, 2048, 4, 6, 4])\n",
      "After pooling shape: torch.Size([1, 2048, 1, 1, 1])\n",
      "After global average pooling shape: torch.Size([1, 2048, 1, 1, 1])\n",
      "Input shape: torch.Size([1, 3, 16, 320, 240])\n",
      "After backbone shape: torch.Size([1, 192, 16, 10, 8])\n",
      "After final_block shape: torch.Size([1, 2048, 4, 6, 4])\n",
      "After pooling shape: torch.Size([1, 2048, 1, 1, 1])\n",
      "After global average pooling shape: torch.Size([1, 2048, 1, 1, 1])\n",
      "Input shape: torch.Size([1, 3, 16, 320, 240])\n"
     ]
    },
    {
     "name": "stderr",
     "output_type": "stream",
     "text": [
      "Extracting Features:  53%|█████▎    | 89/169 [00:23<00:21,  3.75it/s]"
     ]
    },
    {
     "name": "stdout",
     "output_type": "stream",
     "text": [
      "After backbone shape: torch.Size([1, 192, 16, 10, 8])\n",
      "After final_block shape: torch.Size([1, 2048, 4, 6, 4])\n",
      "After pooling shape: torch.Size([1, 2048, 1, 1, 1])\n",
      "After global average pooling shape: torch.Size([1, 2048, 1, 1, 1])\n",
      "Input shape: torch.Size([1, 3, 16, 320, 240])\n",
      "After backbone shape: torch.Size([1, 192, 16, 10, 8])\n",
      "After final_block shape: torch.Size([1, 2048, 4, 6, 4])\n",
      "After pooling shape: torch.Size([1, 2048, 1, 1, 1])\n",
      "After global average pooling shape: torch.Size([1, 2048, 1, 1, 1])\n",
      "batch_feature[0]:torch.Size([2048, 1, 1, 1])\n",
      "Batch shape: torch.Size([4, 3, 16, 320, 240])\n",
      "Input shape: torch.Size([1, 3, 16, 320, 240])\n",
      "After backbone shape: torch.Size([1, 192, 16, 10, 8])\n",
      "After final_block shape: torch.Size([1, 2048, 4, 6, 4])\n",
      "After pooling shape: torch.Size([1, 2048, 1, 1, 1])\n",
      "After global average pooling shape: torch.Size([1, 2048, 1, 1, 1])\n"
     ]
    },
    {
     "name": "stderr",
     "output_type": "stream",
     "text": [
      "Extracting Features:  53%|█████▎    | 90/169 [00:23<00:21,  3.69it/s]"
     ]
    },
    {
     "name": "stdout",
     "output_type": "stream",
     "text": [
      "Input shape: torch.Size([1, 3, 16, 320, 240])\n",
      "After backbone shape: torch.Size([1, 192, 16, 10, 8])\n",
      "After final_block shape: torch.Size([1, 2048, 4, 6, 4])\n",
      "After pooling shape: torch.Size([1, 2048, 1, 1, 1])\n",
      "After global average pooling shape: torch.Size([1, 2048, 1, 1, 1])\n",
      "Input shape: torch.Size([1, 3, 16, 320, 240])\n",
      "After backbone shape: torch.Size([1, 192, 16, 10, 8])\n",
      "After final_block shape: torch.Size([1, 2048, 4, 6, 4])\n",
      "After pooling shape: torch.Size([1, 2048, 1, 1, 1])\n",
      "After global average pooling shape: torch.Size([1, 2048, 1, 1, 1])\n",
      "Input shape: torch.Size([1, 3, 16, 320, 240])\n",
      "After backbone shape: torch.Size([1, 192, 16, 10, 8])\n",
      "After final_block shape: torch.Size([1, 2048, 4, 6, 4])\n",
      "After pooling shape: torch.Size([1, 2048, 1, 1, 1])\n",
      "After global average pooling shape: torch.Size([1, 2048, 1, 1, 1])\n",
      "batch_feature[0]:torch.Size([2048, 1, 1, 1])\n",
      "Batch shape: torch.Size([4, 3, 16, 320, 240])\n",
      "Input shape: torch.Size([1, 3, 16, 320, 240])\n",
      "After backbone shape: torch.Size([1, 192, 16, 10, 8])\n",
      "After final_block shape: torch.Size([1, 2048, 4, 6, 4])\n",
      "After pooling shape: torch.Size([1, 2048, 1, 1, 1])\n",
      "After global average pooling shape: torch.Size([1, 2048, 1, 1, 1])\n",
      "Input shape: torch.Size([1, 3, 16, 320, 240])\n",
      "After backbone shape: torch.Size([1, 192, 16, 10, 8])\n",
      "After final_block shape: torch.Size([1, 2048, 4, 6, 4])\n",
      "After pooling shape: torch.Size([1, 2048, 1, 1, 1])\n",
      "After global average pooling shape: torch.Size([1, 2048, 1, 1, 1])\n",
      "Input shape: torch.Size([1, 3, 16, 320, 240])\n",
      "After backbone shape: torch.Size([1, 192, 16, 10, 8])\n",
      "After final_block shape: torch.Size([1, 2048, 4, 6, 4])\n",
      "After pooling shape: torch.Size([1, 2048, 1, 1, 1])\n",
      "After global average pooling shape: torch.Size([1, 2048, 1, 1, 1])\n",
      "Input shape: torch.Size([1, 3, 16, 320, 240])\n",
      "After backbone shape: torch.Size([1, 192, 16, 10, 8])\n",
      "After final_block shape: torch.Size([1, 2048, 4, 6, 4])\n",
      "After pooling shape: torch.Size([1, 2048, 1, 1, 1])\n",
      "After global average pooling shape: torch.Size([1, 2048, 1, 1, 1])\n",
      "batch_feature[0]:torch.Size([2048, 1, 1, 1])\n"
     ]
    },
    {
     "name": "stderr",
     "output_type": "stream",
     "text": [
      "Extracting Features:  54%|█████▍    | 91/169 [00:23<00:20,  3.76it/s]"
     ]
    },
    {
     "name": "stdout",
     "output_type": "stream",
     "text": [
      "Batch shape: torch.Size([4, 3, 16, 320, 240])\n",
      "Input shape: torch.Size([1, 3, 16, 320, 240])\n",
      "After backbone shape: torch.Size([1, 192, 16, 10, 8])\n",
      "After final_block shape: torch.Size([1, 2048, 4, 6, 4])\n",
      "After pooling shape: torch.Size([1, 2048, 1, 1, 1])\n",
      "After global average pooling shape: torch.Size([1, 2048, 1, 1, 1])\n",
      "Input shape: torch.Size([1, 3, 16, 320, 240])\n",
      "After backbone shape: torch.Size([1, 192, 16, 10, 8])\n",
      "After final_block shape: torch.Size([1, 2048, 4, 6, 4])\n",
      "After pooling shape: torch.Size([1, 2048, 1, 1, 1])\n",
      "After global average pooling shape: torch.Size([1, 2048, 1, 1, 1])\n",
      "Input shape: torch.Size([1, 3, 16, 320, 240])\n",
      "After backbone shape: torch.Size([1, 192, 16, 10, 8])\n",
      "After final_block shape: torch.Size([1, 2048, 4, 6, 4])\n",
      "After pooling shape: torch.Size([1, 2048, 1, 1, 1])\n",
      "After global average pooling shape: torch.Size([1, 2048, 1, 1, 1])\n",
      "Input shape: torch.Size([1, 3, 16, 320, 240])\n",
      "After backbone shape: torch.Size([1, 192, 16, 10, 8])\n",
      "After final_block shape: torch.Size([1, 2048, 4, 6, 4])\n",
      "After pooling shape: torch.Size([1, 2048, 1, 1, 1])\n",
      "After global average pooling shape: torch.Size([1, 2048, 1, 1, 1])\n"
     ]
    },
    {
     "name": "stderr",
     "output_type": "stream",
     "text": [
      "Extracting Features:  54%|█████▍    | 92/169 [00:24<00:20,  3.79it/s]"
     ]
    },
    {
     "name": "stdout",
     "output_type": "stream",
     "text": [
      "batch_feature[0]:torch.Size([2048, 1, 1, 1])\n",
      "Batch shape: torch.Size([4, 3, 16, 320, 240])\n",
      "Input shape: torch.Size([1, 3, 16, 320, 240])\n",
      "After backbone shape: torch.Size([1, 192, 16, 10, 8])\n",
      "After final_block shape: torch.Size([1, 2048, 4, 6, 4])\n",
      "After pooling shape: torch.Size([1, 2048, 1, 1, 1])\n",
      "After global average pooling shape: torch.Size([1, 2048, 1, 1, 1])\n",
      "Input shape: torch.Size([1, 3, 16, 320, 240])\n",
      "After backbone shape: torch.Size([1, 192, 16, 10, 8])\n",
      "After final_block shape: torch.Size([1, 2048, 4, 6, 4])\n",
      "After pooling shape: torch.Size([1, 2048, 1, 1, 1])\n",
      "After global average pooling shape: torch.Size([1, 2048, 1, 1, 1])\n",
      "Input shape: torch.Size([1, 3, 16, 320, 240])\n",
      "After backbone shape: torch.Size([1, 192, 16, 10, 8])\n",
      "After final_block shape: torch.Size([1, 2048, 4, 6, 4])\n",
      "After pooling shape: torch.Size([1, 2048, 1, 1, 1])\n",
      "After global average pooling shape: torch.Size([1, 2048, 1, 1, 1])\n",
      "Input shape: torch.Size([1, 3, 16, 320, 240])\n",
      "After backbone shape: torch.Size([1, 192, 16, 10, 8])\n",
      "After final_block shape: torch.Size([1, 2048, 4, 6, 4])\n",
      "After pooling shape: torch.Size([1, 2048, 1, 1, 1])\n",
      "After global average pooling shape: torch.Size([1, 2048, 1, 1, 1])\n"
     ]
    },
    {
     "name": "stderr",
     "output_type": "stream",
     "text": [
      "Extracting Features:  55%|█████▌    | 93/169 [00:24<00:19,  3.85it/s]"
     ]
    },
    {
     "name": "stdout",
     "output_type": "stream",
     "text": [
      "batch_feature[0]:torch.Size([2048, 1, 1, 1])\n",
      "Batch shape: torch.Size([4, 3, 16, 320, 240])\n",
      "Input shape: torch.Size([1, 3, 16, 320, 240])\n",
      "After backbone shape: torch.Size([1, 192, 16, 10, 8])\n",
      "After final_block shape: torch.Size([1, 2048, 4, 6, 4])\n",
      "After pooling shape: torch.Size([1, 2048, 1, 1, 1])\n",
      "After global average pooling shape: torch.Size([1, 2048, 1, 1, 1])\n",
      "Input shape: torch.Size([1, 3, 16, 320, 240])\n",
      "After backbone shape: torch.Size([1, 192, 16, 10, 8])\n",
      "After final_block shape: torch.Size([1, 2048, 4, 6, 4])\n",
      "After pooling shape: torch.Size([1, 2048, 1, 1, 1])\n",
      "After global average pooling shape: torch.Size([1, 2048, 1, 1, 1])\n",
      "Input shape: torch.Size([1, 3, 16, 320, 240])\n",
      "After backbone shape: torch.Size([1, 192, 16, 10, 8])\n",
      "After final_block shape: torch.Size([1, 2048, 4, 6, 4])\n",
      "After pooling shape: torch.Size([1, 2048, 1, 1, 1])\n",
      "After global average pooling shape: torch.Size([1, 2048, 1, 1, 1])\n",
      "Input shape: torch.Size([1, 3, 16, 320, 240])\n"
     ]
    },
    {
     "name": "stderr",
     "output_type": "stream",
     "text": [
      "Extracting Features:  56%|█████▌    | 94/169 [00:24<00:19,  3.87it/s]"
     ]
    },
    {
     "name": "stdout",
     "output_type": "stream",
     "text": [
      "After backbone shape: torch.Size([1, 192, 16, 10, 8])\n",
      "After final_block shape: torch.Size([1, 2048, 4, 6, 4])\n",
      "After pooling shape: torch.Size([1, 2048, 1, 1, 1])\n",
      "After global average pooling shape: torch.Size([1, 2048, 1, 1, 1])\n",
      "batch_feature[0]:torch.Size([2048, 1, 1, 1])\n",
      "Batch shape: torch.Size([4, 3, 16, 320, 240])\n",
      "Input shape: torch.Size([1, 3, 16, 320, 240])\n",
      "After backbone shape: torch.Size([1, 192, 16, 10, 8])\n",
      "After final_block shape: torch.Size([1, 2048, 4, 6, 4])\n",
      "After pooling shape: torch.Size([1, 2048, 1, 1, 1])\n",
      "After global average pooling shape: torch.Size([1, 2048, 1, 1, 1])\n",
      "Input shape: torch.Size([1, 3, 16, 320, 240])\n",
      "After backbone shape: torch.Size([1, 192, 16, 10, 8])\n",
      "After final_block shape: torch.Size([1, 2048, 4, 6, 4])\n",
      "After pooling shape: torch.Size([1, 2048, 1, 1, 1])\n",
      "After global average pooling shape: torch.Size([1, 2048, 1, 1, 1])\n",
      "Input shape: torch.Size([1, 3, 16, 320, 240])\n",
      "After backbone shape: torch.Size([1, 192, 16, 10, 8])\n",
      "After final_block shape: torch.Size([1, 2048, 4, 6, 4])\n",
      "After pooling shape: torch.Size([1, 2048, 1, 1, 1])\n",
      "After global average pooling shape: torch.Size([1, 2048, 1, 1, 1])\n"
     ]
    },
    {
     "name": "stderr",
     "output_type": "stream",
     "text": [
      "Extracting Features:  56%|█████▌    | 95/169 [00:24<00:18,  3.96it/s]"
     ]
    },
    {
     "name": "stdout",
     "output_type": "stream",
     "text": [
      "Input shape: torch.Size([1, 3, 16, 320, 240])\n",
      "After backbone shape: torch.Size([1, 192, 16, 10, 8])\n",
      "After final_block shape: torch.Size([1, 2048, 4, 6, 4])\n",
      "After pooling shape: torch.Size([1, 2048, 1, 1, 1])\n",
      "After global average pooling shape: torch.Size([1, 2048, 1, 1, 1])\n",
      "batch_feature[0]:torch.Size([2048, 1, 1, 1])\n",
      "Batch shape: torch.Size([4, 3, 16, 320, 240])\n",
      "Input shape: torch.Size([1, 3, 16, 320, 240])\n",
      "After backbone shape: torch.Size([1, 192, 16, 10, 8])\n",
      "After final_block shape: torch.Size([1, 2048, 4, 6, 4])\n",
      "After pooling shape: torch.Size([1, 2048, 1, 1, 1])\n",
      "After global average pooling shape: torch.Size([1, 2048, 1, 1, 1])\n",
      "Input shape: torch.Size([1, 3, 16, 320, 240])\n",
      "After backbone shape: torch.Size([1, 192, 16, 10, 8])\n",
      "After final_block shape: torch.Size([1, 2048, 4, 6, 4])\n",
      "After pooling shape: torch.Size([1, 2048, 1, 1, 1])\n",
      "After global average pooling shape: torch.Size([1, 2048, 1, 1, 1])\n"
     ]
    },
    {
     "name": "stderr",
     "output_type": "stream",
     "text": [
      "Extracting Features:  57%|█████▋    | 96/169 [00:25<00:18,  3.85it/s]"
     ]
    },
    {
     "name": "stdout",
     "output_type": "stream",
     "text": [
      "Input shape: torch.Size([1, 3, 16, 320, 240])\n",
      "After backbone shape: torch.Size([1, 192, 16, 10, 8])\n",
      "After final_block shape: torch.Size([1, 2048, 4, 6, 4])\n",
      "After pooling shape: torch.Size([1, 2048, 1, 1, 1])\n",
      "After global average pooling shape: torch.Size([1, 2048, 1, 1, 1])\n",
      "Input shape: torch.Size([1, 3, 16, 320, 240])\n",
      "After backbone shape: torch.Size([1, 192, 16, 10, 8])\n",
      "After final_block shape: torch.Size([1, 2048, 4, 6, 4])\n",
      "After pooling shape: torch.Size([1, 2048, 1, 1, 1])\n",
      "After global average pooling shape: torch.Size([1, 2048, 1, 1, 1])\n",
      "batch_feature[0]:torch.Size([2048, 1, 1, 1])\n",
      "Batch shape: torch.Size([4, 3, 16, 320, 240])\n",
      "Input shape: torch.Size([1, 3, 16, 320, 240])\n",
      "After backbone shape: torch.Size([1, 192, 16, 10, 8])\n",
      "After final_block shape: torch.Size([1, 2048, 4, 6, 4])\n",
      "After pooling shape: torch.Size([1, 2048, 1, 1, 1])\n",
      "After global average pooling shape: torch.Size([1, 2048, 1, 1, 1])\n",
      "Input shape: torch.Size([1, 3, 16, 320, 240])\n",
      "After backbone shape: torch.Size([1, 192, 16, 10, 8])\n",
      "After final_block shape: torch.Size([1, 2048, 4, 6, 4])\n",
      "After pooling shape: torch.Size([1, 2048, 1, 1, 1])\n",
      "After global average pooling shape: torch.Size([1, 2048, 1, 1, 1])\n"
     ]
    },
    {
     "name": "stderr",
     "output_type": "stream",
     "text": [
      "Extracting Features:  57%|█████▋    | 97/169 [00:25<00:18,  3.95it/s]"
     ]
    },
    {
     "name": "stdout",
     "output_type": "stream",
     "text": [
      "Input shape: torch.Size([1, 3, 16, 320, 240])\n",
      "After backbone shape: torch.Size([1, 192, 16, 10, 8])\n",
      "After final_block shape: torch.Size([1, 2048, 4, 6, 4])\n",
      "After pooling shape: torch.Size([1, 2048, 1, 1, 1])\n",
      "After global average pooling shape: torch.Size([1, 2048, 1, 1, 1])\n",
      "Input shape: torch.Size([1, 3, 16, 320, 240])\n",
      "After backbone shape: torch.Size([1, 192, 16, 10, 8])\n",
      "After final_block shape: torch.Size([1, 2048, 4, 6, 4])\n",
      "After pooling shape: torch.Size([1, 2048, 1, 1, 1])\n",
      "After global average pooling shape: torch.Size([1, 2048, 1, 1, 1])\n",
      "batch_feature[0]:torch.Size([2048, 1, 1, 1])\n",
      "Batch shape: torch.Size([4, 3, 16, 320, 240])\n",
      "Input shape: torch.Size([1, 3, 16, 320, 240])\n",
      "After backbone shape: torch.Size([1, 192, 16, 10, 8])\n",
      "After final_block shape: torch.Size([1, 2048, 4, 6, 4])\n",
      "After pooling shape: torch.Size([1, 2048, 1, 1, 1])\n",
      "After global average pooling shape: torch.Size([1, 2048, 1, 1, 1])\n",
      "Input shape: torch.Size([1, 3, 16, 320, 240])\n"
     ]
    },
    {
     "name": "stderr",
     "output_type": "stream",
     "text": [
      "Extracting Features:  58%|█████▊    | 98/169 [00:25<00:17,  3.95it/s]"
     ]
    },
    {
     "name": "stdout",
     "output_type": "stream",
     "text": [
      "After backbone shape: torch.Size([1, 192, 16, 10, 8])\n",
      "After final_block shape: torch.Size([1, 2048, 4, 6, 4])\n",
      "After pooling shape: torch.Size([1, 2048, 1, 1, 1])\n",
      "After global average pooling shape: torch.Size([1, 2048, 1, 1, 1])\n",
      "Input shape: torch.Size([1, 3, 16, 320, 240])\n",
      "After backbone shape: torch.Size([1, 192, 16, 10, 8])\n",
      "After final_block shape: torch.Size([1, 2048, 4, 6, 4])\n",
      "After pooling shape: torch.Size([1, 2048, 1, 1, 1])\n",
      "After global average pooling shape: torch.Size([1, 2048, 1, 1, 1])\n",
      "Input shape: torch.Size([1, 3, 16, 320, 240])\n",
      "After backbone shape: torch.Size([1, 192, 16, 10, 8])\n",
      "After final_block shape: torch.Size([1, 2048, 4, 6, 4])\n",
      "After pooling shape: torch.Size([1, 2048, 1, 1, 1])\n",
      "After global average pooling shape: torch.Size([1, 2048, 1, 1, 1])\n",
      "batch_feature[0]:torch.Size([2048, 1, 1, 1])\n",
      "Batch shape: torch.Size([4, 3, 16, 320, 240])\n",
      "Input shape: torch.Size([1, 3, 16, 320, 240])\n",
      "After backbone shape: torch.Size([1, 192, 16, 10, 8])\n",
      "After final_block shape: torch.Size([1, 2048, 4, 6, 4])\n",
      "After pooling shape: torch.Size([1, 2048, 1, 1, 1])\n",
      "After global average pooling shape: torch.Size([1, 2048, 1, 1, 1])\n"
     ]
    },
    {
     "name": "stderr",
     "output_type": "stream",
     "text": [
      "Extracting Features:  59%|█████▊    | 99/169 [00:25<00:17,  3.98it/s]"
     ]
    },
    {
     "name": "stdout",
     "output_type": "stream",
     "text": [
      "Input shape: torch.Size([1, 3, 16, 320, 240])\n",
      "After backbone shape: torch.Size([1, 192, 16, 10, 8])\n",
      "After final_block shape: torch.Size([1, 2048, 4, 6, 4])\n",
      "After pooling shape: torch.Size([1, 2048, 1, 1, 1])\n",
      "After global average pooling shape: torch.Size([1, 2048, 1, 1, 1])\n",
      "Input shape: torch.Size([1, 3, 16, 320, 240])\n",
      "After backbone shape: torch.Size([1, 192, 16, 10, 8])\n",
      "After final_block shape: torch.Size([1, 2048, 4, 6, 4])\n",
      "After pooling shape: torch.Size([1, 2048, 1, 1, 1])\n",
      "After global average pooling shape: torch.Size([1, 2048, 1, 1, 1])\n",
      "Input shape: torch.Size([1, 3, 16, 320, 240])\n",
      "After backbone shape: torch.Size([1, 192, 16, 10, 8])\n",
      "After final_block shape: torch.Size([1, 2048, 4, 6, 4])\n",
      "After pooling shape: torch.Size([1, 2048, 1, 1, 1])\n",
      "After global average pooling shape: torch.Size([1, 2048, 1, 1, 1])\n",
      "batch_feature[0]:torch.Size([2048, 1, 1, 1])\n",
      "Batch shape: torch.Size([4, 3, 16, 320, 240])\n",
      "Input shape: torch.Size([1, 3, 16, 320, 240])\n",
      "After backbone shape: torch.Size([1, 192, 16, 10, 8])\n",
      "After final_block shape: torch.Size([1, 2048, 4, 6, 4])\n",
      "After pooling shape: torch.Size([1, 2048, 1, 1, 1])\n",
      "After global average pooling shape: torch.Size([1, 2048, 1, 1, 1])\n",
      "Input shape: torch.Size([1, 3, 16, 320, 240])\n",
      "After backbone shape: torch.Size([1, 192, 16, 10, 8])\n",
      "After final_block shape: torch.Size([1, 2048, 4, 6, 4])\n",
      "After pooling shape: torch.Size([1, 2048, 1, 1, 1])\n",
      "After global average pooling shape: torch.Size([1, 2048, 1, 1, 1])\n",
      "Input shape: torch.Size([1, 3, 16, 320, 240])\n",
      "After backbone shape: torch.Size([1, 192, 16, 10, 8])\n",
      "After final_block shape: torch.Size([1, 2048, 4, 6, 4])\n",
      "After pooling shape: torch.Size([1, 2048, 1, 1, 1])\n",
      "After global average pooling shape: torch.Size([1, 2048, 1, 1, 1])\n",
      "Input shape: torch.Size([1, 3, 16, 320, 240])\n",
      "After backbone shape: torch.Size([1, 192, 16, 10, 8])\n",
      "After final_block shape: torch.Size([1, 2048, 4, 6, 4])\n",
      "After pooling shape: torch.Size([1, 2048, 1, 1, 1])\n",
      "After global average pooling shape: torch.Size([1, 2048, 1, 1, 1])\n"
     ]
    },
    {
     "name": "stderr",
     "output_type": "stream",
     "text": [
      "Extracting Features:  59%|█████▉    | 100/169 [00:26<00:17,  3.98it/s]"
     ]
    },
    {
     "name": "stdout",
     "output_type": "stream",
     "text": [
      "batch_feature[0]:torch.Size([2048, 1, 1, 1])\n",
      "Batch shape: torch.Size([4, 3, 16, 320, 240])\n",
      "Input shape: torch.Size([1, 3, 16, 320, 240])\n",
      "After backbone shape: torch.Size([1, 192, 16, 10, 8])\n",
      "After final_block shape: torch.Size([1, 2048, 4, 6, 4])\n",
      "After pooling shape: torch.Size([1, 2048, 1, 1, 1])\n",
      "After global average pooling shape: torch.Size([1, 2048, 1, 1, 1])\n",
      "Input shape: torch.Size([1, 3, 16, 320, 240])\n",
      "After backbone shape: torch.Size([1, 192, 16, 10, 8])\n",
      "After final_block shape: torch.Size([1, 2048, 4, 6, 4])\n",
      "After pooling shape: torch.Size([1, 2048, 1, 1, 1])\n",
      "After global average pooling shape: torch.Size([1, 2048, 1, 1, 1])\n",
      "Input shape: torch.Size([1, 3, 16, 320, 240])\n",
      "After backbone shape: torch.Size([1, 192, 16, 10, 8])\n",
      "After final_block shape: torch.Size([1, 2048, 4, 6, 4])\n",
      "After pooling shape: torch.Size([1, 2048, 1, 1, 1])\n",
      "After global average pooling shape: torch.Size([1, 2048, 1, 1, 1])\n",
      "Input shape: torch.Size([1, 3, 16, 320, 240])\n",
      "After backbone shape: torch.Size([1, 192, 16, 10, 8])\n",
      "After final_block shape: torch.Size([1, 2048, 4, 6, 4])\n",
      "After pooling shape: torch.Size([1, 2048, 1, 1, 1])\n",
      "After global average pooling shape: torch.Size([1, 2048, 1, 1, 1])\n"
     ]
    },
    {
     "name": "stderr",
     "output_type": "stream",
     "text": [
      "Extracting Features:  60%|█████▉    | 101/169 [00:26<00:17,  4.00it/s]"
     ]
    },
    {
     "name": "stdout",
     "output_type": "stream",
     "text": [
      "batch_feature[0]:torch.Size([2048, 1, 1, 1])\n",
      "Batch shape: torch.Size([4, 3, 16, 320, 240])\n",
      "Input shape: torch.Size([1, 3, 16, 320, 240])\n",
      "After backbone shape: torch.Size([1, 192, 16, 10, 8])\n",
      "After final_block shape: torch.Size([1, 2048, 4, 6, 4])\n",
      "After pooling shape: torch.Size([1, 2048, 1, 1, 1])\n",
      "After global average pooling shape: torch.Size([1, 2048, 1, 1, 1])\n",
      "Input shape: torch.Size([1, 3, 16, 320, 240])\n",
      "After backbone shape: torch.Size([1, 192, 16, 10, 8])\n",
      "After final_block shape: torch.Size([1, 2048, 4, 6, 4])\n",
      "After pooling shape: torch.Size([1, 2048, 1, 1, 1])\n",
      "After global average pooling shape: torch.Size([1, 2048, 1, 1, 1])\n",
      "Input shape: torch.Size([1, 3, 16, 320, 240])\n",
      "After backbone shape: torch.Size([1, 192, 16, 10, 8])\n",
      "After final_block shape: torch.Size([1, 2048, 4, 6, 4])\n",
      "After pooling shape: torch.Size([1, 2048, 1, 1, 1])\n",
      "After global average pooling shape: torch.Size([1, 2048, 1, 1, 1])\n",
      "Input shape: torch.Size([1, 3, 16, 320, 240])\n",
      "After backbone shape: torch.Size([1, 192, 16, 10, 8])\n",
      "After final_block shape: torch.Size([1, 2048, 4, 6, 4])\n",
      "After pooling shape: torch.Size([1, 2048, 1, 1, 1])\n",
      "After global average pooling shape: torch.Size([1, 2048, 1, 1, 1])\n"
     ]
    },
    {
     "name": "stderr",
     "output_type": "stream",
     "text": [
      "Extracting Features:  60%|██████    | 102/169 [00:26<00:16,  4.00it/s]"
     ]
    },
    {
     "name": "stdout",
     "output_type": "stream",
     "text": [
      "batch_feature[0]:torch.Size([2048, 1, 1, 1])\n",
      "Batch shape: torch.Size([4, 3, 16, 320, 240])\n",
      "Input shape: torch.Size([1, 3, 16, 320, 240])\n",
      "After backbone shape: torch.Size([1, 192, 16, 10, 8])\n",
      "After final_block shape: torch.Size([1, 2048, 4, 6, 4])\n",
      "After pooling shape: torch.Size([1, 2048, 1, 1, 1])\n",
      "After global average pooling shape: torch.Size([1, 2048, 1, 1, 1])\n",
      "Input shape: torch.Size([1, 3, 16, 320, 240])\n",
      "After backbone shape: torch.Size([1, 192, 16, 10, 8])\n",
      "After final_block shape: torch.Size([1, 2048, 4, 6, 4])\n",
      "After pooling shape: torch.Size([1, 2048, 1, 1, 1])\n",
      "After global average pooling shape: torch.Size([1, 2048, 1, 1, 1])\n",
      "Input shape: torch.Size([1, 3, 16, 320, 240])\n",
      "After backbone shape: torch.Size([1, 192, 16, 10, 8])\n",
      "After final_block shape: torch.Size([1, 2048, 4, 6, 4])\n",
      "After pooling shape: torch.Size([1, 2048, 1, 1, 1])\n",
      "After global average pooling shape: torch.Size([1, 2048, 1, 1, 1])\n",
      "Input shape: torch.Size([1, 3, 16, 320, 240])\n",
      "After backbone shape: torch.Size([1, 192, 16, 10, 8])\n",
      "After final_block shape: torch.Size([1, 2048, 4, 6, 4])\n",
      "After pooling shape: torch.Size([1, 2048, 1, 1, 1])\n",
      "After global average pooling shape: torch.Size([1, 2048, 1, 1, 1])\n"
     ]
    },
    {
     "name": "stderr",
     "output_type": "stream",
     "text": [
      "Extracting Features:  61%|██████    | 103/169 [00:26<00:16,  4.02it/s]"
     ]
    },
    {
     "name": "stdout",
     "output_type": "stream",
     "text": [
      "batch_feature[0]:torch.Size([2048, 1, 1, 1])\n",
      "Batch shape: torch.Size([4, 3, 16, 320, 240])\n",
      "Input shape: torch.Size([1, 3, 16, 320, 240])\n",
      "After backbone shape: torch.Size([1, 192, 16, 10, 8])\n",
      "After final_block shape: torch.Size([1, 2048, 4, 6, 4])\n",
      "After pooling shape: torch.Size([1, 2048, 1, 1, 1])\n",
      "After global average pooling shape: torch.Size([1, 2048, 1, 1, 1])\n",
      "Input shape: torch.Size([1, 3, 16, 320, 240])\n",
      "After backbone shape: torch.Size([1, 192, 16, 10, 8])\n",
      "After final_block shape: torch.Size([1, 2048, 4, 6, 4])\n",
      "After pooling shape: torch.Size([1, 2048, 1, 1, 1])\n",
      "After global average pooling shape: torch.Size([1, 2048, 1, 1, 1])\n",
      "Input shape: torch.Size([1, 3, 16, 320, 240])\n",
      "After backbone shape: torch.Size([1, 192, 16, 10, 8])\n",
      "After final_block shape: torch.Size([1, 2048, 4, 6, 4])\n",
      "After pooling shape: torch.Size([1, 2048, 1, 1, 1])\n",
      "After global average pooling shape: torch.Size([1, 2048, 1, 1, 1])\n",
      "Input shape: torch.Size([1, 3, 16, 320, 240])\n"
     ]
    },
    {
     "name": "stderr",
     "output_type": "stream",
     "text": [
      "Extracting Features:  62%|██████▏   | 104/169 [00:27<00:16,  4.01it/s]"
     ]
    },
    {
     "name": "stdout",
     "output_type": "stream",
     "text": [
      "After backbone shape: torch.Size([1, 192, 16, 10, 8])\n",
      "After final_block shape: torch.Size([1, 2048, 4, 6, 4])\n",
      "After pooling shape: torch.Size([1, 2048, 1, 1, 1])\n",
      "After global average pooling shape: torch.Size([1, 2048, 1, 1, 1])\n",
      "batch_feature[0]:torch.Size([2048, 1, 1, 1])\n",
      "Batch shape: torch.Size([4, 3, 16, 320, 240])\n",
      "Input shape: torch.Size([1, 3, 16, 320, 240])\n",
      "After backbone shape: torch.Size([1, 192, 16, 10, 8])\n",
      "After final_block shape: torch.Size([1, 2048, 4, 6, 4])\n",
      "After pooling shape: torch.Size([1, 2048, 1, 1, 1])\n",
      "After global average pooling shape: torch.Size([1, 2048, 1, 1, 1])\n",
      "Input shape: torch.Size([1, 3, 16, 320, 240])\n",
      "After backbone shape: torch.Size([1, 192, 16, 10, 8])\n",
      "After final_block shape: torch.Size([1, 2048, 4, 6, 4])\n",
      "After pooling shape: torch.Size([1, 2048, 1, 1, 1])\n",
      "After global average pooling shape: torch.Size([1, 2048, 1, 1, 1])\n",
      "Input shape: torch.Size([1, 3, 16, 320, 240])\n",
      "After backbone shape: torch.Size([1, 192, 16, 10, 8])\n",
      "After final_block shape: torch.Size([1, 2048, 4, 6, 4])\n",
      "After pooling shape: torch.Size([1, 2048, 1, 1, 1])\n",
      "After global average pooling shape: torch.Size([1, 2048, 1, 1, 1])\n"
     ]
    },
    {
     "name": "stderr",
     "output_type": "stream",
     "text": [
      "Extracting Features:  62%|██████▏   | 105/169 [00:27<00:16,  3.99it/s]"
     ]
    },
    {
     "name": "stdout",
     "output_type": "stream",
     "text": [
      "Input shape: torch.Size([1, 3, 16, 320, 240])\n",
      "After backbone shape: torch.Size([1, 192, 16, 10, 8])\n",
      "After final_block shape: torch.Size([1, 2048, 4, 6, 4])\n",
      "After pooling shape: torch.Size([1, 2048, 1, 1, 1])\n",
      "After global average pooling shape: torch.Size([1, 2048, 1, 1, 1])\n",
      "batch_feature[0]:torch.Size([2048, 1, 1, 1])\n",
      "Batch shape: torch.Size([4, 3, 16, 320, 240])\n",
      "Input shape: torch.Size([1, 3, 16, 320, 240])\n",
      "After backbone shape: torch.Size([1, 192, 16, 10, 8])\n",
      "After final_block shape: torch.Size([1, 2048, 4, 6, 4])\n",
      "After pooling shape: torch.Size([1, 2048, 1, 1, 1])\n",
      "After global average pooling shape: torch.Size([1, 2048, 1, 1, 1])\n",
      "Input shape: torch.Size([1, 3, 16, 320, 240])\n",
      "After backbone shape: torch.Size([1, 192, 16, 10, 8])\n",
      "After final_block shape: torch.Size([1, 2048, 4, 6, 4])\n",
      "After pooling shape: torch.Size([1, 2048, 1, 1, 1])\n",
      "After global average pooling shape: torch.Size([1, 2048, 1, 1, 1])\n"
     ]
    },
    {
     "name": "stderr",
     "output_type": "stream",
     "text": [
      "Extracting Features:  63%|██████▎   | 106/169 [00:27<00:16,  3.87it/s]"
     ]
    },
    {
     "name": "stdout",
     "output_type": "stream",
     "text": [
      "Input shape: torch.Size([1, 3, 16, 320, 240])\n",
      "After backbone shape: torch.Size([1, 192, 16, 10, 8])\n",
      "After final_block shape: torch.Size([1, 2048, 4, 6, 4])\n",
      "After pooling shape: torch.Size([1, 2048, 1, 1, 1])\n",
      "After global average pooling shape: torch.Size([1, 2048, 1, 1, 1])\n",
      "Input shape: torch.Size([1, 3, 16, 320, 240])\n",
      "After backbone shape: torch.Size([1, 192, 16, 10, 8])\n",
      "After final_block shape: torch.Size([1, 2048, 4, 6, 4])\n",
      "After pooling shape: torch.Size([1, 2048, 1, 1, 1])\n",
      "After global average pooling shape: torch.Size([1, 2048, 1, 1, 1])\n",
      "batch_feature[0]:torch.Size([2048, 1, 1, 1])\n",
      "Batch shape: torch.Size([4, 3, 16, 320, 240])\n",
      "Input shape: torch.Size([1, 3, 16, 320, 240])\n",
      "After backbone shape: torch.Size([1, 192, 16, 10, 8])\n",
      "After final_block shape: torch.Size([1, 2048, 4, 6, 4])\n",
      "After pooling shape: torch.Size([1, 2048, 1, 1, 1])\n",
      "After global average pooling shape: torch.Size([1, 2048, 1, 1, 1])\n",
      "Input shape: torch.Size([1, 3, 16, 320, 240])\n"
     ]
    },
    {
     "name": "stderr",
     "output_type": "stream",
     "text": [
      "Extracting Features:  63%|██████▎   | 107/169 [00:27<00:15,  3.92it/s]"
     ]
    },
    {
     "name": "stdout",
     "output_type": "stream",
     "text": [
      "After backbone shape: torch.Size([1, 192, 16, 10, 8])\n",
      "After final_block shape: torch.Size([1, 2048, 4, 6, 4])\n",
      "After pooling shape: torch.Size([1, 2048, 1, 1, 1])\n",
      "After global average pooling shape: torch.Size([1, 2048, 1, 1, 1])\n",
      "Input shape: torch.Size([1, 3, 16, 320, 240])\n",
      "After backbone shape: torch.Size([1, 192, 16, 10, 8])\n",
      "After final_block shape: torch.Size([1, 2048, 4, 6, 4])\n",
      "After pooling shape: torch.Size([1, 2048, 1, 1, 1])\n",
      "After global average pooling shape: torch.Size([1, 2048, 1, 1, 1])\n",
      "Input shape: torch.Size([1, 3, 16, 320, 240])\n",
      "After backbone shape: torch.Size([1, 192, 16, 10, 8])\n",
      "After final_block shape: torch.Size([1, 2048, 4, 6, 4])\n",
      "After pooling shape: torch.Size([1, 2048, 1, 1, 1])\n",
      "After global average pooling shape: torch.Size([1, 2048, 1, 1, 1])\n",
      "batch_feature[0]:torch.Size([2048, 1, 1, 1])\n",
      "Batch shape: torch.Size([4, 3, 16, 320, 240])\n",
      "Input shape: torch.Size([1, 3, 16, 320, 240])\n",
      "After backbone shape: torch.Size([1, 192, 16, 10, 8])\n",
      "After final_block shape: torch.Size([1, 2048, 4, 6, 4])\n",
      "After pooling shape: torch.Size([1, 2048, 1, 1, 1])\n",
      "After global average pooling shape: torch.Size([1, 2048, 1, 1, 1])\n"
     ]
    },
    {
     "name": "stderr",
     "output_type": "stream",
     "text": [
      "Extracting Features:  64%|██████▍   | 108/169 [00:28<00:15,  3.91it/s]"
     ]
    },
    {
     "name": "stdout",
     "output_type": "stream",
     "text": [
      "Input shape: torch.Size([1, 3, 16, 320, 240])\n",
      "After backbone shape: torch.Size([1, 192, 16, 10, 8])\n",
      "After final_block shape: torch.Size([1, 2048, 4, 6, 4])\n",
      "After pooling shape: torch.Size([1, 2048, 1, 1, 1])\n",
      "After global average pooling shape: torch.Size([1, 2048, 1, 1, 1])\n",
      "Input shape: torch.Size([1, 3, 16, 320, 240])\n",
      "After backbone shape: torch.Size([1, 192, 16, 10, 8])\n",
      "After final_block shape: torch.Size([1, 2048, 4, 6, 4])\n",
      "After pooling shape: torch.Size([1, 2048, 1, 1, 1])\n",
      "After global average pooling shape: torch.Size([1, 2048, 1, 1, 1])\n",
      "Input shape: torch.Size([1, 3, 16, 320, 240])\n",
      "After backbone shape: torch.Size([1, 192, 16, 10, 8])\n",
      "After final_block shape: torch.Size([1, 2048, 4, 6, 4])\n",
      "After pooling shape: torch.Size([1, 2048, 1, 1, 1])\n",
      "After global average pooling shape: torch.Size([1, 2048, 1, 1, 1])\n",
      "batch_feature[0]:torch.Size([2048, 1, 1, 1])\n",
      "Batch shape: torch.Size([4, 3, 16, 320, 240])\n",
      "Input shape: torch.Size([1, 3, 16, 320, 240])\n",
      "After backbone shape: torch.Size([1, 192, 16, 10, 8])\n",
      "After final_block shape: torch.Size([1, 2048, 4, 6, 4])\n",
      "After pooling shape: torch.Size([1, 2048, 1, 1, 1])\n",
      "After global average pooling shape: torch.Size([1, 2048, 1, 1, 1])\n",
      "Input shape: torch.Size([1, 3, 16, 320, 240])\n",
      "After backbone shape: torch.Size([1, 192, 16, 10, 8])\n",
      "After final_block shape: torch.Size([1, 2048, 4, 6, 4])\n",
      "After pooling shape: torch.Size([1, 2048, 1, 1, 1])\n",
      "After global average pooling shape: torch.Size([1, 2048, 1, 1, 1])\n",
      "Input shape: torch.Size([1, 3, 16, 320, 240])\n",
      "After backbone shape: torch.Size([1, 192, 16, 10, 8])\n",
      "After final_block shape: torch.Size([1, 2048, 4, 6, 4])\n",
      "After pooling shape: torch.Size([1, 2048, 1, 1, 1])\n",
      "After global average pooling shape: torch.Size([1, 2048, 1, 1, 1])\n",
      "Input shape: torch.Size([1, 3, 16, 320, 240])\n",
      "After backbone shape: torch.Size([1, 192, 16, 10, 8])\n",
      "After final_block shape: torch.Size([1, 2048, 4, 6, 4])\n",
      "After pooling shape: torch.Size([1, 2048, 1, 1, 1])\n",
      "After global average pooling shape: torch.Size([1, 2048, 1, 1, 1])\n"
     ]
    },
    {
     "name": "stderr",
     "output_type": "stream",
     "text": [
      "Extracting Features:  64%|██████▍   | 109/169 [00:28<00:15,  3.99it/s]"
     ]
    },
    {
     "name": "stdout",
     "output_type": "stream",
     "text": [
      "batch_feature[0]:torch.Size([2048, 1, 1, 1])\n",
      "Batch shape: torch.Size([4, 3, 16, 320, 240])\n",
      "Input shape: torch.Size([1, 3, 16, 320, 240])\n",
      "After backbone shape: torch.Size([1, 192, 16, 10, 8])\n",
      "After final_block shape: torch.Size([1, 2048, 4, 6, 4])\n",
      "After pooling shape: torch.Size([1, 2048, 1, 1, 1])\n",
      "After global average pooling shape: torch.Size([1, 2048, 1, 1, 1])\n",
      "Input shape: torch.Size([1, 3, 16, 320, 240])\n",
      "After backbone shape: torch.Size([1, 192, 16, 10, 8])\n",
      "After final_block shape: torch.Size([1, 2048, 4, 6, 4])\n",
      "After pooling shape: torch.Size([1, 2048, 1, 1, 1])\n",
      "After global average pooling shape: torch.Size([1, 2048, 1, 1, 1])\n",
      "Input shape: torch.Size([1, 3, 16, 320, 240])\n",
      "After backbone shape: torch.Size([1, 192, 16, 10, 8])\n",
      "After final_block shape: torch.Size([1, 2048, 4, 6, 4])\n",
      "After pooling shape: torch.Size([1, 2048, 1, 1, 1])\n",
      "After global average pooling shape: torch.Size([1, 2048, 1, 1, 1])\n",
      "Input shape: torch.Size([1, 3, 16, 320, 240])\n",
      "After backbone shape: torch.Size([1, 192, 16, 10, 8])\n",
      "After final_block shape: torch.Size([1, 2048, 4, 6, 4])\n",
      "After pooling shape: torch.Size([1, 2048, 1, 1, 1])\n",
      "After global average pooling shape: torch.Size([1, 2048, 1, 1, 1])\n"
     ]
    },
    {
     "name": "stderr",
     "output_type": "stream",
     "text": [
      "Extracting Features:  65%|██████▌   | 110/169 [00:28<00:14,  4.00it/s]"
     ]
    },
    {
     "name": "stdout",
     "output_type": "stream",
     "text": [
      "batch_feature[0]:torch.Size([2048, 1, 1, 1])\n",
      "Batch shape: torch.Size([4, 3, 16, 320, 240])\n",
      "Input shape: torch.Size([1, 3, 16, 320, 240])\n",
      "After backbone shape: torch.Size([1, 192, 16, 10, 8])\n",
      "After final_block shape: torch.Size([1, 2048, 4, 6, 4])\n",
      "After pooling shape: torch.Size([1, 2048, 1, 1, 1])\n",
      "After global average pooling shape: torch.Size([1, 2048, 1, 1, 1])\n",
      "Input shape: torch.Size([1, 3, 16, 320, 240])\n",
      "After backbone shape: torch.Size([1, 192, 16, 10, 8])\n",
      "After final_block shape: torch.Size([1, 2048, 4, 6, 4])\n",
      "After pooling shape: torch.Size([1, 2048, 1, 1, 1])\n",
      "After global average pooling shape: torch.Size([1, 2048, 1, 1, 1])\n",
      "Input shape: torch.Size([1, 3, 16, 320, 240])\n",
      "After backbone shape: torch.Size([1, 192, 16, 10, 8])\n",
      "After final_block shape: torch.Size([1, 2048, 4, 6, 4])\n",
      "After pooling shape: torch.Size([1, 2048, 1, 1, 1])\n",
      "After global average pooling shape: torch.Size([1, 2048, 1, 1, 1])\n",
      "Input shape: torch.Size([1, 3, 16, 320, 240])\n",
      "After backbone shape: torch.Size([1, 192, 16, 10, 8])\n",
      "After final_block shape: torch.Size([1, 2048, 4, 6, 4])\n",
      "After pooling shape: torch.Size([1, 2048, 1, 1, 1])\n",
      "After global average pooling shape: torch.Size([1, 2048, 1, 1, 1])\n"
     ]
    },
    {
     "name": "stderr",
     "output_type": "stream",
     "text": [
      "Extracting Features:  66%|██████▌   | 111/169 [00:28<00:14,  4.04it/s]"
     ]
    },
    {
     "name": "stdout",
     "output_type": "stream",
     "text": [
      "batch_feature[0]:torch.Size([2048, 1, 1, 1])\n",
      "Batch shape: torch.Size([4, 3, 16, 320, 240])\n",
      "Input shape: torch.Size([1, 3, 16, 320, 240])\n",
      "After backbone shape: torch.Size([1, 192, 16, 10, 8])\n",
      "After final_block shape: torch.Size([1, 2048, 4, 6, 4])\n",
      "After pooling shape: torch.Size([1, 2048, 1, 1, 1])\n",
      "After global average pooling shape: torch.Size([1, 2048, 1, 1, 1])\n",
      "Input shape: torch.Size([1, 3, 16, 320, 240])\n",
      "After backbone shape: torch.Size([1, 192, 16, 10, 8])\n",
      "After final_block shape: torch.Size([1, 2048, 4, 6, 4])\n",
      "After pooling shape: torch.Size([1, 2048, 1, 1, 1])\n",
      "After global average pooling shape: torch.Size([1, 2048, 1, 1, 1])\n",
      "Input shape: torch.Size([1, 3, 16, 320, 240])\n",
      "After backbone shape: torch.Size([1, 192, 16, 10, 8])\n",
      "After final_block shape: torch.Size([1, 2048, 4, 6, 4])\n",
      "After pooling shape: torch.Size([1, 2048, 1, 1, 1])\n",
      "After global average pooling shape: torch.Size([1, 2048, 1, 1, 1])\n",
      "Input shape: torch.Size([1, 3, 16, 320, 240])\n"
     ]
    },
    {
     "name": "stderr",
     "output_type": "stream",
     "text": [
      "Extracting Features:  66%|██████▋   | 112/169 [00:29<00:14,  3.94it/s]"
     ]
    },
    {
     "name": "stdout",
     "output_type": "stream",
     "text": [
      "After backbone shape: torch.Size([1, 192, 16, 10, 8])\n",
      "After final_block shape: torch.Size([1, 2048, 4, 6, 4])\n",
      "After pooling shape: torch.Size([1, 2048, 1, 1, 1])\n",
      "After global average pooling shape: torch.Size([1, 2048, 1, 1, 1])\n",
      "batch_feature[0]:torch.Size([2048, 1, 1, 1])\n",
      "Batch shape: torch.Size([4, 3, 16, 320, 240])\n",
      "Input shape: torch.Size([1, 3, 16, 320, 240])\n",
      "After backbone shape: torch.Size([1, 192, 16, 10, 8])\n",
      "After final_block shape: torch.Size([1, 2048, 4, 6, 4])\n",
      "After pooling shape: torch.Size([1, 2048, 1, 1, 1])\n",
      "After global average pooling shape: torch.Size([1, 2048, 1, 1, 1])\n",
      "Input shape: torch.Size([1, 3, 16, 320, 240])\n",
      "After backbone shape: torch.Size([1, 192, 16, 10, 8])\n",
      "After final_block shape: torch.Size([1, 2048, 4, 6, 4])\n",
      "After pooling shape: torch.Size([1, 2048, 1, 1, 1])\n",
      "After global average pooling shape: torch.Size([1, 2048, 1, 1, 1])\n"
     ]
    },
    {
     "name": "stderr",
     "output_type": "stream",
     "text": [
      "Extracting Features:  67%|██████▋   | 113/169 [00:29<00:14,  3.93it/s]"
     ]
    },
    {
     "name": "stdout",
     "output_type": "stream",
     "text": [
      "Input shape: torch.Size([1, 3, 16, 320, 240])\n",
      "After backbone shape: torch.Size([1, 192, 16, 10, 8])\n",
      "After final_block shape: torch.Size([1, 2048, 4, 6, 4])\n",
      "After pooling shape: torch.Size([1, 2048, 1, 1, 1])\n",
      "After global average pooling shape: torch.Size([1, 2048, 1, 1, 1])\n",
      "Input shape: torch.Size([1, 3, 16, 320, 240])\n",
      "After backbone shape: torch.Size([1, 192, 16, 10, 8])\n",
      "After final_block shape: torch.Size([1, 2048, 4, 6, 4])\n",
      "After pooling shape: torch.Size([1, 2048, 1, 1, 1])\n",
      "After global average pooling shape: torch.Size([1, 2048, 1, 1, 1])\n",
      "batch_feature[0]:torch.Size([2048, 1, 1, 1])\n",
      "Batch shape: torch.Size([4, 3, 16, 320, 240])\n",
      "Input shape: torch.Size([1, 3, 16, 320, 240])\n",
      "After backbone shape: torch.Size([1, 192, 16, 10, 8])\n",
      "After final_block shape: torch.Size([1, 2048, 4, 6, 4])\n",
      "After pooling shape: torch.Size([1, 2048, 1, 1, 1])\n",
      "After global average pooling shape: torch.Size([1, 2048, 1, 1, 1])\n"
     ]
    },
    {
     "name": "stderr",
     "output_type": "stream",
     "text": [
      "Extracting Features:  67%|██████▋   | 114/169 [00:29<00:14,  3.87it/s]"
     ]
    },
    {
     "name": "stdout",
     "output_type": "stream",
     "text": [
      "Input shape: torch.Size([1, 3, 16, 320, 240])\n",
      "After backbone shape: torch.Size([1, 192, 16, 10, 8])\n",
      "After final_block shape: torch.Size([1, 2048, 4, 6, 4])\n",
      "After pooling shape: torch.Size([1, 2048, 1, 1, 1])\n",
      "After global average pooling shape: torch.Size([1, 2048, 1, 1, 1])\n",
      "Input shape: torch.Size([1, 3, 16, 320, 240])\n",
      "After backbone shape: torch.Size([1, 192, 16, 10, 8])\n",
      "After final_block shape: torch.Size([1, 2048, 4, 6, 4])\n",
      "After pooling shape: torch.Size([1, 2048, 1, 1, 1])\n",
      "After global average pooling shape: torch.Size([1, 2048, 1, 1, 1])\n",
      "Input shape: torch.Size([1, 3, 16, 320, 240])\n",
      "After backbone shape: torch.Size([1, 192, 16, 10, 8])\n",
      "After final_block shape: torch.Size([1, 2048, 4, 6, 4])\n",
      "After pooling shape: torch.Size([1, 2048, 1, 1, 1])\n",
      "After global average pooling shape: torch.Size([1, 2048, 1, 1, 1])\n",
      "batch_feature[0]:torch.Size([2048, 1, 1, 1])\n",
      "Batch shape: torch.Size([4, 3, 16, 320, 240])\n",
      "Input shape: torch.Size([1, 3, 16, 320, 240])\n",
      "After backbone shape: torch.Size([1, 192, 16, 10, 8])\n",
      "After final_block shape: torch.Size([1, 2048, 4, 6, 4])\n",
      "After pooling shape: torch.Size([1, 2048, 1, 1, 1])\n",
      "After global average pooling shape: torch.Size([1, 2048, 1, 1, 1])\n",
      "Input shape: torch.Size([1, 3, 16, 320, 240])\n",
      "After backbone shape: torch.Size([1, 192, 16, 10, 8])\n",
      "After final_block shape: torch.Size([1, 2048, 4, 6, 4])\n",
      "After pooling shape: torch.Size([1, 2048, 1, 1, 1])\n",
      "After global average pooling shape: torch.Size([1, 2048, 1, 1, 1])\n",
      "Input shape: torch.Size([1, 3, 16, 320, 240])\n",
      "After backbone shape: torch.Size([1, 192, 16, 10, 8])\n",
      "After final_block shape: torch.Size([1, 2048, 4, 6, 4])\n",
      "After pooling shape: torch.Size([1, 2048, 1, 1, 1])\n",
      "After global average pooling shape: torch.Size([1, 2048, 1, 1, 1])\n",
      "Input shape: torch.Size([1, 3, 16, 320, 240])\n",
      "After backbone shape: torch.Size([1, 192, 16, 10, 8])\n",
      "After final_block shape: torch.Size([1, 2048, 4, 6, 4])\n",
      "After pooling shape: torch.Size([1, 2048, 1, 1, 1])\n",
      "After global average pooling shape: torch.Size([1, 2048, 1, 1, 1])\n",
      "batch_feature[0]:torch.Size([2048, 1, 1, 1])\n"
     ]
    },
    {
     "name": "stderr",
     "output_type": "stream",
     "text": [
      "Extracting Features:  68%|██████▊   | 115/169 [00:29<00:13,  3.91it/s]"
     ]
    },
    {
     "name": "stdout",
     "output_type": "stream",
     "text": [
      "Batch shape: torch.Size([4, 3, 16, 320, 240])\n",
      "Input shape: torch.Size([1, 3, 16, 320, 240])\n",
      "After backbone shape: torch.Size([1, 192, 16, 10, 8])\n",
      "After final_block shape: torch.Size([1, 2048, 4, 6, 4])\n",
      "After pooling shape: torch.Size([1, 2048, 1, 1, 1])\n",
      "After global average pooling shape: torch.Size([1, 2048, 1, 1, 1])\n",
      "Input shape: torch.Size([1, 3, 16, 320, 240])\n",
      "After backbone shape: torch.Size([1, 192, 16, 10, 8])\n",
      "After final_block shape: torch.Size([1, 2048, 4, 6, 4])\n",
      "After pooling shape: torch.Size([1, 2048, 1, 1, 1])\n",
      "After global average pooling shape: torch.Size([1, 2048, 1, 1, 1])\n",
      "Input shape: torch.Size([1, 3, 16, 320, 240])\n",
      "After backbone shape: torch.Size([1, 192, 16, 10, 8])\n",
      "After final_block shape: torch.Size([1, 2048, 4, 6, 4])\n",
      "After pooling shape: torch.Size([1, 2048, 1, 1, 1])\n",
      "After global average pooling shape: torch.Size([1, 2048, 1, 1, 1])\n",
      "Input shape: torch.Size([1, 3, 16, 320, 240])\n",
      "After backbone shape: torch.Size([1, 192, 16, 10, 8])\n",
      "After final_block shape: torch.Size([1, 2048, 4, 6, 4])\n",
      "After pooling shape: torch.Size([1, 2048, 1, 1, 1])\n",
      "After global average pooling shape: torch.Size([1, 2048, 1, 1, 1])\n"
     ]
    },
    {
     "name": "stderr",
     "output_type": "stream",
     "text": [
      "Extracting Features:  69%|██████▊   | 116/169 [00:30<00:13,  3.94it/s]"
     ]
    },
    {
     "name": "stdout",
     "output_type": "stream",
     "text": [
      "batch_feature[0]:torch.Size([2048, 1, 1, 1])\n",
      "Batch shape: torch.Size([4, 3, 16, 320, 240])\n",
      "Input shape: torch.Size([1, 3, 16, 320, 240])\n",
      "After backbone shape: torch.Size([1, 192, 16, 10, 8])\n",
      "After final_block shape: torch.Size([1, 2048, 4, 6, 4])\n",
      "After pooling shape: torch.Size([1, 2048, 1, 1, 1])\n",
      "After global average pooling shape: torch.Size([1, 2048, 1, 1, 1])\n",
      "Input shape: torch.Size([1, 3, 16, 320, 240])\n",
      "After backbone shape: torch.Size([1, 192, 16, 10, 8])\n",
      "After final_block shape: torch.Size([1, 2048, 4, 6, 4])\n",
      "After pooling shape: torch.Size([1, 2048, 1, 1, 1])\n",
      "After global average pooling shape: torch.Size([1, 2048, 1, 1, 1])\n",
      "Input shape: torch.Size([1, 3, 16, 320, 240])\n",
      "After backbone shape: torch.Size([1, 192, 16, 10, 8])\n",
      "After final_block shape: torch.Size([1, 2048, 4, 6, 4])\n",
      "After pooling shape: torch.Size([1, 2048, 1, 1, 1])\n",
      "After global average pooling shape: torch.Size([1, 2048, 1, 1, 1])\n",
      "Input shape: torch.Size([1, 3, 16, 320, 240])\n"
     ]
    },
    {
     "name": "stderr",
     "output_type": "stream",
     "text": [
      "Extracting Features:  69%|██████▉   | 117/169 [00:30<00:13,  3.94it/s]"
     ]
    },
    {
     "name": "stdout",
     "output_type": "stream",
     "text": [
      "After backbone shape: torch.Size([1, 192, 16, 10, 8])\n",
      "After final_block shape: torch.Size([1, 2048, 4, 6, 4])\n",
      "After pooling shape: torch.Size([1, 2048, 1, 1, 1])\n",
      "After global average pooling shape: torch.Size([1, 2048, 1, 1, 1])\n",
      "batch_feature[0]:torch.Size([2048, 1, 1, 1])\n",
      "Batch shape: torch.Size([4, 3, 16, 320, 240])\n",
      "Input shape: torch.Size([1, 3, 16, 320, 240])\n",
      "After backbone shape: torch.Size([1, 192, 16, 10, 8])\n",
      "After final_block shape: torch.Size([1, 2048, 4, 6, 4])\n",
      "After pooling shape: torch.Size([1, 2048, 1, 1, 1])\n",
      "After global average pooling shape: torch.Size([1, 2048, 1, 1, 1])\n",
      "Input shape: torch.Size([1, 3, 16, 320, 240])\n",
      "After backbone shape: torch.Size([1, 192, 16, 10, 8])\n",
      "After final_block shape: torch.Size([1, 2048, 4, 6, 4])\n",
      "After pooling shape: torch.Size([1, 2048, 1, 1, 1])\n",
      "After global average pooling shape: torch.Size([1, 2048, 1, 1, 1])\n",
      "Input shape: torch.Size([1, 3, 16, 320, 240])\n",
      "After backbone shape: torch.Size([1, 192, 16, 10, 8])\n",
      "After final_block shape: torch.Size([1, 2048, 4, 6, 4])\n",
      "After pooling shape: torch.Size([1, 2048, 1, 1, 1])\n",
      "After global average pooling shape: torch.Size([1, 2048, 1, 1, 1])\n"
     ]
    },
    {
     "name": "stderr",
     "output_type": "stream",
     "text": [
      "Extracting Features:  70%|██████▉   | 118/169 [00:30<00:12,  3.93it/s]"
     ]
    },
    {
     "name": "stdout",
     "output_type": "stream",
     "text": [
      "Input shape: torch.Size([1, 3, 16, 320, 240])\n",
      "After backbone shape: torch.Size([1, 192, 16, 10, 8])\n",
      "After final_block shape: torch.Size([1, 2048, 4, 6, 4])\n",
      "After pooling shape: torch.Size([1, 2048, 1, 1, 1])\n",
      "After global average pooling shape: torch.Size([1, 2048, 1, 1, 1])\n",
      "batch_feature[0]:torch.Size([2048, 1, 1, 1])\n",
      "Batch shape: torch.Size([4, 3, 16, 320, 240])\n",
      "Input shape: torch.Size([1, 3, 16, 320, 240])\n",
      "After backbone shape: torch.Size([1, 192, 16, 10, 8])\n",
      "After final_block shape: torch.Size([1, 2048, 4, 6, 4])\n",
      "After pooling shape: torch.Size([1, 2048, 1, 1, 1])\n",
      "After global average pooling shape: torch.Size([1, 2048, 1, 1, 1])\n",
      "Input shape: torch.Size([1, 3, 16, 320, 240])\n",
      "After backbone shape: torch.Size([1, 192, 16, 10, 8])\n",
      "After final_block shape: torch.Size([1, 2048, 4, 6, 4])\n",
      "After pooling shape: torch.Size([1, 2048, 1, 1, 1])\n",
      "After global average pooling shape: torch.Size([1, 2048, 1, 1, 1])\n",
      "Input shape: torch.Size([1, 3, 16, 320, 240])\n",
      "After backbone shape: torch.Size([1, 192, 16, 10, 8])\n",
      "After final_block shape: torch.Size([1, 2048, 4, 6, 4])\n",
      "After pooling shape: torch.Size([1, 2048, 1, 1, 1])\n",
      "After global average pooling shape: torch.Size([1, 2048, 1, 1, 1])\n"
     ]
    },
    {
     "name": "stderr",
     "output_type": "stream",
     "text": [
      "Extracting Features:  70%|███████   | 119/169 [00:30<00:12,  4.00it/s]"
     ]
    },
    {
     "name": "stdout",
     "output_type": "stream",
     "text": [
      "Input shape: torch.Size([1, 3, 16, 320, 240])\n",
      "After backbone shape: torch.Size([1, 192, 16, 10, 8])\n",
      "After final_block shape: torch.Size([1, 2048, 4, 6, 4])\n",
      "After pooling shape: torch.Size([1, 2048, 1, 1, 1])\n",
      "After global average pooling shape: torch.Size([1, 2048, 1, 1, 1])\n",
      "batch_feature[0]:torch.Size([2048, 1, 1, 1])\n",
      "Batch shape: torch.Size([4, 3, 16, 320, 240])\n",
      "Input shape: torch.Size([1, 3, 16, 320, 240])\n",
      "After backbone shape: torch.Size([1, 192, 16, 10, 8])\n",
      "After final_block shape: torch.Size([1, 2048, 4, 6, 4])\n",
      "After pooling shape: torch.Size([1, 2048, 1, 1, 1])\n",
      "After global average pooling shape: torch.Size([1, 2048, 1, 1, 1])\n",
      "Input shape: torch.Size([1, 3, 16, 320, 240])\n",
      "After backbone shape: torch.Size([1, 192, 16, 10, 8])\n",
      "After final_block shape: torch.Size([1, 2048, 4, 6, 4])\n",
      "After pooling shape: torch.Size([1, 2048, 1, 1, 1])\n",
      "After global average pooling shape: torch.Size([1, 2048, 1, 1, 1])\n",
      "Input shape: torch.Size([1, 3, 16, 320, 240])\n",
      "After backbone shape: torch.Size([1, 192, 16, 10, 8])\n",
      "After final_block shape: torch.Size([1, 2048, 4, 6, 4])\n",
      "After pooling shape: torch.Size([1, 2048, 1, 1, 1])\n",
      "After global average pooling shape: torch.Size([1, 2048, 1, 1, 1])\n"
     ]
    },
    {
     "name": "stderr",
     "output_type": "stream",
     "text": [
      "Extracting Features:  71%|███████   | 120/169 [00:31<00:12,  4.05it/s]"
     ]
    },
    {
     "name": "stdout",
     "output_type": "stream",
     "text": [
      "Input shape: torch.Size([1, 3, 16, 320, 240])\n",
      "After backbone shape: torch.Size([1, 192, 16, 10, 8])\n",
      "After final_block shape: torch.Size([1, 2048, 4, 6, 4])\n",
      "After pooling shape: torch.Size([1, 2048, 1, 1, 1])\n",
      "After global average pooling shape: torch.Size([1, 2048, 1, 1, 1])\n",
      "batch_feature[0]:torch.Size([2048, 1, 1, 1])\n",
      "Batch shape: torch.Size([4, 3, 16, 320, 240])\n",
      "Input shape: torch.Size([1, 3, 16, 320, 240])\n",
      "After backbone shape: torch.Size([1, 192, 16, 10, 8])\n",
      "After final_block shape: torch.Size([1, 2048, 4, 6, 4])\n",
      "After pooling shape: torch.Size([1, 2048, 1, 1, 1])\n",
      "After global average pooling shape: torch.Size([1, 2048, 1, 1, 1])\n",
      "Input shape: torch.Size([1, 3, 16, 320, 240])\n",
      "After backbone shape: torch.Size([1, 192, 16, 10, 8])\n",
      "After final_block shape: torch.Size([1, 2048, 4, 6, 4])\n",
      "After pooling shape: torch.Size([1, 2048, 1, 1, 1])\n",
      "After global average pooling shape: torch.Size([1, 2048, 1, 1, 1])\n",
      "Input shape: torch.Size([1, 3, 16, 320, 240])\n",
      "After backbone shape: torch.Size([1, 192, 16, 10, 8])\n",
      "After final_block shape: torch.Size([1, 2048, 4, 6, 4])\n",
      "After pooling shape: torch.Size([1, 2048, 1, 1, 1])\n",
      "After global average pooling shape: torch.Size([1, 2048, 1, 1, 1])\n"
     ]
    },
    {
     "name": "stderr",
     "output_type": "stream",
     "text": [
      "Extracting Features:  72%|███████▏  | 121/169 [00:31<00:11,  4.08it/s]"
     ]
    },
    {
     "name": "stdout",
     "output_type": "stream",
     "text": [
      "Input shape: torch.Size([1, 3, 16, 320, 240])\n",
      "After backbone shape: torch.Size([1, 192, 16, 10, 8])\n",
      "After final_block shape: torch.Size([1, 2048, 4, 6, 4])\n",
      "After pooling shape: torch.Size([1, 2048, 1, 1, 1])\n",
      "After global average pooling shape: torch.Size([1, 2048, 1, 1, 1])\n",
      "batch_feature[0]:torch.Size([2048, 1, 1, 1])\n",
      "Batch shape: torch.Size([4, 3, 16, 320, 240])\n",
      "Input shape: torch.Size([1, 3, 16, 320, 240])\n",
      "After backbone shape: torch.Size([1, 192, 16, 10, 8])\n",
      "After final_block shape: torch.Size([1, 2048, 4, 6, 4])\n",
      "After pooling shape: torch.Size([1, 2048, 1, 1, 1])\n",
      "After global average pooling shape: torch.Size([1, 2048, 1, 1, 1])\n",
      "Input shape: torch.Size([1, 3, 16, 320, 240])\n",
      "After backbone shape: torch.Size([1, 192, 16, 10, 8])\n",
      "After final_block shape: torch.Size([1, 2048, 4, 6, 4])\n",
      "After pooling shape: torch.Size([1, 2048, 1, 1, 1])\n",
      "After global average pooling shape: torch.Size([1, 2048, 1, 1, 1])\n",
      "Input shape: torch.Size([1, 3, 16, 320, 240])\n"
     ]
    },
    {
     "name": "stderr",
     "output_type": "stream",
     "text": [
      "Extracting Features:  72%|███████▏  | 122/169 [00:31<00:11,  4.04it/s]"
     ]
    },
    {
     "name": "stdout",
     "output_type": "stream",
     "text": [
      "After backbone shape: torch.Size([1, 192, 16, 10, 8])\n",
      "After final_block shape: torch.Size([1, 2048, 4, 6, 4])\n",
      "After pooling shape: torch.Size([1, 2048, 1, 1, 1])\n",
      "After global average pooling shape: torch.Size([1, 2048, 1, 1, 1])\n",
      "Input shape: torch.Size([1, 3, 16, 320, 240])\n",
      "After backbone shape: torch.Size([1, 192, 16, 10, 8])\n",
      "After final_block shape: torch.Size([1, 2048, 4, 6, 4])\n",
      "After pooling shape: torch.Size([1, 2048, 1, 1, 1])\n",
      "After global average pooling shape: torch.Size([1, 2048, 1, 1, 1])\n",
      "batch_feature[0]:torch.Size([2048, 1, 1, 1])\n",
      "Batch shape: torch.Size([4, 3, 16, 320, 240])\n",
      "Input shape: torch.Size([1, 3, 16, 320, 240])\n",
      "After backbone shape: torch.Size([1, 192, 16, 10, 8])\n",
      "After final_block shape: torch.Size([1, 2048, 4, 6, 4])\n",
      "After pooling shape: torch.Size([1, 2048, 1, 1, 1])\n",
      "After global average pooling shape: torch.Size([1, 2048, 1, 1, 1])\n",
      "Input shape: torch.Size([1, 3, 16, 320, 240])\n",
      "After backbone shape: torch.Size([1, 192, 16, 10, 8])\n",
      "After final_block shape: torch.Size([1, 2048, 4, 6, 4])\n",
      "After pooling shape: torch.Size([1, 2048, 1, 1, 1])\n",
      "After global average pooling shape: torch.Size([1, 2048, 1, 1, 1])\n"
     ]
    },
    {
     "name": "stderr",
     "output_type": "stream",
     "text": [
      "Extracting Features:  73%|███████▎  | 123/169 [00:31<00:11,  4.07it/s]"
     ]
    },
    {
     "name": "stdout",
     "output_type": "stream",
     "text": [
      "Input shape: torch.Size([1, 3, 16, 320, 240])\n",
      "After backbone shape: torch.Size([1, 192, 16, 10, 8])\n",
      "After final_block shape: torch.Size([1, 2048, 4, 6, 4])\n",
      "After pooling shape: torch.Size([1, 2048, 1, 1, 1])\n",
      "After global average pooling shape: torch.Size([1, 2048, 1, 1, 1])\n",
      "Input shape: torch.Size([1, 3, 16, 320, 240])\n",
      "After backbone shape: torch.Size([1, 192, 16, 10, 8])\n",
      "After final_block shape: torch.Size([1, 2048, 4, 6, 4])\n",
      "After pooling shape: torch.Size([1, 2048, 1, 1, 1])\n",
      "After global average pooling shape: torch.Size([1, 2048, 1, 1, 1])\n",
      "batch_feature[0]:torch.Size([2048, 1, 1, 1])\n",
      "Batch shape: torch.Size([4, 3, 16, 320, 240])\n",
      "Input shape: torch.Size([1, 3, 16, 320, 240])\n",
      "After backbone shape: torch.Size([1, 192, 16, 10, 8])\n",
      "After final_block shape: torch.Size([1, 2048, 4, 6, 4])\n",
      "After pooling shape: torch.Size([1, 2048, 1, 1, 1])\n",
      "After global average pooling shape: torch.Size([1, 2048, 1, 1, 1])\n",
      "Input shape: torch.Size([1, 3, 16, 320, 240])\n",
      "After backbone shape: torch.Size([1, 192, 16, 10, 8])\n",
      "After final_block shape: torch.Size([1, 2048, 4, 6, 4])\n",
      "After pooling shape: torch.Size([1, 2048, 1, 1, 1])\n",
      "After global average pooling shape: torch.Size([1, 2048, 1, 1, 1])\n"
     ]
    },
    {
     "name": "stderr",
     "output_type": "stream",
     "text": [
      "Extracting Features:  73%|███████▎  | 124/169 [00:32<00:10,  4.13it/s]"
     ]
    },
    {
     "name": "stdout",
     "output_type": "stream",
     "text": [
      "Input shape: torch.Size([1, 3, 16, 320, 240])\n",
      "After backbone shape: torch.Size([1, 192, 16, 10, 8])\n",
      "After final_block shape: torch.Size([1, 2048, 4, 6, 4])\n",
      "After pooling shape: torch.Size([1, 2048, 1, 1, 1])\n",
      "After global average pooling shape: torch.Size([1, 2048, 1, 1, 1])\n",
      "Input shape: torch.Size([1, 3, 16, 320, 240])\n",
      "After backbone shape: torch.Size([1, 192, 16, 10, 8])\n",
      "After final_block shape: torch.Size([1, 2048, 4, 6, 4])\n",
      "After pooling shape: torch.Size([1, 2048, 1, 1, 1])\n",
      "After global average pooling shape: torch.Size([1, 2048, 1, 1, 1])\n",
      "batch_feature[0]:torch.Size([2048, 1, 1, 1])\n",
      "Batch shape: torch.Size([4, 3, 16, 320, 240])\n",
      "Input shape: torch.Size([1, 3, 16, 320, 240])\n",
      "After backbone shape: torch.Size([1, 192, 16, 10, 8])\n",
      "After final_block shape: torch.Size([1, 2048, 4, 6, 4])\n",
      "After pooling shape: torch.Size([1, 2048, 1, 1, 1])\n",
      "After global average pooling shape: torch.Size([1, 2048, 1, 1, 1])\n",
      "Input shape: torch.Size([1, 3, 16, 320, 240])\n",
      "After backbone shape: torch.Size([1, 192, 16, 10, 8])\n",
      "After final_block shape: torch.Size([1, 2048, 4, 6, 4])\n",
      "After pooling shape: torch.Size([1, 2048, 1, 1, 1])\n",
      "After global average pooling shape: torch.Size([1, 2048, 1, 1, 1])\n"
     ]
    },
    {
     "name": "stderr",
     "output_type": "stream",
     "text": [
      "Extracting Features:  74%|███████▍  | 125/169 [00:32<00:10,  4.13it/s]"
     ]
    },
    {
     "name": "stdout",
     "output_type": "stream",
     "text": [
      "Input shape: torch.Size([1, 3, 16, 320, 240])\n",
      "After backbone shape: torch.Size([1, 192, 16, 10, 8])\n",
      "After final_block shape: torch.Size([1, 2048, 4, 6, 4])\n",
      "After pooling shape: torch.Size([1, 2048, 1, 1, 1])\n",
      "After global average pooling shape: torch.Size([1, 2048, 1, 1, 1])\n",
      "Input shape: torch.Size([1, 3, 16, 320, 240])\n",
      "After backbone shape: torch.Size([1, 192, 16, 10, 8])\n",
      "After final_block shape: torch.Size([1, 2048, 4, 6, 4])\n",
      "After pooling shape: torch.Size([1, 2048, 1, 1, 1])\n",
      "After global average pooling shape: torch.Size([1, 2048, 1, 1, 1])\n",
      "batch_feature[0]:torch.Size([2048, 1, 1, 1])\n",
      "Batch shape: torch.Size([4, 3, 16, 320, 240])\n",
      "Input shape: torch.Size([1, 3, 16, 320, 240])\n",
      "After backbone shape: torch.Size([1, 192, 16, 10, 8])\n",
      "After final_block shape: torch.Size([1, 2048, 4, 6, 4])\n",
      "After pooling shape: torch.Size([1, 2048, 1, 1, 1])\n",
      "After global average pooling shape: torch.Size([1, 2048, 1, 1, 1])\n",
      "Input shape: torch.Size([1, 3, 16, 320, 240])\n",
      "After backbone shape: torch.Size([1, 192, 16, 10, 8])\n",
      "After final_block shape: torch.Size([1, 2048, 4, 6, 4])\n",
      "After pooling shape: torch.Size([1, 2048, 1, 1, 1])\n",
      "After global average pooling shape: torch.Size([1, 2048, 1, 1, 1])\n"
     ]
    },
    {
     "name": "stderr",
     "output_type": "stream",
     "text": [
      "Extracting Features:  75%|███████▍  | 126/169 [00:32<00:10,  4.13it/s]"
     ]
    },
    {
     "name": "stdout",
     "output_type": "stream",
     "text": [
      "Input shape: torch.Size([1, 3, 16, 320, 240])\n",
      "After backbone shape: torch.Size([1, 192, 16, 10, 8])\n",
      "After final_block shape: torch.Size([1, 2048, 4, 6, 4])\n",
      "After pooling shape: torch.Size([1, 2048, 1, 1, 1])\n",
      "After global average pooling shape: torch.Size([1, 2048, 1, 1, 1])\n",
      "Input shape: torch.Size([1, 3, 16, 320, 240])\n",
      "After backbone shape: torch.Size([1, 192, 16, 10, 8])\n",
      "After final_block shape: torch.Size([1, 2048, 4, 6, 4])\n",
      "After pooling shape: torch.Size([1, 2048, 1, 1, 1])\n",
      "After global average pooling shape: torch.Size([1, 2048, 1, 1, 1])\n",
      "batch_feature[0]:torch.Size([2048, 1, 1, 1])\n",
      "Batch shape: torch.Size([4, 3, 16, 320, 240])\n",
      "Input shape: torch.Size([1, 3, 16, 320, 240])\n",
      "After backbone shape: torch.Size([1, 192, 16, 10, 8])\n",
      "After final_block shape: torch.Size([1, 2048, 4, 6, 4])\n",
      "After pooling shape: torch.Size([1, 2048, 1, 1, 1])\n",
      "After global average pooling shape: torch.Size([1, 2048, 1, 1, 1])\n",
      "Input shape: torch.Size([1, 3, 16, 320, 240])\n",
      "After backbone shape: torch.Size([1, 192, 16, 10, 8])\n",
      "After final_block shape: torch.Size([1, 2048, 4, 6, 4])\n",
      "After pooling shape: torch.Size([1, 2048, 1, 1, 1])\n",
      "After global average pooling shape: torch.Size([1, 2048, 1, 1, 1])\n"
     ]
    },
    {
     "name": "stderr",
     "output_type": "stream",
     "text": [
      "Extracting Features:  75%|███████▌  | 127/169 [00:32<00:10,  4.11it/s]"
     ]
    },
    {
     "name": "stdout",
     "output_type": "stream",
     "text": [
      "Input shape: torch.Size([1, 3, 16, 320, 240])\n",
      "After backbone shape: torch.Size([1, 192, 16, 10, 8])\n",
      "After final_block shape: torch.Size([1, 2048, 4, 6, 4])\n",
      "After pooling shape: torch.Size([1, 2048, 1, 1, 1])\n",
      "After global average pooling shape: torch.Size([1, 2048, 1, 1, 1])\n",
      "Input shape: torch.Size([1, 3, 16, 320, 240])\n",
      "After backbone shape: torch.Size([1, 192, 16, 10, 8])\n",
      "After final_block shape: torch.Size([1, 2048, 4, 6, 4])\n",
      "After pooling shape: torch.Size([1, 2048, 1, 1, 1])\n",
      "After global average pooling shape: torch.Size([1, 2048, 1, 1, 1])\n",
      "batch_feature[0]:torch.Size([2048, 1, 1, 1])\n",
      "Batch shape: torch.Size([4, 3, 16, 320, 240])\n",
      "Input shape: torch.Size([1, 3, 16, 320, 240])\n",
      "After backbone shape: torch.Size([1, 192, 16, 10, 8])\n",
      "After final_block shape: torch.Size([1, 2048, 4, 6, 4])\n",
      "After pooling shape: torch.Size([1, 2048, 1, 1, 1])\n",
      "After global average pooling shape: torch.Size([1, 2048, 1, 1, 1])\n"
     ]
    },
    {
     "name": "stderr",
     "output_type": "stream",
     "text": [
      "Extracting Features:  76%|███████▌  | 128/169 [00:33<00:10,  4.01it/s]"
     ]
    },
    {
     "name": "stdout",
     "output_type": "stream",
     "text": [
      "Input shape: torch.Size([1, 3, 16, 320, 240])\n",
      "After backbone shape: torch.Size([1, 192, 16, 10, 8])\n",
      "After final_block shape: torch.Size([1, 2048, 4, 6, 4])\n",
      "After pooling shape: torch.Size([1, 2048, 1, 1, 1])\n",
      "After global average pooling shape: torch.Size([1, 2048, 1, 1, 1])\n",
      "Input shape: torch.Size([1, 3, 16, 320, 240])\n",
      "After backbone shape: torch.Size([1, 192, 16, 10, 8])\n",
      "After final_block shape: torch.Size([1, 2048, 4, 6, 4])\n",
      "After pooling shape: torch.Size([1, 2048, 1, 1, 1])\n",
      "After global average pooling shape: torch.Size([1, 2048, 1, 1, 1])\n",
      "Input shape: torch.Size([1, 3, 16, 320, 240])\n",
      "After backbone shape: torch.Size([1, 192, 16, 10, 8])\n",
      "After final_block shape: torch.Size([1, 2048, 4, 6, 4])\n",
      "After pooling shape: torch.Size([1, 2048, 1, 1, 1])\n",
      "After global average pooling shape: torch.Size([1, 2048, 1, 1, 1])\n",
      "batch_feature[0]:torch.Size([2048, 1, 1, 1])\n",
      "Batch shape: torch.Size([4, 3, 16, 320, 240])\n",
      "Input shape: torch.Size([1, 3, 16, 320, 240])\n",
      "After backbone shape: torch.Size([1, 192, 16, 10, 8])\n",
      "After final_block shape: torch.Size([1, 2048, 4, 6, 4])\n",
      "After pooling shape: torch.Size([1, 2048, 1, 1, 1])\n",
      "After global average pooling shape: torch.Size([1, 2048, 1, 1, 1])\n"
     ]
    },
    {
     "name": "stderr",
     "output_type": "stream",
     "text": [
      "Extracting Features:  76%|███████▋  | 129/169 [00:33<00:09,  4.05it/s]"
     ]
    },
    {
     "name": "stdout",
     "output_type": "stream",
     "text": [
      "Input shape: torch.Size([1, 3, 16, 320, 240])\n",
      "After backbone shape: torch.Size([1, 192, 16, 10, 8])\n",
      "After final_block shape: torch.Size([1, 2048, 4, 6, 4])\n",
      "After pooling shape: torch.Size([1, 2048, 1, 1, 1])\n",
      "After global average pooling shape: torch.Size([1, 2048, 1, 1, 1])\n",
      "Input shape: torch.Size([1, 3, 16, 320, 240])\n",
      "After backbone shape: torch.Size([1, 192, 16, 10, 8])\n",
      "After final_block shape: torch.Size([1, 2048, 4, 6, 4])\n",
      "After pooling shape: torch.Size([1, 2048, 1, 1, 1])\n",
      "After global average pooling shape: torch.Size([1, 2048, 1, 1, 1])\n",
      "Input shape: torch.Size([1, 3, 16, 320, 240])\n",
      "After backbone shape: torch.Size([1, 192, 16, 10, 8])\n",
      "After final_block shape: torch.Size([1, 2048, 4, 6, 4])\n",
      "After pooling shape: torch.Size([1, 2048, 1, 1, 1])\n",
      "After global average pooling shape: torch.Size([1, 2048, 1, 1, 1])\n",
      "batch_feature[0]:torch.Size([2048, 1, 1, 1])\n",
      "Batch shape: torch.Size([4, 3, 16, 320, 240])\n",
      "Input shape: torch.Size([1, 3, 16, 320, 240])\n",
      "After backbone shape: torch.Size([1, 192, 16, 10, 8])\n",
      "After final_block shape: torch.Size([1, 2048, 4, 6, 4])\n",
      "After pooling shape: torch.Size([1, 2048, 1, 1, 1])\n",
      "After global average pooling shape: torch.Size([1, 2048, 1, 1, 1])\n",
      "Input shape: torch.Size([1, 3, 16, 320, 240])\n",
      "After backbone shape: torch.Size([1, 192, 16, 10, 8])\n",
      "After final_block shape: torch.Size([1, 2048, 4, 6, 4])\n",
      "After pooling shape: torch.Size([1, 2048, 1, 1, 1])\n",
      "After global average pooling shape: torch.Size([1, 2048, 1, 1, 1])\n",
      "Input shape: torch.Size([1, 3, 16, 320, 240])\n",
      "After backbone shape: torch.Size([1, 192, 16, 10, 8])\n",
      "After final_block shape: torch.Size([1, 2048, 4, 6, 4])\n",
      "After pooling shape: torch.Size([1, 2048, 1, 1, 1])\n",
      "After global average pooling shape: torch.Size([1, 2048, 1, 1, 1])\n",
      "Input shape: torch.Size([1, 3, 16, 320, 240])\n",
      "After backbone shape: torch.Size([1, 192, 16, 10, 8])\n",
      "After final_block shape: torch.Size([1, 2048, 4, 6, 4])\n",
      "After pooling shape: torch.Size([1, 2048, 1, 1, 1])\n",
      "After global average pooling shape: torch.Size([1, 2048, 1, 1, 1])\n"
     ]
    },
    {
     "name": "stderr",
     "output_type": "stream",
     "text": [
      "Extracting Features:  77%|███████▋  | 130/169 [00:33<00:09,  4.04it/s]"
     ]
    },
    {
     "name": "stdout",
     "output_type": "stream",
     "text": [
      "batch_feature[0]:torch.Size([2048, 1, 1, 1])\n",
      "Batch shape: torch.Size([4, 3, 16, 320, 240])\n",
      "Input shape: torch.Size([1, 3, 16, 320, 240])\n",
      "After backbone shape: torch.Size([1, 192, 16, 10, 8])\n",
      "After final_block shape: torch.Size([1, 2048, 4, 6, 4])\n",
      "After pooling shape: torch.Size([1, 2048, 1, 1, 1])\n",
      "After global average pooling shape: torch.Size([1, 2048, 1, 1, 1])\n",
      "Input shape: torch.Size([1, 3, 16, 320, 240])\n",
      "After backbone shape: torch.Size([1, 192, 16, 10, 8])\n",
      "After final_block shape: torch.Size([1, 2048, 4, 6, 4])\n",
      "After pooling shape: torch.Size([1, 2048, 1, 1, 1])\n",
      "After global average pooling shape: torch.Size([1, 2048, 1, 1, 1])\n",
      "Input shape: torch.Size([1, 3, 16, 320, 240])\n",
      "After backbone shape: torch.Size([1, 192, 16, 10, 8])\n",
      "After final_block shape: torch.Size([1, 2048, 4, 6, 4])\n",
      "After pooling shape: torch.Size([1, 2048, 1, 1, 1])\n",
      "After global average pooling shape: torch.Size([1, 2048, 1, 1, 1])\n",
      "Input shape: torch.Size([1, 3, 16, 320, 240])\n",
      "After backbone shape: torch.Size([1, 192, 16, 10, 8])\n",
      "After final_block shape: torch.Size([1, 2048, 4, 6, 4])\n",
      "After pooling shape: torch.Size([1, 2048, 1, 1, 1])\n",
      "After global average pooling shape: torch.Size([1, 2048, 1, 1, 1])\n"
     ]
    },
    {
     "name": "stderr",
     "output_type": "stream",
     "text": [
      "Extracting Features:  78%|███████▊  | 131/169 [00:33<00:09,  4.03it/s]"
     ]
    },
    {
     "name": "stdout",
     "output_type": "stream",
     "text": [
      "batch_feature[0]:torch.Size([2048, 1, 1, 1])\n",
      "Batch shape: torch.Size([4, 3, 16, 320, 240])\n",
      "Input shape: torch.Size([1, 3, 16, 320, 240])\n",
      "After backbone shape: torch.Size([1, 192, 16, 10, 8])\n",
      "After final_block shape: torch.Size([1, 2048, 4, 6, 4])\n",
      "After pooling shape: torch.Size([1, 2048, 1, 1, 1])\n",
      "After global average pooling shape: torch.Size([1, 2048, 1, 1, 1])\n",
      "Input shape: torch.Size([1, 3, 16, 320, 240])\n",
      "After backbone shape: torch.Size([1, 192, 16, 10, 8])\n",
      "After final_block shape: torch.Size([1, 2048, 4, 6, 4])\n",
      "After pooling shape: torch.Size([1, 2048, 1, 1, 1])\n",
      "After global average pooling shape: torch.Size([1, 2048, 1, 1, 1])\n",
      "Input shape: torch.Size([1, 3, 16, 320, 240])\n",
      "After backbone shape: torch.Size([1, 192, 16, 10, 8])\n",
      "After final_block shape: torch.Size([1, 2048, 4, 6, 4])\n",
      "After pooling shape: torch.Size([1, 2048, 1, 1, 1])\n",
      "After global average pooling shape: torch.Size([1, 2048, 1, 1, 1])\n"
     ]
    },
    {
     "name": "stderr",
     "output_type": "stream",
     "text": [
      "Extracting Features:  78%|███████▊  | 132/169 [00:34<00:09,  3.90it/s]"
     ]
    },
    {
     "name": "stdout",
     "output_type": "stream",
     "text": [
      "Input shape: torch.Size([1, 3, 16, 320, 240])\n",
      "After backbone shape: torch.Size([1, 192, 16, 10, 8])\n",
      "After final_block shape: torch.Size([1, 2048, 4, 6, 4])\n",
      "After pooling shape: torch.Size([1, 2048, 1, 1, 1])\n",
      "After global average pooling shape: torch.Size([1, 2048, 1, 1, 1])\n",
      "batch_feature[0]:torch.Size([2048, 1, 1, 1])\n",
      "Batch shape: torch.Size([4, 3, 16, 320, 240])\n",
      "Input shape: torch.Size([1, 3, 16, 320, 240])\n",
      "After backbone shape: torch.Size([1, 192, 16, 10, 8])\n",
      "After final_block shape: torch.Size([1, 2048, 4, 6, 4])\n",
      "After pooling shape: torch.Size([1, 2048, 1, 1, 1])\n",
      "After global average pooling shape: torch.Size([1, 2048, 1, 1, 1])\n",
      "Input shape: torch.Size([1, 3, 16, 320, 240])\n",
      "After backbone shape: torch.Size([1, 192, 16, 10, 8])\n",
      "After final_block shape: torch.Size([1, 2048, 4, 6, 4])\n",
      "After pooling shape: torch.Size([1, 2048, 1, 1, 1])\n",
      "After global average pooling shape: torch.Size([1, 2048, 1, 1, 1])\n",
      "Input shape: torch.Size([1, 3, 16, 320, 240])\n"
     ]
    },
    {
     "name": "stderr",
     "output_type": "stream",
     "text": [
      "Extracting Features:  79%|███████▊  | 133/169 [00:34<00:09,  3.95it/s]"
     ]
    },
    {
     "name": "stdout",
     "output_type": "stream",
     "text": [
      "After backbone shape: torch.Size([1, 192, 16, 10, 8])\n",
      "After final_block shape: torch.Size([1, 2048, 4, 6, 4])\n",
      "After pooling shape: torch.Size([1, 2048, 1, 1, 1])\n",
      "After global average pooling shape: torch.Size([1, 2048, 1, 1, 1])\n",
      "Input shape: torch.Size([1, 3, 16, 320, 240])\n",
      "After backbone shape: torch.Size([1, 192, 16, 10, 8])\n",
      "After final_block shape: torch.Size([1, 2048, 4, 6, 4])\n",
      "After pooling shape: torch.Size([1, 2048, 1, 1, 1])\n",
      "After global average pooling shape: torch.Size([1, 2048, 1, 1, 1])\n",
      "batch_feature[0]:torch.Size([2048, 1, 1, 1])\n",
      "Batch shape: torch.Size([4, 3, 16, 320, 240])\n",
      "Input shape: torch.Size([1, 3, 16, 320, 240])\n",
      "After backbone shape: torch.Size([1, 192, 16, 10, 8])\n",
      "After final_block shape: torch.Size([1, 2048, 4, 6, 4])\n",
      "After pooling shape: torch.Size([1, 2048, 1, 1, 1])\n",
      "After global average pooling shape: torch.Size([1, 2048, 1, 1, 1])\n",
      "Input shape: torch.Size([1, 3, 16, 320, 240])\n",
      "After backbone shape: torch.Size([1, 192, 16, 10, 8])\n",
      "After final_block shape: torch.Size([1, 2048, 4, 6, 4])\n",
      "After pooling shape: torch.Size([1, 2048, 1, 1, 1])\n",
      "After global average pooling shape: torch.Size([1, 2048, 1, 1, 1])\n"
     ]
    },
    {
     "name": "stderr",
     "output_type": "stream",
     "text": [
      "Extracting Features:  79%|███████▉  | 134/169 [00:34<00:08,  4.01it/s]"
     ]
    },
    {
     "name": "stdout",
     "output_type": "stream",
     "text": [
      "Input shape: torch.Size([1, 3, 16, 320, 240])\n",
      "After backbone shape: torch.Size([1, 192, 16, 10, 8])\n",
      "After final_block shape: torch.Size([1, 2048, 4, 6, 4])\n",
      "After pooling shape: torch.Size([1, 2048, 1, 1, 1])\n",
      "After global average pooling shape: torch.Size([1, 2048, 1, 1, 1])\n",
      "Input shape: torch.Size([1, 3, 16, 320, 240])\n",
      "After backbone shape: torch.Size([1, 192, 16, 10, 8])\n",
      "After final_block shape: torch.Size([1, 2048, 4, 6, 4])\n",
      "After pooling shape: torch.Size([1, 2048, 1, 1, 1])\n",
      "After global average pooling shape: torch.Size([1, 2048, 1, 1, 1])\n",
      "batch_feature[0]:torch.Size([2048, 1, 1, 1])\n",
      "Batch shape: torch.Size([4, 3, 16, 320, 240])\n",
      "Input shape: torch.Size([1, 3, 16, 320, 240])\n",
      "After backbone shape: torch.Size([1, 192, 16, 10, 8])\n",
      "After final_block shape: torch.Size([1, 2048, 4, 6, 4])\n",
      "After pooling shape: torch.Size([1, 2048, 1, 1, 1])\n",
      "After global average pooling shape: torch.Size([1, 2048, 1, 1, 1])\n",
      "Input shape: torch.Size([1, 3, 16, 320, 240])\n"
     ]
    },
    {
     "name": "stderr",
     "output_type": "stream",
     "text": [
      "Extracting Features:  80%|███████▉  | 135/169 [00:34<00:08,  4.04it/s]"
     ]
    },
    {
     "name": "stdout",
     "output_type": "stream",
     "text": [
      "After backbone shape: torch.Size([1, 192, 16, 10, 8])\n",
      "After final_block shape: torch.Size([1, 2048, 4, 6, 4])\n",
      "After pooling shape: torch.Size([1, 2048, 1, 1, 1])\n",
      "After global average pooling shape: torch.Size([1, 2048, 1, 1, 1])\n",
      "Input shape: torch.Size([1, 3, 16, 320, 240])\n",
      "After backbone shape: torch.Size([1, 192, 16, 10, 8])\n",
      "After final_block shape: torch.Size([1, 2048, 4, 6, 4])\n",
      "After pooling shape: torch.Size([1, 2048, 1, 1, 1])\n",
      "After global average pooling shape: torch.Size([1, 2048, 1, 1, 1])\n",
      "Input shape: torch.Size([1, 3, 16, 320, 240])\n",
      "After backbone shape: torch.Size([1, 192, 16, 10, 8])\n",
      "After final_block shape: torch.Size([1, 2048, 4, 6, 4])\n",
      "After pooling shape: torch.Size([1, 2048, 1, 1, 1])\n",
      "After global average pooling shape: torch.Size([1, 2048, 1, 1, 1])\n",
      "batch_feature[0]:torch.Size([2048, 1, 1, 1])\n",
      "Batch shape: torch.Size([4, 3, 16, 320, 240])\n",
      "Input shape: torch.Size([1, 3, 16, 320, 240])\n",
      "After backbone shape: torch.Size([1, 192, 16, 10, 8])\n",
      "After final_block shape: torch.Size([1, 2048, 4, 6, 4])\n",
      "After pooling shape: torch.Size([1, 2048, 1, 1, 1])\n",
      "After global average pooling shape: torch.Size([1, 2048, 1, 1, 1])\n"
     ]
    },
    {
     "name": "stderr",
     "output_type": "stream",
     "text": [
      "Extracting Features:  80%|████████  | 136/169 [00:35<00:08,  4.08it/s]"
     ]
    },
    {
     "name": "stdout",
     "output_type": "stream",
     "text": [
      "Input shape: torch.Size([1, 3, 16, 320, 240])\n",
      "After backbone shape: torch.Size([1, 192, 16, 10, 8])\n",
      "After final_block shape: torch.Size([1, 2048, 4, 6, 4])\n",
      "After pooling shape: torch.Size([1, 2048, 1, 1, 1])\n",
      "After global average pooling shape: torch.Size([1, 2048, 1, 1, 1])\n",
      "Input shape: torch.Size([1, 3, 16, 320, 240])\n",
      "After backbone shape: torch.Size([1, 192, 16, 10, 8])\n",
      "After final_block shape: torch.Size([1, 2048, 4, 6, 4])\n",
      "After pooling shape: torch.Size([1, 2048, 1, 1, 1])\n",
      "After global average pooling shape: torch.Size([1, 2048, 1, 1, 1])\n",
      "Input shape: torch.Size([1, 3, 16, 320, 240])\n",
      "After backbone shape: torch.Size([1, 192, 16, 10, 8])\n",
      "After final_block shape: torch.Size([1, 2048, 4, 6, 4])\n",
      "After pooling shape: torch.Size([1, 2048, 1, 1, 1])\n",
      "After global average pooling shape: torch.Size([1, 2048, 1, 1, 1])\n",
      "batch_feature[0]:torch.Size([2048, 1, 1, 1])\n",
      "Batch shape: torch.Size([4, 3, 16, 320, 240])\n",
      "Input shape: torch.Size([1, 3, 16, 320, 240])\n",
      "After backbone shape: torch.Size([1, 192, 16, 10, 8])\n",
      "After final_block shape: torch.Size([1, 2048, 4, 6, 4])\n",
      "After pooling shape: torch.Size([1, 2048, 1, 1, 1])\n",
      "After global average pooling shape: torch.Size([1, 2048, 1, 1, 1])\n"
     ]
    },
    {
     "name": "stderr",
     "output_type": "stream",
     "text": [
      "Extracting Features:  81%|████████  | 137/169 [00:35<00:07,  4.11it/s]"
     ]
    },
    {
     "name": "stdout",
     "output_type": "stream",
     "text": [
      "Input shape: torch.Size([1, 3, 16, 320, 240])\n",
      "After backbone shape: torch.Size([1, 192, 16, 10, 8])\n",
      "After final_block shape: torch.Size([1, 2048, 4, 6, 4])\n",
      "After pooling shape: torch.Size([1, 2048, 1, 1, 1])\n",
      "After global average pooling shape: torch.Size([1, 2048, 1, 1, 1])\n",
      "Input shape: torch.Size([1, 3, 16, 320, 240])\n",
      "After backbone shape: torch.Size([1, 192, 16, 10, 8])\n",
      "After final_block shape: torch.Size([1, 2048, 4, 6, 4])\n",
      "After pooling shape: torch.Size([1, 2048, 1, 1, 1])\n",
      "After global average pooling shape: torch.Size([1, 2048, 1, 1, 1])\n",
      "Input shape: torch.Size([1, 3, 16, 320, 240])\n",
      "After backbone shape: torch.Size([1, 192, 16, 10, 8])\n",
      "After final_block shape: torch.Size([1, 2048, 4, 6, 4])\n",
      "After pooling shape: torch.Size([1, 2048, 1, 1, 1])\n",
      "After global average pooling shape: torch.Size([1, 2048, 1, 1, 1])\n",
      "batch_feature[0]:torch.Size([2048, 1, 1, 1])\n",
      "Batch shape: torch.Size([4, 3, 16, 320, 240])\n",
      "Input shape: torch.Size([1, 3, 16, 320, 240])\n",
      "After backbone shape: torch.Size([1, 192, 16, 10, 8])\n",
      "After final_block shape: torch.Size([1, 2048, 4, 6, 4])\n",
      "After pooling shape: torch.Size([1, 2048, 1, 1, 1])\n",
      "After global average pooling shape: torch.Size([1, 2048, 1, 1, 1])\n"
     ]
    },
    {
     "name": "stderr",
     "output_type": "stream",
     "text": [
      "Extracting Features:  82%|████████▏ | 138/169 [00:35<00:07,  3.97it/s]"
     ]
    },
    {
     "name": "stdout",
     "output_type": "stream",
     "text": [
      "Input shape: torch.Size([1, 3, 16, 320, 240])\n",
      "After backbone shape: torch.Size([1, 192, 16, 10, 8])\n",
      "After final_block shape: torch.Size([1, 2048, 4, 6, 4])\n",
      "After pooling shape: torch.Size([1, 2048, 1, 1, 1])\n",
      "After global average pooling shape: torch.Size([1, 2048, 1, 1, 1])\n",
      "Input shape: torch.Size([1, 3, 16, 320, 240])\n",
      "After backbone shape: torch.Size([1, 192, 16, 10, 8])\n",
      "After final_block shape: torch.Size([1, 2048, 4, 6, 4])\n",
      "After pooling shape: torch.Size([1, 2048, 1, 1, 1])\n",
      "After global average pooling shape: torch.Size([1, 2048, 1, 1, 1])\n",
      "Input shape: torch.Size([1, 3, 16, 320, 240])\n",
      "After backbone shape: torch.Size([1, 192, 16, 10, 8])\n",
      "After final_block shape: torch.Size([1, 2048, 4, 6, 4])\n",
      "After pooling shape: torch.Size([1, 2048, 1, 1, 1])\n",
      "After global average pooling shape: torch.Size([1, 2048, 1, 1, 1])\n",
      "batch_feature[0]:torch.Size([2048, 1, 1, 1])\n",
      "Batch shape: torch.Size([4, 3, 16, 320, 240])\n",
      "Input shape: torch.Size([1, 3, 16, 320, 240])\n",
      "After backbone shape: torch.Size([1, 192, 16, 10, 8])\n",
      "After final_block shape: torch.Size([1, 2048, 4, 6, 4])\n",
      "After pooling shape: torch.Size([1, 2048, 1, 1, 1])\n",
      "After global average pooling shape: torch.Size([1, 2048, 1, 1, 1])\n",
      "Input shape: torch.Size([1, 3, 16, 320, 240])\n",
      "After backbone shape: torch.Size([1, 192, 16, 10, 8])\n",
      "After final_block shape: torch.Size([1, 2048, 4, 6, 4])\n",
      "After pooling shape: torch.Size([1, 2048, 1, 1, 1])\n",
      "After global average pooling shape: torch.Size([1, 2048, 1, 1, 1])\n",
      "Input shape: torch.Size([1, 3, 16, 320, 240])\n",
      "After backbone shape: torch.Size([1, 192, 16, 10, 8])\n",
      "After final_block shape: torch.Size([1, 2048, 4, 6, 4])\n",
      "After pooling shape: torch.Size([1, 2048, 1, 1, 1])\n",
      "After global average pooling shape: torch.Size([1, 2048, 1, 1, 1])\n",
      "Input shape: torch.Size([1, 3, 16, 320, 240])\n",
      "After backbone shape: torch.Size([1, 192, 16, 10, 8])\n",
      "After final_block shape: torch.Size([1, 2048, 4, 6, 4])\n",
      "After pooling shape: torch.Size([1, 2048, 1, 1, 1])\n",
      "After global average pooling shape: torch.Size([1, 2048, 1, 1, 1])\n"
     ]
    },
    {
     "name": "stderr",
     "output_type": "stream",
     "text": [
      "Extracting Features:  82%|████████▏ | 139/169 [00:35<00:07,  3.98it/s]"
     ]
    },
    {
     "name": "stdout",
     "output_type": "stream",
     "text": [
      "batch_feature[0]:torch.Size([2048, 1, 1, 1])\n",
      "Batch shape: torch.Size([4, 3, 16, 320, 240])\n",
      "Input shape: torch.Size([1, 3, 16, 320, 240])\n",
      "After backbone shape: torch.Size([1, 192, 16, 10, 8])\n",
      "After final_block shape: torch.Size([1, 2048, 4, 6, 4])\n",
      "After pooling shape: torch.Size([1, 2048, 1, 1, 1])\n",
      "After global average pooling shape: torch.Size([1, 2048, 1, 1, 1])\n",
      "Input shape: torch.Size([1, 3, 16, 320, 240])\n",
      "After backbone shape: torch.Size([1, 192, 16, 10, 8])\n",
      "After final_block shape: torch.Size([1, 2048, 4, 6, 4])\n",
      "After pooling shape: torch.Size([1, 2048, 1, 1, 1])\n",
      "After global average pooling shape: torch.Size([1, 2048, 1, 1, 1])\n",
      "Input shape: torch.Size([1, 3, 16, 320, 240])\n",
      "After backbone shape: torch.Size([1, 192, 16, 10, 8])\n",
      "After final_block shape: torch.Size([1, 2048, 4, 6, 4])\n",
      "After pooling shape: torch.Size([1, 2048, 1, 1, 1])\n",
      "After global average pooling shape: torch.Size([1, 2048, 1, 1, 1])\n",
      "Input shape: torch.Size([1, 3, 16, 320, 240])\n",
      "After backbone shape: torch.Size([1, 192, 16, 10, 8])\n",
      "After final_block shape: torch.Size([1, 2048, 4, 6, 4])\n",
      "After pooling shape: torch.Size([1, 2048, 1, 1, 1])\n",
      "After global average pooling shape: torch.Size([1, 2048, 1, 1, 1])\n"
     ]
    },
    {
     "name": "stderr",
     "output_type": "stream",
     "text": [
      "Extracting Features:  83%|████████▎ | 140/169 [00:36<00:07,  4.05it/s]"
     ]
    },
    {
     "name": "stdout",
     "output_type": "stream",
     "text": [
      "batch_feature[0]:torch.Size([2048, 1, 1, 1])\n",
      "Batch shape: torch.Size([4, 3, 16, 320, 240])\n",
      "Input shape: torch.Size([1, 3, 16, 320, 240])\n",
      "After backbone shape: torch.Size([1, 192, 16, 10, 8])\n",
      "After final_block shape: torch.Size([1, 2048, 4, 6, 4])\n",
      "After pooling shape: torch.Size([1, 2048, 1, 1, 1])\n",
      "After global average pooling shape: torch.Size([1, 2048, 1, 1, 1])\n",
      "Input shape: torch.Size([1, 3, 16, 320, 240])\n",
      "After backbone shape: torch.Size([1, 192, 16, 10, 8])\n",
      "After final_block shape: torch.Size([1, 2048, 4, 6, 4])\n",
      "After pooling shape: torch.Size([1, 2048, 1, 1, 1])\n",
      "After global average pooling shape: torch.Size([1, 2048, 1, 1, 1])\n",
      "Input shape: torch.Size([1, 3, 16, 320, 240])\n",
      "After backbone shape: torch.Size([1, 192, 16, 10, 8])\n",
      "After final_block shape: torch.Size([1, 2048, 4, 6, 4])\n",
      "After pooling shape: torch.Size([1, 2048, 1, 1, 1])\n",
      "After global average pooling shape: torch.Size([1, 2048, 1, 1, 1])\n",
      "Input shape: torch.Size([1, 3, 16, 320, 240])\n",
      "After backbone shape: torch.Size([1, 192, 16, 10, 8])\n",
      "After final_block shape: torch.Size([1, 2048, 4, 6, 4])\n",
      "After pooling shape: torch.Size([1, 2048, 1, 1, 1])\n",
      "After global average pooling shape: torch.Size([1, 2048, 1, 1, 1])\n"
     ]
    },
    {
     "name": "stderr",
     "output_type": "stream",
     "text": [
      "Extracting Features:  83%|████████▎ | 141/169 [00:36<00:06,  4.07it/s]"
     ]
    },
    {
     "name": "stdout",
     "output_type": "stream",
     "text": [
      "batch_feature[0]:torch.Size([2048, 1, 1, 1])\n",
      "Batch shape: torch.Size([4, 3, 16, 320, 240])\n",
      "Input shape: torch.Size([1, 3, 16, 320, 240])\n",
      "After backbone shape: torch.Size([1, 192, 16, 10, 8])\n",
      "After final_block shape: torch.Size([1, 2048, 4, 6, 4])\n",
      "After pooling shape: torch.Size([1, 2048, 1, 1, 1])\n",
      "After global average pooling shape: torch.Size([1, 2048, 1, 1, 1])\n",
      "Input shape: torch.Size([1, 3, 16, 320, 240])\n",
      "After backbone shape: torch.Size([1, 192, 16, 10, 8])\n",
      "After final_block shape: torch.Size([1, 2048, 4, 6, 4])\n",
      "After pooling shape: torch.Size([1, 2048, 1, 1, 1])\n",
      "After global average pooling shape: torch.Size([1, 2048, 1, 1, 1])\n",
      "Input shape: torch.Size([1, 3, 16, 320, 240])\n",
      "After backbone shape: torch.Size([1, 192, 16, 10, 8])\n",
      "After final_block shape: torch.Size([1, 2048, 4, 6, 4])\n",
      "After pooling shape: torch.Size([1, 2048, 1, 1, 1])\n",
      "After global average pooling shape: torch.Size([1, 2048, 1, 1, 1])\n",
      "Input shape: torch.Size([1, 3, 16, 320, 240])\n"
     ]
    },
    {
     "name": "stderr",
     "output_type": "stream",
     "text": [
      "Extracting Features:  84%|████████▍ | 142/169 [00:36<00:06,  4.10it/s]"
     ]
    },
    {
     "name": "stdout",
     "output_type": "stream",
     "text": [
      "After backbone shape: torch.Size([1, 192, 16, 10, 8])\n",
      "After final_block shape: torch.Size([1, 2048, 4, 6, 4])\n",
      "After pooling shape: torch.Size([1, 2048, 1, 1, 1])\n",
      "After global average pooling shape: torch.Size([1, 2048, 1, 1, 1])\n",
      "batch_feature[0]:torch.Size([2048, 1, 1, 1])\n",
      "Batch shape: torch.Size([4, 3, 16, 320, 240])\n",
      "Input shape: torch.Size([1, 3, 16, 320, 240])\n",
      "After backbone shape: torch.Size([1, 192, 16, 10, 8])\n",
      "After final_block shape: torch.Size([1, 2048, 4, 6, 4])\n",
      "After pooling shape: torch.Size([1, 2048, 1, 1, 1])\n",
      "After global average pooling shape: torch.Size([1, 2048, 1, 1, 1])\n",
      "Input shape: torch.Size([1, 3, 16, 320, 240])\n",
      "After backbone shape: torch.Size([1, 192, 16, 10, 8])\n",
      "After final_block shape: torch.Size([1, 2048, 4, 6, 4])\n",
      "After pooling shape: torch.Size([1, 2048, 1, 1, 1])\n",
      "After global average pooling shape: torch.Size([1, 2048, 1, 1, 1])\n",
      "Input shape: torch.Size([1, 3, 16, 320, 240])\n",
      "After backbone shape: torch.Size([1, 192, 16, 10, 8])\n",
      "After final_block shape: torch.Size([1, 2048, 4, 6, 4])\n",
      "After pooling shape: torch.Size([1, 2048, 1, 1, 1])\n",
      "After global average pooling shape: torch.Size([1, 2048, 1, 1, 1])\n"
     ]
    },
    {
     "name": "stderr",
     "output_type": "stream",
     "text": [
      "Extracting Features:  85%|████████▍ | 143/169 [00:36<00:06,  4.15it/s]"
     ]
    },
    {
     "name": "stdout",
     "output_type": "stream",
     "text": [
      "Input shape: torch.Size([1, 3, 16, 320, 240])\n",
      "After backbone shape: torch.Size([1, 192, 16, 10, 8])\n",
      "After final_block shape: torch.Size([1, 2048, 4, 6, 4])\n",
      "After pooling shape: torch.Size([1, 2048, 1, 1, 1])\n",
      "After global average pooling shape: torch.Size([1, 2048, 1, 1, 1])\n",
      "batch_feature[0]:torch.Size([2048, 1, 1, 1])\n",
      "Batch shape: torch.Size([4, 3, 16, 320, 240])\n",
      "Input shape: torch.Size([1, 3, 16, 320, 240])\n",
      "After backbone shape: torch.Size([1, 192, 16, 10, 8])\n",
      "After final_block shape: torch.Size([1, 2048, 4, 6, 4])\n",
      "After pooling shape: torch.Size([1, 2048, 1, 1, 1])\n",
      "After global average pooling shape: torch.Size([1, 2048, 1, 1, 1])\n",
      "Input shape: torch.Size([1, 3, 16, 320, 240])\n",
      "After backbone shape: torch.Size([1, 192, 16, 10, 8])\n",
      "After final_block shape: torch.Size([1, 2048, 4, 6, 4])\n",
      "After pooling shape: torch.Size([1, 2048, 1, 1, 1])\n",
      "After global average pooling shape: torch.Size([1, 2048, 1, 1, 1])\n",
      "Input shape: torch.Size([1, 3, 16, 320, 240])\n"
     ]
    },
    {
     "name": "stderr",
     "output_type": "stream",
     "text": [
      "Extracting Features:  85%|████████▌ | 144/169 [00:37<00:06,  4.10it/s]"
     ]
    },
    {
     "name": "stdout",
     "output_type": "stream",
     "text": [
      "After backbone shape: torch.Size([1, 192, 16, 10, 8])\n",
      "After final_block shape: torch.Size([1, 2048, 4, 6, 4])\n",
      "After pooling shape: torch.Size([1, 2048, 1, 1, 1])\n",
      "After global average pooling shape: torch.Size([1, 2048, 1, 1, 1])\n",
      "Input shape: torch.Size([1, 3, 16, 320, 240])\n",
      "After backbone shape: torch.Size([1, 192, 16, 10, 8])\n",
      "After final_block shape: torch.Size([1, 2048, 4, 6, 4])\n",
      "After pooling shape: torch.Size([1, 2048, 1, 1, 1])\n",
      "After global average pooling shape: torch.Size([1, 2048, 1, 1, 1])\n",
      "batch_feature[0]:torch.Size([2048, 1, 1, 1])\n",
      "Batch shape: torch.Size([4, 3, 16, 320, 240])\n",
      "Input shape: torch.Size([1, 3, 16, 320, 240])\n",
      "After backbone shape: torch.Size([1, 192, 16, 10, 8])\n",
      "After final_block shape: torch.Size([1, 2048, 4, 6, 4])\n",
      "After pooling shape: torch.Size([1, 2048, 1, 1, 1])\n",
      "After global average pooling shape: torch.Size([1, 2048, 1, 1, 1])\n",
      "Input shape: torch.Size([1, 3, 16, 320, 240])\n",
      "After backbone shape: torch.Size([1, 192, 16, 10, 8])\n",
      "After final_block shape: torch.Size([1, 2048, 4, 6, 4])\n",
      "After pooling shape: torch.Size([1, 2048, 1, 1, 1])\n",
      "After global average pooling shape: torch.Size([1, 2048, 1, 1, 1])\n"
     ]
    },
    {
     "name": "stderr",
     "output_type": "stream",
     "text": [
      "Extracting Features:  86%|████████▌ | 145/169 [00:37<00:05,  4.14it/s]"
     ]
    },
    {
     "name": "stdout",
     "output_type": "stream",
     "text": [
      "Input shape: torch.Size([1, 3, 16, 320, 240])\n",
      "After backbone shape: torch.Size([1, 192, 16, 10, 8])\n",
      "After final_block shape: torch.Size([1, 2048, 4, 6, 4])\n",
      "After pooling shape: torch.Size([1, 2048, 1, 1, 1])\n",
      "After global average pooling shape: torch.Size([1, 2048, 1, 1, 1])\n",
      "Input shape: torch.Size([1, 3, 16, 320, 240])\n",
      "After backbone shape: torch.Size([1, 192, 16, 10, 8])\n",
      "After final_block shape: torch.Size([1, 2048, 4, 6, 4])\n",
      "After pooling shape: torch.Size([1, 2048, 1, 1, 1])\n",
      "After global average pooling shape: torch.Size([1, 2048, 1, 1, 1])\n",
      "batch_feature[0]:torch.Size([2048, 1, 1, 1])\n",
      "Batch shape: torch.Size([4, 3, 16, 320, 240])\n",
      "Input shape: torch.Size([1, 3, 16, 320, 240])\n",
      "After backbone shape: torch.Size([1, 192, 16, 10, 8])\n",
      "After final_block shape: torch.Size([1, 2048, 4, 6, 4])\n",
      "After pooling shape: torch.Size([1, 2048, 1, 1, 1])\n",
      "After global average pooling shape: torch.Size([1, 2048, 1, 1, 1])\n"
     ]
    },
    {
     "name": "stderr",
     "output_type": "stream",
     "text": [
      "Extracting Features:  86%|████████▋ | 146/169 [00:37<00:05,  4.01it/s]"
     ]
    },
    {
     "name": "stdout",
     "output_type": "stream",
     "text": [
      "Input shape: torch.Size([1, 3, 16, 320, 240])\n",
      "After backbone shape: torch.Size([1, 192, 16, 10, 8])\n",
      "After final_block shape: torch.Size([1, 2048, 4, 6, 4])\n",
      "After pooling shape: torch.Size([1, 2048, 1, 1, 1])\n",
      "After global average pooling shape: torch.Size([1, 2048, 1, 1, 1])\n",
      "Input shape: torch.Size([1, 3, 16, 320, 240])\n",
      "After backbone shape: torch.Size([1, 192, 16, 10, 8])\n",
      "After final_block shape: torch.Size([1, 2048, 4, 6, 4])\n",
      "After pooling shape: torch.Size([1, 2048, 1, 1, 1])\n",
      "After global average pooling shape: torch.Size([1, 2048, 1, 1, 1])\n",
      "Input shape: torch.Size([1, 3, 16, 320, 240])\n",
      "After backbone shape: torch.Size([1, 192, 16, 10, 8])\n",
      "After final_block shape: torch.Size([1, 2048, 4, 6, 4])\n",
      "After pooling shape: torch.Size([1, 2048, 1, 1, 1])\n",
      "After global average pooling shape: torch.Size([1, 2048, 1, 1, 1])\n",
      "batch_feature[0]:torch.Size([2048, 1, 1, 1])\n",
      "Batch shape: torch.Size([4, 3, 16, 320, 240])\n",
      "Input shape: torch.Size([1, 3, 16, 320, 240])\n",
      "After backbone shape: torch.Size([1, 192, 16, 10, 8])\n",
      "After final_block shape: torch.Size([1, 2048, 4, 6, 4])\n",
      "After pooling shape: torch.Size([1, 2048, 1, 1, 1])\n",
      "After global average pooling shape: torch.Size([1, 2048, 1, 1, 1])\n",
      "Input shape: torch.Size([1, 3, 16, 320, 240])\n",
      "After backbone shape: torch.Size([1, 192, 16, 10, 8])\n",
      "After final_block shape: torch.Size([1, 2048, 4, 6, 4])\n",
      "After pooling shape: torch.Size([1, 2048, 1, 1, 1])\n",
      "After global average pooling shape: torch.Size([1, 2048, 1, 1, 1])\n",
      "Input shape: torch.Size([1, 3, 16, 320, 240])\n",
      "After backbone shape: torch.Size([1, 192, 16, 10, 8])\n",
      "After final_block shape: torch.Size([1, 2048, 4, 6, 4])\n",
      "After pooling shape: torch.Size([1, 2048, 1, 1, 1])\n",
      "After global average pooling shape: torch.Size([1, 2048, 1, 1, 1])\n",
      "Input shape: torch.Size([1, 3, 16, 320, 240])\n",
      "After backbone shape: torch.Size([1, 192, 16, 10, 8])\n",
      "After final_block shape: torch.Size([1, 2048, 4, 6, 4])\n",
      "After pooling shape: torch.Size([1, 2048, 1, 1, 1])\n",
      "After global average pooling shape: torch.Size([1, 2048, 1, 1, 1])\n"
     ]
    },
    {
     "name": "stderr",
     "output_type": "stream",
     "text": [
      "Extracting Features:  87%|████████▋ | 147/169 [00:37<00:05,  4.05it/s]"
     ]
    },
    {
     "name": "stdout",
     "output_type": "stream",
     "text": [
      "batch_feature[0]:torch.Size([2048, 1, 1, 1])\n",
      "Batch shape: torch.Size([4, 3, 16, 320, 240])\n",
      "Input shape: torch.Size([1, 3, 16, 320, 240])\n",
      "After backbone shape: torch.Size([1, 192, 16, 10, 8])\n",
      "After final_block shape: torch.Size([1, 2048, 4, 6, 4])\n",
      "After pooling shape: torch.Size([1, 2048, 1, 1, 1])\n",
      "After global average pooling shape: torch.Size([1, 2048, 1, 1, 1])\n",
      "Input shape: torch.Size([1, 3, 16, 320, 240])\n",
      "After backbone shape: torch.Size([1, 192, 16, 10, 8])\n",
      "After final_block shape: torch.Size([1, 2048, 4, 6, 4])\n",
      "After pooling shape: torch.Size([1, 2048, 1, 1, 1])\n",
      "After global average pooling shape: torch.Size([1, 2048, 1, 1, 1])\n",
      "Input shape: torch.Size([1, 3, 16, 320, 240])\n",
      "After backbone shape: torch.Size([1, 192, 16, 10, 8])\n",
      "After final_block shape: torch.Size([1, 2048, 4, 6, 4])\n",
      "After pooling shape: torch.Size([1, 2048, 1, 1, 1])\n",
      "After global average pooling shape: torch.Size([1, 2048, 1, 1, 1])\n",
      "Input shape: torch.Size([1, 3, 16, 320, 240])\n"
     ]
    },
    {
     "name": "stderr",
     "output_type": "stream",
     "text": [
      "Extracting Features:  88%|████████▊ | 148/169 [00:38<00:05,  3.92it/s]"
     ]
    },
    {
     "name": "stdout",
     "output_type": "stream",
     "text": [
      "After backbone shape: torch.Size([1, 192, 16, 10, 8])\n",
      "After final_block shape: torch.Size([1, 2048, 4, 6, 4])\n",
      "After pooling shape: torch.Size([1, 2048, 1, 1, 1])\n",
      "After global average pooling shape: torch.Size([1, 2048, 1, 1, 1])\n",
      "batch_feature[0]:torch.Size([2048, 1, 1, 1])\n",
      "Batch shape: torch.Size([4, 3, 16, 320, 240])\n",
      "Input shape: torch.Size([1, 3, 16, 320, 240])\n",
      "After backbone shape: torch.Size([1, 192, 16, 10, 8])\n",
      "After final_block shape: torch.Size([1, 2048, 4, 6, 4])\n",
      "After pooling shape: torch.Size([1, 2048, 1, 1, 1])\n",
      "After global average pooling shape: torch.Size([1, 2048, 1, 1, 1])\n",
      "Input shape: torch.Size([1, 3, 16, 320, 240])\n",
      "After backbone shape: torch.Size([1, 192, 16, 10, 8])\n",
      "After final_block shape: torch.Size([1, 2048, 4, 6, 4])\n",
      "After pooling shape: torch.Size([1, 2048, 1, 1, 1])\n",
      "After global average pooling shape: torch.Size([1, 2048, 1, 1, 1])\n",
      "Input shape: torch.Size([1, 3, 16, 320, 240])\n",
      "After backbone shape: torch.Size([1, 192, 16, 10, 8])\n",
      "After final_block shape: torch.Size([1, 2048, 4, 6, 4])\n",
      "After pooling shape: torch.Size([1, 2048, 1, 1, 1])\n",
      "After global average pooling shape: torch.Size([1, 2048, 1, 1, 1])\n"
     ]
    },
    {
     "name": "stderr",
     "output_type": "stream",
     "text": [
      "Extracting Features:  88%|████████▊ | 149/169 [00:38<00:05,  3.89it/s]"
     ]
    },
    {
     "name": "stdout",
     "output_type": "stream",
     "text": [
      "Input shape: torch.Size([1, 3, 16, 320, 240])\n",
      "After backbone shape: torch.Size([1, 192, 16, 10, 8])\n",
      "After final_block shape: torch.Size([1, 2048, 4, 6, 4])\n",
      "After pooling shape: torch.Size([1, 2048, 1, 1, 1])\n",
      "After global average pooling shape: torch.Size([1, 2048, 1, 1, 1])\n",
      "batch_feature[0]:torch.Size([2048, 1, 1, 1])\n",
      "Batch shape: torch.Size([4, 3, 16, 320, 240])\n",
      "Input shape: torch.Size([1, 3, 16, 320, 240])\n",
      "After backbone shape: torch.Size([1, 192, 16, 10, 8])\n",
      "After final_block shape: torch.Size([1, 2048, 4, 6, 4])\n",
      "After pooling shape: torch.Size([1, 2048, 1, 1, 1])\n",
      "After global average pooling shape: torch.Size([1, 2048, 1, 1, 1])\n",
      "Input shape: torch.Size([1, 3, 16, 320, 240])\n",
      "After backbone shape: torch.Size([1, 192, 16, 10, 8])\n",
      "After final_block shape: torch.Size([1, 2048, 4, 6, 4])\n",
      "After pooling shape: torch.Size([1, 2048, 1, 1, 1])\n",
      "After global average pooling shape: torch.Size([1, 2048, 1, 1, 1])\n",
      "Input shape: torch.Size([1, 3, 16, 320, 240])\n"
     ]
    },
    {
     "name": "stderr",
     "output_type": "stream",
     "text": [
      "Extracting Features:  89%|████████▉ | 150/169 [00:38<00:04,  3.90it/s]"
     ]
    },
    {
     "name": "stdout",
     "output_type": "stream",
     "text": [
      "After backbone shape: torch.Size([1, 192, 16, 10, 8])\n",
      "After final_block shape: torch.Size([1, 2048, 4, 6, 4])\n",
      "After pooling shape: torch.Size([1, 2048, 1, 1, 1])\n",
      "After global average pooling shape: torch.Size([1, 2048, 1, 1, 1])\n",
      "Input shape: torch.Size([1, 3, 16, 320, 240])\n",
      "After backbone shape: torch.Size([1, 192, 16, 10, 8])\n",
      "After final_block shape: torch.Size([1, 2048, 4, 6, 4])\n",
      "After pooling shape: torch.Size([1, 2048, 1, 1, 1])\n",
      "After global average pooling shape: torch.Size([1, 2048, 1, 1, 1])\n",
      "batch_feature[0]:torch.Size([2048, 1, 1, 1])\n",
      "Batch shape: torch.Size([4, 3, 16, 320, 240])\n",
      "Input shape: torch.Size([1, 3, 16, 320, 240])\n",
      "After backbone shape: torch.Size([1, 192, 16, 10, 8])\n",
      "After final_block shape: torch.Size([1, 2048, 4, 6, 4])\n",
      "After pooling shape: torch.Size([1, 2048, 1, 1, 1])\n",
      "After global average pooling shape: torch.Size([1, 2048, 1, 1, 1])\n",
      "Input shape: torch.Size([1, 3, 16, 320, 240])\n",
      "After backbone shape: torch.Size([1, 192, 16, 10, 8])\n",
      "After final_block shape: torch.Size([1, 2048, 4, 6, 4])\n",
      "After pooling shape: torch.Size([1, 2048, 1, 1, 1])\n",
      "After global average pooling shape: torch.Size([1, 2048, 1, 1, 1])\n"
     ]
    },
    {
     "name": "stderr",
     "output_type": "stream",
     "text": [
      "Extracting Features:  89%|████████▉ | 151/169 [00:38<00:04,  3.94it/s]"
     ]
    },
    {
     "name": "stdout",
     "output_type": "stream",
     "text": [
      "Input shape: torch.Size([1, 3, 16, 320, 240])\n",
      "After backbone shape: torch.Size([1, 192, 16, 10, 8])\n",
      "After final_block shape: torch.Size([1, 2048, 4, 6, 4])\n",
      "After pooling shape: torch.Size([1, 2048, 1, 1, 1])\n",
      "After global average pooling shape: torch.Size([1, 2048, 1, 1, 1])\n",
      "Input shape: torch.Size([1, 3, 16, 320, 240])\n",
      "After backbone shape: torch.Size([1, 192, 16, 10, 8])\n",
      "After final_block shape: torch.Size([1, 2048, 4, 6, 4])\n",
      "After pooling shape: torch.Size([1, 2048, 1, 1, 1])\n",
      "After global average pooling shape: torch.Size([1, 2048, 1, 1, 1])\n",
      "batch_feature[0]:torch.Size([2048, 1, 1, 1])\n",
      "Batch shape: torch.Size([4, 3, 16, 320, 240])\n",
      "Input shape: torch.Size([1, 3, 16, 320, 240])\n",
      "After backbone shape: torch.Size([1, 192, 16, 10, 8])\n",
      "After final_block shape: torch.Size([1, 2048, 4, 6, 4])\n",
      "After pooling shape: torch.Size([1, 2048, 1, 1, 1])\n",
      "After global average pooling shape: torch.Size([1, 2048, 1, 1, 1])\n",
      "Input shape: torch.Size([1, 3, 16, 320, 240])\n",
      "After backbone shape: torch.Size([1, 192, 16, 10, 8])\n",
      "After final_block shape: torch.Size([1, 2048, 4, 6, 4])\n",
      "After pooling shape: torch.Size([1, 2048, 1, 1, 1])\n",
      "After global average pooling shape: torch.Size([1, 2048, 1, 1, 1])\n"
     ]
    },
    {
     "name": "stderr",
     "output_type": "stream",
     "text": [
      "Extracting Features:  90%|████████▉ | 152/169 [00:39<00:04,  3.96it/s]"
     ]
    },
    {
     "name": "stdout",
     "output_type": "stream",
     "text": [
      "Input shape: torch.Size([1, 3, 16, 320, 240])\n",
      "After backbone shape: torch.Size([1, 192, 16, 10, 8])\n",
      "After final_block shape: torch.Size([1, 2048, 4, 6, 4])\n",
      "After pooling shape: torch.Size([1, 2048, 1, 1, 1])\n",
      "After global average pooling shape: torch.Size([1, 2048, 1, 1, 1])\n",
      "Input shape: torch.Size([1, 3, 16, 320, 240])\n",
      "After backbone shape: torch.Size([1, 192, 16, 10, 8])\n",
      "After final_block shape: torch.Size([1, 2048, 4, 6, 4])\n",
      "After pooling shape: torch.Size([1, 2048, 1, 1, 1])\n",
      "After global average pooling shape: torch.Size([1, 2048, 1, 1, 1])\n",
      "batch_feature[0]:torch.Size([2048, 1, 1, 1])\n",
      "Batch shape: torch.Size([4, 3, 16, 320, 240])\n",
      "Input shape: torch.Size([1, 3, 16, 320, 240])\n",
      "After backbone shape: torch.Size([1, 192, 16, 10, 8])\n",
      "After final_block shape: torch.Size([1, 2048, 4, 6, 4])\n",
      "After pooling shape: torch.Size([1, 2048, 1, 1, 1])\n",
      "After global average pooling shape: torch.Size([1, 2048, 1, 1, 1])\n",
      "Input shape: torch.Size([1, 3, 16, 320, 240])\n",
      "After backbone shape: torch.Size([1, 192, 16, 10, 8])\n",
      "After final_block shape: torch.Size([1, 2048, 4, 6, 4])\n",
      "After pooling shape: torch.Size([1, 2048, 1, 1, 1])\n",
      "After global average pooling shape: torch.Size([1, 2048, 1, 1, 1])\n"
     ]
    },
    {
     "name": "stderr",
     "output_type": "stream",
     "text": [
      "Extracting Features:  91%|█████████ | 153/169 [00:39<00:03,  4.01it/s]"
     ]
    },
    {
     "name": "stdout",
     "output_type": "stream",
     "text": [
      "Input shape: torch.Size([1, 3, 16, 320, 240])\n",
      "After backbone shape: torch.Size([1, 192, 16, 10, 8])\n",
      "After final_block shape: torch.Size([1, 2048, 4, 6, 4])\n",
      "After pooling shape: torch.Size([1, 2048, 1, 1, 1])\n",
      "After global average pooling shape: torch.Size([1, 2048, 1, 1, 1])\n",
      "Input shape: torch.Size([1, 3, 16, 320, 240])\n",
      "After backbone shape: torch.Size([1, 192, 16, 10, 8])\n",
      "After final_block shape: torch.Size([1, 2048, 4, 6, 4])\n",
      "After pooling shape: torch.Size([1, 2048, 1, 1, 1])\n",
      "After global average pooling shape: torch.Size([1, 2048, 1, 1, 1])\n",
      "batch_feature[0]:torch.Size([2048, 1, 1, 1])\n",
      "Batch shape: torch.Size([4, 3, 16, 320, 240])\n",
      "Input shape: torch.Size([1, 3, 16, 320, 240])\n",
      "After backbone shape: torch.Size([1, 192, 16, 10, 8])\n",
      "After final_block shape: torch.Size([1, 2048, 4, 6, 4])\n",
      "After pooling shape: torch.Size([1, 2048, 1, 1, 1])\n",
      "After global average pooling shape: torch.Size([1, 2048, 1, 1, 1])\n",
      "Input shape: torch.Size([1, 3, 16, 320, 240])\n",
      "After backbone shape: torch.Size([1, 192, 16, 10, 8])\n",
      "After final_block shape: torch.Size([1, 2048, 4, 6, 4])\n",
      "After pooling shape: torch.Size([1, 2048, 1, 1, 1])\n",
      "After global average pooling shape: torch.Size([1, 2048, 1, 1, 1])\n"
     ]
    },
    {
     "name": "stderr",
     "output_type": "stream",
     "text": [
      "Extracting Features:  91%|█████████ | 154/169 [00:39<00:03,  3.98it/s]"
     ]
    },
    {
     "name": "stdout",
     "output_type": "stream",
     "text": [
      "Input shape: torch.Size([1, 3, 16, 320, 240])\n",
      "After backbone shape: torch.Size([1, 192, 16, 10, 8])\n",
      "After final_block shape: torch.Size([1, 2048, 4, 6, 4])\n",
      "After pooling shape: torch.Size([1, 2048, 1, 1, 1])\n",
      "After global average pooling shape: torch.Size([1, 2048, 1, 1, 1])\n",
      "Input shape: torch.Size([1, 3, 16, 320, 240])\n",
      "After backbone shape: torch.Size([1, 192, 16, 10, 8])\n",
      "After final_block shape: torch.Size([1, 2048, 4, 6, 4])\n",
      "After pooling shape: torch.Size([1, 2048, 1, 1, 1])\n",
      "After global average pooling shape: torch.Size([1, 2048, 1, 1, 1])\n",
      "batch_feature[0]:torch.Size([2048, 1, 1, 1])\n",
      "Batch shape: torch.Size([4, 3, 16, 320, 240])\n",
      "Input shape: torch.Size([1, 3, 16, 320, 240])\n",
      "After backbone shape: torch.Size([1, 192, 16, 10, 8])\n",
      "After final_block shape: torch.Size([1, 2048, 4, 6, 4])\n",
      "After pooling shape: torch.Size([1, 2048, 1, 1, 1])\n",
      "After global average pooling shape: torch.Size([1, 2048, 1, 1, 1])\n",
      "Input shape: torch.Size([1, 3, 16, 320, 240])\n",
      "After backbone shape: torch.Size([1, 192, 16, 10, 8])\n",
      "After final_block shape: torch.Size([1, 2048, 4, 6, 4])\n",
      "After pooling shape: torch.Size([1, 2048, 1, 1, 1])\n",
      "After global average pooling shape: torch.Size([1, 2048, 1, 1, 1])\n"
     ]
    },
    {
     "name": "stderr",
     "output_type": "stream",
     "text": [
      "Extracting Features:  92%|█████████▏| 155/169 [00:39<00:03,  4.00it/s]"
     ]
    },
    {
     "name": "stdout",
     "output_type": "stream",
     "text": [
      "Input shape: torch.Size([1, 3, 16, 320, 240])\n",
      "After backbone shape: torch.Size([1, 192, 16, 10, 8])\n",
      "After final_block shape: torch.Size([1, 2048, 4, 6, 4])\n",
      "After pooling shape: torch.Size([1, 2048, 1, 1, 1])\n",
      "After global average pooling shape: torch.Size([1, 2048, 1, 1, 1])\n",
      "Input shape: torch.Size([1, 3, 16, 320, 240])\n",
      "After backbone shape: torch.Size([1, 192, 16, 10, 8])\n",
      "After final_block shape: torch.Size([1, 2048, 4, 6, 4])\n",
      "After pooling shape: torch.Size([1, 2048, 1, 1, 1])\n",
      "After global average pooling shape: torch.Size([1, 2048, 1, 1, 1])\n",
      "batch_feature[0]:torch.Size([2048, 1, 1, 1])\n",
      "Batch shape: torch.Size([4, 3, 16, 320, 240])\n",
      "Input shape: torch.Size([1, 3, 16, 320, 240])\n",
      "After backbone shape: torch.Size([1, 192, 16, 10, 8])\n",
      "After final_block shape: torch.Size([1, 2048, 4, 6, 4])\n",
      "After pooling shape: torch.Size([1, 2048, 1, 1, 1])\n",
      "After global average pooling shape: torch.Size([1, 2048, 1, 1, 1])\n",
      "Input shape: torch.Size([1, 3, 16, 320, 240])\n"
     ]
    },
    {
     "name": "stderr",
     "output_type": "stream",
     "text": [
      "Extracting Features:  92%|█████████▏| 156/169 [00:40<00:03,  4.03it/s]"
     ]
    },
    {
     "name": "stdout",
     "output_type": "stream",
     "text": [
      "After backbone shape: torch.Size([1, 192, 16, 10, 8])\n",
      "After final_block shape: torch.Size([1, 2048, 4, 6, 4])\n",
      "After pooling shape: torch.Size([1, 2048, 1, 1, 1])\n",
      "After global average pooling shape: torch.Size([1, 2048, 1, 1, 1])\n",
      "Input shape: torch.Size([1, 3, 16, 320, 240])\n",
      "After backbone shape: torch.Size([1, 192, 16, 10, 8])\n",
      "After final_block shape: torch.Size([1, 2048, 4, 6, 4])\n",
      "After pooling shape: torch.Size([1, 2048, 1, 1, 1])\n",
      "After global average pooling shape: torch.Size([1, 2048, 1, 1, 1])\n",
      "Input shape: torch.Size([1, 3, 16, 320, 240])\n",
      "After backbone shape: torch.Size([1, 192, 16, 10, 8])\n",
      "After final_block shape: torch.Size([1, 2048, 4, 6, 4])\n",
      "After pooling shape: torch.Size([1, 2048, 1, 1, 1])\n",
      "After global average pooling shape: torch.Size([1, 2048, 1, 1, 1])\n",
      "batch_feature[0]:torch.Size([2048, 1, 1, 1])\n",
      "Batch shape: torch.Size([4, 3, 16, 320, 240])\n",
      "Input shape: torch.Size([1, 3, 16, 320, 240])\n",
      "After backbone shape: torch.Size([1, 192, 16, 10, 8])\n",
      "After final_block shape: torch.Size([1, 2048, 4, 6, 4])\n",
      "After pooling shape: torch.Size([1, 2048, 1, 1, 1])\n",
      "After global average pooling shape: torch.Size([1, 2048, 1, 1, 1])\n"
     ]
    },
    {
     "name": "stderr",
     "output_type": "stream",
     "text": [
      "Extracting Features:  93%|█████████▎| 157/169 [00:40<00:02,  4.09it/s]"
     ]
    },
    {
     "name": "stdout",
     "output_type": "stream",
     "text": [
      "Input shape: torch.Size([1, 3, 16, 320, 240])\n",
      "After backbone shape: torch.Size([1, 192, 16, 10, 8])\n",
      "After final_block shape: torch.Size([1, 2048, 4, 6, 4])\n",
      "After pooling shape: torch.Size([1, 2048, 1, 1, 1])\n",
      "After global average pooling shape: torch.Size([1, 2048, 1, 1, 1])\n",
      "Input shape: torch.Size([1, 3, 16, 320, 240])\n",
      "After backbone shape: torch.Size([1, 192, 16, 10, 8])\n",
      "After final_block shape: torch.Size([1, 2048, 4, 6, 4])\n",
      "After pooling shape: torch.Size([1, 2048, 1, 1, 1])\n",
      "After global average pooling shape: torch.Size([1, 2048, 1, 1, 1])\n",
      "Input shape: torch.Size([1, 3, 16, 320, 240])\n",
      "After backbone shape: torch.Size([1, 192, 16, 10, 8])\n",
      "After final_block shape: torch.Size([1, 2048, 4, 6, 4])\n",
      "After pooling shape: torch.Size([1, 2048, 1, 1, 1])\n",
      "After global average pooling shape: torch.Size([1, 2048, 1, 1, 1])\n",
      "batch_feature[0]:torch.Size([2048, 1, 1, 1])\n",
      "Batch shape: torch.Size([4, 3, 16, 320, 240])\n",
      "Input shape: torch.Size([1, 3, 16, 320, 240])\n",
      "After backbone shape: torch.Size([1, 192, 16, 10, 8])\n",
      "After final_block shape: torch.Size([1, 2048, 4, 6, 4])\n",
      "After pooling shape: torch.Size([1, 2048, 1, 1, 1])\n",
      "After global average pooling shape: torch.Size([1, 2048, 1, 1, 1])\n"
     ]
    },
    {
     "name": "stderr",
     "output_type": "stream",
     "text": [
      "Extracting Features:  93%|█████████▎| 158/169 [00:40<00:02,  4.13it/s]"
     ]
    },
    {
     "name": "stdout",
     "output_type": "stream",
     "text": [
      "Input shape: torch.Size([1, 3, 16, 320, 240])\n",
      "After backbone shape: torch.Size([1, 192, 16, 10, 8])\n",
      "After final_block shape: torch.Size([1, 2048, 4, 6, 4])\n",
      "After pooling shape: torch.Size([1, 2048, 1, 1, 1])\n",
      "After global average pooling shape: torch.Size([1, 2048, 1, 1, 1])\n",
      "Input shape: torch.Size([1, 3, 16, 320, 240])\n",
      "After backbone shape: torch.Size([1, 192, 16, 10, 8])\n",
      "After final_block shape: torch.Size([1, 2048, 4, 6, 4])\n",
      "After pooling shape: torch.Size([1, 2048, 1, 1, 1])\n",
      "After global average pooling shape: torch.Size([1, 2048, 1, 1, 1])\n",
      "Input shape: torch.Size([1, 3, 16, 320, 240])\n",
      "After backbone shape: torch.Size([1, 192, 16, 10, 8])\n",
      "After final_block shape: torch.Size([1, 2048, 4, 6, 4])\n",
      "After pooling shape: torch.Size([1, 2048, 1, 1, 1])\n",
      "After global average pooling shape: torch.Size([1, 2048, 1, 1, 1])\n",
      "batch_feature[0]:torch.Size([2048, 1, 1, 1])\n",
      "Batch shape: torch.Size([4, 3, 16, 320, 240])\n",
      "Input shape: torch.Size([1, 3, 16, 320, 240])\n",
      "After backbone shape: torch.Size([1, 192, 16, 10, 8])\n",
      "After final_block shape: torch.Size([1, 2048, 4, 6, 4])\n",
      "After pooling shape: torch.Size([1, 2048, 1, 1, 1])\n",
      "After global average pooling shape: torch.Size([1, 2048, 1, 1, 1])\n"
     ]
    },
    {
     "name": "stderr",
     "output_type": "stream",
     "text": [
      "Extracting Features:  94%|█████████▍| 159/169 [00:40<00:02,  4.08it/s]"
     ]
    },
    {
     "name": "stdout",
     "output_type": "stream",
     "text": [
      "Input shape: torch.Size([1, 3, 16, 320, 240])\n",
      "After backbone shape: torch.Size([1, 192, 16, 10, 8])\n",
      "After final_block shape: torch.Size([1, 2048, 4, 6, 4])\n",
      "After pooling shape: torch.Size([1, 2048, 1, 1, 1])\n",
      "After global average pooling shape: torch.Size([1, 2048, 1, 1, 1])\n",
      "Input shape: torch.Size([1, 3, 16, 320, 240])\n",
      "After backbone shape: torch.Size([1, 192, 16, 10, 8])\n",
      "After final_block shape: torch.Size([1, 2048, 4, 6, 4])\n",
      "After pooling shape: torch.Size([1, 2048, 1, 1, 1])\n",
      "After global average pooling shape: torch.Size([1, 2048, 1, 1, 1])\n",
      "Input shape: torch.Size([1, 3, 16, 320, 240])\n",
      "After backbone shape: torch.Size([1, 192, 16, 10, 8])\n",
      "After final_block shape: torch.Size([1, 2048, 4, 6, 4])\n",
      "After pooling shape: torch.Size([1, 2048, 1, 1, 1])\n",
      "After global average pooling shape: torch.Size([1, 2048, 1, 1, 1])\n",
      "batch_feature[0]:torch.Size([2048, 1, 1, 1])\n",
      "Batch shape: torch.Size([4, 3, 16, 320, 240])\n",
      "Input shape: torch.Size([1, 3, 16, 320, 240])\n",
      "After backbone shape: torch.Size([1, 192, 16, 10, 8])\n",
      "After final_block shape: torch.Size([1, 2048, 4, 6, 4])\n",
      "After pooling shape: torch.Size([1, 2048, 1, 1, 1])\n",
      "After global average pooling shape: torch.Size([1, 2048, 1, 1, 1])\n"
     ]
    },
    {
     "name": "stderr",
     "output_type": "stream",
     "text": [
      "Extracting Features:  95%|█████████▍| 160/169 [00:41<00:02,  4.13it/s]"
     ]
    },
    {
     "name": "stdout",
     "output_type": "stream",
     "text": [
      "Input shape: torch.Size([1, 3, 16, 320, 240])\n",
      "After backbone shape: torch.Size([1, 192, 16, 10, 8])\n",
      "After final_block shape: torch.Size([1, 2048, 4, 6, 4])\n",
      "After pooling shape: torch.Size([1, 2048, 1, 1, 1])\n",
      "After global average pooling shape: torch.Size([1, 2048, 1, 1, 1])\n",
      "Input shape: torch.Size([1, 3, 16, 320, 240])\n",
      "After backbone shape: torch.Size([1, 192, 16, 10, 8])\n",
      "After final_block shape: torch.Size([1, 2048, 4, 6, 4])\n",
      "After pooling shape: torch.Size([1, 2048, 1, 1, 1])\n",
      "After global average pooling shape: torch.Size([1, 2048, 1, 1, 1])\n",
      "Input shape: torch.Size([1, 3, 16, 320, 240])\n",
      "After backbone shape: torch.Size([1, 192, 16, 10, 8])\n",
      "After final_block shape: torch.Size([1, 2048, 4, 6, 4])\n",
      "After pooling shape: torch.Size([1, 2048, 1, 1, 1])\n",
      "After global average pooling shape: torch.Size([1, 2048, 1, 1, 1])\n",
      "batch_feature[0]:torch.Size([2048, 1, 1, 1])\n",
      "Batch shape: torch.Size([4, 3, 16, 320, 240])\n",
      "Input shape: torch.Size([1, 3, 16, 320, 240])\n",
      "After backbone shape: torch.Size([1, 192, 16, 10, 8])\n",
      "After final_block shape: torch.Size([1, 2048, 4, 6, 4])\n",
      "After pooling shape: torch.Size([1, 2048, 1, 1, 1])\n",
      "After global average pooling shape: torch.Size([1, 2048, 1, 1, 1])\n",
      "Input shape: torch.Size([1, 3, 16, 320, 240])\n",
      "After backbone shape: torch.Size([1, 192, 16, 10, 8])\n",
      "After final_block shape: torch.Size([1, 2048, 4, 6, 4])\n",
      "After pooling shape: torch.Size([1, 2048, 1, 1, 1])\n",
      "After global average pooling shape: torch.Size([1, 2048, 1, 1, 1])\n",
      "Input shape: torch.Size([1, 3, 16, 320, 240])\n",
      "After backbone shape: torch.Size([1, 192, 16, 10, 8])\n",
      "After final_block shape: torch.Size([1, 2048, 4, 6, 4])\n",
      "After pooling shape: torch.Size([1, 2048, 1, 1, 1])\n",
      "After global average pooling shape: torch.Size([1, 2048, 1, 1, 1])\n",
      "Input shape: torch.Size([1, 3, 16, 320, 240])\n",
      "After backbone shape: torch.Size([1, 192, 16, 10, 8])\n",
      "After final_block shape: torch.Size([1, 2048, 4, 6, 4])\n",
      "After pooling shape: torch.Size([1, 2048, 1, 1, 1])\n",
      "After global average pooling shape: torch.Size([1, 2048, 1, 1, 1])\n",
      "batch_feature[0]:torch.Size([2048, 1, 1, 1])\n"
     ]
    },
    {
     "name": "stderr",
     "output_type": "stream",
     "text": [
      "Extracting Features:  95%|█████████▌| 161/169 [00:41<00:01,  4.16it/s]"
     ]
    },
    {
     "name": "stdout",
     "output_type": "stream",
     "text": [
      "Batch shape: torch.Size([4, 3, 16, 320, 240])\n",
      "Input shape: torch.Size([1, 3, 16, 320, 240])\n",
      "After backbone shape: torch.Size([1, 192, 16, 10, 8])\n",
      "After final_block shape: torch.Size([1, 2048, 4, 6, 4])\n",
      "After pooling shape: torch.Size([1, 2048, 1, 1, 1])\n",
      "After global average pooling shape: torch.Size([1, 2048, 1, 1, 1])\n",
      "Input shape: torch.Size([1, 3, 16, 320, 240])\n",
      "After backbone shape: torch.Size([1, 192, 16, 10, 8])\n",
      "After final_block shape: torch.Size([1, 2048, 4, 6, 4])\n",
      "After pooling shape: torch.Size([1, 2048, 1, 1, 1])\n",
      "After global average pooling shape: torch.Size([1, 2048, 1, 1, 1])\n",
      "Input shape: torch.Size([1, 3, 16, 320, 240])\n",
      "After backbone shape: torch.Size([1, 192, 16, 10, 8])\n",
      "After final_block shape: torch.Size([1, 2048, 4, 6, 4])\n",
      "After pooling shape: torch.Size([1, 2048, 1, 1, 1])\n",
      "After global average pooling shape: torch.Size([1, 2048, 1, 1, 1])\n",
      "Input shape: torch.Size([1, 3, 16, 320, 240])\n",
      "After backbone shape: torch.Size([1, 192, 16, 10, 8])\n",
      "After final_block shape: torch.Size([1, 2048, 4, 6, 4])\n",
      "After pooling shape: torch.Size([1, 2048, 1, 1, 1])\n",
      "After global average pooling shape: torch.Size([1, 2048, 1, 1, 1])\n"
     ]
    },
    {
     "name": "stderr",
     "output_type": "stream",
     "text": [
      "Extracting Features:  96%|█████████▌| 162/169 [00:41<00:01,  4.11it/s]"
     ]
    },
    {
     "name": "stdout",
     "output_type": "stream",
     "text": [
      "batch_feature[0]:torch.Size([2048, 1, 1, 1])\n",
      "Batch shape: torch.Size([4, 3, 16, 320, 240])\n",
      "Input shape: torch.Size([1, 3, 16, 320, 240])\n",
      "After backbone shape: torch.Size([1, 192, 16, 10, 8])\n",
      "After final_block shape: torch.Size([1, 2048, 4, 6, 4])\n",
      "After pooling shape: torch.Size([1, 2048, 1, 1, 1])\n",
      "After global average pooling shape: torch.Size([1, 2048, 1, 1, 1])\n",
      "Input shape: torch.Size([1, 3, 16, 320, 240])\n",
      "After backbone shape: torch.Size([1, 192, 16, 10, 8])\n",
      "After final_block shape: torch.Size([1, 2048, 4, 6, 4])\n",
      "After pooling shape: torch.Size([1, 2048, 1, 1, 1])\n",
      "After global average pooling shape: torch.Size([1, 2048, 1, 1, 1])\n",
      "Input shape: torch.Size([1, 3, 16, 320, 240])\n",
      "After backbone shape: torch.Size([1, 192, 16, 10, 8])\n",
      "After final_block shape: torch.Size([1, 2048, 4, 6, 4])\n",
      "After pooling shape: torch.Size([1, 2048, 1, 1, 1])\n",
      "After global average pooling shape: torch.Size([1, 2048, 1, 1, 1])\n",
      "Input shape: torch.Size([1, 3, 16, 320, 240])\n",
      "After backbone shape: torch.Size([1, 192, 16, 10, 8])\n",
      "After final_block shape: torch.Size([1, 2048, 4, 6, 4])\n",
      "After pooling shape: torch.Size([1, 2048, 1, 1, 1])\n",
      "After global average pooling shape: torch.Size([1, 2048, 1, 1, 1])\n"
     ]
    },
    {
     "name": "stderr",
     "output_type": "stream",
     "text": [
      "Extracting Features:  96%|█████████▋| 163/169 [00:41<00:01,  4.08it/s]"
     ]
    },
    {
     "name": "stdout",
     "output_type": "stream",
     "text": [
      "batch_feature[0]:torch.Size([2048, 1, 1, 1])\n",
      "Batch shape: torch.Size([4, 3, 16, 320, 240])\n",
      "Input shape: torch.Size([1, 3, 16, 320, 240])\n",
      "After backbone shape: torch.Size([1, 192, 16, 10, 8])\n",
      "After final_block shape: torch.Size([1, 2048, 4, 6, 4])\n",
      "After pooling shape: torch.Size([1, 2048, 1, 1, 1])\n",
      "After global average pooling shape: torch.Size([1, 2048, 1, 1, 1])\n",
      "Input shape: torch.Size([1, 3, 16, 320, 240])\n",
      "After backbone shape: torch.Size([1, 192, 16, 10, 8])\n",
      "After final_block shape: torch.Size([1, 2048, 4, 6, 4])\n",
      "After pooling shape: torch.Size([1, 2048, 1, 1, 1])\n",
      "After global average pooling shape: torch.Size([1, 2048, 1, 1, 1])\n",
      "Input shape: torch.Size([1, 3, 16, 320, 240])\n",
      "After backbone shape: torch.Size([1, 192, 16, 10, 8])\n",
      "After final_block shape: torch.Size([1, 2048, 4, 6, 4])\n",
      "After pooling shape: torch.Size([1, 2048, 1, 1, 1])\n",
      "After global average pooling shape: torch.Size([1, 2048, 1, 1, 1])\n",
      "Input shape: torch.Size([1, 3, 16, 320, 240])\n"
     ]
    },
    {
     "name": "stderr",
     "output_type": "stream",
     "text": [
      "Extracting Features:  97%|█████████▋| 164/169 [00:42<00:01,  4.00it/s]"
     ]
    },
    {
     "name": "stdout",
     "output_type": "stream",
     "text": [
      "After backbone shape: torch.Size([1, 192, 16, 10, 8])\n",
      "After final_block shape: torch.Size([1, 2048, 4, 6, 4])\n",
      "After pooling shape: torch.Size([1, 2048, 1, 1, 1])\n",
      "After global average pooling shape: torch.Size([1, 2048, 1, 1, 1])\n",
      "batch_feature[0]:torch.Size([2048, 1, 1, 1])\n",
      "Batch shape: torch.Size([4, 3, 16, 320, 240])\n",
      "Input shape: torch.Size([1, 3, 16, 320, 240])\n",
      "After backbone shape: torch.Size([1, 192, 16, 10, 8])\n",
      "After final_block shape: torch.Size([1, 2048, 4, 6, 4])\n",
      "After pooling shape: torch.Size([1, 2048, 1, 1, 1])\n",
      "After global average pooling shape: torch.Size([1, 2048, 1, 1, 1])\n",
      "Input shape: torch.Size([1, 3, 16, 320, 240])\n",
      "After backbone shape: torch.Size([1, 192, 16, 10, 8])\n",
      "After final_block shape: torch.Size([1, 2048, 4, 6, 4])\n",
      "After pooling shape: torch.Size([1, 2048, 1, 1, 1])\n",
      "After global average pooling shape: torch.Size([1, 2048, 1, 1, 1])\n",
      "Input shape: torch.Size([1, 3, 16, 320, 240])\n",
      "After backbone shape: torch.Size([1, 192, 16, 10, 8])\n",
      "After final_block shape: torch.Size([1, 2048, 4, 6, 4])\n",
      "After pooling shape: torch.Size([1, 2048, 1, 1, 1])\n",
      "After global average pooling shape: torch.Size([1, 2048, 1, 1, 1])\n"
     ]
    },
    {
     "name": "stderr",
     "output_type": "stream",
     "text": [
      "Extracting Features:  98%|█████████▊| 165/169 [00:42<00:00,  4.01it/s]"
     ]
    },
    {
     "name": "stdout",
     "output_type": "stream",
     "text": [
      "Input shape: torch.Size([1, 3, 16, 320, 240])\n",
      "After backbone shape: torch.Size([1, 192, 16, 10, 8])\n",
      "After final_block shape: torch.Size([1, 2048, 4, 6, 4])\n",
      "After pooling shape: torch.Size([1, 2048, 1, 1, 1])\n",
      "After global average pooling shape: torch.Size([1, 2048, 1, 1, 1])\n",
      "batch_feature[0]:torch.Size([2048, 1, 1, 1])\n",
      "Batch shape: torch.Size([4, 3, 16, 320, 240])\n",
      "Input shape: torch.Size([1, 3, 16, 320, 240])\n",
      "After backbone shape: torch.Size([1, 192, 16, 10, 8])\n",
      "After final_block shape: torch.Size([1, 2048, 4, 6, 4])\n",
      "After pooling shape: torch.Size([1, 2048, 1, 1, 1])\n",
      "After global average pooling shape: torch.Size([1, 2048, 1, 1, 1])\n",
      "Input shape: torch.Size([1, 3, 16, 320, 240])\n",
      "After backbone shape: torch.Size([1, 192, 16, 10, 8])\n",
      "After final_block shape: torch.Size([1, 2048, 4, 6, 4])\n",
      "After pooling shape: torch.Size([1, 2048, 1, 1, 1])\n",
      "After global average pooling shape: torch.Size([1, 2048, 1, 1, 1])\n",
      "Input shape: torch.Size([1, 3, 16, 320, 240])\n",
      "After backbone shape: torch.Size([1, 192, 16, 10, 8])\n",
      "After final_block shape: torch.Size([1, 2048, 4, 6, 4])\n",
      "After pooling shape: torch.Size([1, 2048, 1, 1, 1])\n",
      "After global average pooling shape: torch.Size([1, 2048, 1, 1, 1])\n"
     ]
    },
    {
     "name": "stderr",
     "output_type": "stream",
     "text": [
      "Extracting Features:  98%|█████████▊| 166/169 [00:42<00:00,  4.02it/s]"
     ]
    },
    {
     "name": "stdout",
     "output_type": "stream",
     "text": [
      "Input shape: torch.Size([1, 3, 16, 320, 240])\n",
      "After backbone shape: torch.Size([1, 192, 16, 10, 8])\n",
      "After final_block shape: torch.Size([1, 2048, 4, 6, 4])\n",
      "After pooling shape: torch.Size([1, 2048, 1, 1, 1])\n",
      "After global average pooling shape: torch.Size([1, 2048, 1, 1, 1])\n",
      "batch_feature[0]:torch.Size([2048, 1, 1, 1])\n",
      "Batch shape: torch.Size([4, 3, 16, 320, 240])\n",
      "Input shape: torch.Size([1, 3, 16, 320, 240])\n",
      "After backbone shape: torch.Size([1, 192, 16, 10, 8])\n",
      "After final_block shape: torch.Size([1, 2048, 4, 6, 4])\n",
      "After pooling shape: torch.Size([1, 2048, 1, 1, 1])\n",
      "After global average pooling shape: torch.Size([1, 2048, 1, 1, 1])\n",
      "Input shape: torch.Size([1, 3, 16, 320, 240])\n",
      "After backbone shape: torch.Size([1, 192, 16, 10, 8])\n",
      "After final_block shape: torch.Size([1, 2048, 4, 6, 4])\n",
      "After pooling shape: torch.Size([1, 2048, 1, 1, 1])\n",
      "After global average pooling shape: torch.Size([1, 2048, 1, 1, 1])\n",
      "Input shape: torch.Size([1, 3, 16, 320, 240])\n",
      "After backbone shape: torch.Size([1, 192, 16, 10, 8])\n",
      "After final_block shape: torch.Size([1, 2048, 4, 6, 4])\n",
      "After pooling shape: torch.Size([1, 2048, 1, 1, 1])\n",
      "After global average pooling shape: torch.Size([1, 2048, 1, 1, 1])\n"
     ]
    },
    {
     "name": "stderr",
     "output_type": "stream",
     "text": [
      "Extracting Features:  99%|█████████▉| 167/169 [00:42<00:00,  4.04it/s]"
     ]
    },
    {
     "name": "stdout",
     "output_type": "stream",
     "text": [
      "Input shape: torch.Size([1, 3, 16, 320, 240])\n",
      "After backbone shape: torch.Size([1, 192, 16, 10, 8])\n",
      "After final_block shape: torch.Size([1, 2048, 4, 6, 4])\n",
      "After pooling shape: torch.Size([1, 2048, 1, 1, 1])\n",
      "After global average pooling shape: torch.Size([1, 2048, 1, 1, 1])\n",
      "batch_feature[0]:torch.Size([2048, 1, 1, 1])\n",
      "Batch shape: torch.Size([4, 3, 16, 320, 240])\n",
      "Input shape: torch.Size([1, 3, 16, 320, 240])\n",
      "After backbone shape: torch.Size([1, 192, 16, 10, 8])\n",
      "After final_block shape: torch.Size([1, 2048, 4, 6, 4])\n",
      "After pooling shape: torch.Size([1, 2048, 1, 1, 1])\n",
      "After global average pooling shape: torch.Size([1, 2048, 1, 1, 1])\n",
      "Input shape: torch.Size([1, 3, 16, 320, 240])\n",
      "After backbone shape: torch.Size([1, 192, 16, 10, 8])\n",
      "After final_block shape: torch.Size([1, 2048, 4, 6, 4])\n",
      "After pooling shape: torch.Size([1, 2048, 1, 1, 1])\n",
      "After global average pooling shape: torch.Size([1, 2048, 1, 1, 1])\n",
      "Input shape: torch.Size([1, 3, 16, 320, 240])\n"
     ]
    },
    {
     "name": "stderr",
     "output_type": "stream",
     "text": [
      "Extracting Features:  99%|█████████▉| 168/169 [00:43<00:00,  4.03it/s]"
     ]
    },
    {
     "name": "stdout",
     "output_type": "stream",
     "text": [
      "After backbone shape: torch.Size([1, 192, 16, 10, 8])\n",
      "After final_block shape: torch.Size([1, 2048, 4, 6, 4])\n",
      "After pooling shape: torch.Size([1, 2048, 1, 1, 1])\n",
      "After global average pooling shape: torch.Size([1, 2048, 1, 1, 1])\n",
      "Input shape: torch.Size([1, 3, 16, 320, 240])\n",
      "After backbone shape: torch.Size([1, 192, 16, 10, 8])\n",
      "After final_block shape: torch.Size([1, 2048, 4, 6, 4])\n",
      "After pooling shape: torch.Size([1, 2048, 1, 1, 1])\n",
      "After global average pooling shape: torch.Size([1, 2048, 1, 1, 1])\n",
      "batch_feature[0]:torch.Size([2048, 1, 1, 1])\n",
      "Batch shape: torch.Size([3, 3, 16, 320, 240])\n",
      "Input shape: torch.Size([1, 3, 16, 320, 240])\n",
      "After backbone shape: torch.Size([1, 192, 16, 10, 8])\n",
      "After final_block shape: torch.Size([1, 2048, 4, 6, 4])\n",
      "After pooling shape: torch.Size([1, 2048, 1, 1, 1])\n",
      "After global average pooling shape: torch.Size([1, 2048, 1, 1, 1])\n",
      "Input shape: torch.Size([1, 3, 16, 320, 240])\n",
      "After backbone shape: torch.Size([1, 192, 16, 10, 8])\n",
      "After final_block shape: torch.Size([1, 2048, 4, 6, 4])\n",
      "After pooling shape: torch.Size([1, 2048, 1, 1, 1])\n",
      "After global average pooling shape: torch.Size([1, 2048, 1, 1, 1])\n"
     ]
    },
    {
     "name": "stderr",
     "output_type": "stream",
     "text": [
      "Extracting Features: 100%|██████████| 169/169 [00:43<00:00,  3.91it/s]"
     ]
    },
    {
     "name": "stdout",
     "output_type": "stream",
     "text": [
      "Input shape: torch.Size([1, 3, 16, 320, 240])\n",
      "After backbone shape: torch.Size([1, 192, 16, 10, 8])\n",
      "After final_block shape: torch.Size([1, 2048, 4, 6, 4])\n",
      "After pooling shape: torch.Size([1, 2048, 1, 1, 1])\n",
      "After global average pooling shape: torch.Size([1, 2048, 1, 1, 1])\n",
      "batch_feature[0]:torch.Size([2048, 1, 1, 1])\n",
      "Combined Features Shape: torch.Size([675, 2048, 1, 1, 1])\n"
     ]
    },
    {
     "name": "stderr",
     "output_type": "stream",
     "text": [
      "\n"
     ]
    },
    {
     "name": "stdout",
     "output_type": "stream",
     "text": [
      "Processed video: Normal_Videos_924_x264, Label: 0\n",
      "File: debug_processed_features\\Normal_Videos_924_x264_features.pt\n",
      "Features shape: torch.Size([675, 2048, 1, 1, 1])\n",
      "Features type: torch.float16\n",
      "Label: 0\n"
     ]
    },
    {
     "name": "stderr",
     "output_type": "stream",
     "text": [
      "C:\\Users\\vikra\\AppData\\Local\\Temp\\ipykernel_18648\\833238633.py:100: FutureWarning: You are using `torch.load` with `weights_only=False` (the current default value), which uses the default pickle module implicitly. It is possible to construct malicious pickle data which will execute arbitrary code during unpickling (See https://github.com/pytorch/pytorch/blob/main/SECURITY.md#untrusted-models for more details). In a future release, the default value for `weights_only` will be flipped to `True`. This limits the functions that could be executed during unpickling. Arbitrary objects will no longer be allowed to be loaded via this mode unless they are explicitly allowlisted by the user via `torch.serialization.add_safe_globals`. We recommend you start setting `weights_only=True` for any use case where you don't have full control of the loaded file. Please open an issue on GitHub for any issues related to this experimental feature.\n",
      "  data = torch.load(file_path)\n"
     ]
    }
   ],
   "source": [
    "import torch\n",
    "import os\n",
    "import pandas as pd\n",
    "from tqdm import tqdm\n",
    "from torch.amp import autocast  # For mixed-precision acceleration\n",
    "\n",
    "# Define paths and directories\n",
    "video_path = r\"E:\\MIL\\Dataset\\Normal-Videos-Part-1\\Normal_Videos_924_x264.mp4\"  # Specific video to process\n",
    "output_dir = 'debug_processed_features'  # Output directory for processed features\n",
    "os.makedirs(output_dir, exist_ok=True)  # Create the output directory if it doesn't exist\n",
    "\n",
    "# Set the device (GPU/CPU)\n",
    "device = torch.device('cuda' if torch.cuda.is_available() else 'cpu')\n",
    "\n",
    "# Define batch size for segment processing\n",
    "batch_size = 4  # Start small to avoid OOM errors\n",
    "\n",
    "# Debugging flag\n",
    "debug = True\n",
    "\n",
    "# Processing the specific video\n",
    "try:\n",
    "      # Assign label manually since we are processing a single video\n",
    "\n",
    "    # Ensure video file exists\n",
    "    if not os.path.exists(video_path):\n",
    "        raise FileNotFoundError(f\"Video file not found: {video_path}\")\n",
    "\n",
    "    # Step 1: Extract segments from the video\n",
    "    segments = extract_segments_from_video(video_path)  # List of segments\n",
    "    print(f\"Extracted {len(segments)} segments from video {video_path}\") if debug else None\n",
    "\n",
    "    # Step 2: Process segments to ensure uniform shape\n",
    "    processed_segments = []\n",
    "    for segment in tqdm(segments, desc=\"Processing Segments\"):\n",
    "        print(f\"Segment shape before processing: {segment.shape}\") if debug else None\n",
    "        if segment.size(1) < 16:  # If fewer than 16 frames\n",
    "            pad_size = 16 - segment.size(1)\n",
    "            padding = torch.zeros((segment.size(0), pad_size, segment.size(2), segment.size(3)))\n",
    "            segment = torch.cat([segment, padding], dim=1)\n",
    "        elif segment.size(1) > 16:  # If more than 16 frames\n",
    "            segment = segment[:, :16, :, :]\n",
    "        print(f\"Segment shape after processing: {segment.shape}\") if debug else None\n",
    "        processed_segments.append(segment)\n",
    "    segments = processed_segments\n",
    "\n",
    "    # Step 3: Divide into batches\n",
    "    batches = [segments[i:i + batch_size] for i in range(0, len(segments), batch_size)]\n",
    "\n",
    "    # Step 4: Extract features for each batch\n",
    "    features = []\n",
    "    for batch in tqdm(batches, desc=\"Extracting Features\"):\n",
    "        batch = torch.stack(batch).to(device)  # Convert batch to tensor\n",
    "        print(f\"Batch shape: {batch.shape}\") if debug else None\n",
    "\n",
    "        with autocast(\"cuda\"):\n",
    "            batch_features = extract_features(batch, device)  # Extract features\n",
    "            print(f'batch_feature[0]:{batch_features[0].shape}')\n",
    "\n",
    "        if isinstance(batch_features, list):\n",
    "            batch_features = torch.stack(batch_features)  # Ensure tensor type\n",
    "        features.append(batch_features.cpu())\n",
    "\n",
    "    # Combine features from all batches\n",
    "    features = torch.cat(features, dim=0)\n",
    "    print(f\"Combined Features Shape: {features.shape}\") if debug else None\n",
    "\n",
    "    # Step 5: Save features and labels\n",
    "    video_name = os.path.splitext(os.path.basename(video_path))[0]\n",
    "    torch.save({\n",
    "        \"features\": features,  # Tensor containing extracted features\n",
    "        \"label\": label  # Label associated with the video\n",
    "    }, os.path.join(output_dir, f\"{video_name}_features.pt\"))\n",
    "\n",
    "    # Clear GPU memory\n",
    "    torch.cuda.empty_cache()\n",
    "    print(f\"Processed video: {video_name}, Label: {label}\")\n",
    "\n",
    "except RuntimeError as e:\n",
    "    if \"out of memory\" in str(e):\n",
    "        print(f\"CUDA out of memory error while processing {video_path}. Reducing batch size...\")\n",
    "        torch.cuda.empty_cache()\n",
    "    else:\n",
    "        print(f\"RuntimeError: {e}\")\n",
    "\n",
    "except Exception as e:\n",
    "    print(f\"Error processing video {video_path}: {e}\")\n",
    "    torch.cuda.empty_cache()\n",
    "\n",
    "# Debugging function\n",
    "def debug_feature_and_label(file_path):\n",
    "    \"\"\"\n",
    "    Debugging function to inspect the features and label in the saved .pt file.\n",
    "\n",
    "    Parameters:\n",
    "    - file_path (str): Path to the .pt file to inspect.\n",
    "    \"\"\"\n",
    "    try:\n",
    "        # Load the .pt file\n",
    "        data = torch.load(file_path)\n",
    "\n",
    "        # Extract features and label\n",
    "        features = data.get(\"features\", None)\n",
    "        label = data.get(\"label\", None)\n",
    "\n",
    "        # Debug information\n",
    "        print(f\"File: {file_path}\")\n",
    "        if features is not None:\n",
    "            print(f\"Features shape: {features.shape}\")\n",
    "            print(f\"Features type: {features.dtype}\")\n",
    "        else:\n",
    "            print(\"No features found in the .pt file.\")\n",
    "\n",
    "        if label is not None:\n",
    "            print(f\"Label: {label}\")\n",
    "        else:\n",
    "            print(\"No label found in the .pt file.\")\n",
    "\n",
    "    except Exception as e:\n",
    "        print(f\"Error reading .pt file {file_path}: {e}\")\n",
    "\n",
    "# Example debug call for the processed .pt file\n",
    "debug_feature_and_label(os.path.join(output_dir, \"Normal_Videos_924_x264_features.pt\"))\n"
   ]
  },
  {
   "cell_type": "code",
   "execution_count": null,
   "metadata": {},
   "outputs": [],
   "source": []
  },
  {
   "cell_type": "code",
   "execution_count": null,
   "metadata": {},
   "outputs": [],
   "source": [
    "import torch\n",
    "import os\n",
    "import pandas as pd\n",
    "from tqdm import tqdm\n",
    "from torch.amp import autocast  # For mixed-precision acceleration\n",
    "\n",
    "# Define paths and directories\n",
    "video_path = r\"E:\\MIL\\Dataset\\Normal-Videos-Part-1\\Normal_Videos_924_x264.mp4\"  # Specific video to process\n",
    "output_dir = 'debug_processed_features'  # Output directory for processed features\n",
    "os.makedirs(output_dir, exist_ok=True)  # Create the output directory if it doesn't exist\n",
    "\n",
    "# Set the device (GPU/CPU)\n",
    "device = torch.device('cuda' if torch.cuda.is_available() else 'cpu')\n",
    "\n",
    "# Define batch size for segment processing\n",
    "batch_size = 4  # Start small to avoid OOM errors\n",
    "\n",
    "# Debugging flag\n",
    "debug = True\n",
    "\n",
    "# Processing the specific video\n",
    "try:\n",
    "      # Assign label manually since we are processing a single video\n",
    "\n",
    "    # Ensure video file exists\n",
    "    if not os.path.exists(video_path):\n",
    "        raise FileNotFoundError(f\"Video file not found: {video_path}\")\n",
    "\n",
    "    # Step 1: Extract segments from the video\n",
    "    segments = extract_segments_from_video(video_path)  # List of segments\n",
    "    print(f\"Extracted {len(segments)} segments from video {video_path}\") if debug else None\n",
    "\n",
    "    # Step 2: Process segments to ensure uniform shape\n",
    "    processed_segments = []\n",
    "    for segment in tqdm(segments, desc=\"Processing Segments\"):\n",
    "        print(f\"Segment shape before processing: {segment.shape}\") if debug else None\n",
    "        if segment.size(1) < 16:  # If fewer than 16 frames\n",
    "            pad_size = 16 - segment.size(1)\n",
    "            padding = torch.zeros((segment.size(0), pad_size, segment.size(2), segment.size(3)))\n",
    "            segment = torch.cat([segment, padding], dim=1)\n",
    "        elif segment.size(1) > 16:  # If more than 16 frames\n",
    "            segment = segment[:, :16, :, :]\n",
    "        print(f\"Segment shape after processing: {segment.shape}\") if debug else None\n",
    "        processed_segments.append(segment)\n",
    "    segments = processed_segments\n",
    "\n",
    "    # Step 3: Divide into batches\n",
    "    batches = [segments[i:i + batch_size] for i in range(0, len(segments), batch_size)]\n",
    "\n",
    "    # Step 4: Extract features for each batch\n",
    "    features = []\n",
    "    for batch in tqdm(batches, desc=\"Extracting Features\"):\n",
    "        batch = torch.stack(batch).to(device)  # Convert batch to tensor\n",
    "        print(f\"Batch shape: {batch.shape}\") if debug else None\n",
    "\n",
    "        with autocast(\"cuda\"):\n",
    "            batch_features = extract_features(batch, device)  # Extract features\n",
    "            print(f'batch_feature[0]:{batch_features[0].shape}')\n",
    "\n",
    "        if isinstance(batch_features, list):\n",
    "            batch_features = torch.stack(batch_features)  # Ensure tensor type\n",
    "        features.append(batch_features.cpu())\n",
    "\n",
    "    # Combine features from all batches\n",
    "    features = torch.cat(features, dim=0)\n",
    "    print(f\"Combined Features Shape: {features.shape}\") if debug else None\n",
    "\n",
    "    # Step 5: Save features and labels\n",
    "    video_name = os.path.splitext(os.path.basename(video_path))[0]\n",
    "    torch.save({\n",
    "        \"features\": features,  # Tensor containing extracted features\n",
    "        \"label\": label  # Label associated with the video\n",
    "    }, os.path.join(output_dir, f\"{video_name}_features.pt\"))\n",
    "\n",
    "    # Clear GPU memory\n",
    "    torch.cuda.empty_cache()\n",
    "    print(f\"Processed video: {video_name}, Label: {label}\")\n",
    "\n",
    "except RuntimeError as e:\n",
    "    if \"out of memory\" in str(e):\n",
    "        print(f\"CUDA out of memory error while processing {video_path}. Reducing batch size...\")\n",
    "        torch.cuda.empty_cache()\n",
    "    else:\n",
    "        print(f\"RuntimeError: {e}\")\n",
    "\n",
    "except Exception as e:\n",
    "    print(f\"Error processing video {video_path}: {e}\")\n",
    "    torch.cuda.empty_cache()\n",
    "\n",
    "# Debugging function\n",
    "def debug_feature_and_label(file_path):\n",
    "    \"\"\"\n",
    "    Debugging function to inspect the features and label in the saved .pt file.\n",
    "\n",
    "    Parameters:\n",
    "    - file_path (str): Path to the .pt file to inspect.\n",
    "    \"\"\"\n",
    "    try:\n",
    "        # Load the .pt file\n",
    "        data = torch.load(file_path)\n",
    "\n",
    "        # Extract features and label\n",
    "        features = data.get(\"features\", None)\n",
    "        label = data.get(\"label\", None)\n",
    "\n",
    "        # Debug information\n",
    "        print(f\"File: {file_path}\")\n",
    "        if features is not None:\n",
    "            print(f\"Features shape: {features.shape}\")\n",
    "            print(f\"Features type: {features.dtype}\")\n",
    "        else:\n",
    "            print(\"No features found in the .pt file.\")\n",
    "\n",
    "        if label is not None:\n",
    "            print(f\"Label: {label}\")\n",
    "        else:\n",
    "            print(\"No label found in the .pt file.\")\n",
    "\n",
    "    except Exception as e:\n",
    "        print(f\"Error reading .pt file {file_path}: {e}\")\n",
    "\n",
    "# Example debug call for the processed .pt file\n",
    "debug_feature_and_label(os.path.join(output_dir, \"Normal_Videos_924_x264_features.pt\"))\n"
   ]
  },
  {
   "cell_type": "code",
   "execution_count": null,
   "metadata": {},
   "outputs": [],
   "source": [
    "import torch\n",
    "import torch.nn as nn\n",
    "import torch.nn.init as torch_init\n",
    "\n",
    "# Function to initialize weights\n",
    "def weight_init(m):\n",
    "    \"\"\"\n",
    "    Xavier Initialization\n",
    "    -------------------------------------------------------------------\n",
    "    Xavier initialization is a technique for initializing the weights of neural networks\n",
    "    in a way that facilitates efficient training. It is named after Xavier Glorot, \n",
    "    who introduced this method in a 2010 paper co-authored with Yoshua Bengio. In their\n",
    "    influential research paper titled \"Understanding the Challenges of Training Deep Feedforward \n",
    "    Neural Networks,\" the authors conducted experiments to investigate a widely accepted rule of thumb in the \n",
    "    field of deep learning. This rule involves initializing the weights of neural networks by selecting \n",
    "    random values from a uniform distribution that ranges between -1 and 1. After this random initialization, \n",
    "    the weights are then scaled down by a factor of 1 divided by the square root of the number of input units (denoted as 'n').\n",
    "    --------------------------------------------------------------------\n",
    "    TL DR\n",
    "    Initialize weights for Conv and Linear layers using Xavier initialization.\n",
    "    \"\"\"\n",
    "    classname = m.__class__.__name__\n",
    "    if classname.find('Conv') != -1 or classname.find('Linear') != -1:\n",
    "        torch_init.xavier_uniform_(m.weight)\n",
    "        if m.bias is not None:\n",
    "            m.bias.data.fill_(0)\n",
    "\n",
    "class SequentialMILModel(nn.Module):\n",
    "    def __init__(self, input_dim=2048, hidden_dim=512):\n",
    "        \"\"\"\n",
    "        Initializes a Sequential MIL Model for anomaly detection.\n",
    "\n",
    "        Parameters:\n",
    "        - input_dim (int): Input feature dimension (default: 2048).\n",
    "        - hidden_dim (int): Hidden layer dimension (default: 512).\n",
    "        \"\"\"\n",
    "        super(SequentialMILModel, self).__init__()\n",
    "        print(\"SequentialMILModel Initialized\")  # Debug print\n",
    "        self.fc1 = nn.Linear(input_dim, hidden_dim)  # First fully connected layer\n",
    "        self.fc2 = nn.Linear(hidden_dim, 32)         # Second fully connected layer\n",
    "        self.fc3 = nn.Linear(32, 1)                 # Final output layer\n",
    "        self.dropout = nn.Dropout(0.6)              # Dropout with probability 0.6\n",
    "        self.relu = nn.ReLU()                       # ReLU activation\n",
    "        self.sigmoid = nn.Sigmoid()                 # Sigmoid activation for output\n",
    "\n",
    "        # Apply the weight initialization\n",
    "        self.apply(weight_init)\n",
    "\n",
    "    def forward(self, x):\n",
    "        \"\"\"\n",
    "        Forward pass for the model.\n",
    "\n",
    "        Parameters:\n",
    "        - x (torch.Tensor): Input features of shape [num_segments, input_dim].\n",
    "\n",
    "        Returns:\n",
    "        - torch.Tensor: Raw logits for each segment. Shape: [num_segments, 1].\n",
    "        \"\"\"\n",
    "        print(f\"Input shape: {x.shape}\")  # Debugging statement\n",
    "        # Pass input through layers with activation and dropout\n",
    "        x = self.relu(self.fc1(x))\n",
    "        x = self.dropout(x)\n",
    "        hidden = x  # Optional: retain hidden layer output for debugging or analysis\n",
    "        x = self.relu(self.fc2(x))\n",
    "        x = self.dropout(x)\n",
    "        x = self.sigmoid(self.fc3(x))\n",
    "        x = self.dropout(x)\n",
    "        return x.squeeze(-1)  # Squeeze the last dimension to return [num_segments]"
   ]
  },
  {
   "cell_type": "code",
   "execution_count": 1,
   "metadata": {},
   "outputs": [
    {
     "name": "stderr",
     "output_type": "stream",
     "text": [
      "C:\\Users\\vikra\\AppData\\Local\\Temp\\ipykernel_32540\\2342307387.py:17: FutureWarning: You are using `torch.load` with `weights_only=False` (the current default value), which uses the default pickle module implicitly. It is possible to construct malicious pickle data which will execute arbitrary code during unpickling (See https://github.com/pytorch/pytorch/blob/main/SECURITY.md#untrusted-models for more details). In a future release, the default value for `weights_only` will be flipped to `True`. This limits the functions that could be executed during unpickling. Arbitrary objects will no longer be allowed to be loaded via this mode unless they are explicitly allowlisted by the user via `torch.serialization.add_safe_globals`. We recommend you start setting `weights_only=True` for any use case where you don't have full control of the loaded file. Please open an issue on GitHub for any issues related to this experimental feature.\n",
      "  data1 = torch.load(file1)\n"
     ]
    },
    {
     "name": "stdout",
     "output_type": "stream",
     "text": [
      "Cosine Similarity: 0.8594\n",
      "Euclidean Distance: 3.8633\n"
     ]
    },
    {
     "name": "stderr",
     "output_type": "stream",
     "text": [
      "C:\\Users\\vikra\\AppData\\Local\\Temp\\ipykernel_32540\\2342307387.py:18: FutureWarning: You are using `torch.load` with `weights_only=False` (the current default value), which uses the default pickle module implicitly. It is possible to construct malicious pickle data which will execute arbitrary code during unpickling (See https://github.com/pytorch/pytorch/blob/main/SECURITY.md#untrusted-models for more details). In a future release, the default value for `weights_only` will be flipped to `True`. This limits the functions that could be executed during unpickling. Arbitrary objects will no longer be allowed to be loaded via this mode unless they are explicitly allowlisted by the user via `torch.serialization.add_safe_globals`. We recommend you start setting `weights_only=True` for any use case where you don't have full control of the loaded file. Please open an issue on GitHub for any issues related to this experimental feature.\n",
      "  data2 = torch.load(file2)\n"
     ]
    }
   ],
   "source": [
    "import torch\n",
    "import torch.nn.functional as F\n",
    "import os\n",
    "\n",
    "def compare_features(file1, file2):\n",
    "    \"\"\"\n",
    "    Compares the similarity between two feature files.\n",
    "\n",
    "    Args:\n",
    "        file1 (str): Path to the first feature file.\n",
    "        file2 (str): Path to the second feature file.\n",
    "\n",
    "    Returns:\n",
    "        dict: Contains cosine similarity and Euclidean distance.\n",
    "    \"\"\"\n",
    "    # Load features from the files\n",
    "    data1 = torch.load(file1)\n",
    "    data2 = torch.load(file2)\n",
    "\n",
    "    features1 = data1[\"features\"]\n",
    "    features2 = data2[\"features\"]\n",
    "\n",
    "    # Reshape features to 2D (if necessary) and normalize\n",
    "    features1 = features1.view(features1.size(0), -1)  # [segments, feature_dim]\n",
    "    features2 = features2.view(features2.size(0), -1)\n",
    "\n",
    "    # Compute similarity metrics\n",
    "    cosine_similarity = F.cosine_similarity(features1.mean(dim=0), features2.mean(dim=0), dim=0).item()\n",
    "    euclidean_distance = torch.norm(features1.mean(dim=0) - features2.mean(dim=0)).item()\n",
    "\n",
    "    return {\n",
    "        \"cosine_similarity\": cosine_similarity,\n",
    "        \"euclidean_distance\": euclidean_distance,\n",
    "    }\n",
    "\n",
    "# Example usage\n",
    "file1 = r\"E:\\MIL\\Code\\normal_features\\Normal_Videos165_x264_features.pt\"\n",
    "file2 = r\"E:\\MIL\\Code\\normal_features\\Normal_Videos_059_x264_features.pt\"\n",
    "results = compare_features(file1, file2)\n",
    "\n",
    "print(f\"Cosine Similarity: {results['cosine_similarity']:.4f}\")\n",
    "print(f\"Euclidean Distance: {results['euclidean_distance']:.4f}\")\n"
   ]
  },
  {
   "cell_type": "code",
   "execution_count": 3,
   "metadata": {},
   "outputs": [
    {
     "name": "stderr",
     "output_type": "stream",
     "text": [
      "C:\\Users\\vikra\\AppData\\Local\\Temp\\ipykernel_32540\\1000071045.py:20: FutureWarning: You are using `torch.load` with `weights_only=False` (the current default value), which uses the default pickle module implicitly. It is possible to construct malicious pickle data which will execute arbitrary code during unpickling (See https://github.com/pytorch/pytorch/blob/main/SECURITY.md#untrusted-models for more details). In a future release, the default value for `weights_only` will be flipped to `True`. This limits the functions that could be executed during unpickling. Arbitrary objects will no longer be allowed to be loaded via this mode unless they are explicitly allowlisted by the user via `torch.serialization.add_safe_globals`. We recommend you start setting `weights_only=True` for any use case where you don't have full control of the loaded file. Please open an issue on GitHub for any issues related to this experimental feature.\n",
      "  data = torch.load(file_path)\n"
     ]
    },
    {
     "ename": "RuntimeError",
     "evalue": "The size of tensor a (182272) must match the size of tensor b (30720) at non-singleton dimension 0",
     "output_type": "error",
     "traceback": [
      "\u001b[1;31m---------------------------------------------------------------------------\u001b[0m",
      "\u001b[1;31mRuntimeError\u001b[0m                              Traceback (most recent call last)",
      "Cell \u001b[1;32mIn[3], line 85\u001b[0m\n\u001b[0;32m     82\u001b[0m features \u001b[38;5;241m=\u001b[39m load_features(normal_dir)\n\u001b[0;32m     84\u001b[0m \u001b[38;5;66;03m# Step 2: Calculate pairwise similarity\u001b[39;00m\n\u001b[1;32m---> 85\u001b[0m similarity_results \u001b[38;5;241m=\u001b[39m \u001b[43mcalculate_pairwise_similarity\u001b[49m\u001b[43m(\u001b[49m\u001b[43mfeatures\u001b[49m\u001b[43m)\u001b[49m\n\u001b[0;32m     87\u001b[0m \u001b[38;5;66;03m# Step 3: Analyze similarity\u001b[39;00m\n\u001b[0;32m     88\u001b[0m analysis \u001b[38;5;241m=\u001b[39m analyze_similarity(similarity_results)\n",
      "Cell \u001b[1;32mIn[3], line 42\u001b[0m, in \u001b[0;36mcalculate_pairwise_similarity\u001b[1;34m(features)\u001b[0m\n\u001b[0;32m     39\u001b[0m feat2 \u001b[38;5;241m=\u001b[39m features[file2]\u001b[38;5;241m.\u001b[39mview(\u001b[38;5;241m-\u001b[39m\u001b[38;5;241m1\u001b[39m)\u001b[38;5;241m.\u001b[39mfloat()\n\u001b[0;32m     41\u001b[0m \u001b[38;5;66;03m# Cosine Similarity\u001b[39;00m\n\u001b[1;32m---> 42\u001b[0m cosine_similarity \u001b[38;5;241m=\u001b[39m \u001b[43mF\u001b[49m\u001b[38;5;241;43m.\u001b[39;49m\u001b[43mcosine_similarity\u001b[49m\u001b[43m(\u001b[49m\u001b[43mfeat1\u001b[49m\u001b[43m,\u001b[49m\u001b[43m \u001b[49m\u001b[43mfeat2\u001b[49m\u001b[43m,\u001b[49m\u001b[43m \u001b[49m\u001b[43mdim\u001b[49m\u001b[38;5;241;43m=\u001b[39;49m\u001b[38;5;241;43m0\u001b[39;49m\u001b[43m)\u001b[49m\u001b[38;5;241m.\u001b[39mitem()\n\u001b[0;32m     44\u001b[0m \u001b[38;5;66;03m# Euclidean Distance\u001b[39;00m\n\u001b[0;32m     45\u001b[0m euclidean_distance \u001b[38;5;241m=\u001b[39m torch\u001b[38;5;241m.\u001b[39mnorm(feat1 \u001b[38;5;241m-\u001b[39m feat2)\u001b[38;5;241m.\u001b[39mitem()\n",
      "\u001b[1;31mRuntimeError\u001b[0m: The size of tensor a (182272) must match the size of tensor b (30720) at non-singleton dimension 0"
     ]
    }
   ],
   "source": [
    "import os\n",
    "import torch\n",
    "import torch.nn.functional as F\n",
    "import itertools\n",
    "\n",
    "def load_features(directory):\n",
    "    \"\"\"\n",
    "    Load all feature files from a directory into a dictionary.\n",
    "\n",
    "    Args:\n",
    "        directory (str): Path to the directory containing feature files.\n",
    "\n",
    "    Returns:\n",
    "        dict: A dictionary mapping file names to their features.\n",
    "    \"\"\"\n",
    "    features = {}\n",
    "    for file in os.listdir(directory):\n",
    "        if file.endswith(\".pt\"):\n",
    "            file_path = os.path.join(directory, file)\n",
    "            data = torch.load(file_path)\n",
    "            features[file] = data[\"features\"]\n",
    "    return features\n",
    "\n",
    "def calculate_pairwise_similarity(features):\n",
    "    \"\"\"\n",
    "    Calculate pairwise similarity scores for all feature files.\n",
    "\n",
    "    Args:\n",
    "        features (dict): Dictionary of feature tensors.\n",
    "\n",
    "    Returns:\n",
    "        list: A list of tuples (file1, file2, cosine_similarity, euclidean_distance).\n",
    "    \"\"\"\n",
    "    results = []\n",
    "    file_pairs = itertools.combinations(features.keys(), 2)  # Generate all pairs of files\n",
    "\n",
    "    for file1, file2 in file_pairs:\n",
    "        feat1 = features[file1].view(-1).float()\n",
    "        feat2 = features[file2].view(-1).float()\n",
    "\n",
    "        # Cosine Similarity\n",
    "        cosine_similarity = F.cosine_similarity(feat1, feat2, dim=0).item()\n",
    "\n",
    "        # Euclidean Distance\n",
    "        euclidean_distance = torch.norm(feat1 - feat2).item()\n",
    "\n",
    "        results.append((file1, file2, cosine_similarity, euclidean_distance))\n",
    "\n",
    "    return results\n",
    "\n",
    "def analyze_similarity(results, cosine_threshold=0.85, distance_threshold=5):\n",
    "    \"\"\"\n",
    "    Analyze the similarity results and determine if augmentation is needed.\n",
    "\n",
    "    Args:\n",
    "        results (list): List of similarity results.\n",
    "        cosine_threshold (float): Threshold for cosine similarity.\n",
    "        distance_threshold (float): Threshold for Euclidean distance.\n",
    "\n",
    "    Returns:\n",
    "        dict: Analysis summary.\n",
    "    \"\"\"\n",
    "    similar_pairs = [r for r in results if r[2] > cosine_threshold and r[3] < distance_threshold]\n",
    "    total_pairs = len(results)\n",
    "    similarity_ratio = len(similar_pairs) / total_pairs\n",
    "\n",
    "    print(f\"Total Pairs: {total_pairs}\")\n",
    "    print(f\"Similar Pairs (Cosine > {cosine_threshold}, Distance < {distance_threshold}): {len(similar_pairs)}\")\n",
    "    print(f\"Similarity Ratio: {similarity_ratio:.4f}\")\n",
    "\n",
    "    return {\n",
    "        \"total_pairs\": total_pairs,\n",
    "        \"similar_pairs\": len(similar_pairs),\n",
    "        \"similarity_ratio\": similarity_ratio,\n",
    "        \"similar_pairs_details\": similar_pairs,\n",
    "    }\n",
    "\n",
    "# Example Usage\n",
    "normal_dir = r\"E:\\MIL\\Code\\normal_features\"\n",
    "\n",
    "# Step 1: Load features\n",
    "features = load_features(normal_dir)\n",
    "\n",
    "# Step 2: Calculate pairwise similarity\n",
    "similarity_results = calculate_pairwise_similarity(features)\n",
    "\n",
    "# Step 3: Analyze similarity\n",
    "analysis = analyze_similarity(similarity_results)\n",
    "\n",
    "# Optionally, print detailed results\n",
    "for file1, file2, cosine_sim, euclidean_dist in similarity_results[:10]:  # Limit to top 10 pairs for display\n",
    "    print(f\"{file1} vs {file2}: Cosine={cosine_sim:.4f}, Euclidean={euclidean_dist:.4f}\")\n"
   ]
  },
  {
   "cell_type": "code",
   "execution_count": 8,
   "metadata": {},
   "outputs": [
    {
     "name": "stderr",
     "output_type": "stream",
     "text": [
      "Aggregating features:   0%|          | 0/200 [00:00<?, ?it/s]C:\\Users\\vikra\\AppData\\Local\\Temp\\ipykernel_32540\\676298021.py:59: FutureWarning: You are using `torch.load` with `weights_only=False` (the current default value), which uses the default pickle module implicitly. It is possible to construct malicious pickle data which will execute arbitrary code during unpickling (See https://github.com/pytorch/pytorch/blob/main/SECURITY.md#untrusted-models for more details). In a future release, the default value for `weights_only` will be flipped to `True`. This limits the functions that could be executed during unpickling. Arbitrary objects will no longer be allowed to be loaded via this mode unless they are explicitly allowlisted by the user via `torch.serialization.add_safe_globals`. We recommend you start setting `weights_only=True` for any use case where you don't have full control of the loaded file. Please open an issue on GitHub for any issues related to this experimental feature.\n",
      "  features = torch.load(file)[\"features\"]\n",
      "Aggregating features: 100%|██████████| 200/200 [00:00<00:00, 1262.09it/s]\n",
      "Calculating similarities: 100%|██████████| 200/200 [00:01<00:00, 106.99it/s]\n"
     ]
    },
    {
     "name": "stdout",
     "output_type": "stream",
     "text": [
      "Similarity scores saved to e:\\MIL\\Code\\similarity_scores.txt\n",
      "Similarity scores and mean values saved to e:\\MIL\\Code\\similarity_scores.txt\n"
     ]
    }
   ],
   "source": [
    "import os\n",
    "import torch\n",
    "import torch.nn.functional as F\n",
    "from tqdm import tqdm\n",
    "\n",
    "def aggregate_features(feature_tensor, method=\"mean\"):\n",
    "    \"\"\"\n",
    "    Aggregates features across segments.\n",
    "\n",
    "    Args:\n",
    "        feature_tensor (torch.Tensor): Input feature tensor of shape [num_segments, feature_dim].\n",
    "        method (str): Aggregation method ('mean' or 'max').\n",
    "\n",
    "    Returns:\n",
    "        torch.Tensor: Aggregated feature tensor of shape [feature_dim].\n",
    "    \"\"\"\n",
    "    if method == \"mean\":\n",
    "        return torch.mean(feature_tensor, dim=0)  # Mean pooling\n",
    "    elif method == \"max\":\n",
    "        return torch.max(feature_tensor, dim=0).values  # Max pooling\n",
    "    else:\n",
    "        raise ValueError(\"Unsupported aggregation method. Use 'mean' or 'max'.\")\n",
    "\n",
    "def calculate_similarity(feat1, feat2):\n",
    "    \"\"\"\n",
    "    Calculate cosine similarity and Euclidean distance between two feature tensors.\n",
    "\n",
    "    Args:\n",
    "        feat1 (torch.Tensor): First feature tensor of shape [feature_dim].\n",
    "        feat2 (torch.Tensor): Second feature tensor of shape [feature_dim].\n",
    "\n",
    "    Returns:\n",
    "        tuple: Cosine similarity and Euclidean distance.\n",
    "    \"\"\"\n",
    "    # Cosine Similarity\n",
    "    cosine_similarity = F.cosine_similarity(feat1, feat2, dim=0).item()\n",
    "\n",
    "    # Euclidean Distance\n",
    "    euclidean_distance = torch.norm(feat1 - feat2).item()\n",
    "\n",
    "    return cosine_similarity, euclidean_distance\n",
    "\n",
    "def compute_similarity_scores(directory, method=\"mean\"):\n",
    "    \"\"\"\n",
    "    Compute similarity scores for all pairs of feature files in a directory.\n",
    "\n",
    "    Args:\n",
    "        directory (str): Path to the directory containing feature files.\n",
    "        method (str): Aggregation method ('mean' or 'max').\n",
    "\n",
    "    Returns:\n",
    "        list: A list of similarity scores (cosine similarity and Euclidean distance).\n",
    "    \"\"\"\n",
    "    feature_files = [os.path.join(directory, f) for f in os.listdir(directory) if f.endswith(\".pt\")]\n",
    "    aggregated_features = {}\n",
    "\n",
    "    # Aggregate features for all files\n",
    "    for file in tqdm(feature_files, desc=\"Aggregating features\"):\n",
    "        features = torch.load(file)[\"features\"]\n",
    "        aggregated_features[file] = aggregate_features(features, method=method)\n",
    "\n",
    "    # Compute similarity scores\n",
    "    similarity_scores = []\n",
    "    for i, file1 in enumerate(tqdm(feature_files, desc=\"Calculating similarities\")):\n",
    "        for file2 in feature_files[i+1:]:\n",
    "            feat1 = aggregated_features[file1]\n",
    "            feat2 = aggregated_features[file2]\n",
    "            cos_sim, euc_dist = calculate_similarity(feat1, feat2)\n",
    "            similarity_scores.append({\n",
    "                \"file1\": file1,\n",
    "                \"file2\": file2,\n",
    "                \"cosine_similarity\": cos_sim,\n",
    "                \"euclidean_distance\": euc_dist\n",
    "            })\n",
    "\n",
    "    return similarity_scores\n",
    "\n",
    "# Directory containing normal features\n",
    "normal_feature_dir = r\"E:\\MIL\\Code\\normal_features\"\n",
    "\n",
    "# Compute similarity scores\n",
    "similarity_scores = compute_similarity_scores(normal_feature_dir, method=\"mean\")\n",
    "\n",
    "# calculate mean score\n",
    "def calculate_mean_scores(similarity_scores):\n",
    "    \"\"\"\n",
    "    Calculate the mean cosine similarity and Euclidean distance from similarity scores.\n",
    "\n",
    "    Args:\n",
    "        similarity_scores (list): List of dictionaries containing similarity metrics.\n",
    "\n",
    "    Returns:\n",
    "        tuple: Mean cosine similarity and mean Euclidean distance.\n",
    "    \"\"\"\n",
    "    total_cosine_similarity = sum(score[\"cosine_similarity\"] for score in similarity_scores)\n",
    "    total_euclidean_distance = sum(score[\"euclidean_distance\"] for score in similarity_scores)\n",
    "    num_scores = len(similarity_scores)\n",
    "\n",
    "    mean_cosine_similarity = total_cosine_similarity / num_scores\n",
    "    mean_euclidean_distance = total_euclidean_distance / num_scores\n",
    "\n",
    "    return mean_cosine_similarity, mean_euclidean_distance\n",
    "\n",
    "# Save results to a file\n",
    "mean_cosine_similarity, mean_euclidean_distance = calculate_mean_scores(similarity_scores)\n",
    "\n",
    "# Save results to a file\n",
    "# Ensure output directory is valid and writable\n",
    "output_dir = os.getcwd()  # Use the current working directory\n",
    "output_file = os.path.join(output_dir, \"similarity_scores.txt\")\n",
    "\n",
    "try:\n",
    "    with open(output_file, \"w\") as f:\n",
    "        for score in similarity_scores:\n",
    "            f.write(f\"Cosine Similarity: {score['cosine_similarity']:.4f}, Euclidean Distance: {score['euclidean_distance']:.4f}\\n\")\n",
    "    print(f\"Similarity scores saved to {output_file}\")\n",
    "except OSError as e:\n",
    "    print(f\"Error saving similarity scores: {e}\")\n",
    "\n",
    "# Append mean scores to the file\n",
    "with open(output_file, \"a\") as f:\n",
    "    f.write(f\"\\nMean Cosine Similarity: {mean_cosine_similarity:.4f}\\n\")\n",
    "    f.write(f\"Mean Euclidean Distance: {mean_euclidean_distance:.4f}\\n\")\n",
    "\n",
    "print(f\"Similarity scores and mean values saved to {output_file}\")\n"
   ]
  },
  {
   "cell_type": "code",
   "execution_count": 9,
   "metadata": {},
   "outputs": [
    {
     "data": {
      "text/plain": [
       "0.7461692863732726"
      ]
     },
     "execution_count": 9,
     "metadata": {},
     "output_type": "execute_result"
    }
   ],
   "source": [
    "mean_cosine_similarity"
   ]
  },
  {
   "cell_type": "code",
   "execution_count": 10,
   "metadata": {},
   "outputs": [
    {
     "data": {
      "text/plain": [
       "5.7382878749214825"
      ]
     },
     "execution_count": 10,
     "metadata": {},
     "output_type": "execute_result"
    }
   ],
   "source": [
    "mean_euclidean_distance"
   ]
  },
  {
   "cell_type": "code",
   "execution_count": 12,
   "metadata": {},
   "outputs": [
    {
     "name": "stdout",
     "output_type": "stream",
     "text": [
      "Note: you may need to restart the kernel to use updated packages.\n",
      "Defaulting to user installation because normal site-packages is not writeable\n"
     ]
    },
    {
     "name": "stderr",
     "output_type": "stream",
     "text": [
      "ERROR: Could not find a version that satisfies the requirement maptplotlib (from versions: none)\n",
      "ERROR: No matching distribution found for maptplotlib\n"
     ]
    }
   ],
   "source": [
    "pip install maptplotlib"
   ]
  },
  {
   "cell_type": "code",
   "execution_count": 14,
   "metadata": {},
   "outputs": [
    {
     "data": {
      "image/png": "[encoded data removed]",
      "text/plain": [
       "<Figure size 1000x500 with 1 Axes>"
      ]
     },
     "metadata": {},
     "output_type": "display_data"
    },
    {
     "data": {
      "image/png": "[encoded data removed]",
      "text/plain": [
       "<Figure size 1000x500 with 1 Axes>"
      ]
     },
     "metadata": {},
     "output_type": "display_data"
    }
   ],
   "source": [
    "import matplotlib.pyplot as plt\n",
    "\n",
    "def plot_distributions(similarity_scores):\n",
    "    cosine_similarities = [score['cosine_similarity'] for score in similarity_scores]\n",
    "    euclidean_distances = [score['euclidean_distance'] for score in similarity_scores]\n",
    "\n",
    "    # Plot Cosine Similarity Distribution\n",
    "    plt.figure(figsize=(10, 5))\n",
    "    plt.hist(cosine_similarities, bins=30, color='skyblue', edgecolor='black')\n",
    "    plt.title(\"Cosine Similarity Distribution\")\n",
    "    plt.xlabel(\"Cosine Similarity\")\n",
    "    plt.ylabel(\"Frequency\")\n",
    "    plt.grid(True)\n",
    "    plt.show()\n",
    "\n",
    "    # Plot Euclidean Distance Distribution\n",
    "    plt.figure(figsize=(10, 5))\n",
    "    plt.hist(euclidean_distances, bins=30, color='salmon', edgecolor='black')\n",
    "    plt.title(\"Euclidean Distance Distribution\")\n",
    "    plt.xlabel(\"Euclidean Distance\")\n",
    "    plt.ylabel(\"Frequency\")\n",
    "    plt.grid(True)\n",
    "    plt.show()\n",
    "\n",
    "# Visualize the distributions\n",
    "plot_distributions(similarity_scores)\n"
   ]
  },
  {
   "cell_type": "code",
   "execution_count": 15,
   "metadata": {},
   "outputs": [
    {
     "name": "stdout",
     "output_type": "stream",
     "text": [
      "Number of feature pairs selected for augmentation: 7506\n"
     ]
    }
   ],
   "source": [
    "def select_for_augmentation(similarity_scores, cos_threshold=0.7, euc_threshold=6.0):\n",
    "    \"\"\"\n",
    "    Select features for augmentation based on thresholds.\n",
    "    \"\"\"\n",
    "    to_augment = []\n",
    "    for score in similarity_scores:\n",
    "        if score['cosine_similarity'] < cos_threshold or score['euclidean_distance'] > euc_threshold:\n",
    "            to_augment.append((score['file1'], score['file2']))\n",
    "    return to_augment\n",
    "\n",
    "to_augment_pairs = select_for_augmentation(similarity_scores)\n",
    "print(f\"Number of feature pairs selected for augmentation: {len(to_augment_pairs)}\")\n"
   ]
  },
  {
   "cell_type": "code",
   "execution_count": 19,
   "metadata": {},
   "outputs": [
    {
     "name": "stderr",
     "output_type": "stream",
     "text": [
      "C:\\Users\\vikra\\AppData\\Local\\Temp\\ipykernel_32540\\352608877.py:21: FutureWarning: You are using `torch.load` with `weights_only=False` (the current default value), which uses the default pickle module implicitly. It is possible to construct malicious pickle data which will execute arbitrary code during unpickling (See https://github.com/pytorch/pytorch/blob/main/SECURITY.md#untrusted-models for more details). In a future release, the default value for `weights_only` will be flipped to `True`. This limits the functions that could be executed during unpickling. Arbitrary objects will no longer be allowed to be loaded via this mode unless they are explicitly allowlisted by the user via `torch.serialization.add_safe_globals`. We recommend you start setting `weights_only=True` for any use case where you don't have full control of the loaded file. Please open an issue on GitHub for any issues related to this experimental feature.\n",
      "  data = torch.load(file)\n"
     ]
    },
    {
     "name": "stdout",
     "output_type": "stream",
     "text": [
      "Augmented features saved to E:\\MIL\\CODE\\augmented_features\n"
     ]
    }
   ],
   "source": [
    "import os\n",
    "import torch\n",
    "\n",
    "def augment_features(files, output_dir, noise_level=0.01):\n",
    "    \"\"\"\n",
    "    Augment features by adding Gaussian noise to individual feature files.\n",
    "\n",
    "    Args:\n",
    "        files (list): List of feature file paths to augment.\n",
    "        output_dir (str): Directory to save augmented features.\n",
    "        noise_level (float): Standard deviation of Gaussian noise.\n",
    "\n",
    "    Returns:\n",
    "        None\n",
    "    \"\"\"\n",
    "    os.makedirs(output_dir, exist_ok=True)\n",
    "\n",
    "    for file in files:\n",
    "        try:\n",
    "            # Load features\n",
    "            data = torch.load(file)\n",
    "            features = data.get(\"features\")\n",
    "            if features is None:\n",
    "                print(f\"File {file} does not contain 'features'. Skipping.\")\n",
    "                continue\n",
    "\n",
    "            # Generate augmented features\n",
    "            aug_features = features + noise_level * torch.randn_like(features)\n",
    "\n",
    "            # Save augmented features\n",
    "            base_name = os.path.basename(file).replace(\".pt\", \"_aug.pt\")\n",
    "            torch.save({\"features\": aug_features}, os.path.join(output_dir, base_name))\n",
    "\n",
    "        except Exception as e:\n",
    "            print(f\"Error processing file {file}: {e}\")\n",
    "\n",
    "    print(f\"Augmented features saved to {output_dir}\")\n",
    "\n",
    "# Example Usage\n",
    "normal_feature_dir = r\"E:\\MIL\\CODE\\normal_features\"\n",
    "if os.path.exists(normal_feature_dir):\n",
    "    normal_files = [os.path.join(normal_feature_dir, f) for f in os.listdir(normal_feature_dir) if f.endswith(\".pt\")]\n",
    "    augment_output_dir = r\"E:\\MIL\\CODE\\augmented_features\"\n",
    "    augment_features(normal_files, augment_output_dir)\n",
    "else:\n",
    "    print(f\"Directory {normal_feature_dir} does not exist. Please check the path.\")\n"
   ]
  },
  {
   "cell_type": "code",
   "execution_count": 20,
   "metadata": {},
   "outputs": [
    {
     "name": "stderr",
     "output_type": "stream",
     "text": [
      "Aggregating features:   0%|          | 0/200 [00:00<?, ?it/s]C:\\Users\\vikra\\AppData\\Local\\Temp\\ipykernel_32540\\2942537418.py:59: FutureWarning: You are using `torch.load` with `weights_only=False` (the current default value), which uses the default pickle module implicitly. It is possible to construct malicious pickle data which will execute arbitrary code during unpickling (See https://github.com/pytorch/pytorch/blob/main/SECURITY.md#untrusted-models for more details). In a future release, the default value for `weights_only` will be flipped to `True`. This limits the functions that could be executed during unpickling. Arbitrary objects will no longer be allowed to be loaded via this mode unless they are explicitly allowlisted by the user via `torch.serialization.add_safe_globals`. We recommend you start setting `weights_only=True` for any use case where you don't have full control of the loaded file. Please open an issue on GitHub for any issues related to this experimental feature.\n",
      "  features = torch.load(file)[\"features\"]\n",
      "Aggregating features: 100%|██████████| 200/200 [00:00<00:00, 1276.06it/s]\n",
      "Calculating similarities: 100%|██████████| 200/200 [00:01<00:00, 160.19it/s]\n"
     ]
    },
    {
     "name": "stdout",
     "output_type": "stream",
     "text": [
      "Similarity scores saved to e:\\MIL\\Code\\similarity_scores.txt\n",
      "Similarity scores and mean values saved to e:\\MIL\\Code\\similarity_scores.txt\n"
     ]
    }
   ],
   "source": [
    "import os\n",
    "import torch\n",
    "import torch.nn.functional as F\n",
    "from tqdm import tqdm\n",
    "\n",
    "def aggregate_features(feature_tensor, method=\"mean\"):\n",
    "    \"\"\"\n",
    "    Aggregates features across segments.\n",
    "\n",
    "    Args:\n",
    "        feature_tensor (torch.Tensor): Input feature tensor of shape [num_segments, feature_dim].\n",
    "        method (str): Aggregation method ('mean' or 'max').\n",
    "\n",
    "    Returns:\n",
    "        torch.Tensor: Aggregated feature tensor of shape [feature_dim].\n",
    "    \"\"\"\n",
    "    if method == \"mean\":\n",
    "        return torch.mean(feature_tensor, dim=0)  # Mean pooling\n",
    "    elif method == \"max\":\n",
    "        return torch.max(feature_tensor, dim=0).values  # Max pooling\n",
    "    else:\n",
    "        raise ValueError(\"Unsupported aggregation method. Use 'mean' or 'max'.\")\n",
    "\n",
    "def calculate_similarity(feat1, feat2):\n",
    "    \"\"\"\n",
    "    Calculate cosine similarity and Euclidean distance between two feature tensors.\n",
    "\n",
    "    Args:\n",
    "        feat1 (torch.Tensor): First feature tensor of shape [feature_dim].\n",
    "        feat2 (torch.Tensor): Second feature tensor of shape [feature_dim].\n",
    "\n",
    "    Returns:\n",
    "        tuple: Cosine similarity and Euclidean distance.\n",
    "    \"\"\"\n",
    "    # Cosine Similarity\n",
    "    cosine_similarity = F.cosine_similarity(feat1, feat2, dim=0).item()\n",
    "\n",
    "    # Euclidean Distance\n",
    "    euclidean_distance = torch.norm(feat1 - feat2).item()\n",
    "\n",
    "    return cosine_similarity, euclidean_distance\n",
    "\n",
    "def compute_similarity_scores(directory, method=\"mean\"):\n",
    "    \"\"\"\n",
    "    Compute similarity scores for all pairs of feature files in a directory.\n",
    "\n",
    "    Args:\n",
    "        directory (str): Path to the directory containing feature files.\n",
    "        method (str): Aggregation method ('mean' or 'max').\n",
    "\n",
    "    Returns:\n",
    "        list: A list of similarity scores (cosine similarity and Euclidean distance).\n",
    "    \"\"\"\n",
    "    feature_files = [os.path.join(directory, f) for f in os.listdir(directory) if f.endswith(\".pt\")]\n",
    "    aggregated_features = {}\n",
    "\n",
    "    # Aggregate features for all files\n",
    "    for file in tqdm(feature_files, desc=\"Aggregating features\"):\n",
    "        features = torch.load(file)[\"features\"]\n",
    "        aggregated_features[file] = aggregate_features(features, method=method)\n",
    "\n",
    "    # Compute similarity scores\n",
    "    similarity_scores = []\n",
    "    for i, file1 in enumerate(tqdm(feature_files, desc=\"Calculating similarities\")):\n",
    "        for file2 in feature_files[i+1:]:\n",
    "            feat1 = aggregated_features[file1]\n",
    "            feat2 = aggregated_features[file2]\n",
    "            cos_sim, euc_dist = calculate_similarity(feat1, feat2)\n",
    "            similarity_scores.append({\n",
    "                \"file1\": file1,\n",
    "                \"file2\": file2,\n",
    "                \"cosine_similarity\": cos_sim,\n",
    "                \"euclidean_distance\": euc_dist\n",
    "            })\n",
    "\n",
    "    return similarity_scores\n",
    "\n",
    "# Directory containing normal features\n",
    "normal_feature_dir = r\"E:\\MIL\\Code\\augmented_features\"\n",
    "\n",
    "# Compute similarity scores\n",
    "similarity_scores = compute_similarity_scores(normal_feature_dir, method=\"mean\")\n",
    "\n",
    "# calculate mean score\n",
    "def calculate_mean_scores(similarity_scores):\n",
    "    \"\"\"\n",
    "    Calculate the mean cosine similarity and Euclidean distance from similarity scores.\n",
    "\n",
    "    Args:\n",
    "        similarity_scores (list): List of dictionaries containing similarity metrics.\n",
    "\n",
    "    Returns:\n",
    "        tuple: Mean cosine similarity and mean Euclidean distance.\n",
    "    \"\"\"\n",
    "    total_cosine_similarity = sum(score[\"cosine_similarity\"] for score in similarity_scores)\n",
    "    total_euclidean_distance = sum(score[\"euclidean_distance\"] for score in similarity_scores)\n",
    "    num_scores = len(similarity_scores)\n",
    "\n",
    "    mean_cosine_similarity = total_cosine_similarity / num_scores\n",
    "    mean_euclidean_distance = total_euclidean_distance / num_scores\n",
    "\n",
    "    return mean_cosine_similarity, mean_euclidean_distance\n",
    "\n",
    "# Save results to a file\n",
    "mean_cosine_similarity, mean_euclidean_distance = calculate_mean_scores(similarity_scores)\n",
    "\n",
    "# Save results to a file\n",
    "# Ensure output directory is valid and writable\n",
    "output_dir = os.getcwd()  # Use the current working directory\n",
    "output_file = os.path.join(output_dir, \"similarity_scores.txt\")\n",
    "\n",
    "try:\n",
    "    with open(output_file, \"w\") as f:\n",
    "        for score in similarity_scores:\n",
    "            f.write(f\"Cosine Similarity: {score['cosine_similarity']:.4f}, Euclidean Distance: {score['euclidean_distance']:.4f}\\n\")\n",
    "    print(f\"Similarity scores saved to {output_file}\")\n",
    "except OSError as e:\n",
    "    print(f\"Error saving similarity scores: {e}\")\n",
    "\n",
    "# Append mean scores to the file\n",
    "with open(output_file, \"a\") as f:\n",
    "    f.write(f\"\\nMean Cosine Similarity: {mean_cosine_similarity:.4f}\\n\")\n",
    "    f.write(f\"Mean Euclidean Distance: {mean_euclidean_distance:.4f}\\n\")\n",
    "\n",
    "print(f\"Similarity scores and mean values saved to {output_file}\")\n"
   ]
  },
  {
   "cell_type": "code",
   "execution_count": 21,
   "metadata": {},
   "outputs": [
    {
     "data": {
      "text/plain": [
       "0.7460603922934987"
      ]
     },
     "execution_count": 21,
     "metadata": {},
     "output_type": "execute_result"
    }
   ],
   "source": [
    "mean_cosine_similarity"
   ]
  },
  {
   "cell_type": "code",
   "execution_count": 22,
   "metadata": {},
   "outputs": [
    {
     "data": {
      "text/plain": [
       "5.739580016783134"
      ]
     },
     "execution_count": 22,
     "metadata": {},
     "output_type": "execute_result"
    }
   ],
   "source": [
    "mean_euclidean_distance"
   ]
  },
  {
   "cell_type": "code",
   "execution_count": 26,
   "metadata": {},
   "outputs": [
    {
     "name": "stderr",
     "output_type": "stream",
     "text": [
      "C:\\Users\\vikra\\AppData\\Local\\Temp\\ipykernel_32540\\1815697533.py:21: FutureWarning: You are using `torch.load` with `weights_only=False` (the current default value), which uses the default pickle module implicitly. It is possible to construct malicious pickle data which will execute arbitrary code during unpickling (See https://github.com/pytorch/pytorch/blob/main/SECURITY.md#untrusted-models for more details). In a future release, the default value for `weights_only` will be flipped to `True`. This limits the functions that could be executed during unpickling. Arbitrary objects will no longer be allowed to be loaded via this mode unless they are explicitly allowlisted by the user via `torch.serialization.add_safe_globals`. We recommend you start setting `weights_only=True` for any use case where you don't have full control of the loaded file. Please open an issue on GitHub for any issues related to this experimental feature.\n",
      "  features = torch.load(file)[\"features\"]  # Load features\n"
     ]
    },
    {
     "name": "stdout",
     "output_type": "stream",
     "text": [
      "Max segments in train normal: 675 (File: E:\\MIL\\Code\\split\\train\\normal\\Normal_Videos_924_x264_features_aug.pt)\n",
      "Max segments in train anomaly: 887 (File: E:\\MIL\\Code\\split\\train\\anomalous\\Explosion046_x264_features.pt)\n",
      "Max segments in val normal: 675 (File: E:\\MIL\\Code\\split\\val\\normal\\Normal_Videos_935_x264_features_aug.pt)\n",
      "Max segments in val anomaly: 281 (File: E:\\MIL\\Code\\split\\val\\anomalous\\Burglary061_x264_features.pt)\n",
      "Max segments in test normal: 242 (File: E:\\MIL\\Code\\split\\test\\normal\\Normal_Videos_925_x264_features_aug.pt)\n",
      "Max segments in test anomaly: 271 (File: E:\\MIL\\Code\\split\\test\\anomalous\\Arrest030_x264_features.pt)\n"
     ]
    }
   ],
   "source": [
    "import torch\n",
    "import os\n",
    "\n",
    "def find_max_segments(data_dir):\n",
    "    \"\"\"\n",
    "    Finds the maximum number of segments in the feature tensors for the given directory.\n",
    "\n",
    "    Args:\n",
    "        data_dir (str): Path to the directory containing feature files.\n",
    "\n",
    "    Returns:\n",
    "        int: Maximum number of segments.\n",
    "        str: File name of the tensor with the max segments.\n",
    "    \"\"\"\n",
    "    max_segments = 0\n",
    "    max_file = None\n",
    "\n",
    "    feature_files = [os.path.join(data_dir, f) for f in os.listdir(data_dir) if f.endswith(\".pt\")]\n",
    "\n",
    "    for file in feature_files:\n",
    "        features = torch.load(file)[\"features\"]  # Load features\n",
    "        num_segments = features.shape[0]  # Number of segments is the first dimension (B)\n",
    "        if num_segments > max_segments:\n",
    "            max_segments = num_segments\n",
    "            max_file = file\n",
    "\n",
    "    return max_segments, max_file\n",
    "\n",
    "# Directories for splits\n",
    "splits = {\n",
    "    \"train\": {\"normal\": r\"E:\\MIL\\Code\\split\\train\\normal\", \"anomaly\":r\"E:\\MIL\\Code\\split\\train\\anomalous\"},\n",
    "    \"val\": {\"normal\": r\"E:\\MIL\\Code\\split\\val\\normal\", \"anomaly\": r\"E:\\MIL\\Code\\split\\val\\anomalous\"},\n",
    "    \"test\": {\"normal\": r\"E:\\MIL\\Code\\split\\test\\normal\", \"anomaly\": r\"E:\\MIL\\Code\\split\\test\\anomalous\"}\n",
    "}\n",
    "\n",
    "# Find maximum segments for each split\n",
    "for split_name, dirs in splits.items():\n",
    "    for label, dir_path in dirs.items():\n",
    "        max_segments, max_file = find_max_segments(dir_path)\n",
    "        print(f\"Max segments in {split_name} {label}: {max_segments} (File: {max_file})\")"
   ]
  },
  {
   "cell_type": "code",
   "execution_count": 31,
   "metadata": {},
   "outputs": [
    {
     "name": "stdout",
     "output_type": "stream",
     "text": [
      "torch.Size([89, 2048, 1, 1, 1])\n",
      "torch.Size([38, 2048, 1, 1, 1])\n",
      "torch.Size([57, 2048, 1, 1, 1])\n",
      "torch.Size([86, 2048, 1, 1, 1])\n",
      "torch.Size([116, 2048, 1, 1, 1])\n",
      "torch.Size([198, 2048, 1, 1, 1])\n"
     ]
    },
    {
     "name": "stderr",
     "output_type": "stream",
     "text": [
      "C:\\Users\\vikra\\AppData\\Local\\Temp\\ipykernel_32540\\2885363860.py:1: FutureWarning: You are using `torch.load` with `weights_only=False` (the current default value), which uses the default pickle module implicitly. It is possible to construct malicious pickle data which will execute arbitrary code during unpickling (See https://github.com/pytorch/pytorch/blob/main/SECURITY.md#untrusted-models for more details). In a future release, the default value for `weights_only` will be flipped to `True`. This limits the functions that could be executed during unpickling. Arbitrary objects will no longer be allowed to be loaded via this mode unless they are explicitly allowlisted by the user via `torch.serialization.add_safe_globals`. We recommend you start setting `weights_only=True` for any use case where you don't have full control of the loaded file. Please open an issue on GitHub for any issues related to this experimental feature.\n",
      "  normal_files=[torch.load(r\"E:\\MIL\\Code\\normal_features\\Normal_Videos_003_x264_features_aug.pt\"),torch.load(r\"E:\\MIL\\Code\\normal_features\\Normal_Videos_866_x264_features.pt\"),torch.load(r\"E:\\MIL\\Code\\normal_features\\Normal_Videos_656_x264_features.pt\")]\n",
      "C:\\Users\\vikra\\AppData\\Local\\Temp\\ipykernel_32540\\2885363860.py:2: FutureWarning: You are using `torch.load` with `weights_only=False` (the current default value), which uses the default pickle module implicitly. It is possible to construct malicious pickle data which will execute arbitrary code during unpickling (See https://github.com/pytorch/pytorch/blob/main/SECURITY.md#untrusted-models for more details). In a future release, the default value for `weights_only` will be flipped to `True`. This limits the functions that could be executed during unpickling. Arbitrary objects will no longer be allowed to be loaded via this mode unless they are explicitly allowlisted by the user via `torch.serialization.add_safe_globals`. We recommend you start setting `weights_only=True` for any use case where you don't have full control of the loaded file. Please open an issue on GitHub for any issues related to this experimental feature.\n",
      "  anomaly_files=[torch.load(r\"E:\\MIL\\Code\\anomaly_features\\Abuse001_x264_features.pt\"),torch.load(r\"E:\\MIL\\Code\\anomaly_features\\Abuse003_x264_features.pt\"),torch.load(r\"E:\\MIL\\Code\\anomaly_features\\Fighting041_x264_features.pt\")]\n"
     ]
    }
   ],
   "source": [
    "normal_files=[torch.load(r\"E:\\MIL\\Code\\normal_features\\Normal_Videos_003_x264_features_aug.pt\"),torch.load(r\"E:\\MIL\\Code\\normal_features\\Normal_Videos_866_x264_features.pt\"),torch.load(r\"E:\\MIL\\Code\\normal_features\\Normal_Videos_656_x264_features.pt\")]\n",
    "anomaly_files=[torch.load(r\"E:\\MIL\\Code\\anomaly_features\\Abuse001_x264_features.pt\"),torch.load(r\"E:\\MIL\\Code\\anomaly_features\\Abuse003_x264_features.pt\"),torch.load(r\"E:\\MIL\\Code\\anomaly_features\\Fighting041_x264_features.pt\")]\n",
    "for f in normal_files:\n",
    "    print(f['features'].shape)\n",
    "for f in anomaly_files:\n",
    "    print(f['features'].shape)"
   ]
  },
  {
   "cell_type": "code",
   "execution_count": 32,
   "metadata": {},
   "outputs": [
    {
     "name": "stderr",
     "output_type": "stream",
     "text": [
      "C:\\Users\\vikra\\AppData\\Local\\Temp\\ipykernel_32540\\2194874579.py:2: FutureWarning: You are using `torch.load` with `weights_only=False` (the current default value), which uses the default pickle module implicitly. It is possible to construct malicious pickle data which will execute arbitrary code during unpickling (See https://github.com/pytorch/pytorch/blob/main/SECURITY.md#untrusted-models for more details). In a future release, the default value for `weights_only` will be flipped to `True`. This limits the functions that could be executed during unpickling. Arbitrary objects will no longer be allowed to be loaded via this mode unless they are explicitly allowlisted by the user via `torch.serialization.add_safe_globals`. We recommend you start setting `weights_only=True` for any use case where you don't have full control of the loaded file. Please open an issue on GitHub for any issues related to this experimental feature.\n",
      "  torch.load(r\"E:\\MIL\\Code\\normal_features\\Normal_Videos124_x264_features.pt\")['features'].shape\n"
     ]
    },
    {
     "data": {
      "text/plain": [
       "torch.Size([44, 2048, 1, 1, 1])"
      ]
     },
     "execution_count": 32,
     "metadata": {},
     "output_type": "execute_result"
    }
   ],
   "source": [
    "import torch\n",
    "torch.load(r\"E:\\MIL\\Code\\normal_features\\Normal_Videos124_x264_features.pt\")['features'].shape"
   ]
  },
  {
   "cell_type": "code",
   "execution_count": 34,
   "metadata": {},
   "outputs": [
    {
     "name": "stdout",
     "output_type": "stream",
     "text": [
      "No overlapping files found.\n"
     ]
    }
   ],
   "source": [
    "import os\n",
    "import hashlib\n",
    "\n",
    "# Function to compute the hash of a file\n",
    "def compute_file_hash(filepath):\n",
    "    hash_func = hashlib.sha256()  # Use SHA256 for robust hashing\n",
    "    with open(filepath, \"rb\") as f:\n",
    "        while chunk := f.read(8192):  # Read file in chunks\n",
    "            hash_func.update(chunk)\n",
    "    return hash_func.hexdigest()\n",
    "\n",
    "# Function to get all file hashes in a directory\n",
    "def get_file_hashes(directory):\n",
    "    file_hashes = {}\n",
    "    for root, _, files in os.walk(directory):\n",
    "        for file in files:\n",
    "            filepath = os.path.join(root, file)\n",
    "            file_hashes[filepath] = compute_file_hash(filepath)\n",
    "    return file_hashes\n",
    "\n",
    "# Directories to check\n",
    "directories = {\n",
    "    \"train_normal\": \"split/train/normal\",\n",
    "    \"train_anomalous\": \"split/train/anomalous\",\n",
    "    \"val_normal\": \"split/val/normal\",\n",
    "    \"val_anomalous\": \"split/val/anomalous\",\n",
    "    \"test_normal\": \"split/test/normal\",\n",
    "    \"test_anomalous\": \"split/test/anomalous\",\n",
    "}\n",
    "\n",
    "# Collect all hashes\n",
    "hashes = {name: get_file_hashes(path) for name, path in directories.items()}\n",
    "\n",
    "# Compare hashes between directories\n",
    "overlap_found = False\n",
    "for dir1_name, dir1_hashes in hashes.items():\n",
    "    for dir2_name, dir2_hashes in hashes.items():\n",
    "        if dir1_name != dir2_name:  # Don't compare the same directory\n",
    "            common_hashes = set(dir1_hashes.values()) & set(dir2_hashes.values())\n",
    "            if common_hashes:\n",
    "                print(f\"Overlap found between {dir1_name} and {dir2_name}:\")\n",
    "                for hash_value in common_hashes:\n",
    "                    file1 = [k for k, v in dir1_hashes.items() if v == hash_value]\n",
    "                    file2 = [k for k, v in dir2_hashes.items() if v == hash_value]\n",
    "                    print(f\"  {file1[0]} == {file2[0]}\")\n",
    "                overlap_found = True\n",
    "\n",
    "if not overlap_found:\n",
    "    print(\"No overlapping files found.\")\n"
   ]
  },
  {
   "cell_type": "code",
   "execution_count": 35,
   "metadata": {},
   "outputs": [
    {
     "name": "stdout",
     "output_type": "stream",
     "text": [
      "Defaulting to user installation because normal site-packages is not writeable\n",
      "Collecting pytube\n",
      "  Downloading pytube-15.0.0-py3-none-any.whl.metadata (5.0 kB)\n",
      "Downloading pytube-15.0.0-py3-none-any.whl (57 kB)\n",
      "Installing collected packages: pytube\n",
      "Successfully installed pytube-15.0.0\n",
      "Note: you may need to restart the kernel to use updated packages.\n"
     ]
    }
   ],
   "source": [
    "pip install pytube"
   ]
  },
  {
   "cell_type": "code",
   "execution_count": 1,
   "metadata": {},
   "outputs": [
    {
     "name": "stdout",
     "output_type": "stream",
     "text": [
      "^C\n",
      "Note: you may need to restart the kernel to use updated packages.\n"
     ]
    }
   ],
   "source": [
    "pip uninstall yt-dlp\n"
   ]
  },
  {
   "cell_type": "code",
   "execution_count": null,
   "metadata": {},
   "outputs": [],
   "source": [
    "pip install yt-dlp"
   ]
  },
  {
   "cell_type": "code",
   "execution_count": null,
   "metadata": {},
   "outputs": [],
   "source": [
    "pip install --upgrade wheel setuptools\n"
   ]
  },
  {
   "cell_type": "code",
   "execution_count": 44,
   "metadata": {},
   "outputs": [
    {
     "ename": "OSError",
     "evalue": "[WinError 433] A device which does not exist was specified: 'yt_dlp_plugins'",
     "output_type": "error",
     "traceback": [
      "\u001b[1;31m---------------------------------------------------------------------------\u001b[0m",
      "\u001b[1;31mOSError\u001b[0m                                   Traceback (most recent call last)",
      "Cell \u001b[1;32mIn[44], line 1\u001b[0m\n\u001b[1;32m----> 1\u001b[0m \u001b[38;5;28;01mimport\u001b[39;00m \u001b[38;5;21;01myt_dlp\u001b[39;00m\n\u001b[0;32m      3\u001b[0m save_path \u001b[38;5;241m=\u001b[39m \u001b[38;5;124m'\u001b[39m\u001b[38;5;124mE:/MIL/Dataset/youtube\u001b[39m\u001b[38;5;124m'\u001b[39m\n\u001b[0;32m      4\u001b[0m link \u001b[38;5;241m=\u001b[39m \u001b[38;5;124m'\u001b[39m\u001b[38;5;124mhttps://www.youtube.com/watch?v=owO2-pjxOqs\u001b[39m\u001b[38;5;124m'\u001b[39m\n",
      "File \u001b[1;32m~\\AppData\\Roaming\\Python\\Python312\\site-packages\\yt_dlp\\__init__.py:18\u001b[0m\n\u001b[0;32m     15\u001b[0m \u001b[38;5;28;01mimport\u001b[39;00m \u001b[38;5;21;01mtraceback\u001b[39;00m\n\u001b[0;32m     17\u001b[0m \u001b[38;5;28;01mfrom\u001b[39;00m \u001b[38;5;21;01m.\u001b[39;00m\u001b[38;5;21;01mcookies\u001b[39;00m \u001b[38;5;28;01mimport\u001b[39;00m SUPPORTED_BROWSERS, SUPPORTED_KEYRINGS, CookieLoadError\n\u001b[1;32m---> 18\u001b[0m \u001b[38;5;28;01mfrom\u001b[39;00m \u001b[38;5;21;01m.\u001b[39;00m\u001b[38;5;21;01mdownloader\u001b[39;00m\u001b[38;5;21;01m.\u001b[39;00m\u001b[38;5;21;01mexternal\u001b[39;00m \u001b[38;5;28;01mimport\u001b[39;00m get_external_downloader\n\u001b[0;32m     19\u001b[0m \u001b[38;5;28;01mfrom\u001b[39;00m \u001b[38;5;21;01m.\u001b[39;00m\u001b[38;5;21;01mextractor\u001b[39;00m \u001b[38;5;28;01mimport\u001b[39;00m list_extractor_classes\n\u001b[0;32m     20\u001b[0m \u001b[38;5;28;01mfrom\u001b[39;00m \u001b[38;5;21;01m.\u001b[39;00m\u001b[38;5;21;01mextractor\u001b[39;00m\u001b[38;5;21;01m.\u001b[39;00m\u001b[38;5;21;01madobepass\u001b[39;00m \u001b[38;5;28;01mimport\u001b[39;00m MSO_INFO\n",
      "File \u001b[1;32m~\\AppData\\Roaming\\Python\\Python312\\site-packages\\yt_dlp\\downloader\\__init__.py:26\u001b[0m\n\u001b[0;32m     24\u001b[0m \u001b[38;5;28;01mfrom\u001b[39;00m \u001b[38;5;21;01m.\u001b[39;00m\u001b[38;5;21;01mcommon\u001b[39;00m \u001b[38;5;28;01mimport\u001b[39;00m FileDownloader\n\u001b[0;32m     25\u001b[0m \u001b[38;5;28;01mfrom\u001b[39;00m \u001b[38;5;21;01m.\u001b[39;00m\u001b[38;5;21;01mdash\u001b[39;00m \u001b[38;5;28;01mimport\u001b[39;00m DashSegmentsFD\n\u001b[1;32m---> 26\u001b[0m \u001b[38;5;28;01mfrom\u001b[39;00m \u001b[38;5;21;01m.\u001b[39;00m\u001b[38;5;21;01mexternal\u001b[39;00m \u001b[38;5;28;01mimport\u001b[39;00m FFmpegFD, get_external_downloader\n\u001b[0;32m     27\u001b[0m \u001b[38;5;28;01mfrom\u001b[39;00m \u001b[38;5;21;01m.\u001b[39;00m\u001b[38;5;21;01mf4m\u001b[39;00m \u001b[38;5;28;01mimport\u001b[39;00m F4mFD\n\u001b[0;32m     28\u001b[0m \u001b[38;5;28;01mfrom\u001b[39;00m \u001b[38;5;21;01m.\u001b[39;00m\u001b[38;5;21;01mfc2\u001b[39;00m \u001b[38;5;28;01mimport\u001b[39;00m FC2LiveFD\n",
      "File \u001b[1;32m~\\AppData\\Roaming\\Python\\Python312\\site-packages\\yt_dlp\\downloader\\external.py:14\u001b[0m\n\u001b[0;32m     12\u001b[0m \u001b[38;5;28;01mfrom\u001b[39;00m \u001b[38;5;21;01m.\u001b[39;00m\u001b[38;5;21;01mfragment\u001b[39;00m \u001b[38;5;28;01mimport\u001b[39;00m FragmentFD\n\u001b[0;32m     13\u001b[0m \u001b[38;5;28;01mfrom\u001b[39;00m \u001b[38;5;21;01m.\u001b[39;00m\u001b[38;5;21;01m.\u001b[39;00m\u001b[38;5;21;01mnetworking\u001b[39;00m \u001b[38;5;28;01mimport\u001b[39;00m Request\n\u001b[1;32m---> 14\u001b[0m \u001b[38;5;28;01mfrom\u001b[39;00m \u001b[38;5;21;01m.\u001b[39;00m\u001b[38;5;21;01m.\u001b[39;00m\u001b[38;5;21;01mpostprocessor\u001b[39;00m\u001b[38;5;21;01m.\u001b[39;00m\u001b[38;5;21;01mffmpeg\u001b[39;00m \u001b[38;5;28;01mimport\u001b[39;00m EXT_TO_OUT_FORMATS, FFmpegPostProcessor\n\u001b[0;32m     15\u001b[0m \u001b[38;5;28;01mfrom\u001b[39;00m \u001b[38;5;21;01m.\u001b[39;00m\u001b[38;5;21;01m.\u001b[39;00m\u001b[38;5;21;01mutils\u001b[39;00m \u001b[38;5;28;01mimport\u001b[39;00m (\n\u001b[0;32m     16\u001b[0m     Popen,\n\u001b[0;32m     17\u001b[0m     RetryManager,\n\u001b[1;32m   (...)\u001b[0m\n\u001b[0;32m     28\u001b[0m     traverse_obj,\n\u001b[0;32m     29\u001b[0m )\n\u001b[0;32m     32\u001b[0m \u001b[38;5;28;01mclass\u001b[39;00m \u001b[38;5;21;01mFeatures\u001b[39;00m(enum\u001b[38;5;241m.\u001b[39mEnum):\n",
      "File \u001b[1;32m~\\AppData\\Roaming\\Python\\Python312\\site-packages\\yt_dlp\\postprocessor\\__init__.py:38\u001b[0m\n\u001b[0;32m     35\u001b[0m \u001b[38;5;28;01mfrom\u001b[39;00m \u001b[38;5;21;01m.\u001b[39;00m\u001b[38;5;21;01mxattrpp\u001b[39;00m \u001b[38;5;28;01mimport\u001b[39;00m XAttrMetadataPP\n\u001b[0;32m     36\u001b[0m \u001b[38;5;28;01mfrom\u001b[39;00m \u001b[38;5;21;01m.\u001b[39;00m\u001b[38;5;21;01m.\u001b[39;00m\u001b[38;5;21;01mplugins\u001b[39;00m \u001b[38;5;28;01mimport\u001b[39;00m load_plugins\n\u001b[1;32m---> 38\u001b[0m _PLUGIN_CLASSES \u001b[38;5;241m=\u001b[39m \u001b[43mload_plugins\u001b[49m\u001b[43m(\u001b[49m\u001b[38;5;124;43m'\u001b[39;49m\u001b[38;5;124;43mpostprocessor\u001b[39;49m\u001b[38;5;124;43m'\u001b[39;49m\u001b[43m,\u001b[49m\u001b[43m \u001b[49m\u001b[38;5;124;43m'\u001b[39;49m\u001b[38;5;124;43mPP\u001b[39;49m\u001b[38;5;124;43m'\u001b[39;49m\u001b[43m)\u001b[49m\n\u001b[0;32m     41\u001b[0m \u001b[38;5;28;01mdef\u001b[39;00m \u001b[38;5;21mget_postprocessor\u001b[39m(key):\n\u001b[0;32m     42\u001b[0m     \u001b[38;5;28;01mreturn\u001b[39;00m \u001b[38;5;28mglobals\u001b[39m()[key \u001b[38;5;241m+\u001b[39m \u001b[38;5;124m'\u001b[39m\u001b[38;5;124mPP\u001b[39m\u001b[38;5;124m'\u001b[39m]\n",
      "File \u001b[1;32m~\\AppData\\Roaming\\Python\\Python312\\site-packages\\yt_dlp\\plugins.py:151\u001b[0m, in \u001b[0;36mload_plugins\u001b[1;34m(name, suffix)\u001b[0m\n\u001b[0;32m    148\u001b[0m \u001b[38;5;28;01mif\u001b[39;00m os\u001b[38;5;241m.\u001b[39menviron\u001b[38;5;241m.\u001b[39mget(\u001b[38;5;124m'\u001b[39m\u001b[38;5;124mYTDLP_NO_PLUGINS\u001b[39m\u001b[38;5;124m'\u001b[39m):\n\u001b[0;32m    149\u001b[0m     \u001b[38;5;28;01mreturn\u001b[39;00m classes\n\u001b[1;32m--> 151\u001b[0m \u001b[43m\u001b[49m\u001b[38;5;28;43;01mfor\u001b[39;49;00m\u001b[43m \u001b[49m\u001b[43mfinder\u001b[49m\u001b[43m,\u001b[49m\u001b[43m \u001b[49m\u001b[43mmodule_name\u001b[49m\u001b[43m,\u001b[49m\u001b[43m \u001b[49m\u001b[43m_\u001b[49m\u001b[43m \u001b[49m\u001b[38;5;129;43;01min\u001b[39;49;00m\u001b[43m \u001b[49m\u001b[43miter_modules\u001b[49m\u001b[43m(\u001b[49m\u001b[43mname\u001b[49m\u001b[43m)\u001b[49m\u001b[43m:\u001b[49m\n\u001b[0;32m    152\u001b[0m \u001b[43m    \u001b[49m\u001b[38;5;28;43;01mif\u001b[39;49;00m\u001b[43m \u001b[49m\u001b[38;5;28;43many\u001b[39;49m\u001b[43m(\u001b[49m\u001b[43mx\u001b[49m\u001b[38;5;241;43m.\u001b[39;49m\u001b[43mstartswith\u001b[49m\u001b[43m(\u001b[49m\u001b[38;5;124;43m'\u001b[39;49m\u001b[38;5;124;43m_\u001b[39;49m\u001b[38;5;124;43m'\u001b[39;49m\u001b[43m)\u001b[49m\u001b[43m \u001b[49m\u001b[38;5;28;43;01mfor\u001b[39;49;00m\u001b[43m \u001b[49m\u001b[43mx\u001b[49m\u001b[43m \u001b[49m\u001b[38;5;129;43;01min\u001b[39;49;00m\u001b[43m \u001b[49m\u001b[43mmodule_name\u001b[49m\u001b[38;5;241;43m.\u001b[39;49m\u001b[43msplit\u001b[49m\u001b[43m(\u001b[49m\u001b[38;5;124;43m'\u001b[39;49m\u001b[38;5;124;43m.\u001b[39;49m\u001b[38;5;124;43m'\u001b[39;49m\u001b[43m)\u001b[49m\u001b[43m)\u001b[49m\u001b[43m:\u001b[49m\n\u001b[0;32m    153\u001b[0m \u001b[43m        \u001b[49m\u001b[38;5;28;43;01mcontinue\u001b[39;49;00m\n",
      "File \u001b[1;32m~\\AppData\\Roaming\\Python\\Python312\\site-packages\\yt_dlp\\plugins.py:133\u001b[0m, in \u001b[0;36miter_modules\u001b[1;34m(subpackage)\u001b[0m\n\u001b[0;32m    131\u001b[0m fullname \u001b[38;5;241m=\u001b[39m \u001b[38;5;124mf\u001b[39m\u001b[38;5;124m'\u001b[39m\u001b[38;5;132;01m{\u001b[39;00mPACKAGE_NAME\u001b[38;5;132;01m}\u001b[39;00m\u001b[38;5;124m.\u001b[39m\u001b[38;5;132;01m{\u001b[39;00msubpackage\u001b[38;5;132;01m}\u001b[39;00m\u001b[38;5;124m'\u001b[39m\n\u001b[0;32m    132\u001b[0m \u001b[38;5;28;01mwith\u001b[39;00m contextlib\u001b[38;5;241m.\u001b[39msuppress(\u001b[38;5;167;01mModuleNotFoundError\u001b[39;00m):\n\u001b[1;32m--> 133\u001b[0m     pkg \u001b[38;5;241m=\u001b[39m \u001b[43mimportlib\u001b[49m\u001b[38;5;241;43m.\u001b[39;49m\u001b[43mimport_module\u001b[49m\u001b[43m(\u001b[49m\u001b[43mfullname\u001b[49m\u001b[43m)\u001b[49m\n\u001b[0;32m    134\u001b[0m     \u001b[38;5;28;01myield from\u001b[39;00m pkgutil\u001b[38;5;241m.\u001b[39miter_modules(path\u001b[38;5;241m=\u001b[39mpkg\u001b[38;5;241m.\u001b[39m__path__, prefix\u001b[38;5;241m=\u001b[39m\u001b[38;5;124mf\u001b[39m\u001b[38;5;124m'\u001b[39m\u001b[38;5;132;01m{\u001b[39;00mfullname\u001b[38;5;132;01m}\u001b[39;00m\u001b[38;5;124m.\u001b[39m\u001b[38;5;124m'\u001b[39m)\n",
      "File \u001b[1;32mc:\\Python312\\Lib\\importlib\\__init__.py:90\u001b[0m, in \u001b[0;36mimport_module\u001b[1;34m(name, package)\u001b[0m\n\u001b[0;32m     88\u001b[0m             \u001b[38;5;28;01mbreak\u001b[39;00m\n\u001b[0;32m     89\u001b[0m         level \u001b[38;5;241m+\u001b[39m\u001b[38;5;241m=\u001b[39m \u001b[38;5;241m1\u001b[39m\n\u001b[1;32m---> 90\u001b[0m \u001b[38;5;28;01mreturn\u001b[39;00m \u001b[43m_bootstrap\u001b[49m\u001b[38;5;241;43m.\u001b[39;49m\u001b[43m_gcd_import\u001b[49m\u001b[43m(\u001b[49m\u001b[43mname\u001b[49m\u001b[43m[\u001b[49m\u001b[43mlevel\u001b[49m\u001b[43m:\u001b[49m\u001b[43m]\u001b[49m\u001b[43m,\u001b[49m\u001b[43m \u001b[49m\u001b[43mpackage\u001b[49m\u001b[43m,\u001b[49m\u001b[43m \u001b[49m\u001b[43mlevel\u001b[49m\u001b[43m)\u001b[49m\n",
      "File \u001b[1;32m<frozen importlib._bootstrap>:1387\u001b[0m, in \u001b[0;36m_gcd_import\u001b[1;34m(name, package, level)\u001b[0m\n",
      "File \u001b[1;32m<frozen importlib._bootstrap>:1360\u001b[0m, in \u001b[0;36m_find_and_load\u001b[1;34m(name, import_)\u001b[0m\n",
      "File \u001b[1;32m<frozen importlib._bootstrap>:1322\u001b[0m, in \u001b[0;36m_find_and_load_unlocked\u001b[1;34m(name, import_)\u001b[0m\n",
      "File \u001b[1;32m<frozen importlib._bootstrap>:1262\u001b[0m, in \u001b[0;36m_find_spec\u001b[1;34m(name, path, target)\u001b[0m\n",
      "File \u001b[1;32m~\\AppData\\Roaming\\Python\\Python312\\site-packages\\yt_dlp\\plugins.py:110\u001b[0m, in \u001b[0;36mPluginFinder.find_spec\u001b[1;34m(self, fullname, path, target)\u001b[0m\n\u001b[0;32m    107\u001b[0m \u001b[38;5;28;01mif\u001b[39;00m fullname \u001b[38;5;129;01mnot\u001b[39;00m \u001b[38;5;129;01min\u001b[39;00m \u001b[38;5;28mself\u001b[39m\u001b[38;5;241m.\u001b[39mpackages:\n\u001b[0;32m    108\u001b[0m     \u001b[38;5;28;01mreturn\u001b[39;00m \u001b[38;5;28;01mNone\u001b[39;00m\n\u001b[1;32m--> 110\u001b[0m search_locations \u001b[38;5;241m=\u001b[39m \u001b[38;5;28;43mlist\u001b[39;49m\u001b[43m(\u001b[49m\u001b[38;5;28;43mmap\u001b[39;49m\u001b[43m(\u001b[49m\u001b[38;5;28;43mstr\u001b[39;49m\u001b[43m,\u001b[49m\u001b[43m \u001b[49m\u001b[38;5;28;43mself\u001b[39;49m\u001b[38;5;241;43m.\u001b[39;49m\u001b[43msearch_locations\u001b[49m\u001b[43m(\u001b[49m\u001b[43mfullname\u001b[49m\u001b[43m)\u001b[49m\u001b[43m)\u001b[49m\u001b[43m)\u001b[49m\n\u001b[0;32m    111\u001b[0m \u001b[38;5;28;01mif\u001b[39;00m \u001b[38;5;129;01mnot\u001b[39;00m search_locations:\n\u001b[0;32m    112\u001b[0m     \u001b[38;5;28;01mreturn\u001b[39;00m \u001b[38;5;28;01mNone\u001b[39;00m\n",
      "File \u001b[1;32m~\\AppData\\Roaming\\Python\\Python312\\site-packages\\yt_dlp\\plugins.py:98\u001b[0m, in \u001b[0;36mPluginFinder.search_locations\u001b[1;34m(self, fullname)\u001b[0m\n\u001b[0;32m     96\u001b[0m candidate \u001b[38;5;241m=\u001b[39m path \u001b[38;5;241m/\u001b[39m parts\n\u001b[0;32m     97\u001b[0m \u001b[38;5;28;01mtry\u001b[39;00m:\n\u001b[1;32m---> 98\u001b[0m     \u001b[38;5;28;01mif\u001b[39;00m \u001b[43mcandidate\u001b[49m\u001b[38;5;241;43m.\u001b[39;49m\u001b[43mis_dir\u001b[49m\u001b[43m(\u001b[49m\u001b[43m)\u001b[49m:\n\u001b[0;32m     99\u001b[0m         \u001b[38;5;28;01myield\u001b[39;00m candidate\n\u001b[0;32m    100\u001b[0m     \u001b[38;5;28;01melif\u001b[39;00m path\u001b[38;5;241m.\u001b[39msuffix \u001b[38;5;129;01min\u001b[39;00m (\u001b[38;5;124m'\u001b[39m\u001b[38;5;124m.zip\u001b[39m\u001b[38;5;124m'\u001b[39m, \u001b[38;5;124m'\u001b[39m\u001b[38;5;124m.egg\u001b[39m\u001b[38;5;124m'\u001b[39m, \u001b[38;5;124m'\u001b[39m\u001b[38;5;124m.whl\u001b[39m\u001b[38;5;124m'\u001b[39m) \u001b[38;5;129;01mand\u001b[39;00m path\u001b[38;5;241m.\u001b[39mis_file():\n",
      "File \u001b[1;32mc:\\Python312\\Lib\\pathlib.py:875\u001b[0m, in \u001b[0;36mPath.is_dir\u001b[1;34m(self)\u001b[0m\n\u001b[0;32m    871\u001b[0m \u001b[38;5;250m\u001b[39m\u001b[38;5;124;03m\"\"\"\u001b[39;00m\n\u001b[0;32m    872\u001b[0m \u001b[38;5;124;03mWhether this path is a directory.\u001b[39;00m\n\u001b[0;32m    873\u001b[0m \u001b[38;5;124;03m\"\"\"\u001b[39;00m\n\u001b[0;32m    874\u001b[0m \u001b[38;5;28;01mtry\u001b[39;00m:\n\u001b[1;32m--> 875\u001b[0m     \u001b[38;5;28;01mreturn\u001b[39;00m S_ISDIR(\u001b[38;5;28;43mself\u001b[39;49m\u001b[38;5;241;43m.\u001b[39;49m\u001b[43mstat\u001b[49m\u001b[43m(\u001b[49m\u001b[43m)\u001b[49m\u001b[38;5;241m.\u001b[39mst_mode)\n\u001b[0;32m    876\u001b[0m \u001b[38;5;28;01mexcept\u001b[39;00m \u001b[38;5;167;01mOSError\u001b[39;00m \u001b[38;5;28;01mas\u001b[39;00m e:\n\u001b[0;32m    877\u001b[0m     \u001b[38;5;28;01mif\u001b[39;00m \u001b[38;5;129;01mnot\u001b[39;00m _ignore_error(e):\n",
      "File \u001b[1;32mc:\\Python312\\Lib\\pathlib.py:840\u001b[0m, in \u001b[0;36mPath.stat\u001b[1;34m(self, follow_symlinks)\u001b[0m\n\u001b[0;32m    835\u001b[0m \u001b[38;5;28;01mdef\u001b[39;00m \u001b[38;5;21mstat\u001b[39m(\u001b[38;5;28mself\u001b[39m, \u001b[38;5;241m*\u001b[39m, follow_symlinks\u001b[38;5;241m=\u001b[39m\u001b[38;5;28;01mTrue\u001b[39;00m):\n\u001b[0;32m    836\u001b[0m \u001b[38;5;250m    \u001b[39m\u001b[38;5;124;03m\"\"\"\u001b[39;00m\n\u001b[0;32m    837\u001b[0m \u001b[38;5;124;03m    Return the result of the stat() system call on this path, like\u001b[39;00m\n\u001b[0;32m    838\u001b[0m \u001b[38;5;124;03m    os.stat() does.\u001b[39;00m\n\u001b[0;32m    839\u001b[0m \u001b[38;5;124;03m    \"\"\"\u001b[39;00m\n\u001b[1;32m--> 840\u001b[0m     \u001b[38;5;28;01mreturn\u001b[39;00m \u001b[43mos\u001b[49m\u001b[38;5;241;43m.\u001b[39;49m\u001b[43mstat\u001b[49m\u001b[43m(\u001b[49m\u001b[38;5;28;43mself\u001b[39;49m\u001b[43m,\u001b[49m\u001b[43m \u001b[49m\u001b[43mfollow_symlinks\u001b[49m\u001b[38;5;241;43m=\u001b[39;49m\u001b[43mfollow_symlinks\u001b[49m\u001b[43m)\u001b[49m\n",
      "\u001b[1;31mOSError\u001b[0m: [WinError 433] A device which does not exist was specified: 'yt_dlp_plugins'"
     ]
    }
   ],
   "source": [
    "import yt_dlp\n",
    "\n",
    "save_path = 'E:/MIL/Dataset/youtube'\n",
    "link = 'https://www.youtube.com/watch?v=owO2-pjxOqs'\n",
    "\n",
    "ydl_opts = {\n",
    "    'format': 'bestvideo+bestaudio/best',\n",
    "    'outtmpl': f'{save_path}/%(title)s.%(ext)s',\n",
    "}\n",
    "\n",
    "try:\n",
    "    with yt_dlp.YoutubeDL(ydl_opts) as ydl:\n",
    "        ydl.download([link])\n",
    "    print('Video downloaded successfully')\n",
    "except Exception as e:\n",
    "    print(f'Error during download: {e}')\n"
   ]
  }
 ],
 "metadata": {
  "kernelspec": {
   "display_name": "Python 3",
   "language": "python",
   "name": "python3"
  },
  "language_info": {
   "codemirror_mode": {
    "name": "ipython",
    "version": 3
   },
   "file_extension": ".py",
   "mimetype": "text/x-python",
   "name": "python",
   "nbconvert_exporter": "python",
   "pygments_lexer": "ipython3",
   "version": "3.12.6"
  }
 },
 "nbformat": 4,
 "nbformat_minor": 2
}
